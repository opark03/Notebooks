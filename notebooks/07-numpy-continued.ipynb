{
  "cells": [
    {
      "cell_type": "markdown",
      "metadata": {
        "id": "view-in-github",
        "colab_type": "text"
      },
      "source": [
        "<a href=\"https://colab.research.google.com/github/opark03/Notebooks/blob/main/notebooks/07-numpy-continued.ipynb\" target=\"_parent\"><img src=\"https://colab.research.google.com/assets/colab-badge.svg\" alt=\"Open In Colab\"/></a>"
      ]
    },
    {
      "cell_type": "markdown",
      "metadata": {
        "id": "-y-T4jtwGviE"
      },
      "source": [
        "```\n",
        "Course:   DS1002\n",
        "Module:   Module 5\n",
        "Topic:    NumPy Continued\n",
        "```\n",
        "\n",
        "### PREREQUISITES\n",
        "- import / import as\n",
        "- variables\n",
        "- creating basic arrays\n",
        "\n",
        "### SOURCES\n",
        "- https://numpy.org/\n",
        "- https://en.wikipedia.org/wiki/NumPy\n",
        "- https://www.scipy.org/\n",
        "- https://en.wikipedia.org/wiki/SciPy\n",
        "- https://numpy.org/doc/stable/reference/generated/numpy.ndarray.html\n",
        "- https://docs.scipy.org/doc/numpy-1.15.1/reference/generated/numpy.random.randint.html\n",
        "\n",
        "### OBJECTIVES\n",
        "- Introduction to Numpy\n",
        "\n",
        "### CONCEPTS\n",
        "- The numpy package contains useful functions for math operations\n",
        "- The ndarray is the workhorse of the package"
      ]
    },
    {
      "cell_type": "code",
      "execution_count": 5,
      "metadata": {
        "id": "AILfOgNJGviG"
      },
      "outputs": [],
      "source": [
        "import numpy as np"
      ]
    },
    {
      "cell_type": "markdown",
      "metadata": {
        "id": "ncuzokBmGviH"
      },
      "source": [
        "# Data Types\n",
        "\n",
        "One way to control the data type of a NumPy array is to declare it when the array is created using the `dtype` keyword argument. Take a look at the data type NumPy uses by default when creating an array with `np.zeros()`. Could it be updated?\n",
        "\n",
        "* Using `np.zeros()`, create an array of zeros that has three rows and two columns; call it `zero_array`.  \n",
        "* Print the data type of `zero_array`.\n"
      ]
    },
    {
      "cell_type": "code",
      "execution_count": 6,
      "metadata": {
        "id": "xafx9TvIGviH",
        "outputId": "7363c783-2779-49ee-ec43-09208642c64f",
        "colab": {
          "base_uri": "https://localhost:8080/"
        }
      },
      "outputs": [
        {
          "output_type": "stream",
          "name": "stdout",
          "text": [
            "float64\n",
            "[[0. 0.]\n",
            " [0. 0.]\n",
            " [0. 0.]]\n"
          ]
        }
      ],
      "source": [
        "# Create an array of zeros with three rows and two columns\n",
        "zero_array = np.zeros((3, 2))\n",
        "\n",
        "# Print the data type of zero_array\n",
        "print(zero_array.dtype)\n",
        "print(zero_array)"
      ]
    },
    {
      "cell_type": "markdown",
      "metadata": {
        "id": "6hJhoXE_GviH"
      },
      "source": [
        "* Create a new array of zeros called `zero_int_array`, which will also have three rows and two columns, but the data type should be `np.int32`.  \n",
        "\n",
        "* Print the data type of `zero_int_array`."
      ]
    },
    {
      "cell_type": "code",
      "execution_count": 7,
      "metadata": {
        "id": "9YQeHJmeGviH",
        "outputId": "25b756dc-0a7f-43ab-ff87-f0ae7103f2df",
        "colab": {
          "base_uri": "https://localhost:8080/"
        }
      },
      "outputs": [
        {
          "output_type": "stream",
          "name": "stdout",
          "text": [
            "int32\n",
            "[[0 0]\n",
            " [0 0]\n",
            " [0 0]]\n"
          ]
        }
      ],
      "source": [
        "# Create a new array of int32 zeros with three rows and two columns\n",
        "zero_int_array = np.zeros((3, 2), dtype=np.int32)\n",
        "\n",
        "# Print the data type of zero_int_array\n",
        "print(zero_int_array.dtype)\n",
        "print(zero_int_array)"
      ]
    },
    {
      "cell_type": "markdown",
      "source": [
        "now we have forced integers rather than floats"
      ],
      "metadata": {
        "id": "CLQE6_Fqojoe"
      }
    },
    {
      "cell_type": "code",
      "execution_count": 6,
      "metadata": {
        "id": "a5e12dCWGviH",
        "outputId": "7b10166e-90b4-4c48-c152-eb5a5e90971d",
        "colab": {
          "base_uri": "https://localhost:8080/"
        }
      },
      "outputs": [
        {
          "output_type": "execute_result",
          "data": {
            "text/plain": [
              "array([6. , 7.5, 8. , 0. , 1. ])"
            ]
          },
          "metadata": {},
          "execution_count": 6
        }
      ],
      "source": [
        "data1 = [6, 7.5, 8, 0, 1]        # create a list\n",
        "arr1 = np.array(data1)           # turn list into a numpy array\n",
        "arr1"
      ]
    },
    {
      "cell_type": "markdown",
      "source": [
        "orginally integers and floats, comes back as only floats- ND arrays must be homogenous in terms of data types"
      ],
      "metadata": {
        "id": "Bu30Pfo-pTPk"
      }
    },
    {
      "cell_type": "code",
      "execution_count": 7,
      "metadata": {
        "id": "1qzrva3xGviI",
        "outputId": "7e5b9133-b4db-418d-a403-5e20bda95ae6",
        "colab": {
          "base_uri": "https://localhost:8080/"
        }
      },
      "outputs": [
        {
          "output_type": "execute_result",
          "data": {
            "text/plain": [
              "array([[1, 2, 3, 4],\n",
              "       [5, 6, 7, 8]])"
            ]
          },
          "metadata": {},
          "execution_count": 7
        }
      ],
      "source": [
        "data2 = [[1, 2, 3, 4], [5, 6, 7, 8]]       # create a 2-dimensional list\n",
        "arr2 = np.array(data2)                     # turn that list into a numpy array\n",
        "arr2"
      ]
    },
    {
      "cell_type": "code",
      "execution_count": 8,
      "metadata": {
        "id": "KwLy0JTSGviI",
        "outputId": "30bf37ab-4d6b-4dd0-c6a1-9d6c51dc6826",
        "colab": {
          "base_uri": "https://localhost:8080/"
        }
      },
      "outputs": [
        {
          "output_type": "execute_result",
          "data": {
            "text/plain": [
              "2"
            ]
          },
          "metadata": {},
          "execution_count": 8
        }
      ],
      "source": [
        "arr2.ndim       # get the dimension"
      ]
    },
    {
      "cell_type": "code",
      "execution_count": 9,
      "metadata": {
        "id": "CeU7pinvGviI",
        "outputId": "f2079488-85b1-41aa-972f-2557acb8717e",
        "colab": {
          "base_uri": "https://localhost:8080/"
        }
      },
      "outputs": [
        {
          "output_type": "execute_result",
          "data": {
            "text/plain": [
              "(2, 4)"
            ]
          },
          "metadata": {},
          "execution_count": 9
        }
      ],
      "source": [
        "arr2.shape      # get the shape"
      ]
    },
    {
      "cell_type": "code",
      "execution_count": 10,
      "metadata": {
        "id": "zOybNYgdGviI",
        "outputId": "b4a7315d-e9dc-4df3-e9b1-33e14a23b960",
        "colab": {
          "base_uri": "https://localhost:8080/"
        }
      },
      "outputs": [
        {
          "output_type": "execute_result",
          "data": {
            "text/plain": [
              "dtype('float64')"
            ]
          },
          "metadata": {},
          "execution_count": 10
        }
      ],
      "source": [
        "arr1.dtype      # get the data type for arr1"
      ]
    },
    {
      "cell_type": "code",
      "execution_count": 11,
      "metadata": {
        "id": "YDDGk_bJGviI",
        "outputId": "0f27ba87-c7e4-427a-b253-770297028526",
        "colab": {
          "base_uri": "https://localhost:8080/"
        }
      },
      "outputs": [
        {
          "output_type": "execute_result",
          "data": {
            "text/plain": [
              "dtype('int64')"
            ]
          },
          "metadata": {},
          "execution_count": 11
        }
      ],
      "source": [
        "arr2.dtype      # get the data type for arr2"
      ]
    },
    {
      "cell_type": "code",
      "execution_count": 20,
      "metadata": {
        "id": "5aAHNKBdHFJc",
        "outputId": "1ee564ae-1c22-4c9b-d5fd-bcb1bb86d3be",
        "colab": {
          "base_uri": "https://localhost:8080/",
          "height": 36
        }
      },
      "outputs": [
        {
          "output_type": "execute_result",
          "data": {
            "text/plain": [
              "'[1. 2. 3.]'"
            ],
            "application/vnd.google.colaboratory.intrinsic+json": {
              "type": "string"
            }
          },
          "metadata": {},
          "execution_count": 20
        }
      ],
      "source": [
        "arr1 = np.array([1, 2, 3], dtype=np.float64)\n",
        "arr1.dtype\n",
        "str(arr1)"
      ]
    },
    {
      "cell_type": "markdown",
      "source": [
        "turns inetgers into floats- now can turns ndarray into a string"
      ],
      "metadata": {
        "id": "jr6bW7maq3XJ"
      }
    },
    {
      "cell_type": "code",
      "execution_count": 21,
      "metadata": {
        "id": "tYx2e2SYHcNU",
        "outputId": "f2f3b7a3-b354-44cc-c865-48676cc8febd",
        "colab": {
          "base_uri": "https://localhost:8080/"
        }
      },
      "outputs": [
        {
          "output_type": "execute_result",
          "data": {
            "text/plain": [
              "dtype('int32')"
            ]
          },
          "metadata": {},
          "execution_count": 21
        }
      ],
      "source": [
        "arr2 = np.array([1, 2, 3], dtype=np.int32)\n",
        "arr2.dtype"
      ]
    },
    {
      "cell_type": "code",
      "execution_count": 14,
      "metadata": {
        "id": "w_Y6EmmYHdBr",
        "outputId": "0e5fddc8-7fd1-4754-f2c2-41cab05aec15",
        "colab": {
          "base_uri": "https://localhost:8080/"
        }
      },
      "outputs": [
        {
          "output_type": "execute_result",
          "data": {
            "text/plain": [
              "dtype('int64')"
            ]
          },
          "metadata": {},
          "execution_count": 14
        }
      ],
      "source": [
        "arr = np.array([1, 2, 3, 4, 5])\n",
        "arr.dtype"
      ]
    },
    {
      "cell_type": "code",
      "execution_count": 15,
      "metadata": {
        "id": "d9y9gQZnHfgQ",
        "outputId": "a594d15e-8407-4c57-a85c-62e8447b4580",
        "colab": {
          "base_uri": "https://localhost:8080/"
        }
      },
      "outputs": [
        {
          "output_type": "execute_result",
          "data": {
            "text/plain": [
              "dtype('float64')"
            ]
          },
          "metadata": {},
          "execution_count": 15
        }
      ],
      "source": [
        "float_arr = arr.astype(np.float64)\n",
        "float_arr.dtype"
      ]
    },
    {
      "cell_type": "code",
      "execution_count": 16,
      "metadata": {
        "id": "Ioa95YuUHjke",
        "outputId": "0a619d40-cdc0-4418-d75d-7cd8221f698c",
        "colab": {
          "base_uri": "https://localhost:8080/"
        }
      },
      "outputs": [
        {
          "output_type": "execute_result",
          "data": {
            "text/plain": [
              "array([ 3.7, -1.2, -2.6,  0.5, 12.9, 10.1])"
            ]
          },
          "metadata": {},
          "execution_count": 16
        }
      ],
      "source": [
        "arr = np.array([3.7, -1.2, -2.6, 0.5, 12.9, 10.1])\n",
        "arr"
      ]
    },
    {
      "cell_type": "code",
      "execution_count": 17,
      "metadata": {
        "id": "H2Ref496HmEn",
        "outputId": "882aabed-fdd4-4c30-f2ce-026e1b0024f5",
        "colab": {
          "base_uri": "https://localhost:8080/"
        }
      },
      "outputs": [
        {
          "output_type": "execute_result",
          "data": {
            "text/plain": [
              "array([ 3, -1, -2,  0, 12, 10], dtype=int32)"
            ]
          },
          "metadata": {},
          "execution_count": 17
        }
      ],
      "source": [
        "arr.astype(np.int32)"
      ]
    },
    {
      "cell_type": "code",
      "execution_count": 18,
      "metadata": {
        "id": "YcVkJW44Hovc",
        "outputId": "11d74a71-ab9c-42fd-8b99-50af889992d0",
        "colab": {
          "base_uri": "https://localhost:8080/"
        }
      },
      "outputs": [
        {
          "output_type": "execute_result",
          "data": {
            "text/plain": [
              "array([ 1.25, -9.6 , 42.  ])"
            ]
          },
          "metadata": {},
          "execution_count": 18
        }
      ],
      "source": [
        "numeric_strings = np.array(['1.25', '-9.6', '42'], dtype=np.string_)\n",
        "numeric_strings.astype(float)"
      ]
    },
    {
      "cell_type": "markdown",
      "source": [
        "# Basic Array Manipulations + Calculations\n",
        "\n",
        "NumPy has over 500 basic operations, most of which can be performed upon array data. Here are some common/obvious examples:"
      ],
      "metadata": {
        "id": "_mnr60XBhlQu"
      }
    },
    {
      "cell_type": "code",
      "execution_count": 22,
      "metadata": {
        "id": "oj_yeFhVhr00",
        "outputId": "130c486b-d320-46d0-ee05-7c6b53bcc19d",
        "colab": {
          "base_uri": "https://localhost:8080/"
        }
      },
      "outputs": [
        {
          "output_type": "stream",
          "name": "stdout",
          "text": [
            "[[10  9  8  7  6]\n",
            " [ 5  4  3  2  1]]\n",
            "[[ 1  2  3  4  5]\n",
            " [ 6  7  8  9 10]]\n",
            "[ 1  2  3  4  5  6  7  8  9 10]\n",
            "1\n",
            "10\n",
            "5.5\n",
            "[[ 0.84147098  0.90929743  0.14112001 -0.7568025  -0.95892427]\n",
            " [-0.2794155   0.6569866   0.98935825  0.41211849 -0.54402111]]\n",
            "2.8722813232690143\n"
          ]
        }
      ],
      "source": [
        "# Start with a basic two-dimensional array and manipulate in basic ways:\n",
        "foo = np.array([[1,2,3,4,5],[6,7,8,9,10]])\n",
        "\n",
        "# flip - reverse the data of an array\n",
        "oof = np.flip(foo)\n",
        "print(oof)\n",
        "\n",
        "# copy - copy an array to an entirely separate array\n",
        "goo = np.copy(foo)\n",
        "print(goo)\n",
        "\n",
        "# concatenate - combine all elements within an array into a single list\n",
        "new_foo = np.concatenate(foo)\n",
        "print(new_foo)\n",
        "\n",
        "# min\n",
        "foomin = np.min(foo)\n",
        "print(foomin)\n",
        "\n",
        "# max\n",
        "foomax = np.max(foo)\n",
        "print(foomax)\n",
        "\n",
        "# mean\n",
        "foomean = np.mean(foo)\n",
        "print(foomean)\n",
        "\n",
        "# sin/cos/tan\n",
        "foosin = np.sin(foo)\n",
        "print(foosin)\n",
        "\n",
        "# standard deviation\n",
        "foostd = np.std(foo)\n",
        "print(foostd)"
      ]
    },
    {
      "cell_type": "markdown",
      "source": [
        "once you make a copy, any changes made to the new copy will not impact the old copy\n",
        "\n",
        "concatenation turns a multidemensional array into a single dimensional array\n",
        "\n",
        "math:\n",
        "- can obtain min, mas, mean, sin/cos/tan, or standard deviation"
      ],
      "metadata": {
        "id": "RE8q9sXursnj"
      }
    },
    {
      "cell_type": "markdown",
      "source": [
        "# Inserting + Dropping Array Values\n",
        "\n",
        "There are times it's useful to drop a specific index or the start/end of an array of values."
      ],
      "metadata": {
        "id": "CiViyuDPel1F"
      }
    },
    {
      "cell_type": "code",
      "source": [
        "# Drop the first item\n",
        "\n",
        "myarr = np.array([10,15,20,25,30,35,40,45,50])\n",
        "\n",
        "drop_start = myarr[1:]\n",
        "print(drop_start)"
      ],
      "metadata": {
        "id": "JWSMOpVNeuz0",
        "outputId": "d6304465-9013-4c2d-ec64-8a79cb58fe69",
        "colab": {
          "base_uri": "https://localhost:8080/"
        }
      },
      "execution_count": 23,
      "outputs": [
        {
          "output_type": "stream",
          "name": "stdout",
          "text": [
            "[15 20 25 30 35 40 45 50]\n"
          ]
        }
      ]
    },
    {
      "cell_type": "code",
      "source": [
        "# Drop the last item\n",
        "\n",
        "drop_end = myarr[:-1]\n",
        "print(drop_end)"
      ],
      "metadata": {
        "id": "55GV3eHqfCGi",
        "outputId": "cc287801-1542-4919-d9b2-8ab157f5f0d8",
        "colab": {
          "base_uri": "https://localhost:8080/"
        }
      },
      "execution_count": 24,
      "outputs": [
        {
          "output_type": "stream",
          "name": "stdout",
          "text": [
            "[10 15 20 25 30 35 40 45]\n"
          ]
        }
      ]
    },
    {
      "cell_type": "code",
      "source": [
        "# Drop a specific index\n",
        "\n",
        "drop_second_index = np.delete(myarr, 2)\n",
        "print(drop_second_index)"
      ],
      "metadata": {
        "id": "t_0oJQGPfTo3",
        "outputId": "ccac876d-6316-4a20-b5e1-74cc61feffc3",
        "colab": {
          "base_uri": "https://localhost:8080/"
        }
      },
      "execution_count": 25,
      "outputs": [
        {
          "output_type": "stream",
          "name": "stdout",
          "text": [
            "[10 15 25 30 35 40 45 50]\n"
          ]
        }
      ]
    },
    {
      "cell_type": "code",
      "source": [
        "# Drop every other item in the array\n",
        "# Removes every other item starting with 0\n",
        "\n",
        "every_other = np.delete(myarr, np.arange(0, len(myarr), 2))\n",
        "print(every_other)\n",
        "\n",
        "# Another version that removes every other starting with 1\n",
        "every_other = np.delete(myarr, np.arange(1, len(myarr), 2))\n",
        "print(every_other)"
      ],
      "metadata": {
        "id": "D054l_D1fdW4",
        "outputId": "6b285ee2-84c7-4601-ea9c-15b573da8629",
        "colab": {
          "base_uri": "https://localhost:8080/"
        }
      },
      "execution_count": 28,
      "outputs": [
        {
          "output_type": "stream",
          "name": "stdout",
          "text": [
            "[15 25 35 45]\n",
            "[10 20 30 40 50]\n"
          ]
        }
      ]
    },
    {
      "cell_type": "markdown",
      "metadata": {
        "id": "Pt51js_uGviI"
      },
      "source": [
        "# Slicing\n",
        "\n",
        "**Higher Dimensional Arrays**"
      ]
    },
    {
      "cell_type": "code",
      "execution_count": 29,
      "metadata": {
        "editable": true,
        "id": "cXyHQD1uGviI",
        "jupyter": {
          "outputs_hidden": false
        },
        "outputId": "341f450a-ea59-468d-ff2f-e847e98dda47",
        "colab": {
          "base_uri": "https://localhost:8080/"
        }
      },
      "outputs": [
        {
          "output_type": "execute_result",
          "data": {
            "text/plain": [
              "array([[1, 2, 3],\n",
              "       [4, 5, 6],\n",
              "       [7, 8, 9]])"
            ]
          },
          "metadata": {},
          "execution_count": 29
        }
      ],
      "source": [
        "arr2d = np.array([[1, 2, 3], [4, 5, 6], [7, 8, 9]])\n",
        "arr2d"
      ]
    },
    {
      "cell_type": "code",
      "execution_count": 30,
      "metadata": {
        "editable": true,
        "id": "C-uyvPMbGviJ",
        "jupyter": {
          "outputs_hidden": false
        },
        "outputId": "1d56f8ca-6cce-4bfb-f71b-8a1a495e19e5",
        "colab": {
          "base_uri": "https://localhost:8080/"
        }
      },
      "outputs": [
        {
          "output_type": "execute_result",
          "data": {
            "text/plain": [
              "array([7, 8, 9])"
            ]
          },
          "metadata": {},
          "execution_count": 30
        }
      ],
      "source": [
        "arr2d[2]"
      ]
    },
    {
      "cell_type": "code",
      "execution_count": 34,
      "metadata": {
        "editable": true,
        "id": "v6oZZo3_GviJ",
        "jupyter": {
          "outputs_hidden": false
        },
        "outputId": "9663b13d-f179-4667-c9bc-82055bb669a3",
        "colab": {
          "base_uri": "https://localhost:8080/"
        }
      },
      "outputs": [
        {
          "output_type": "execute_result",
          "data": {
            "text/plain": [
              "3"
            ]
          },
          "metadata": {},
          "execution_count": 34
        }
      ],
      "source": [
        "arr2d[0][2]"
      ]
    },
    {
      "cell_type": "markdown",
      "metadata": {
        "id": "OQoiWqP8GviJ"
      },
      "source": [
        "\n",
        "\n",
        "**Slicing: Simplified notation**"
      ]
    },
    {
      "cell_type": "code",
      "execution_count": 35,
      "metadata": {
        "editable": true,
        "id": "dlzPyEjyGviJ",
        "jupyter": {
          "outputs_hidden": false
        },
        "outputId": "6394a614-4dd7-4d48-f7f3-6a727042e1d6",
        "colab": {
          "base_uri": "https://localhost:8080/"
        }
      },
      "outputs": [
        {
          "output_type": "execute_result",
          "data": {
            "text/plain": [
              "3"
            ]
          },
          "metadata": {},
          "execution_count": 35
        }
      ],
      "source": [
        "arr2d[0, 2]"
      ]
    },
    {
      "cell_type": "markdown",
      "metadata": {
        "id": "H5_SeBXOGviJ"
      },
      "source": [
        "A nice visual of a 2D array\n",
        "\n",
        "<img src=\"https://learning.oreilly.com/api/v2/epubs/urn:orm:book:9781449323592/files/httpatomoreillycomsourceoreillyimages2172112.png\" height=\"50%\" width=\"50%\"/>"
      ]
    },
    {
      "cell_type": "markdown",
      "metadata": {
        "id": "kchDQjMnGviJ"
      },
      "source": [
        "**Two-Dimensional Array Slicing**\n",
        "\n",
        "<img src=\"https://learning.oreilly.com/api/v2/epubs/urn:orm:book:9781449323592/files/httpatomoreillycomsourceoreillyimages2172114.png\" height=\"50%\" width=\"50%\"/>"
      ]
    },
    {
      "cell_type": "markdown",
      "metadata": {
        "id": "8_yM1k7FGviJ"
      },
      "source": [
        "**3D arrays**"
      ]
    },
    {
      "cell_type": "code",
      "execution_count": 8,
      "metadata": {
        "editable": true,
        "id": "Ag4yJHkeGviJ",
        "jupyter": {
          "outputs_hidden": false
        },
        "outputId": "097c8784-7b72-42f9-e43a-7f39eee53a28",
        "colab": {
          "base_uri": "https://localhost:8080/"
        }
      },
      "outputs": [
        {
          "output_type": "execute_result",
          "data": {
            "text/plain": [
              "array([[[ 1,  2,  3],\n",
              "        [ 4,  5,  6]],\n",
              "\n",
              "       [[ 7,  8,  9],\n",
              "        [10, 11, 12]]])"
            ]
          },
          "metadata": {},
          "execution_count": 8
        }
      ],
      "source": [
        "arr3d = np.array([[[1, 2, 3], [4, 5, 6]], [[7, 8, 9], [10, 11, 12]]])\n",
        "\n",
        "arr3d"
      ]
    },
    {
      "cell_type": "markdown",
      "source": [
        "above is not working correclty"
      ],
      "metadata": {
        "id": "reefDmbCvWCZ"
      }
    },
    {
      "cell_type": "code",
      "execution_count": 37,
      "metadata": {
        "id": "HlvrpZVPGviJ",
        "outputId": "11869fca-4d06-4c59-a32a-22a2e9f2939a",
        "colab": {
          "base_uri": "https://localhost:8080/"
        }
      },
      "outputs": [
        {
          "output_type": "execute_result",
          "data": {
            "text/plain": [
              "(2, 2, 3)"
            ]
          },
          "metadata": {},
          "execution_count": 37
        }
      ],
      "source": [
        "arr3d.shape"
      ]
    },
    {
      "cell_type": "markdown",
      "source": [],
      "metadata": {
        "id": "8yQoMVSavVbo"
      }
    },
    {
      "cell_type": "code",
      "execution_count": 9,
      "metadata": {
        "editable": true,
        "id": "Fm-pWgYXGviJ",
        "jupyter": {
          "outputs_hidden": false
        },
        "outputId": "29d52d53-1147-4d75-f8ce-e9f299d5c33d",
        "colab": {
          "base_uri": "https://localhost:8080/"
        }
      },
      "outputs": [
        {
          "output_type": "execute_result",
          "data": {
            "text/plain": [
              "array([[[ 1,  2,  3],\n",
              "        [ 4,  5,  6]],\n",
              "\n",
              "       [[ 7,  8,  9],\n",
              "        [10, 11, 12]]])"
            ]
          },
          "metadata": {},
          "execution_count": 9
        }
      ],
      "source": [
        "arr3d"
      ]
    },
    {
      "cell_type": "markdown",
      "metadata": {
        "id": "6VAqLUBRGviJ",
        "tags": []
      },
      "source": [
        "If you find NumPy's way of showing the data a bit difficult to parse visually.\n",
        "\n",
        "💡 **Here is a way to visualize 3 and higher dimensional data:**\n",
        "\n",
        "```python\n",
        "[ # AXIS 0                     CONTAINS 2 ELEMENTS (arrays)\n",
        "    [ # AXIS 1                 CONTAINS 2 ELEMENTS (arrays)\n",
        "        [1, 2, 3], # AXIS 3    CONTAINS 3 ELEMENTS (integers)\n",
        "        [4, 5, 6]  # AXIS 3\n",
        "    ],  \n",
        "    [ # AXIS 1\n",
        "        [7, 8, 9],\n",
        "        [10, 11, 12]\n",
        "    ]\n",
        "]\n",
        "```\n",
        "Each axis is a level in the nested hierarchy, i.e. a tree or DAG (directed-acyclic graph).\n",
        "\n",
        "* Each axis is a container.\n",
        "* There is only one top container.\n",
        "* Only the bottom containers have data."
      ]
    },
    {
      "cell_type": "markdown",
      "metadata": {
        "id": "NKkVfrMYGviJ"
      },
      "source": [
        "**Omit lower indices**\n",
        "\n",
        "In multidimensional arrays, if you omit later indices, the returned object will be a **lower-dimensional ndarray** consisting of all the data contained by the higher indexed dimension.\n",
        "\n",
        "So in the 2 × 2 × 3 array `arr3d`:"
      ]
    },
    {
      "cell_type": "code",
      "execution_count": 10,
      "metadata": {
        "editable": true,
        "id": "ERwpcfHNGviJ",
        "jupyter": {
          "outputs_hidden": false
        },
        "outputId": "0011393e-fdb1-4ee0-c11f-b487e2a632b9",
        "colab": {
          "base_uri": "https://localhost:8080/"
        }
      },
      "outputs": [
        {
          "output_type": "execute_result",
          "data": {
            "text/plain": [
              "array([[1, 2, 3],\n",
              "       [4, 5, 6]])"
            ]
          },
          "metadata": {},
          "execution_count": 10
        }
      ],
      "source": [
        "arr3d[0]"
      ]
    },
    {
      "cell_type": "markdown",
      "metadata": {
        "id": "j3Tj6WFaGviJ"
      },
      "source": [
        "Saving data before modifying an array."
      ]
    },
    {
      "cell_type": "code",
      "execution_count": 12,
      "metadata": {
        "editable": true,
        "id": "V4ofZLp0GviJ",
        "jupyter": {
          "outputs_hidden": false
        },
        "outputId": "ae9634cf-47e8-41bc-ba69-4d7c1fce54d0",
        "colab": {
          "base_uri": "https://localhost:8080/"
        }
      },
      "outputs": [
        {
          "output_type": "execute_result",
          "data": {
            "text/plain": [
              "array([[[42, 42, 42],\n",
              "        [42, 42, 42]],\n",
              "\n",
              "       [[ 7,  8,  9],\n",
              "        [10, 11, 12]]])"
            ]
          },
          "metadata": {},
          "execution_count": 12
        }
      ],
      "source": [
        "old_values = arr3d[0].copy()\n",
        "arr3d[0] = 42\n",
        "arr3d"
      ]
    },
    {
      "cell_type": "markdown",
      "metadata": {
        "id": "O8U6N49VGviJ"
      },
      "source": [
        "Putting the data back."
      ]
    },
    {
      "cell_type": "code",
      "execution_count": 14,
      "metadata": {
        "editable": true,
        "id": "TCxoaJhSGviK",
        "jupyter": {
          "outputs_hidden": false
        },
        "outputId": "9a68af03-840a-4499-f5b5-6469668a4014",
        "colab": {
          "base_uri": "https://localhost:8080/"
        }
      },
      "outputs": [
        {
          "output_type": "execute_result",
          "data": {
            "text/plain": [
              "array([[[42, 42, 42],\n",
              "        [42, 42, 42]],\n",
              "\n",
              "       [[ 7,  8,  9],\n",
              "        [10, 11, 12]]])"
            ]
          },
          "metadata": {},
          "execution_count": 14
        }
      ],
      "source": [
        "arr3d[0] = old_values\n",
        "arr3d"
      ]
    },
    {
      "cell_type": "markdown",
      "metadata": {
        "id": "3S5QVCrhGviK"
      },
      "source": [
        "Similarly, `arr3d[1, 0]` gives you all of the values whose indices start with (1, 0), forming a 1-dimensional array:"
      ]
    },
    {
      "cell_type": "code",
      "execution_count": 15,
      "metadata": {
        "editable": true,
        "id": "9YZIypDsGviK",
        "jupyter": {
          "outputs_hidden": false
        },
        "outputId": "a5f8b656-9d53-4c6f-e2f1-453c21a1fb95",
        "colab": {
          "base_uri": "https://localhost:8080/"
        }
      },
      "outputs": [
        {
          "output_type": "execute_result",
          "data": {
            "text/plain": [
              "array([7, 8, 9])"
            ]
          },
          "metadata": {},
          "execution_count": 15
        }
      ],
      "source": [
        "arr3d[1, 0]"
      ]
    },
    {
      "cell_type": "code",
      "execution_count": 16,
      "metadata": {
        "editable": true,
        "id": "rZ8KkmPOGviK",
        "jupyter": {
          "outputs_hidden": false
        },
        "outputId": "69e9a9de-ba26-4621-de93-0177a549c9a7",
        "colab": {
          "base_uri": "https://localhost:8080/"
        }
      },
      "outputs": [
        {
          "output_type": "execute_result",
          "data": {
            "text/plain": [
              "array([[ 7,  8,  9],\n",
              "       [10, 11, 12]])"
            ]
          },
          "metadata": {},
          "execution_count": 16
        }
      ],
      "source": [
        "x = arr3d[1]\n",
        "x"
      ]
    },
    {
      "cell_type": "code",
      "execution_count": 17,
      "metadata": {
        "editable": true,
        "id": "kW_r5Om9GviK",
        "jupyter": {
          "outputs_hidden": false
        },
        "outputId": "a799ce2f-f786-4b45-d10c-0361076295e1",
        "colab": {
          "base_uri": "https://localhost:8080/"
        }
      },
      "outputs": [
        {
          "output_type": "execute_result",
          "data": {
            "text/plain": [
              "array([7, 8, 9])"
            ]
          },
          "metadata": {},
          "execution_count": 17
        }
      ],
      "source": [
        "x[0]"
      ]
    }
  ],
  "metadata": {
    "anaconda-cloud": {},
    "colab": {
      "provenance": [],
      "include_colab_link": true
    },
    "kernelspec": {
      "display_name": "Python 3.8.9 64-bit",
      "language": "python",
      "name": "python3"
    },
    "language_info": {
      "codemirror_mode": {
        "name": "ipython",
        "version": 3
      },
      "file_extension": ".py",
      "mimetype": "text/x-python",
      "name": "python",
      "nbconvert_exporter": "python",
      "pygments_lexer": "ipython3",
      "version": "3.9.6"
    },
    "vscode": {
      "interpreter": {
        "hash": "31f2aee4e71d21fbe5cf8b01ff0e069b9275f58929596ceb00d14d90e3e16cd6"
      }
    }
  },
  "nbformat": 4,
  "nbformat_minor": 0
}