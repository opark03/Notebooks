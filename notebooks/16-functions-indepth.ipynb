{
  "cells": [
    {
      "cell_type": "markdown",
      "metadata": {
        "id": "view-in-github",
        "colab_type": "text"
      },
      "source": [
        "<a href=\"https://colab.research.google.com/github/opark03/Notebooks/blob/main/notebooks/16-functions-indepth.ipynb\" target=\"_parent\"><img src=\"https://colab.research.google.com/assets/colab-badge.svg\" alt=\"Open In Colab\"/></a>"
      ]
    },
    {
      "cell_type": "markdown",
      "metadata": {
        "id": "pwrqpQn0iYhf"
      },
      "source": [
        "## Functions: Built-In and User-Defined\n",
        "\n",
        "```\n",
        "  University of Virginia\n",
        "  Programming for Data Science\n",
        "  Updated 10/14/2023\n",
        "```\n",
        "\n",
        "### PREREQUISITES\n",
        "- data types\n",
        "- variables\n",
        "- `if` statement\n",
        "- conditional operators\n",
        "- `list comprehension` (not essential here)\n",
        "\n",
        "\n",
        "### SOURCES\n",
        "- Python built-in functions  \n",
        "https://docs.python.org/3/library/functions.html\n",
        "\n",
        "\n",
        "- Some good function examples and details  \n",
        "https://www.w3schools.com/python/python_functions.asp\n",
        "\n",
        "\n",
        "- Default arguments  \n",
        "https://www.geeksforgeeks.org/default-arguments-in-python/  \n",
        "\n",
        "\n",
        "- Details on the function `return` statement  \n",
        "https://realpython.com/python-return-statement/#understanding-the-python-return-statement\n",
        "\n",
        "\n",
        "- Global versus Local Variables  \n",
        "https://www.geeksforgeeks.org/global-local-variables-python/?ref=lbp\n",
        "\n",
        "\n",
        "### OBJECTIVES\n",
        "- Explain the benefits of functions\n",
        "- Illustrate how to use built-in functions\n",
        "- Illustrate how to create and use your own (user-defined) functions\n",
        "- Demonstrate the scope and lifetime of a variable\n",
        "- Illustrate global and local nature of variables through functions\n",
        "- Demonstrate function parameter use\n",
        "- Provide recommendations on how to create and document functions\n",
        "- Show how to print and write docstrings\n",
        "\n",
        "\n",
        "### CONCEPTS\n",
        "\n",
        "- functions\n",
        "- built-in functions\n",
        "- user-defined functions\n",
        "- variable scope\n",
        "- global versus local variables\n",
        "- default arguments\n",
        "- *args\n",
        "- function call\n",
        "- docstring\n",
        "\n",
        "---\n",
        "\n",
        "## I. Introduction to Functions\n",
        "\n",
        "Functions take input and produce output. They contain a block of code to do their work.  \n",
        "They make transformations happen ... from simple to complex.\n",
        "\n",
        "Python provides many built-in functions.  \n",
        "There are also many packages to bring in additional functions.\n",
        "\n",
        "NOTE: function inputs are called both `parameters` and `arguments`."
      ]
    },
    {
      "cell_type": "markdown",
      "metadata": {
        "id": "8cBukW7ZiYhg"
      },
      "source": [
        "**A SMALL EXAMPLE**\n",
        "\n",
        "This small function is built in to Python: `bool`\n",
        "\n",
        "Documentation: [Python built-in functions](https://docs.python.org/3/library/functions.html)  \n",
        "\n",
        "Takes an argument $x$ and returns True or False.  "
      ]
    },
    {
      "cell_type": "code",
      "execution_count": 1,
      "metadata": {
        "id": "R0SHTW08iYhg",
        "outputId": "1dfce868-601a-4f12-ecef-ca90778d701e",
        "colab": {
          "base_uri": "https://localhost:8080/"
        }
      },
      "outputs": [
        {
          "output_type": "execute_result",
          "data": {
            "text/plain": [
              "True"
            ]
          },
          "metadata": {},
          "execution_count": 1
        }
      ],
      "source": [
        "# set a variable and pass into a conditional statement\n",
        "\n",
        "x = 3\n",
        "bool(x < 4)"
      ]
    },
    {
      "cell_type": "code",
      "execution_count": 2,
      "metadata": {
        "id": "7sw_0hnHiYhg",
        "outputId": "47e81f3a-afc2-4342-a4c9-0acf457ff0a6",
        "colab": {
          "base_uri": "https://localhost:8080/"
        }
      },
      "outputs": [
        {
          "output_type": "execute_result",
          "data": {
            "text/plain": [
              "False"
            ]
          },
          "metadata": {},
          "execution_count": 2
        }
      ],
      "source": [
        "bool(x >= 4)"
      ]
    },
    {
      "cell_type": "code",
      "execution_count": 3,
      "metadata": {
        "id": "Chfh1ORHiYhh",
        "outputId": "d3323052-1737-48f3-ce11-36d1d0896da9",
        "colab": {
          "base_uri": "https://localhost:8080/"
        }
      },
      "outputs": [
        {
          "output_type": "stream",
          "name": "stdout",
          "text": [
            "Help on class bool in module builtins:\n",
            "\n",
            "class bool(int)\n",
            " |  bool(x) -> bool\n",
            " |  \n",
            " |  Returns True when the argument x is true, False otherwise.\n",
            " |  The builtins True and False are the only two instances of the class bool.\n",
            " |  The class bool is a subclass of the class int, and cannot be subclassed.\n",
            " |  \n",
            " |  Method resolution order:\n",
            " |      bool\n",
            " |      int\n",
            " |      object\n",
            " |  \n",
            " |  Methods defined here:\n",
            " |  \n",
            " |  __and__(self, value, /)\n",
            " |      Return self&value.\n",
            " |  \n",
            " |  __or__(self, value, /)\n",
            " |      Return self|value.\n",
            " |  \n",
            " |  __rand__(self, value, /)\n",
            " |      Return value&self.\n",
            " |  \n",
            " |  __repr__(self, /)\n",
            " |      Return repr(self).\n",
            " |  \n",
            " |  __ror__(self, value, /)\n",
            " |      Return value|self.\n",
            " |  \n",
            " |  __rxor__(self, value, /)\n",
            " |      Return value^self.\n",
            " |  \n",
            " |  __xor__(self, value, /)\n",
            " |      Return self^value.\n",
            " |  \n",
            " |  ----------------------------------------------------------------------\n",
            " |  Static methods defined here:\n",
            " |  \n",
            " |  __new__(*args, **kwargs) from builtins.type\n",
            " |      Create and return a new object.  See help(type) for accurate signature.\n",
            " |  \n",
            " |  ----------------------------------------------------------------------\n",
            " |  Methods inherited from int:\n",
            " |  \n",
            " |  __abs__(self, /)\n",
            " |      abs(self)\n",
            " |  \n",
            " |  __add__(self, value, /)\n",
            " |      Return self+value.\n",
            " |  \n",
            " |  __bool__(self, /)\n",
            " |      True if self else False\n",
            " |  \n",
            " |  __ceil__(...)\n",
            " |      Ceiling of an Integral returns itself.\n",
            " |  \n",
            " |  __divmod__(self, value, /)\n",
            " |      Return divmod(self, value).\n",
            " |  \n",
            " |  __eq__(self, value, /)\n",
            " |      Return self==value.\n",
            " |  \n",
            " |  __float__(self, /)\n",
            " |      float(self)\n",
            " |  \n",
            " |  __floor__(...)\n",
            " |      Flooring an Integral returns itself.\n",
            " |  \n",
            " |  __floordiv__(self, value, /)\n",
            " |      Return self//value.\n",
            " |  \n",
            " |  __format__(self, format_spec, /)\n",
            " |      Default object formatter.\n",
            " |  \n",
            " |  __ge__(self, value, /)\n",
            " |      Return self>=value.\n",
            " |  \n",
            " |  __getattribute__(self, name, /)\n",
            " |      Return getattr(self, name).\n",
            " |  \n",
            " |  __getnewargs__(self, /)\n",
            " |  \n",
            " |  __gt__(self, value, /)\n",
            " |      Return self>value.\n",
            " |  \n",
            " |  __hash__(self, /)\n",
            " |      Return hash(self).\n",
            " |  \n",
            " |  __index__(self, /)\n",
            " |      Return self converted to an integer, if self is suitable for use as an index into a list.\n",
            " |  \n",
            " |  __int__(self, /)\n",
            " |      int(self)\n",
            " |  \n",
            " |  __invert__(self, /)\n",
            " |      ~self\n",
            " |  \n",
            " |  __le__(self, value, /)\n",
            " |      Return self<=value.\n",
            " |  \n",
            " |  __lshift__(self, value, /)\n",
            " |      Return self<<value.\n",
            " |  \n",
            " |  __lt__(self, value, /)\n",
            " |      Return self<value.\n",
            " |  \n",
            " |  __mod__(self, value, /)\n",
            " |      Return self%value.\n",
            " |  \n",
            " |  __mul__(self, value, /)\n",
            " |      Return self*value.\n",
            " |  \n",
            " |  __ne__(self, value, /)\n",
            " |      Return self!=value.\n",
            " |  \n",
            " |  __neg__(self, /)\n",
            " |      -self\n",
            " |  \n",
            " |  __pos__(self, /)\n",
            " |      +self\n",
            " |  \n",
            " |  __pow__(self, value, mod=None, /)\n",
            " |      Return pow(self, value, mod).\n",
            " |  \n",
            " |  __radd__(self, value, /)\n",
            " |      Return value+self.\n",
            " |  \n",
            " |  __rdivmod__(self, value, /)\n",
            " |      Return divmod(value, self).\n",
            " |  \n",
            " |  __rfloordiv__(self, value, /)\n",
            " |      Return value//self.\n",
            " |  \n",
            " |  __rlshift__(self, value, /)\n",
            " |      Return value<<self.\n",
            " |  \n",
            " |  __rmod__(self, value, /)\n",
            " |      Return value%self.\n",
            " |  \n",
            " |  __rmul__(self, value, /)\n",
            " |      Return value*self.\n",
            " |  \n",
            " |  __round__(...)\n",
            " |      Rounding an Integral returns itself.\n",
            " |      \n",
            " |      Rounding with an ndigits argument also returns an integer.\n",
            " |  \n",
            " |  __rpow__(self, value, mod=None, /)\n",
            " |      Return pow(value, self, mod).\n",
            " |  \n",
            " |  __rrshift__(self, value, /)\n",
            " |      Return value>>self.\n",
            " |  \n",
            " |  __rshift__(self, value, /)\n",
            " |      Return self>>value.\n",
            " |  \n",
            " |  __rsub__(self, value, /)\n",
            " |      Return value-self.\n",
            " |  \n",
            " |  __rtruediv__(self, value, /)\n",
            " |      Return value/self.\n",
            " |  \n",
            " |  __sizeof__(self, /)\n",
            " |      Returns size in memory, in bytes.\n",
            " |  \n",
            " |  __sub__(self, value, /)\n",
            " |      Return self-value.\n",
            " |  \n",
            " |  __truediv__(self, value, /)\n",
            " |      Return self/value.\n",
            " |  \n",
            " |  __trunc__(...)\n",
            " |      Truncating an Integral returns itself.\n",
            " |  \n",
            " |  as_integer_ratio(self, /)\n",
            " |      Return integer ratio.\n",
            " |      \n",
            " |      Return a pair of integers, whose ratio is exactly equal to the original int\n",
            " |      and with a positive denominator.\n",
            " |      \n",
            " |      >>> (10).as_integer_ratio()\n",
            " |      (10, 1)\n",
            " |      >>> (-10).as_integer_ratio()\n",
            " |      (-10, 1)\n",
            " |      >>> (0).as_integer_ratio()\n",
            " |      (0, 1)\n",
            " |  \n",
            " |  bit_count(self, /)\n",
            " |      Number of ones in the binary representation of the absolute value of self.\n",
            " |      \n",
            " |      Also known as the population count.\n",
            " |      \n",
            " |      >>> bin(13)\n",
            " |      '0b1101'\n",
            " |      >>> (13).bit_count()\n",
            " |      3\n",
            " |  \n",
            " |  bit_length(self, /)\n",
            " |      Number of bits necessary to represent self in binary.\n",
            " |      \n",
            " |      >>> bin(37)\n",
            " |      '0b100101'\n",
            " |      >>> (37).bit_length()\n",
            " |      6\n",
            " |  \n",
            " |  conjugate(...)\n",
            " |      Returns self, the complex conjugate of any int.\n",
            " |  \n",
            " |  to_bytes(self, /, length, byteorder, *, signed=False)\n",
            " |      Return an array of bytes representing an integer.\n",
            " |      \n",
            " |      length\n",
            " |        Length of bytes object to use.  An OverflowError is raised if the\n",
            " |        integer is not representable with the given number of bytes.\n",
            " |      byteorder\n",
            " |        The byte order used to represent the integer.  If byteorder is 'big',\n",
            " |        the most significant byte is at the beginning of the byte array.  If\n",
            " |        byteorder is 'little', the most significant byte is at the end of the\n",
            " |        byte array.  To request the native byte order of the host system, use\n",
            " |        `sys.byteorder' as the byte order value.\n",
            " |      signed\n",
            " |        Determines whether two's complement is used to represent the integer.\n",
            " |        If signed is False and a negative integer is given, an OverflowError\n",
            " |        is raised.\n",
            " |  \n",
            " |  ----------------------------------------------------------------------\n",
            " |  Class methods inherited from int:\n",
            " |  \n",
            " |  from_bytes(bytes, byteorder, *, signed=False) from builtins.type\n",
            " |      Return the integer represented by the given array of bytes.\n",
            " |      \n",
            " |      bytes\n",
            " |        Holds the array of bytes to convert.  The argument must either\n",
            " |        support the buffer protocol or be an iterable object producing bytes.\n",
            " |        Bytes and bytearray are examples of built-in objects that support the\n",
            " |        buffer protocol.\n",
            " |      byteorder\n",
            " |        The byte order used to represent the integer.  If byteorder is 'big',\n",
            " |        the most significant byte is at the beginning of the byte array.  If\n",
            " |        byteorder is 'little', the most significant byte is at the end of the\n",
            " |        byte array.  To request the native byte order of the host system, use\n",
            " |        `sys.byteorder' as the byte order value.\n",
            " |      signed\n",
            " |        Indicates whether two's complement is used to represent the integer.\n",
            " |  \n",
            " |  ----------------------------------------------------------------------\n",
            " |  Data descriptors inherited from int:\n",
            " |  \n",
            " |  denominator\n",
            " |      the denominator of a rational number in lowest terms\n",
            " |  \n",
            " |  imag\n",
            " |      the imaginary part of a complex number\n",
            " |  \n",
            " |  numerator\n",
            " |      the numerator of a rational number in lowest terms\n",
            " |  \n",
            " |  real\n",
            " |      the real part of a complex number\n",
            "\n"
          ]
        }
      ],
      "source": [
        "help(bool)"
      ]
    },
    {
      "cell_type": "markdown",
      "metadata": {
        "id": "ysKcSG9miYhh"
      },
      "source": [
        "Let's get more elaborate, defining x to be a list of integers. This breaks."
      ]
    },
    {
      "cell_type": "code",
      "execution_count": 4,
      "metadata": {
        "id": "EECj55dUiYhh",
        "outputId": "12e8ca9b-4312-4cb2-f3b4-58dc61923cc3",
        "colab": {
          "base_uri": "https://localhost:8080/",
          "height": 217
        }
      },
      "outputs": [
        {
          "output_type": "error",
          "ename": "TypeError",
          "evalue": "ignored",
          "traceback": [
            "\u001b[0;31m---------------------------------------------------------------------------\u001b[0m",
            "\u001b[0;31mTypeError\u001b[0m                                 Traceback (most recent call last)",
            "\u001b[0;32m<ipython-input-4-57cdcc3e2f76>\u001b[0m in \u001b[0;36m<cell line: 3>\u001b[0;34m()\u001b[0m\n\u001b[1;32m      1\u001b[0m \u001b[0mx\u001b[0m \u001b[0;34m=\u001b[0m \u001b[0;34m[\u001b[0m\u001b[0;36m3\u001b[0m\u001b[0;34m,\u001b[0m\u001b[0;36m4\u001b[0m\u001b[0;34m]\u001b[0m        \u001b[0;31m# define a list of integers\u001b[0m\u001b[0;34m\u001b[0m\u001b[0;34m\u001b[0m\u001b[0m\n\u001b[1;32m      2\u001b[0m \u001b[0mthr\u001b[0m \u001b[0;34m=\u001b[0m \u001b[0;36m4\u001b[0m          \u001b[0;31m# define an integer\u001b[0m\u001b[0;34m\u001b[0m\u001b[0;34m\u001b[0m\u001b[0m\n\u001b[0;32m----> 3\u001b[0;31m \u001b[0mbool\u001b[0m\u001b[0;34m(\u001b[0m\u001b[0mx\u001b[0m \u001b[0;34m>=\u001b[0m \u001b[0mthr\u001b[0m\u001b[0;34m)\u001b[0m   \u001b[0;31m# try to compare each value to an integer\u001b[0m\u001b[0;34m\u001b[0m\u001b[0;34m\u001b[0m\u001b[0m\n\u001b[0m",
            "\u001b[0;31mTypeError\u001b[0m: '>=' not supported between instances of 'list' and 'int'"
          ]
        }
      ],
      "source": [
        "x = [3,4]        # define a list of integers\n",
        "thr = 4          # define an integer\n",
        "bool(x >= thr)   # try to compare each value to an integer"
      ]
    },
    {
      "cell_type": "markdown",
      "metadata": {
        "id": "LPibi0y0iYhh"
      },
      "source": [
        "This broke because the operator doesn't support the comparison.  "
      ]
    },
    {
      "cell_type": "markdown",
      "metadata": {
        "id": "ZxNz1zlQiYhh"
      },
      "source": [
        "## II. Creating Functions\n",
        "\n",
        "Let's write a function to compare the list against a threshold."
      ]
    },
    {
      "cell_type": "code",
      "execution_count": 5,
      "metadata": {
        "id": "A-pPSAWpiYhh"
      },
      "outputs": [],
      "source": [
        "def vals_greater_than_or_equal_to_threshold(vals, thresh):\n",
        "    '''\n",
        "    PURPOSE: Given a list of values, compare each value against a threshold\n",
        "\n",
        "    INPUTS\n",
        "    vals    list of ints or floats\n",
        "    thresh  int or float\n",
        "\n",
        "    OUTPUT\n",
        "    bools  list of booleans\n",
        "    '''\n",
        "\n",
        "    bools = [val >= thresh for val in vals]\n",
        "    return bools"
      ]
    },
    {
      "cell_type": "code",
      "source": [],
      "metadata": {
        "id": "019fo6ckMQX2"
      },
      "execution_count": null,
      "outputs": []
    },
    {
      "cell_type": "markdown",
      "metadata": {
        "id": "fKh4CY2GiYhh"
      },
      "source": [
        "**Let's break down the components:**\n",
        "- the function definition starts with `def`, followed by name, one or more arguments in parenthesis, and then a colon.\n",
        "- next comes a `docstring` to provide annotation\n",
        "- the function body follows\n",
        "- lastly is a `return` statement\n",
        "\n",
        "The `function call` allows for function use. It consists of function name and required arguments:\n",
        "\n",
        "`vals_greater_than_or_equal_to_threshold(arg1, arg2)` where `arg1`, `arg2` are arbitrary names."
      ]
    },
    {
      "cell_type": "markdown",
      "metadata": {
        "id": "gVvykZQviYhh"
      },
      "source": [
        "#### docstring\n",
        "\n",
        "- A `docstring` is a string that occurs as first statement in module, function, class, or method definition\n",
        "- Saved in `__doc__` attribute\n",
        "- Needs to be indented\n",
        "- ``` '''enclosed in triple quotes like this''' ```\n",
        "\n",
        "**We gave this function a descriptive docstring to:**\n",
        "\n",
        "- explain its purpose\n",
        "- name each input and output, and give their data types"
      ]
    },
    {
      "cell_type": "code",
      "source": [
        "# Call the docstring to read about a function\n",
        "print(bool.__doc__)"
      ],
      "metadata": {
        "id": "_yAjwpBK6O1u",
        "outputId": "355e3483-e52f-4891-b2cf-0e28657b6d4b",
        "colab": {
          "base_uri": "https://localhost:8080/"
        }
      },
      "execution_count": 6,
      "outputs": [
        {
          "output_type": "stream",
          "name": "stdout",
          "text": [
            "bool(x) -> bool\n",
            "\n",
            "Returns True when the argument x is true, False otherwise.\n",
            "The builtins True and False are the only two instances of the class bool.\n",
            "The class bool is a subclass of the class int, and cannot be subclassed.\n"
          ]
        }
      ]
    },
    {
      "cell_type": "code",
      "source": [
        "print(vals_greater_than_or_equal_to_threshold.__doc__)"
      ],
      "metadata": {
        "id": "HkHiLFWUMRaI",
        "outputId": "8adc975d-6019-45e0-bca3-e461936c1465",
        "colab": {
          "base_uri": "https://localhost:8080/"
        }
      },
      "execution_count": 7,
      "outputs": [
        {
          "output_type": "stream",
          "name": "stdout",
          "text": [
            "\n",
            "    PURPOSE: Given a list of values, compare each value against a threshold\n",
            "\n",
            "    INPUTS\n",
            "    vals    list of ints or floats\n",
            "    thresh  int or float\n",
            "\n",
            "    OUTPUT\n",
            "    bools  list of booleans\n",
            "    \n"
          ]
        }
      ]
    },
    {
      "cell_type": "markdown",
      "metadata": {
        "id": "7jv-faHxiYhh"
      },
      "source": [
        "---"
      ]
    },
    {
      "cell_type": "markdown",
      "metadata": {
        "id": "pktQhKifiYhh"
      },
      "source": [
        "The function body used a `list comprehension` for the compare:\n",
        "\n",
        "`[val >= thresh for val in vals]`\n",
        "\n",
        "**Let's test our function**"
      ]
    },
    {
      "cell_type": "code",
      "execution_count": 8,
      "metadata": {
        "id": "8AhHzhMgiYhh",
        "outputId": "324907be-b225-4796-c8bc-201acae517f8",
        "colab": {
          "base_uri": "https://localhost:8080/"
        }
      },
      "outputs": [
        {
          "output_type": "execute_result",
          "data": {
            "text/plain": [
              "[False, True]"
            ]
          },
          "metadata": {},
          "execution_count": 8
        }
      ],
      "source": [
        "# validate that it works for ints\n",
        "\n",
        "x = [3, 4]\n",
        "thr = 4\n",
        "\n",
        "vals_greater_than_or_equal_to_threshold(x, thr)"
      ]
    },
    {
      "cell_type": "code",
      "execution_count": 9,
      "metadata": {
        "id": "COZGpj27iYhh",
        "outputId": "bd74625b-641e-4ea0-b954-827a4722c082",
        "colab": {
          "base_uri": "https://localhost:8080/"
        }
      },
      "outputs": [
        {
          "output_type": "execute_result",
          "data": {
            "text/plain": [
              "[False, True]"
            ]
          },
          "metadata": {},
          "execution_count": 9
        }
      ],
      "source": [
        "# validate that it works for floats\n",
        "\n",
        "x = [3.0, 4.2]\n",
        "thr = 4.2\n",
        "\n",
        "vals_greater_than_or_equal_to_threshold(x, thr)"
      ]
    },
    {
      "cell_type": "markdown",
      "metadata": {
        "id": "GeWMQNEsiYhh"
      },
      "source": [
        "This gives correct results and does exactly what we want.  "
      ]
    },
    {
      "cell_type": "markdown",
      "metadata": {
        "id": "in16N9rXiYhh"
      },
      "source": [
        "**print the docstring**"
      ]
    },
    {
      "cell_type": "code",
      "execution_count": 10,
      "metadata": {
        "id": "VKApgn6XiYhh",
        "outputId": "9b8fa462-a8a9-4d8b-91ba-323dde95cc5a",
        "colab": {
          "base_uri": "https://localhost:8080/"
        }
      },
      "outputs": [
        {
          "output_type": "stream",
          "name": "stdout",
          "text": [
            "\n",
            "    PURPOSE: Given a list of values, compare each value against a threshold\n",
            "\n",
            "    INPUTS\n",
            "    vals    list of ints or floats\n",
            "    thresh  int or float\n",
            "\n",
            "    OUTPUT\n",
            "    bools  list of booleans\n",
            "    \n"
          ]
        }
      ],
      "source": [
        "print(vals_greater_than_or_equal_to_threshold.__doc__)"
      ]
    },
    {
      "cell_type": "markdown",
      "metadata": {
        "id": "4f5zLGXbiYhh"
      },
      "source": [
        "**print the help**"
      ]
    },
    {
      "cell_type": "code",
      "execution_count": 11,
      "metadata": {
        "id": "ro9qsgsaiYhh",
        "outputId": "2cf39ebe-6fad-4893-eb7a-40bbe9c7ed7f",
        "colab": {
          "base_uri": "https://localhost:8080/"
        }
      },
      "outputs": [
        {
          "output_type": "stream",
          "name": "stdout",
          "text": [
            "Help on function vals_greater_than_or_equal_to_threshold in module __main__:\n",
            "\n",
            "vals_greater_than_or_equal_to_threshold(vals, thresh)\n",
            "    PURPOSE: Given a list of values, compare each value against a threshold\n",
            "    \n",
            "    INPUTS\n",
            "    vals    list of ints or floats\n",
            "    thresh  int or float\n",
            "    \n",
            "    OUTPUT\n",
            "    bools  list of booleans\n",
            "\n"
          ]
        }
      ],
      "source": [
        "help(vals_greater_than_or_equal_to_threshold)"
      ]
    },
    {
      "cell_type": "markdown",
      "metadata": {
        "id": "31jRwOfWiYhh"
      },
      "source": [
        "---\n",
        "\n",
        "**TRY FOR YOURSELF (UNGRADED EXERCISES)**"
      ]
    },
    {
      "cell_type": "markdown",
      "metadata": {
        "id": "moy_QjEViYhh"
      },
      "source": [
        "1) Write a function with these requirements:\n",
        "- has a sensible name\n",
        "- contains a docstring\n",
        "- takes two inputs: a string, and an integer\n",
        "- returns True if the string length is equal to the integer, else False\n",
        "\n",
        "2) Call the function, passing inputs:  \n",
        "- `\"is this text the right length?\"` for the string\n",
        "- `30` for the integer\n",
        "\n",
        "Verify the output is True.  \n",
        "Try other combinations."
      ]
    },
    {
      "cell_type": "code",
      "execution_count": 15,
      "metadata": {
        "id": "XCFT78u7iYhh"
      },
      "outputs": [],
      "source": [
        "def plus_or_minus(sign, val):\n",
        "  '''\n",
        "  purpose: check if a number is positive or negative\n",
        "\n",
        "  Inputs:\n",
        "  text positive/negtaive\n",
        "  val integer\n",
        "\n",
        "  outputs:\n",
        "  bool\n",
        "  '''\n",
        "  if sign == \"positive\":\n",
        "    print(val, \"is positive\")\n",
        "  else:\n",
        "    print(val, \"is negative\")"
      ]
    },
    {
      "cell_type": "code",
      "source": [
        "plus_or_minus(\"positive\", 3)"
      ],
      "metadata": {
        "id": "GL8L7Pf7NkxW",
        "outputId": "cad4ffd3-2fac-4d10-d058-d28b75de937f",
        "colab": {
          "base_uri": "https://localhost:8080/"
        }
      },
      "execution_count": 16,
      "outputs": [
        {
          "output_type": "stream",
          "name": "stdout",
          "text": [
            "3 is positive\n"
          ]
        }
      ]
    },
    {
      "cell_type": "code",
      "execution_count": 17,
      "metadata": {
        "scrolled": true,
        "id": "CftAMRDMiYhi",
        "outputId": "73b9abeb-3d6c-43b0-cfff-b1bdf504dfae",
        "colab": {
          "base_uri": "https://localhost:8080/"
        }
      },
      "outputs": [
        {
          "output_type": "execute_result",
          "data": {
            "text/plain": [
              "True"
            ]
          },
          "metadata": {},
          "execution_count": 17
        }
      ],
      "source": [
        "def verify_string_length(text, val):\n",
        "    \"\"\"\n",
        "    PURPOSE: check if the length of text is equal to a value\n",
        "\n",
        "    INPUTS:\n",
        "    text   str\n",
        "    val    integer\n",
        "\n",
        "    OUTPUTS:\n",
        "    bool, check\n",
        "    \"\"\"\n",
        "\n",
        "    check = len(text) == val\n",
        "    return check\n",
        "\n",
        "txt = 'is this text the right length?'\n",
        "val = 30\n",
        "out = verify_string_length(txt, val)\n",
        "out"
      ]
    },
    {
      "cell_type": "markdown",
      "metadata": {
        "id": "lqVSloXDiYhi"
      },
      "source": [
        "---\n"
      ]
    },
    {
      "cell_type": "markdown",
      "metadata": {
        "id": "5RCRce0_iYhi"
      },
      "source": [
        "## III. Passing Parameters\n",
        "\n",
        "**Functions need to be called with correct number of parameters**\n",
        "  \n",
        "This function requires two params, but the function call includes only one param\n"
      ]
    },
    {
      "cell_type": "code",
      "execution_count": 18,
      "metadata": {
        "id": "fZUJYTBliYhi",
        "outputId": "03928c3f-11e6-44de-b6af-ea5e174a5c78",
        "colab": {
          "base_uri": "https://localhost:8080/",
          "height": 217
        }
      },
      "outputs": [
        {
          "output_type": "error",
          "ename": "TypeError",
          "evalue": "ignored",
          "traceback": [
            "\u001b[0;31m---------------------------------------------------------------------------\u001b[0m",
            "\u001b[0;31mTypeError\u001b[0m                                 Traceback (most recent call last)",
            "\u001b[0;32m<ipython-input-18-59add8a3c0b8>\u001b[0m in \u001b[0;36m<cell line: 6>\u001b[0;34m()\u001b[0m\n\u001b[1;32m      4\u001b[0m \u001b[0;34m\u001b[0m\u001b[0m\n\u001b[1;32m      5\u001b[0m \u001b[0;31m# function call with only 1 of the 2 arguments\u001b[0m\u001b[0;34m\u001b[0m\u001b[0;34m\u001b[0m\u001b[0m\n\u001b[0;32m----> 6\u001b[0;31m \u001b[0mfcn_bad_args\u001b[0m\u001b[0;34m(\u001b[0m\u001b[0;36m10\u001b[0m\u001b[0;34m)\u001b[0m\u001b[0;34m\u001b[0m\u001b[0;34m\u001b[0m\u001b[0m\n\u001b[0m",
            "\u001b[0;31mTypeError\u001b[0m: fcn_bad_args() missing 1 required positional argument: 'y'"
          ]
        }
      ],
      "source": [
        "## function requiring 2 arguments\n",
        "def fcn_bad_args(x, y):\n",
        "    return x+y\n",
        "\n",
        "# function call with only 1 of the 2 arguments\n",
        "fcn_bad_args(10)"
      ]
    },
    {
      "cell_type": "markdown",
      "metadata": {
        "id": "iRRKVuiTiYhi"
      },
      "source": [
        "**When calling a function, parameter order matters.**"
      ]
    },
    {
      "cell_type": "code",
      "execution_count": 19,
      "metadata": {
        "id": "moaHmNmWiYhi",
        "outputId": "bf7e29bd-971f-4358-f4ec-8f2f2bc7eea1",
        "colab": {
          "base_uri": "https://localhost:8080/"
        }
      },
      "outputs": [
        {
          "output_type": "stream",
          "name": "stdout",
          "text": [
            "fcn_swapped_args(x,y) = 7\n",
            "fcn_swapped_args(y,x) = 11\n"
          ]
        }
      ],
      "source": [
        "x = 1\n",
        "y = 2\n",
        "\n",
        "# function with order of x then y\n",
        "def fcn_swapped_args(x, y):\n",
        "    out = 5 * x + y\n",
        "    return out\n",
        "\n",
        "# call function in correct order\n",
        "print('fcn_swapped_args(x,y) =', fcn_swapped_args(x,y))\n",
        "\n",
        "# call function in incorrect order\n",
        "print('fcn_swapped_args(y,x) =', fcn_swapped_args(y,x))"
      ]
    },
    {
      "cell_type": "markdown",
      "metadata": {
        "id": "GXEHQpFxiYhi"
      },
      "source": [
        "Generally it's best to keep parameters in order.  \n",
        "\n",
        "You can swap the order by putting the parameter names in the function call."
      ]
    },
    {
      "cell_type": "code",
      "execution_count": 20,
      "metadata": {
        "id": "FATEk49QiYhi",
        "outputId": "a4a03d8e-5196-4590-ca3d-eb5ecdc1d49d",
        "colab": {
          "base_uri": "https://localhost:8080/"
        }
      },
      "outputs": [
        {
          "output_type": "execute_result",
          "data": {
            "text/plain": [
              "7"
            ]
          },
          "metadata": {},
          "execution_count": 20
        }
      ],
      "source": [
        "x1 = 1\n",
        "y1 = 2\n",
        "\n",
        "# call parameter names in function call\n",
        "fcn_swapped_args(y=y1, x=x1)"
      ]
    },
    {
      "cell_type": "markdown",
      "metadata": {
        "id": "pguDfat9iYhi"
      },
      "source": [
        "**Weirdness Alert**\n",
        "\n",
        "Note that the same name can be used for the parameter names and the variables passed to them.\n",
        "\n",
        "The names themselves have nothng to do with each other!\n",
        "\n",
        "In other words, just because a function names an argument `x`, \\\n",
        "the variables passed to it don't have to name `x` or anything like it. \\\n",
        "They can even be named the same thing -- it does not matter."
      ]
    },
    {
      "cell_type": "code",
      "execution_count": 21,
      "metadata": {
        "id": "wXAk3914iYhi",
        "outputId": "ff8dca60-513d-420a-f714-896bf479c237",
        "colab": {
          "base_uri": "https://localhost:8080/"
        }
      },
      "outputs": [
        {
          "output_type": "execute_result",
          "data": {
            "text/plain": [
              "7"
            ]
          },
          "metadata": {},
          "execution_count": 21
        }
      ],
      "source": [
        "foo = 1\n",
        "bar = 2\n",
        "\n",
        "fcn_swapped_args(foo, bar)\n",
        "\n",
        "# works even though function was written as fcn_swapped_arg(x, y)"
      ]
    },
    {
      "cell_type": "markdown",
      "metadata": {
        "id": "gG0H4XFgiYhi"
      },
      "source": [
        "## IV. Unpacking list-likes using  `*args`\n",
        "\n",
        "The `*` operator can be passed to avoid specifying the arguments individual."
      ]
    },
    {
      "cell_type": "code",
      "execution_count": 23,
      "metadata": {
        "id": "GWJUkt0NiYhi"
      },
      "outputs": [],
      "source": [
        "# use * to unpack when we do not know the specifc number of values that we will be inputting\n",
        "def show_arg_expansion(*models):\n",
        "\n",
        "    print(\"models          :\", models)\n",
        "    print(\"input arg type  :\",  type(models))\n",
        "    print(\"input arg length:\", len(models))\n",
        "    print(\"-----------------------------\")\n",
        "\n",
        "    for mod in models:\n",
        "        print(mod)\n",
        "\n"
      ]
    },
    {
      "cell_type": "markdown",
      "metadata": {
        "id": "1-F_nKl9iYhi"
      },
      "source": [
        "We can pass a tuple of values to the function..."
      ]
    },
    {
      "cell_type": "code",
      "execution_count": 24,
      "metadata": {
        "id": "GFQ3TXbliYhi",
        "outputId": "3dc59337-c77b-4455-cf07-34cffe07ecb9",
        "colab": {
          "base_uri": "https://localhost:8080/"
        }
      },
      "outputs": [
        {
          "output_type": "stream",
          "name": "stdout",
          "text": [
            "models          : ('logreg', 'naive_bayes', 'gbm')\n",
            "input arg type  : <class 'tuple'>\n",
            "input arg length: 3\n",
            "-----------------------------\n",
            "logreg\n",
            "naive_bayes\n",
            "gbm\n"
          ]
        }
      ],
      "source": [
        "# example when passing in three values\n",
        "show_arg_expansion(\"logreg\", \"naive_bayes\", \"gbm\")"
      ]
    },
    {
      "cell_type": "markdown",
      "metadata": {
        "id": "P6r87diciYhi"
      },
      "source": [
        "You can pass a list to the function.\n",
        "\n",
        "If you want the elements unpacked, put * before the list."
      ]
    },
    {
      "cell_type": "code",
      "execution_count": 25,
      "metadata": {
        "id": "ruipdu0wiYho",
        "outputId": "bdf14ecb-137b-48ba-9f85-9d7d982016f8",
        "colab": {
          "base_uri": "https://localhost:8080/"
        }
      },
      "outputs": [
        {
          "output_type": "stream",
          "name": "stdout",
          "text": [
            "models          : ('logreg', 'naive_bayes', 'gbm')\n",
            "input arg type  : <class 'tuple'>\n",
            "input arg length: 3\n",
            "-----------------------------\n",
            "logreg\n",
            "naive_bayes\n",
            "gbm\n"
          ]
        }
      ],
      "source": [
        "# you can also pass through a list that was passed in\n",
        "models = [\"logreg\", \"naive_bayes\", \"gbm\"]\n",
        "show_arg_expansion(*models)"
      ]
    },
    {
      "cell_type": "markdown",
      "metadata": {
        "id": "Bf1mbaOkiYho"
      },
      "source": [
        "**This approach allows your function to accept an arbitrary number of arguments**"
      ]
    },
    {
      "cell_type": "code",
      "execution_count": 26,
      "metadata": {
        "id": "eUaGaNdQiYhp",
        "outputId": "27f3cac0-1e79-4a05-d767-19a2556b0184",
        "colab": {
          "base_uri": "https://localhost:8080/"
        }
      },
      "outputs": [
        {
          "output_type": "stream",
          "name": "stdout",
          "text": [
            "models          : (['a', 'b', 'c', 'd', 'e', 'f', 'g'],)\n",
            "input arg type  : <class 'tuple'>\n",
            "input arg length: 1\n",
            "-----------------------------\n",
            "['a', 'b', 'c', 'd', 'e', 'f', 'g']\n"
          ]
        }
      ],
      "source": [
        "show_arg_expansion('a b c d e f g'.split())"
      ]
    },
    {
      "cell_type": "code",
      "execution_count": 27,
      "metadata": {
        "id": "6YEbcVy3iYhp"
      },
      "outputs": [],
      "source": [
        "def arg_expansion_example(x, y):\n",
        "    return x**y"
      ]
    },
    {
      "cell_type": "markdown",
      "metadata": {
        "id": "xckEFWq3iYhp"
      },
      "source": [
        "**The reverse is true, too.**\n",
        "\n",
        "You can use the `*` operator to pass list-like objects to a function that specifies its arguments."
      ]
    },
    {
      "cell_type": "code",
      "execution_count": 28,
      "metadata": {
        "id": "wU7NxYsziYhp",
        "outputId": "ab58dbde-db43-4718-bc50-55a9f4302221",
        "colab": {
          "base_uri": "https://localhost:8080/"
        }
      },
      "outputs": [
        {
          "output_type": "execute_result",
          "data": {
            "text/plain": [
              "256"
            ]
          },
          "metadata": {},
          "execution_count": 28
        }
      ],
      "source": [
        "my_args = [2, 8]\n",
        "arg_expansion_example(*my_args)"
      ]
    },
    {
      "cell_type": "markdown",
      "metadata": {
        "id": "0MEHR85ziYhp"
      },
      "source": [
        "But, the passed object must be the right length."
      ]
    },
    {
      "cell_type": "code",
      "execution_count": 29,
      "metadata": {
        "id": "edIKHtO6iYhp",
        "outputId": "01425240-2c0a-4d6b-fbb0-7f7173404368",
        "colab": {
          "base_uri": "https://localhost:8080/",
          "height": 199
        }
      },
      "outputs": [
        {
          "output_type": "error",
          "ename": "TypeError",
          "evalue": "ignored",
          "traceback": [
            "\u001b[0;31m---------------------------------------------------------------------------\u001b[0m",
            "\u001b[0;31mTypeError\u001b[0m                                 Traceback (most recent call last)",
            "\u001b[0;32m<ipython-input-29-7102e54db940>\u001b[0m in \u001b[0;36m<cell line: 2>\u001b[0;34m()\u001b[0m\n\u001b[1;32m      1\u001b[0m \u001b[0mmy_args2\u001b[0m \u001b[0;34m=\u001b[0m \u001b[0;34m[\u001b[0m\u001b[0;36m2\u001b[0m\u001b[0;34m,\u001b[0m \u001b[0;36m8\u001b[0m\u001b[0;34m,\u001b[0m \u001b[0;36m5\u001b[0m\u001b[0;34m]\u001b[0m\u001b[0;34m\u001b[0m\u001b[0;34m\u001b[0m\u001b[0m\n\u001b[0;32m----> 2\u001b[0;31m \u001b[0marg_expansion_example\u001b[0m\u001b[0;34m(\u001b[0m\u001b[0;34m*\u001b[0m\u001b[0mmy_args2\u001b[0m\u001b[0;34m)\u001b[0m\u001b[0;34m\u001b[0m\u001b[0;34m\u001b[0m\u001b[0m\n\u001b[0m",
            "\u001b[0;31mTypeError\u001b[0m: arg_expansion_example() takes 2 positional arguments but 3 were given"
          ]
        }
      ],
      "source": [
        "# now that is it defined as needed an x and y, we must only input two values\n",
        "my_args2 = [2, 8, 5]\n",
        "arg_expansion_example(*my_args2)"
      ]
    },
    {
      "cell_type": "markdown",
      "metadata": {
        "id": "0wBVmLYRiYhp"
      },
      "source": [
        "---\n",
        "\n",
        "**TRY FOR YOURSELF (UNGRADED EXERCISES)**"
      ]
    },
    {
      "cell_type": "markdown",
      "metadata": {
        "id": "uuyOJYEhiYhp"
      },
      "source": [
        "3) Write a function with these requirements:\n",
        "- takes *args for the input argument (like above)\n",
        "- squares each argument, printing the value. you can use a `for` loop like above.\n",
        "- returns None\n",
        "\n",
        "Next, call the function, passing at least two integers"
      ]
    },
    {
      "cell_type": "code",
      "execution_count": 30,
      "metadata": {
        "id": "sjrLjYwLiYhp",
        "outputId": "9734ee22-927c-486f-9fab-fa0a6a223da8",
        "colab": {
          "base_uri": "https://localhost:8080/"
        }
      },
      "outputs": [
        {
          "output_type": "stream",
          "name": "stdout",
          "text": [
            "4\n",
            "9\n",
            "64\n"
          ]
        }
      ],
      "source": [
        "def square_args(*vars):\n",
        "\n",
        "    for var in vars:\n",
        "        print(var**2)\n",
        "    return None\n",
        "\n",
        "square_args(2,3,8)"
      ]
    },
    {
      "cell_type": "markdown",
      "metadata": {
        "id": "wacWDG-_iYhp"
      },
      "source": [
        "---\n"
      ]
    },
    {
      "cell_type": "markdown",
      "metadata": {
        "id": "DuItUjJWiYhp"
      },
      "source": [
        "## V. Default Arguments"
      ]
    },
    {
      "cell_type": "markdown",
      "metadata": {
        "id": "zOX-dScLiYhp"
      },
      "source": [
        "`default arguments` set the value when left unspecified."
      ]
    },
    {
      "cell_type": "code",
      "execution_count": 31,
      "metadata": {
        "id": "PhA5ZjvZiYhp"
      },
      "outputs": [],
      "source": [
        "def show_results(precision, printing=True):\n",
        "    precision = round(precision, 2)\n",
        "\n",
        "    if printing:\n",
        "      print('precision =', precision)\n",
        "    return precision"
      ]
    },
    {
      "cell_type": "code",
      "execution_count": 32,
      "metadata": {
        "id": "eSoSgF9YiYhp",
        "outputId": "438aeefa-a8de-4b93-d65f-427d17891f11",
        "colab": {
          "base_uri": "https://localhost:8080/"
        }
      },
      "outputs": [
        {
          "output_type": "stream",
          "name": "stdout",
          "text": [
            "precision = 0.91\n"
          ]
        }
      ],
      "source": [
        "pr = 0.912\n",
        "res = show_results(pr)"
      ]
    },
    {
      "cell_type": "markdown",
      "metadata": {
        "id": "gUL5UY1uiYhp"
      },
      "source": [
        "The function call didn't specify `printing`, so it defaulted to True.\n",
        "\n",
        "Default arguments must follow non-default arguments. This causes trouble:"
      ]
    },
    {
      "cell_type": "code",
      "execution_count": 33,
      "metadata": {
        "id": "06tJnUQviYhp",
        "outputId": "1e7158e2-d6b1-419d-b4e3-81df4b6d4607",
        "colab": {
          "base_uri": "https://localhost:8080/",
          "height": 144
        }
      },
      "outputs": [
        {
          "output_type": "error",
          "ename": "SyntaxError",
          "evalue": "ignored",
          "traceback": [
            "\u001b[0;36m  File \u001b[0;32m\"<ipython-input-33-aae7dece5cf1>\"\u001b[0;36m, line \u001b[0;32m1\u001b[0m\n\u001b[0;31m    def show_results(precision, printing=True, uhoh):\u001b[0m\n\u001b[0m                                               ^\u001b[0m\n\u001b[0;31mSyntaxError\u001b[0m\u001b[0;31m:\u001b[0m non-default argument follows default argument\n"
          ]
        }
      ],
      "source": [
        "def show_results(precision, printing=True, uhoh):\n",
        "    precision = round(precision, 2)\n",
        "\n",
        "    if printing:\n",
        "      print('precision =', precision)\n",
        "    return precision"
      ]
    },
    {
      "cell_type": "markdown",
      "metadata": {
        "id": "ECgpfITPiYhp"
      },
      "source": [
        "## VI. Returning Values\n",
        "\n",
        "Functions are not required to have return statement.\n",
        "If there is no return statement, function returns `None` object.  \n",
        "\n",
        "Functions can return no value (`None` object), one value, or many.  \n",
        "\n",
        "Any Python object can be returned.  "
      ]
    },
    {
      "cell_type": "code",
      "execution_count": 34,
      "metadata": {
        "id": "fZtuJVPdiYhp"
      },
      "outputs": [],
      "source": [
        "# returns None, and prints.\n",
        "\n",
        "def fcn_nothing_to_return(x, y):\n",
        "    out = 'nothing to see here!'\n",
        "    print(out)"
      ]
    },
    {
      "cell_type": "code",
      "execution_count": 35,
      "metadata": {
        "id": "p2l6oKBxiYhp",
        "outputId": "36ca9525-e14b-415b-9319-1caaacfdab64",
        "colab": {
          "base_uri": "https://localhost:8080/"
        }
      },
      "outputs": [
        {
          "output_type": "stream",
          "name": "stdout",
          "text": [
            "nothing to see here!\n"
          ]
        }
      ],
      "source": [
        "fcn_nothing_to_return(x, y)"
      ]
    },
    {
      "cell_type": "code",
      "execution_count": 36,
      "metadata": {
        "id": "1sYG6tFMiYhp",
        "outputId": "e86cdee0-366f-4b2a-f170-8f54da46eead",
        "colab": {
          "base_uri": "https://localhost:8080/"
        }
      },
      "outputs": [
        {
          "output_type": "stream",
          "name": "stdout",
          "text": [
            "nothing to see here!\n",
            "None\n"
          ]
        }
      ],
      "source": [
        "r = fcn_nothing_to_return(1, 1)\n",
        "print(r)"
      ]
    },
    {
      "cell_type": "code",
      "execution_count": null,
      "metadata": {
        "id": "iSW-A_N1iYhp"
      },
      "outputs": [],
      "source": [
        "# returns three values\n",
        "\n",
        "def negate_coords(x, y, z):\n",
        "    return -x, -y, -z"
      ]
    },
    {
      "cell_type": "code",
      "execution_count": 37,
      "metadata": {
        "id": "UQrSV9nKiYhp",
        "outputId": "6073cb58-8aca-4cb4-8105-b3209ff70c65",
        "colab": {
          "base_uri": "https://localhost:8080/",
          "height": 236
        }
      },
      "outputs": [
        {
          "output_type": "error",
          "ename": "NameError",
          "evalue": "ignored",
          "traceback": [
            "\u001b[0;31m---------------------------------------------------------------------------\u001b[0m",
            "\u001b[0;31mNameError\u001b[0m                                 Traceback (most recent call last)",
            "\u001b[0;32m<ipython-input-37-b24e76ea02be>\u001b[0m in \u001b[0;36m<cell line: 1>\u001b[0;34m()\u001b[0m\n\u001b[0;32m----> 1\u001b[0;31m \u001b[0ma\u001b[0m\u001b[0;34m,\u001b[0m\u001b[0mb\u001b[0m\u001b[0;34m,\u001b[0m\u001b[0mc\u001b[0m \u001b[0;34m=\u001b[0m \u001b[0mnegate_coords\u001b[0m\u001b[0;34m(\u001b[0m\u001b[0;36m10\u001b[0m\u001b[0;34m,\u001b[0m\u001b[0;36m20\u001b[0m\u001b[0;34m,\u001b[0m\u001b[0;36m30\u001b[0m\u001b[0;34m)\u001b[0m\u001b[0;34m\u001b[0m\u001b[0;34m\u001b[0m\u001b[0m\n\u001b[0m\u001b[1;32m      2\u001b[0m \u001b[0mprint\u001b[0m\u001b[0;34m(\u001b[0m\u001b[0;34m'a='\u001b[0m\u001b[0;34m,\u001b[0m \u001b[0ma\u001b[0m\u001b[0;34m)\u001b[0m\u001b[0;34m\u001b[0m\u001b[0;34m\u001b[0m\u001b[0m\n\u001b[1;32m      3\u001b[0m \u001b[0mprint\u001b[0m\u001b[0;34m(\u001b[0m\u001b[0;34m'b='\u001b[0m\u001b[0;34m,\u001b[0m \u001b[0mb\u001b[0m\u001b[0;34m)\u001b[0m\u001b[0;34m\u001b[0m\u001b[0;34m\u001b[0m\u001b[0m\n\u001b[1;32m      4\u001b[0m \u001b[0mprint\u001b[0m\u001b[0;34m(\u001b[0m\u001b[0;34m'c='\u001b[0m\u001b[0;34m,\u001b[0m \u001b[0mc\u001b[0m\u001b[0;34m)\u001b[0m\u001b[0;34m\u001b[0m\u001b[0;34m\u001b[0m\u001b[0m\n",
            "\u001b[0;31mNameError\u001b[0m: name 'negate_coords' is not defined"
          ]
        }
      ],
      "source": [
        "a,b,c = negate_coords(10,20,30)\n",
        "print('a=', a)\n",
        "print('b=', b)\n",
        "print('c=', c)"
      ]
    },
    {
      "cell_type": "markdown",
      "metadata": {
        "id": "ifsJheijiYhp"
      },
      "source": [
        "**If you don't need an output, use the dummy variable `_`**"
      ]
    },
    {
      "cell_type": "code",
      "execution_count": 38,
      "metadata": {
        "id": "AgBl1V6TiYhp",
        "outputId": "e7c3a532-a3ad-4e3f-c6a0-66a0ebafd063",
        "colab": {
          "base_uri": "https://localhost:8080/",
          "height": 217
        }
      },
      "outputs": [
        {
          "output_type": "error",
          "ename": "NameError",
          "evalue": "ignored",
          "traceback": [
            "\u001b[0;31m---------------------------------------------------------------------------\u001b[0m",
            "\u001b[0;31mNameError\u001b[0m                                 Traceback (most recent call last)",
            "\u001b[0;32m<ipython-input-38-c1299317bd5c>\u001b[0m in \u001b[0;36m<cell line: 1>\u001b[0;34m()\u001b[0m\n\u001b[0;32m----> 1\u001b[0;31m \u001b[0md\u001b[0m\u001b[0;34m,\u001b[0m\u001b[0me\u001b[0m\u001b[0;34m,\u001b[0m\u001b[0m_\u001b[0m \u001b[0;34m=\u001b[0m \u001b[0mnegate_coords\u001b[0m\u001b[0;34m(\u001b[0m\u001b[0;36m10\u001b[0m\u001b[0;34m,\u001b[0m\u001b[0;36m20\u001b[0m\u001b[0;34m,\u001b[0m\u001b[0;36m30\u001b[0m\u001b[0;34m)\u001b[0m\u001b[0;34m\u001b[0m\u001b[0;34m\u001b[0m\u001b[0m\n\u001b[0m\u001b[1;32m      2\u001b[0m \u001b[0mprint\u001b[0m\u001b[0;34m(\u001b[0m\u001b[0;34m'd='\u001b[0m\u001b[0;34m,\u001b[0m \u001b[0md\u001b[0m\u001b[0;34m)\u001b[0m\u001b[0;34m\u001b[0m\u001b[0;34m\u001b[0m\u001b[0m\n\u001b[1;32m      3\u001b[0m \u001b[0mprint\u001b[0m\u001b[0;34m(\u001b[0m\u001b[0;34m'e='\u001b[0m\u001b[0;34m,\u001b[0m \u001b[0me\u001b[0m\u001b[0;34m)\u001b[0m\u001b[0;34m\u001b[0m\u001b[0;34m\u001b[0m\u001b[0m\n",
            "\u001b[0;31mNameError\u001b[0m: name 'negate_coords' is not defined"
          ]
        }
      ],
      "source": [
        "d,e,_ = negate_coords(10,20,30)\n",
        "print('d=', d)\n",
        "print('e=', e)"
      ]
    },
    {
      "cell_type": "markdown",
      "metadata": {
        "id": "AmIDwm-xiYhq"
      },
      "source": [
        "**Note:** For clarity purposes, it's generally a good idea to include return statements, even if not returning a value.  \n",
        "You can use `return` or `return None`."
      ]
    },
    {
      "cell_type": "markdown",
      "metadata": {
        "id": "AlIg9oEEiYhq"
      },
      "source": [
        "**Functions can contain multiple return statements**"
      ]
    },
    {
      "cell_type": "code",
      "execution_count": 39,
      "metadata": {
        "id": "rbJKLgjQiYhq"
      },
      "outputs": [],
      "source": [
        "def absolute_value(num):\n",
        "    if num >= 0:\n",
        "        return num\n",
        "    return -num"
      ]
    },
    {
      "cell_type": "code",
      "execution_count": 40,
      "metadata": {
        "id": "n66QsiX0iYhq",
        "outputId": "1529fb99-a908-4a77-dfac-ff213a78d7c7",
        "colab": {
          "base_uri": "https://localhost:8080/"
        }
      },
      "outputs": [
        {
          "output_type": "execute_result",
          "data": {
            "text/plain": [
              "4"
            ]
          },
          "metadata": {},
          "execution_count": 40
        }
      ],
      "source": [
        "absolute_value(-4)"
      ]
    },
    {
      "cell_type": "code",
      "execution_count": 41,
      "metadata": {
        "id": "PBB4Rgl6iYhq",
        "outputId": "b6d2b2a7-0077-4079-914e-58fdc4f70075",
        "colab": {
          "base_uri": "https://localhost:8080/"
        }
      },
      "outputs": [
        {
          "output_type": "execute_result",
          "data": {
            "text/plain": [
              "4"
            ]
          },
          "metadata": {},
          "execution_count": 41
        }
      ],
      "source": [
        "absolute_value(4)"
      ]
    },
    {
      "cell_type": "markdown",
      "metadata": {
        "id": "h_NACzG_iYhq"
      },
      "source": [
        "For non-negative values, the first `return` is reached.  \n",
        "For negative values, the second `return` is reached."
      ]
    },
    {
      "cell_type": "markdown",
      "metadata": {
        "id": "BH_xyYdeiYhq"
      },
      "source": [
        "---\n",
        "\n",
        "**TRY FOR YOURSELF (UNGRADED EXERCISES)**"
      ]
    },
    {
      "cell_type": "markdown",
      "metadata": {
        "id": "LNS7qCZoiYhq"
      },
      "source": [
        "4) Write a small function that returns two outputs. Verify it works properly."
      ]
    },
    {
      "cell_type": "code",
      "execution_count": null,
      "metadata": {
        "id": "9OgG3s4viYhq"
      },
      "outputs": [],
      "source": []
    },
    {
      "cell_type": "markdown",
      "metadata": {
        "id": "BoiyBMfAiYhq"
      },
      "source": [
        "5) Define a step function with these requirements:\n",
        "- take one numeric value as input\n",
        "- subtract 5 from the value\n",
        "- return 1 if the difference is nonnegative, else return 0\n",
        "\n",
        "Call the function on different values to test it."
      ]
    },
    {
      "cell_type": "code",
      "execution_count": 42,
      "metadata": {
        "jupyter": {
          "source_hidden": true
        },
        "id": "ialULi_ViYhq"
      },
      "outputs": [],
      "source": [
        "def step(x):\n",
        "    diff = x - 5\n",
        "    if diff >= 0:\n",
        "        return 1\n",
        "    return 0"
      ]
    },
    {
      "cell_type": "code",
      "execution_count": 43,
      "metadata": {
        "id": "WQa1nMg7iYhq",
        "outputId": "9b0253a5-ad56-46f5-f993-d96b1430e790",
        "colab": {
          "base_uri": "https://localhost:8080/"
        }
      },
      "outputs": [
        {
          "output_type": "execute_result",
          "data": {
            "text/plain": [
              "1"
            ]
          },
          "metadata": {},
          "execution_count": 43
        }
      ],
      "source": [
        "step(6)"
      ]
    },
    {
      "cell_type": "code",
      "execution_count": 44,
      "metadata": {
        "id": "PZAyGUKmiYhq",
        "outputId": "6f120ea7-af8e-4096-c784-1be39222de3b",
        "colab": {
          "base_uri": "https://localhost:8080/"
        }
      },
      "outputs": [
        {
          "output_type": "execute_result",
          "data": {
            "text/plain": [
              "0"
            ]
          },
          "metadata": {},
          "execution_count": 44
        }
      ],
      "source": [
        "step(4)"
      ]
    },
    {
      "cell_type": "markdown",
      "metadata": {
        "id": "rGqz1rj1iYhq"
      },
      "source": [
        "---\n"
      ]
    },
    {
      "cell_type": "markdown",
      "metadata": {
        "id": "M5ofH0wjiYhq"
      },
      "source": [
        "## VII. Variable Scope\n",
        "\n",
        "A variable's **scope** is the part of a program where it is **visible**.\n",
        "\n",
        "Visible means available or usable.\n",
        "\n",
        "If a variable is **in scope** to a function, it is visible the function.\n",
        "\n",
        "If it is **out of scope** to a function, it is not visible the function.\n",
        "\n",
        "When a variable is defined inside of a function, is is not visible outside of the function.\n",
        "\n",
        "We say such variables are **local** to the function.\n",
        "\n",
        "They are also removed from memory when the function completes."
      ]
    },
    {
      "cell_type": "code",
      "execution_count": 45,
      "metadata": {
        "id": "xv-6GxpmiYhq"
      },
      "outputs": [],
      "source": [
        "def show_scope(x):\n",
        "    x = 10*x\n",
        "    z = 4\n",
        "    print('z inside function =', z)\n",
        "    print('memory address of z inside function =', id(z))\n",
        "    return x"
      ]
    },
    {
      "cell_type": "code",
      "execution_count": 46,
      "metadata": {
        "id": "b-rPp26DiYhq",
        "outputId": "29d48eac-ab30-4da1-c440-fa647fae53a4",
        "colab": {
          "base_uri": "https://localhost:8080/"
        }
      },
      "outputs": [
        {
          "output_type": "stream",
          "name": "stdout",
          "text": [
            "z inside function = 4\n",
            "memory address of z inside function = 135829941731664\n"
          ]
        },
        {
          "output_type": "execute_result",
          "data": {
            "text/plain": [
              "60"
            ]
          },
          "metadata": {},
          "execution_count": 46
        }
      ],
      "source": [
        "show_scope(6)"
      ]
    },
    {
      "cell_type": "code",
      "execution_count": 47,
      "metadata": {
        "id": "WPxisGHoiYhq",
        "outputId": "17eb4901-ceda-4fbb-d5b2-61aeb1791a20",
        "colab": {
          "base_uri": "https://localhost:8080/",
          "height": 181
        }
      },
      "outputs": [
        {
          "output_type": "error",
          "ename": "NameError",
          "evalue": "ignored",
          "traceback": [
            "\u001b[0;31m---------------------------------------------------------------------------\u001b[0m",
            "\u001b[0;31mNameError\u001b[0m                                 Traceback (most recent call last)",
            "\u001b[0;32m<ipython-input-47-008cd90f0648>\u001b[0m in \u001b[0;36m<cell line: 1>\u001b[0;34m()\u001b[0m\n\u001b[0;32m----> 1\u001b[0;31m \u001b[0mprint\u001b[0m\u001b[0;34m(\u001b[0m\u001b[0;34m'z ='\u001b[0m\u001b[0;34m,\u001b[0m \u001b[0mz\u001b[0m\u001b[0;34m)\u001b[0m\u001b[0;34m\u001b[0m\u001b[0;34m\u001b[0m\u001b[0m\n\u001b[0m",
            "\u001b[0;31mNameError\u001b[0m: name 'z' is not defined"
          ]
        }
      ],
      "source": [
        "print('z =', z)"
      ]
    },
    {
      "cell_type": "markdown",
      "metadata": {
        "id": "GPLOt-8ZiYhq"
      },
      "source": [
        "This code recognizes z from inside the function.\n",
        "  \n",
        "Calling it from outside, where it isn't defined, throws an error."
      ]
    },
    {
      "cell_type": "markdown",
      "metadata": {
        "id": "MEQu0vTEiYhq"
      },
      "source": [
        "If we define `z` and call the function, the update to `z` won't pass outside the function."
      ]
    },
    {
      "cell_type": "code",
      "execution_count": 48,
      "metadata": {
        "id": "hy-7O-SIiYhq",
        "outputId": "1d2ed92d-84a5-45ff-ef7b-9cbaeede5fcf",
        "colab": {
          "base_uri": "https://localhost:8080/"
        }
      },
      "outputs": [
        {
          "output_type": "stream",
          "name": "stdout",
          "text": [
            "z outside: 135829941731600\n",
            "z inside function = 4\n",
            "memory address of z inside function = 135829941731664\n",
            "z =  2\n"
          ]
        }
      ],
      "source": [
        "z = 2\n",
        "print('z outside:', id(z))\n",
        "out = show_scope(6)\n",
        "print('z = ', z)"
      ]
    },
    {
      "cell_type": "markdown",
      "metadata": {
        "id": "Qw_Ux3H6iYhq"
      },
      "source": [
        "### Local versus Global Variables\n",
        "\n",
        "It is helpful to have a good understanding of local versus global variables.  \n",
        "\n",
        "Not having this understanding can lead to surprises and confusion.  \n",
        "\n",
        "**Example 1: Variable defined outside function, used inside function**\n",
        "\n",
        "In the code below:  \n",
        "\n",
        "`x` is global and seen from inside the function.  \n",
        "`a` is local to the function. trying to print outside function throws error."
      ]
    },
    {
      "cell_type": "code",
      "execution_count": 49,
      "metadata": {
        "id": "Shy4_1YJiYhq"
      },
      "outputs": [],
      "source": [
        "x = 10\n",
        "\n",
        "def fcn(a):\n",
        "    out = x + a\n",
        "    return(out)\n"
      ]
    },
    {
      "cell_type": "code",
      "execution_count": 50,
      "metadata": {
        "id": "Wa7Nou2oiYhr",
        "outputId": "7c60d6ae-c629-4b21-db99-2dcd35186086",
        "colab": {
          "base_uri": "https://localhost:8080/"
        }
      },
      "outputs": [
        {
          "output_type": "stream",
          "name": "stdout",
          "text": [
            "16\n"
          ]
        }
      ],
      "source": [
        "print(fcn(6)) # works"
      ]
    },
    {
      "cell_type": "code",
      "execution_count": 51,
      "metadata": {
        "id": "LzWya7D3iYhr",
        "outputId": "a0843ada-b7ec-4445-fbcf-eb241131df6f",
        "colab": {
          "base_uri": "https://localhost:8080/",
          "height": 181
        }
      },
      "outputs": [
        {
          "output_type": "error",
          "ename": "NameError",
          "evalue": "ignored",
          "traceback": [
            "\u001b[0;31m---------------------------------------------------------------------------\u001b[0m",
            "\u001b[0;31mNameError\u001b[0m                                 Traceback (most recent call last)",
            "\u001b[0;32m<ipython-input-51-cf54f1ee328d>\u001b[0m in \u001b[0;36m<cell line: 1>\u001b[0;34m()\u001b[0m\n\u001b[0;32m----> 1\u001b[0;31m \u001b[0mprint\u001b[0m\u001b[0;34m(\u001b[0m\u001b[0ma\u001b[0m\u001b[0;34m)\u001b[0m      \u001b[0;31m# fails\u001b[0m\u001b[0;34m\u001b[0m\u001b[0;34m\u001b[0m\u001b[0m\n\u001b[0m",
            "\u001b[0;31mNameError\u001b[0m: name 'a' is not defined"
          ]
        }
      ],
      "source": [
        "print(a)      # fails"
      ]
    },
    {
      "cell_type": "markdown",
      "metadata": {
        "id": "_qKdTaTUiYhr"
      },
      "source": [
        "**Example 2: Variable defined outside function, updated and used inside function**\n",
        "\n",
        "`fcn` uses the local version of `x`"
      ]
    },
    {
      "cell_type": "code",
      "execution_count": 52,
      "metadata": {
        "id": "M6ljfBCXiYhr",
        "outputId": "04e9583e-f1ca-40ce-b61a-ef0020062b11",
        "colab": {
          "base_uri": "https://localhost:8080/"
        }
      },
      "outputs": [
        {
          "output_type": "stream",
          "name": "stdout",
          "text": [
            "x from fcn: 20\n",
            "fcn(6): 26\n",
            "x: 10\n"
          ]
        }
      ],
      "source": [
        "x = 10\n",
        "\n",
        "def fcn(a):\n",
        "    x = 20\n",
        "    sum = x + a\n",
        "    print('x from fcn:', x)\n",
        "    return(sum)\n",
        "\n",
        "print('fcn(6):', fcn(6))\n",
        "print('x:', x)"
      ]
    },
    {
      "cell_type": "markdown",
      "metadata": {
        "id": "AIoU3FS_iYhr"
      },
      "source": [
        "**Example 3: Variable defined outside function. Inside function, print variable, update, and use**\n",
        "\n",
        "This one may be confusing. It fails!  \n",
        "\n",
        "Python treats `x` inside function as the local `x`.  \n",
        "The print() occurs before `x` is assigned, so it can't find `x`."
      ]
    },
    {
      "cell_type": "code",
      "execution_count": 53,
      "metadata": {
        "id": "CgCgPEjSiYhr",
        "outputId": "752fa7f5-1d34-4b55-fb3e-fbdc440d0c15",
        "colab": {
          "base_uri": "https://localhost:8080/",
          "height": 364
        }
      },
      "outputs": [
        {
          "output_type": "error",
          "ename": "UnboundLocalError",
          "evalue": "ignored",
          "traceback": [
            "\u001b[0;31m---------------------------------------------------------------------------\u001b[0m",
            "\u001b[0;31mUnboundLocalError\u001b[0m                         Traceback (most recent call last)",
            "\u001b[0;32m<ipython-input-53-6d1a035ef8bf>\u001b[0m in \u001b[0;36m<cell line: 10>\u001b[0;34m()\u001b[0m\n\u001b[1;32m      8\u001b[0m     \u001b[0;32mreturn\u001b[0m\u001b[0;34m(\u001b[0m\u001b[0mout\u001b[0m\u001b[0;34m)\u001b[0m\u001b[0;34m\u001b[0m\u001b[0;34m\u001b[0m\u001b[0m\n\u001b[1;32m      9\u001b[0m \u001b[0;34m\u001b[0m\u001b[0m\n\u001b[0;32m---> 10\u001b[0;31m \u001b[0mprint\u001b[0m\u001b[0;34m(\u001b[0m\u001b[0;34m'fcn(6):'\u001b[0m\u001b[0;34m,\u001b[0m \u001b[0mfcn\u001b[0m\u001b[0;34m(\u001b[0m\u001b[0;36m6\u001b[0m\u001b[0;34m)\u001b[0m\u001b[0;34m)\u001b[0m\u001b[0;34m\u001b[0m\u001b[0;34m\u001b[0m\u001b[0m\n\u001b[0m\u001b[1;32m     11\u001b[0m \u001b[0mprint\u001b[0m\u001b[0;34m(\u001b[0m\u001b[0;34m'x:'\u001b[0m\u001b[0;34m,\u001b[0m \u001b[0mx\u001b[0m\u001b[0;34m)\u001b[0m\u001b[0;34m\u001b[0m\u001b[0;34m\u001b[0m\u001b[0m\n",
            "\u001b[0;32m<ipython-input-53-6d1a035ef8bf>\u001b[0m in \u001b[0;36mfcn\u001b[0;34m(a)\u001b[0m\n\u001b[1;32m      2\u001b[0m \u001b[0;34m\u001b[0m\u001b[0m\n\u001b[1;32m      3\u001b[0m \u001b[0;32mdef\u001b[0m \u001b[0mfcn\u001b[0m\u001b[0;34m(\u001b[0m\u001b[0ma\u001b[0m\u001b[0;34m)\u001b[0m\u001b[0;34m:\u001b[0m\u001b[0;34m\u001b[0m\u001b[0;34m\u001b[0m\u001b[0m\n\u001b[0;32m----> 4\u001b[0;31m     \u001b[0mprint\u001b[0m\u001b[0;34m(\u001b[0m\u001b[0;34m'x from fcn, before update:'\u001b[0m\u001b[0;34m,\u001b[0m \u001b[0mx\u001b[0m\u001b[0;34m)\u001b[0m\u001b[0;34m\u001b[0m\u001b[0;34m\u001b[0m\u001b[0m\n\u001b[0m\u001b[1;32m      5\u001b[0m     \u001b[0mx\u001b[0m \u001b[0;34m=\u001b[0m \u001b[0;36m20\u001b[0m\u001b[0;34m\u001b[0m\u001b[0;34m\u001b[0m\u001b[0m\n\u001b[1;32m      6\u001b[0m     \u001b[0mout\u001b[0m \u001b[0;34m=\u001b[0m \u001b[0mx\u001b[0m \u001b[0;34m+\u001b[0m \u001b[0ma\u001b[0m\u001b[0;34m\u001b[0m\u001b[0;34m\u001b[0m\u001b[0m\n",
            "\u001b[0;31mUnboundLocalError\u001b[0m: local variable 'x' referenced before assignment"
          ]
        }
      ],
      "source": [
        "x = 10\n",
        "\n",
        "def fcn(a):\n",
        "    print('x from fcn, before update:', x)\n",
        "    x = 20\n",
        "    out = x + a\n",
        "    print('x from fcn, after update:', x)\n",
        "    return(out)\n",
        "\n",
        "print('fcn(6):', fcn(6))\n",
        "print('x:', x)"
      ]
    },
    {
      "cell_type": "markdown",
      "metadata": {
        "id": "ezZJ3GPIiYhr"
      },
      "source": [
        "The error can be fixed by referencing x as `global` inside function.\n",
        "\n",
        "Only necessary if we wish to reassign the variable.\n",
        "\n",
        "It is also useful when we want several functions to operate on the same variable"
      ]
    },
    {
      "cell_type": "code",
      "execution_count": 54,
      "metadata": {
        "id": "WZpWaWqSiYhr",
        "outputId": "6c385355-bcf4-4150-aded-bb43fe187fbe",
        "colab": {
          "base_uri": "https://localhost:8080/"
        }
      },
      "outputs": [
        {
          "output_type": "stream",
          "name": "stdout",
          "text": [
            "x from fcn, before update: 10\n",
            "x from fcn, after update: 20\n",
            "fcn(6): 26\n",
            "x: 20\n"
          ]
        }
      ],
      "source": [
        "x = 10\n",
        "\n",
        "def fcn(a):\n",
        "    global x    # add this to reference global x outside function\n",
        "    print('x from fcn, before update:', x)\n",
        "    x = 20\n",
        "    out = x + a\n",
        "    print('x from fcn, after update:', x)\n",
        "    return(out)\n",
        "\n",
        "print('fcn(6):', fcn(6))\n",
        "print('x:', x)"
      ]
    },
    {
      "cell_type": "markdown",
      "metadata": {
        "id": "dbhbmDuWiYhr"
      },
      "source": [
        "**TRY FOR YOURSELF (UNGRADED EXERCISES)**"
      ]
    },
    {
      "cell_type": "markdown",
      "metadata": {
        "id": "YA2Bg0NiiYhr"
      },
      "source": [
        "5) Define a function that creates and prints a variable.  \n",
        "Show that calling this variable outside the function produces an error."
      ]
    },
    {
      "cell_type": "code",
      "execution_count": null,
      "metadata": {
        "id": "7rW7htfsiYhr"
      },
      "outputs": [],
      "source": []
    },
    {
      "cell_type": "markdown",
      "metadata": {
        "id": "U5bXlKVFiYhr"
      },
      "source": [
        "##  VIII. Function Design\n",
        "\n",
        "\n",
        "Some good practices for creating and using functions:\n",
        "\n",
        "- design a function to do one thing\n",
        "\n",
        "Make them as simple as possible, which makes them:\n",
        "- more comprehensible\n",
        "- easier to maintain\n",
        "- reusable\n",
        "\n",
        "This helps avoid situations where a team has 20 variations of similar functions\n",
        "\n",
        "Give your function a good name  \n",
        "\n",
        "- it should reflect the action in performs.\n",
        "- be consistent in naming conventions\n",
        "- a name like `compute_variances_sort_save_print` suggests the function is overworked!\n",
        "- if the function `compute_variances` also produces plots and updates variables, it will cause confusion.  \n",
        "\n",
        "Always give your function a docstring\n",
        "- Particularly important since indicating data types is not required.  \n",
        "- As a side note, you can include this information by using `type annotation`.\n",
        "\n",
        "Function docstrings are stored in attribute `__doc__`; they can be shown like this:"
      ]
    },
    {
      "cell_type": "code",
      "execution_count": 55,
      "metadata": {
        "id": "0SE10DYaiYhr",
        "outputId": "157f9d7c-6c3b-4bc1-df84-83a9440a7e7f",
        "colab": {
          "base_uri": "https://localhost:8080/"
        }
      },
      "outputs": [
        {
          "output_type": "stream",
          "name": "stdout",
          "text": [
            "bool(x) -> bool\n",
            "\n",
            "Returns True when the argument x is true, False otherwise.\n",
            "The builtins True and False are the only two instances of the class bool.\n",
            "The class bool is a subclass of the class int, and cannot be subclassed.\n"
          ]
        }
      ],
      "source": [
        "print(bool.__doc__)"
      ]
    },
    {
      "cell_type": "markdown",
      "metadata": {
        "id": "yZQX-GkIiYhr"
      },
      "source": [
        "---"
      ]
    }
  ],
  "metadata": {
    "anaconda-cloud": {},
    "kernelspec": {
      "display_name": "Python 3.8.9 64-bit",
      "language": "python",
      "name": "python3"
    },
    "language_info": {
      "codemirror_mode": {
        "name": "ipython",
        "version": 3
      },
      "file_extension": ".py",
      "mimetype": "text/x-python",
      "name": "python",
      "nbconvert_exporter": "python",
      "pygments_lexer": "ipython3",
      "version": "3.9.6"
    },
    "vscode": {
      "interpreter": {
        "hash": "31f2aee4e71d21fbe5cf8b01ff0e069b9275f58929596ceb00d14d90e3e16cd6"
      }
    },
    "colab": {
      "provenance": [],
      "include_colab_link": true
    }
  },
  "nbformat": 4,
  "nbformat_minor": 0
}