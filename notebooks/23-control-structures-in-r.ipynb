{
  "nbformat": 4,
  "nbformat_minor": 0,
  "metadata": {
    "colab": {
      "provenance": [],
      "include_colab_link": true
    },
    "kernelspec": {
      "name": "ir",
      "display_name": "R"
    },
    "language_info": {
      "name": "R"
    }
  },
  "cells": [
    {
      "cell_type": "markdown",
      "metadata": {
        "id": "view-in-github",
        "colab_type": "text"
      },
      "source": [
        "<a href=\"https://colab.research.google.com/github/opark03/Notebooks/blob/main/notebooks/23-control-structures-in-r.ipynb\" target=\"_parent\"><img src=\"https://colab.research.google.com/assets/colab-badge.svg\" alt=\"Open In Colab\"/></a>"
      ]
    },
    {
      "cell_type": "markdown",
      "source": [
        "# Control Structures\n",
        "\n",
        "R code needs looping and conditionals just like Python does. Here are some examples and practice exercises for you:"
      ],
      "metadata": {
        "id": "jRNjXbUlTQPB"
      }
    },
    {
      "cell_type": "markdown",
      "source": [
        "## `if` / `else if` / `else` Condition Checking\n",
        "\n",
        "R uses a fairly similar model to Python. The `if` and `else if` controls require a logical test that results in a `TRUE`|`FALSE` and the `else` remains a catch-all that has no condition.\n",
        "\n",
        "Comparison operators are:\n",
        "\n",
        "| Operator  | Name  | Example  |\n",
        "|---|---|---|\n",
        "| `==` | Equals  | `x == y` |\n",
        "| `!=` | Not equals  | `y != x` |\n",
        "| `>`  | Greater than  | `x > y` |\n",
        "| `<`  | Less than  | `y < x` |\n",
        "| `>=` | Greater than or equal to  | `x >= y` |\n",
        "| `<=` | Less than or equal to  | `y <= x` |"
      ],
      "metadata": {
        "id": "m7votYy_Yh7f"
      }
    },
    {
      "cell_type": "code",
      "source": [
        "x <- 14\n",
        "y <- 120\n",
        "\n",
        "if (y > x) {\n",
        "  print(\"y is greater than x\")\n",
        "}"
      ],
      "metadata": {
        "id": "yPHhbOulYmBw",
        "outputId": "314071e4-ab16-4e68-fc72-bf48e87d1ee3",
        "colab": {
          "base_uri": "https://localhost:8080/"
        }
      },
      "execution_count": 1,
      "outputs": [
        {
          "output_type": "stream",
          "name": "stdout",
          "text": [
            "[1] \"y is greater than x\"\n"
          ]
        }
      ]
    },
    {
      "cell_type": "code",
      "source": [
        "x <- 33\n",
        "y <- 33\n",
        "\n",
        "if (y > x) {\n",
        "  print(\"y is greater than x\")\n",
        "} else if (x == y) {\n",
        "  print(\"x and y are equal\")\n",
        "}"
      ],
      "metadata": {
        "id": "4_MdL-xUZH5A",
        "outputId": "52aecad4-9af7-4272-ca93-ae4891630b17",
        "colab": {
          "base_uri": "https://localhost:8080/"
        }
      },
      "execution_count": 2,
      "outputs": [
        {
          "output_type": "stream",
          "name": "stdout",
          "text": [
            "[1] \"x and y are equal\"\n"
          ]
        }
      ]
    },
    {
      "cell_type": "code",
      "source": [
        "x <- 120\n",
        "y <- 44\n",
        "\n",
        "if (y > x) {\n",
        "  print(\"y is greater than x\")\n",
        "} else if (x == y) {\n",
        "  print(\"x and y are equal\")\n",
        "} else {\n",
        "  print(\"x is greater than y\")\n",
        "}"
      ],
      "metadata": {
        "id": "XDnNHcz4ZWWX",
        "outputId": "a4fd87c5-64b6-42d4-ea69-7531042a40eb",
        "colab": {
          "base_uri": "https://localhost:8080/"
        }
      },
      "execution_count": 3,
      "outputs": [
        {
          "output_type": "stream",
          "name": "stdout",
          "text": [
            "[1] \"x is greater than y\"\n"
          ]
        }
      ]
    },
    {
      "cell_type": "markdown",
      "source": [
        "The `else if` is not required. A condition check could simply have `if` and `else` stanzas."
      ],
      "metadata": {
        "id": "IKEcJ6gzZnde"
      }
    },
    {
      "cell_type": "markdown",
      "source": [
        "### Your turn\n",
        "\n",
        "Declare 3 variables populated with chars or numerics and use them in an `if` / `else if` / `else` statement."
      ],
      "metadata": {
        "id": "CTPqGTo8arwa"
      }
    },
    {
      "cell_type": "code",
      "source": [
        "x <- 20\n",
        "y <- 30\n",
        "z <- 40\n",
        "\n",
        "if (x > y) {\n",
        "  print(\"x is greater than y\")\n",
        "} else if (z > x) {\n",
        "  print(\"z is greater than x\")\n",
        "} else {\n",
        "  print(\"neither staments are true\")\n",
        "}"
      ],
      "metadata": {
        "id": "MBosjbjjas4p",
        "outputId": "04149d63-0cb0-4a8d-a9e1-2aa1cfb7e7b6",
        "colab": {
          "base_uri": "https://localhost:8080/"
        }
      },
      "execution_count": 4,
      "outputs": [
        {
          "output_type": "stream",
          "name": "stdout",
          "text": [
            "[1] \"z is greater than x\"\n"
          ]
        }
      ]
    },
    {
      "cell_type": "markdown",
      "source": [
        "## `for` Loops\n",
        "\n",
        "A for-loop can iterate up to numeric count or range (example 1), or through a series of items in a list or vector, or for a numeric range/limit against a vector. For loops of this sort are determinate, in that you can easily predict the number of cycles required to completion."
      ],
      "metadata": {
        "id": "BqwD2Nj8TS5E"
      }
    },
    {
      "cell_type": "code",
      "source": [
        "# loops 10x, counting 1-10.\n",
        "\n",
        "for(i in 1:10) {\n",
        "  print(i)\n",
        "}"
      ],
      "metadata": {
        "id": "Y60RH0l1TZFz",
        "outputId": "61e8e7f2-d982-4435-f1c2-13524b8a48da",
        "colab": {
          "base_uri": "https://localhost:8080/"
        }
      },
      "execution_count": 5,
      "outputs": [
        {
          "output_type": "stream",
          "name": "stdout",
          "text": [
            "[1] 1\n",
            "[1] 2\n",
            "[1] 3\n",
            "[1] 4\n",
            "[1] 5\n",
            "[1] 6\n",
            "[1] 7\n",
            "[1] 8\n",
            "[1] 9\n",
            "[1] 10\n"
          ]
        }
      ]
    },
    {
      "cell_type": "code",
      "source": [
        "# loops once for each item in a vector\n",
        "\n",
        "x <- c(\"a\", \"b\", \"x\", \"y\", \"z\")\n",
        "\n",
        "for(i in x) {\n",
        "  print(i)\n",
        "}"
      ],
      "metadata": {
        "id": "vUA8aXUOTeet",
        "outputId": "2bba8ef3-967a-4023-dd4e-1915738f65d9",
        "colab": {
          "base_uri": "https://localhost:8080/"
        }
      },
      "execution_count": 6,
      "outputs": [
        {
          "output_type": "stream",
          "name": "stdout",
          "text": [
            "[1] \"a\"\n",
            "[1] \"b\"\n",
            "[1] \"x\"\n",
            "[1] \"y\"\n",
            "[1] \"z\"\n"
          ]
        }
      ]
    },
    {
      "cell_type": "code",
      "source": [
        "# loops in a range of items (3x) mapped against a vector.\n",
        "# therefore loops 3x total against a, b, and x.\n",
        "\n",
        "x <- c(\"a\", \"b\", \"x\", \"y\", \"z\")\n",
        "\n",
        "for(i in 1:3) {\n",
        "  print(x[i])\n",
        "}"
      ],
      "metadata": {
        "id": "pAfeV-G2TyrQ",
        "outputId": "b70c602e-88a8-4536-c6fc-e28a2147e416",
        "colab": {
          "base_uri": "https://localhost:8080/"
        }
      },
      "execution_count": 7,
      "outputs": [
        {
          "output_type": "stream",
          "name": "stdout",
          "text": [
            "[1] \"a\"\n",
            "[1] \"b\"\n",
            "[1] \"x\"\n"
          ]
        }
      ]
    },
    {
      "cell_type": "markdown",
      "source": [
        "### Your Turn\n",
        "\n",
        "Create a for-loop that iterates 17 times. It can use any of the patterns above."
      ],
      "metadata": {
        "id": "4s_Qvods5HAo"
      }
    },
    {
      "cell_type": "code",
      "source": [
        "for (i in 1:17) {\n",
        "  print(i)\n",
        "}"
      ],
      "metadata": {
        "id": "f63-VxK35OYU",
        "outputId": "afe0381e-0f55-4c47-d509-819c2b203774",
        "colab": {
          "base_uri": "https://localhost:8080/"
        }
      },
      "execution_count": 8,
      "outputs": [
        {
          "output_type": "stream",
          "name": "stdout",
          "text": [
            "[1] 1\n",
            "[1] 2\n",
            "[1] 3\n",
            "[1] 4\n",
            "[1] 5\n",
            "[1] 6\n",
            "[1] 7\n",
            "[1] 8\n",
            "[1] 9\n",
            "[1] 10\n",
            "[1] 11\n",
            "[1] 12\n",
            "[1] 13\n",
            "[1] 14\n",
            "[1] 15\n",
            "[1] 16\n",
            "[1] 17\n"
          ]
        }
      ]
    },
    {
      "cell_type": "markdown",
      "source": [
        "## `seq_along()`\n",
        "\n",
        "Generates an integer sequence based on the length of an object."
      ],
      "metadata": {
        "id": "A57JqVZrUANj"
      }
    },
    {
      "cell_type": "code",
      "source": [
        "x <- c(\"a\", \"b\", \"x\", \"y\", \"z\")\n",
        "\n",
        "for(i in seq_along(x)) {\n",
        "  print(i)     # the integer of the vector item index\n",
        "  print(x[i])  # the actual value of the vector item\n",
        "}"
      ],
      "metadata": {
        "id": "x9SW3BhsUHPZ",
        "outputId": "2f76e3bc-6dbe-4a5e-9616-e04ed8436d88",
        "colab": {
          "base_uri": "https://localhost:8080/"
        }
      },
      "execution_count": 9,
      "outputs": [
        {
          "output_type": "stream",
          "name": "stdout",
          "text": [
            "[1] 1\n",
            "[1] \"a\"\n",
            "[1] 2\n",
            "[1] \"b\"\n",
            "[1] 3\n",
            "[1] \"x\"\n",
            "[1] 4\n",
            "[1] \"y\"\n",
            "[1] 5\n",
            "[1] \"z\"\n"
          ]
        }
      ]
    },
    {
      "cell_type": "code",
      "source": [
        "# compare to this for-loop that skips integer/indexing and simply takes each value of the vector in sequence\n",
        "\n",
        "for(letter in x) {\n",
        "  print(letter)\n",
        "}"
      ],
      "metadata": {
        "id": "vigE4HTVUTuI",
        "outputId": "3adf8ea4-6704-4696-a06f-df675fc9e631",
        "colab": {
          "base_uri": "https://localhost:8080/"
        }
      },
      "execution_count": 10,
      "outputs": [
        {
          "output_type": "stream",
          "name": "stdout",
          "text": [
            "[1] \"a\"\n",
            "[1] \"b\"\n",
            "[1] \"x\"\n",
            "[1] \"y\"\n",
            "[1] \"z\"\n"
          ]
        }
      ]
    },
    {
      "cell_type": "code",
      "source": [
        "# What about iterating across a range, but only at certain intervals?\n",
        "# Use a sequence from 1-30 but count in intervals of 3\n",
        "\n",
        "for(i in seq(1, 30, 3)) {\n",
        "  print(i)\n",
        "}"
      ],
      "metadata": {
        "id": "8fPtDNc35TTG",
        "outputId": "fd48ff7e-31e6-4027-9294-64e8c1e822d2",
        "colab": {
          "base_uri": "https://localhost:8080/"
        }
      },
      "execution_count": 11,
      "outputs": [
        {
          "output_type": "stream",
          "name": "stdout",
          "text": [
            "[1] 1\n",
            "[1] 4\n",
            "[1] 7\n",
            "[1] 10\n",
            "[1] 13\n",
            "[1] 16\n",
            "[1] 19\n",
            "[1] 22\n",
            "[1] 25\n",
            "[1] 28\n"
          ]
        }
      ]
    },
    {
      "cell_type": "markdown",
      "source": [
        "### Your turn\n",
        "\n",
        "Write your own sequential for-loop using the seq(start, stop, interval) pattern"
      ],
      "metadata": {
        "id": "dEQp8uh_bAOp"
      }
    },
    {
      "cell_type": "code",
      "source": [
        "for( i in seq(2, 50, 2)) {\n",
        "  print(i)\n",
        "}"
      ],
      "metadata": {
        "id": "eHPCEfxj559W",
        "outputId": "5cf14c40-705d-481a-fa04-0b8157c07040",
        "colab": {
          "base_uri": "https://localhost:8080/"
        }
      },
      "execution_count": 12,
      "outputs": [
        {
          "output_type": "stream",
          "name": "stdout",
          "text": [
            "[1] 2\n",
            "[1] 4\n",
            "[1] 6\n",
            "[1] 8\n",
            "[1] 10\n",
            "[1] 12\n",
            "[1] 14\n",
            "[1] 16\n",
            "[1] 18\n",
            "[1] 20\n",
            "[1] 22\n",
            "[1] 24\n",
            "[1] 26\n",
            "[1] 28\n",
            "[1] 30\n",
            "[1] 32\n",
            "[1] 34\n",
            "[1] 36\n",
            "[1] 38\n",
            "[1] 40\n",
            "[1] 42\n",
            "[1] 44\n",
            "[1] 46\n",
            "[1] 48\n",
            "[1] 50\n"
          ]
        }
      ]
    },
    {
      "cell_type": "markdown",
      "source": [
        "## `while` Loops\n",
        "\n",
        "As in Python, `while` loops in R often iterate until a condition is met after an indeterminate number of cycles. This might mean cycling through data until a particular value is found, or a particular sum is met, etc."
      ],
      "metadata": {
        "id": "lgOzJViiboPV"
      }
    },
    {
      "cell_type": "code",
      "source": [
        "count <- 0\n",
        "\n",
        "while(count < 10) {\n",
        "  print(count)\n",
        "  count <- count + 1\n",
        "}"
      ],
      "metadata": {
        "id": "lmJoOxuLbpxg",
        "outputId": "8d9ca412-c92c-4af1-8b3f-110cdb57c993",
        "colab": {
          "base_uri": "https://localhost:8080/"
        }
      },
      "execution_count": 13,
      "outputs": [
        {
          "output_type": "stream",
          "name": "stdout",
          "text": [
            "[1] 0\n",
            "[1] 1\n",
            "[1] 2\n",
            "[1] 3\n",
            "[1] 4\n",
            "[1] 5\n",
            "[1] 6\n",
            "[1] 7\n",
            "[1] 8\n",
            "[1] 9\n"
          ]
        }
      ]
    },
    {
      "cell_type": "markdown",
      "source": [
        "###  Yahtzee!\n",
        "\n",
        "A simple example of a `while` loop in action:"
      ],
      "metadata": {
        "id": "9ek-ByJ80IXo"
      }
    },
    {
      "cell_type": "code",
      "source": [
        "dice <- 1\n",
        "while (dice <= 6) {\n",
        "  if (dice < 6) {\n",
        "    print(\"No Yahtzee\")\n",
        "  } else {\n",
        "    print(\"Yahtzee!\")\n",
        "  }\n",
        "  dice <- dice + 1\n",
        "}"
      ],
      "metadata": {
        "id": "2uybDniK0O5U",
        "outputId": "0445f67b-917b-460c-96e0-ffa063c11a08",
        "colab": {
          "base_uri": "https://localhost:8080/"
        }
      },
      "execution_count": 14,
      "outputs": [
        {
          "output_type": "stream",
          "name": "stdout",
          "text": [
            "[1] \"No Yahtzee\"\n",
            "[1] \"No Yahtzee\"\n",
            "[1] \"No Yahtzee\"\n",
            "[1] \"No Yahtzee\"\n",
            "[1] \"No Yahtzee\"\n",
            "[1] \"Yahtzee!\"\n"
          ]
        }
      ]
    },
    {
      "cell_type": "markdown",
      "source": [
        "## `break` and `next`\n",
        "\n",
        "`break` - Stops the loop entirely. It \"breaks\" the loop when a condition is met.\n",
        "`next` - Skips an interation of the loop and moves on to the next step in logic."
      ],
      "metadata": {
        "id": "j8h-_W_B0hHR"
      }
    },
    {
      "cell_type": "code",
      "source": [
        "# BREAK\n",
        "\n",
        "i <- 1\n",
        "while (i < 9) {\n",
        "  print(i)\n",
        "  i <- i + 1\n",
        "  if (i == 5) {\n",
        "    print(\"I'm all done!\")\n",
        "    break\n",
        "  }\n",
        "}"
      ],
      "metadata": {
        "id": "CSLP66hf00F6",
        "outputId": "1228b2be-ffaa-495b-8c4f-fd57973d71db",
        "colab": {
          "base_uri": "https://localhost:8080/"
        }
      },
      "execution_count": 15,
      "outputs": [
        {
          "output_type": "stream",
          "name": "stdout",
          "text": [
            "[1] 1\n",
            "[1] 2\n",
            "[1] 3\n",
            "[1] 4\n",
            "[1] \"I'm all done!\"\n"
          ]
        }
      ]
    },
    {
      "cell_type": "code",
      "source": [
        "# NEXT\n",
        "\n",
        "i <- 0\n",
        "while (i < 8) {\n",
        "  i <- i + 1\n",
        "  if (i == 5) {\n",
        "    print(\"Here is where I pass\")\n",
        "    next\n",
        "  }\n",
        "  print(i)\n",
        "}"
      ],
      "metadata": {
        "id": "s462Zmrt01OE",
        "outputId": "f121d114-8ebc-4fe4-de1d-2b730526f32f",
        "colab": {
          "base_uri": "https://localhost:8080/"
        }
      },
      "execution_count": 16,
      "outputs": [
        {
          "output_type": "stream",
          "name": "stdout",
          "text": [
            "[1] 1\n",
            "[1] 2\n",
            "[1] 3\n",
            "[1] 4\n",
            "[1] \"Here is where I pass\"\n",
            "[1] 6\n",
            "[1] 7\n",
            "[1] 8\n"
          ]
        }
      ]
    },
    {
      "cell_type": "markdown",
      "source": [
        "### Your turn\n",
        "\n",
        "Write a `while` or `for` loop that includes the use of `break` and `next`."
      ],
      "metadata": {
        "id": "o9UVUekLbEV7"
      }
    },
    {
      "cell_type": "code",
      "source": [
        "i <- 0\n",
        "while(i < 10) {\n",
        "  print(i)\n",
        "  i <- i + 1\n",
        "  if (i == 5) {\n",
        "    print(\"We are halfway there!\")\n",
        "    next\n",
        "  }\n",
        "  if (i == 10) {\n",
        "    print(\"we made it!\")\n",
        "    break\n",
        "  }\n",
        "}"
      ],
      "metadata": {
        "id": "AWrQdFlAbLJh",
        "outputId": "67840b1d-7f6b-4db7-eeb9-a9b20974b841",
        "colab": {
          "base_uri": "https://localhost:8080/"
        }
      },
      "execution_count": 18,
      "outputs": [
        {
          "output_type": "stream",
          "name": "stdout",
          "text": [
            "[1] 0\n",
            "[1] 1\n",
            "[1] 2\n",
            "[1] 3\n",
            "[1] 4\n",
            "[1] \"We are halfway there!\"\n",
            "[1] 5\n",
            "[1] 6\n",
            "[1] 7\n",
            "[1] 8\n",
            "[1] 9\n",
            "[1] \"we made it!\"\n"
          ]
        }
      ]
    },
    {
      "cell_type": "markdown",
      "source": [
        "# Printing in R\n",
        "\n",
        "Bonus! There are a variety of ways to print within your R code. Here are the most common:"
      ],
      "metadata": {
        "id": "dtO9tDX711LZ"
      }
    },
    {
      "cell_type": "code",
      "source": [
        "# print a string manually:\n",
        "\n",
        "print(\"This is being printed\")"
      ],
      "metadata": {
        "id": "P-vH0P1s16Dy",
        "outputId": "745cb147-07aa-4367-91e6-57bb9c4ce14b",
        "colab": {
          "base_uri": "https://localhost:8080/"
        }
      },
      "execution_count": 19,
      "outputs": [
        {
          "output_type": "stream",
          "name": "stdout",
          "text": [
            "[1] \"This is being printed\"\n"
          ]
        }
      ]
    },
    {
      "cell_type": "code",
      "source": [
        "# print something from a variable\n",
        "\n",
        "x = \"This is being printed a different way\"\n",
        "print(x)"
      ],
      "metadata": {
        "id": "NFsPdB57160g",
        "outputId": "7ad810af-013f-4445-d062-62c8a1d2a914",
        "colab": {
          "base_uri": "https://localhost:8080/"
        }
      },
      "execution_count": 20,
      "outputs": [
        {
          "output_type": "stream",
          "name": "stdout",
          "text": [
            "[1] \"This is being printed a different way\"\n"
          ]
        }
      ]
    },
    {
      "cell_type": "code",
      "source": [
        "# concatenate things together into a vector to get printed. Keeps separate\n",
        "\n",
        "x = \"Here\"\n",
        "y = \"we\"\n",
        "z = \"go\"\n",
        "\n",
        "print(c(x, y, z))"
      ],
      "metadata": {
        "id": "G269VEA616sX",
        "outputId": "2facc57c-77fa-48a7-d6f1-e29d2c95df56",
        "colab": {
          "base_uri": "https://localhost:8080/"
        }
      },
      "execution_count": 21,
      "outputs": [
        {
          "output_type": "stream",
          "name": "stdout",
          "text": [
            "[1] \"Here\" \"we\"   \"go\"  \n"
          ]
        }
      ]
    },
    {
      "cell_type": "code",
      "source": [
        "# paste() method - replaces a variable with its value and concatenates smoothly\n",
        "\n",
        "x = \"Apples\"\n",
        "\n",
        "print(paste(x, \"are the finest fruit\"))"
      ],
      "metadata": {
        "id": "BqjI49dm16Xi",
        "outputId": "05dfa9db-b33c-4c80-f87d-44048d9b7f29",
        "colab": {
          "base_uri": "https://localhost:8080/"
        }
      },
      "execution_count": 22,
      "outputs": [
        {
          "output_type": "stream",
          "name": "stdout",
          "text": [
            "[1] \"Apples are the finest fruit\"\n"
          ]
        }
      ]
    },
    {
      "cell_type": "code",
      "source": [
        "# sprint() method - string printing. Note you should specify data type (s)tring, (f)loat, (i)nteger\n",
        "\n",
        "x = \"Bananas\"       # string\n",
        "y = 11              # integer\n",
        "z = 3.14159         # float l\n",
        "\n",
        "sprintf(\"%s are best\", x)\n",
        "sprintf(\"%i is my favorite number\", y)\n",
        "sprintf(\"%f is also known as pi\", z)"
      ],
      "metadata": {
        "id": "ALH7GVSK3ETn",
        "outputId": "67c63a47-723c-476d-f8f7-c749cc627aaf",
        "colab": {
          "base_uri": "https://localhost:8080/",
          "height": 69
        }
      },
      "execution_count": 25,
      "outputs": [
        {
          "output_type": "display_data",
          "data": {
            "text/html": [
              "'Bananas are best'"
            ],
            "text/markdown": "'Bananas are best'",
            "text/latex": "'Bananas are best'",
            "text/plain": [
              "[1] \"Bananas are best\""
            ]
          },
          "metadata": {}
        },
        {
          "output_type": "display_data",
          "data": {
            "text/html": [
              "'11 is my favorite number'"
            ],
            "text/markdown": "'11 is my favorite number'",
            "text/latex": "'11 is my favorite number'",
            "text/plain": [
              "[1] \"11 is my favorite number\""
            ]
          },
          "metadata": {}
        },
        {
          "output_type": "display_data",
          "data": {
            "text/html": [
              "'3.141590 is also known as pi'"
            ],
            "text/markdown": "'3.141590 is also known as pi'",
            "text/latex": "'3.141590 is also known as pi'",
            "text/plain": [
              "[1] \"3.141590 is also known as pi\""
            ]
          },
          "metadata": {}
        }
      ]
    },
    {
      "cell_type": "markdown",
      "source": [
        "### Your turn\n",
        "\n",
        "Create and populate two variables: One numeric and one character.\n",
        "Next, create at least three print commands that incorporate your variables alongside other printed text."
      ],
      "metadata": {
        "id": "iV1RDU5EbMlG"
      }
    },
    {
      "cell_type": "code",
      "source": [
        "x <- \"coffee\"\n",
        "y <- 9\n",
        "\n",
        "sprintf(\"I need %s when i wakeup at %i am in the morning\", x, y)"
      ],
      "metadata": {
        "id": "svSHPFyNbcE8",
        "outputId": "1a8c52e4-6244-4bd7-b780-8b09fd5508f3",
        "colab": {
          "base_uri": "https://localhost:8080/",
          "height": 34
        }
      },
      "execution_count": 26,
      "outputs": [
        {
          "output_type": "display_data",
          "data": {
            "text/html": [
              "'I need coffee when i wakeup at 9 am in the morning'"
            ],
            "text/markdown": "'I need coffee when i wakeup at 9 am in the morning'",
            "text/latex": "'I need coffee when i wakeup at 9 am in the morning'",
            "text/plain": [
              "[1] \"I need coffee when i wakeup at 9 am in the morning\""
            ]
          },
          "metadata": {}
        }
      ]
    }
  ]
}