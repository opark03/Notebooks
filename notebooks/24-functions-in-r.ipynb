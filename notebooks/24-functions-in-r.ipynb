{
  "nbformat": 4,
  "nbformat_minor": 0,
  "metadata": {
    "colab": {
      "provenance": [],
      "include_colab_link": true
    },
    "kernelspec": {
      "name": "ir",
      "display_name": "R"
    },
    "language_info": {
      "name": "R"
    }
  },
  "cells": [
    {
      "cell_type": "markdown",
      "metadata": {
        "id": "view-in-github",
        "colab_type": "text"
      },
      "source": [
        "<a href=\"https://colab.research.google.com/github/opark03/Notebooks/blob/main/notebooks/24-functions-in-r.ipynb\" target=\"_parent\"><img src=\"https://colab.research.google.com/assets/colab-badge.svg\" alt=\"Open In Colab\"/></a>"
      ]
    },
    {
      "cell_type": "markdown",
      "source": [
        "# Functions in R\n",
        "\n",
        "The syntax of a function in R is as follows:\n",
        "\n",
        "```\n",
        "1   name <- function(param1, param2) {\n",
        "2     # logic goes here\n",
        "3   }\n",
        "```\n",
        "\n",
        "- Line 1\n",
        "    - the function is assigned to a variable name\n",
        "    - the function() method is called, listing the parameters within the parentheses.\n",
        "    - the function logic is initiated with `{`\n",
        "- Line 2ff - The logic of the function\n",
        "- Line 3 - The function logic is closed with `}`\n",
        "\n",
        "Here is a simple example that takes two integers and adds them:"
      ],
      "metadata": {
        "id": "BjjdrdlnBLNp"
      }
    },
    {
      "cell_type": "code",
      "source": [
        "add_these <- function(var1, var2) {\n",
        "  sum = var1 + var2\n",
        "}"
      ],
      "metadata": {
        "id": "DN8vSxwnBz5b"
      },
      "execution_count": 1,
      "outputs": []
    },
    {
      "cell_type": "markdown",
      "source": [
        "That defines a function, expecting two variables. But it does nothing at the moment until it is called."
      ],
      "metadata": {
        "id": "Cq81N5InCMWm"
      }
    },
    {
      "cell_type": "code",
      "source": [
        "print(add_these(7,14))"
      ],
      "metadata": {
        "id": "sU9_PbveCQsV",
        "outputId": "7c72e690-f87e-4bb0-aa7b-bb2866f88985",
        "colab": {
          "base_uri": "https://localhost:8080/"
        }
      },
      "execution_count": 2,
      "outputs": [
        {
          "output_type": "stream",
          "name": "stdout",
          "text": [
            "[1] 21\n"
          ]
        }
      ]
    },
    {
      "cell_type": "markdown",
      "source": [
        "That works and produces output because the function is called within a `print()` command.\n",
        "\n",
        "But notice how, below, when two parameters exist with values, and are passed into the function in the final line, nothing prints.\n",
        "In Python we had the notion of `return` where a function is instructed in how to provide output."
      ],
      "metadata": {
        "id": "vqwnvjoyCUMA"
      }
    },
    {
      "cell_type": "code",
      "source": [
        "var1 = 8\n",
        "var2 = 16\n",
        "\n",
        "add_these <- function(var1, var2) {\n",
        "  sum = var1 + var2\n",
        "}\n",
        "\n",
        "add_these(var1, var2)"
      ],
      "metadata": {
        "id": "K2gyTPXWCHDk"
      },
      "execution_count": 3,
      "outputs": []
    },
    {
      "cell_type": "markdown",
      "source": [
        "To resolve this, use the built-in `return()` function."
      ],
      "metadata": {
        "id": "-L5c0h4fDBHR"
      }
    },
    {
      "cell_type": "code",
      "source": [
        "var1 = 8\n",
        "var2 = 16\n",
        "\n",
        "add_these <- function(var1, var2) {\n",
        "  sum = var1 + var2\n",
        "  return(sum)\n",
        "}\n",
        "\n",
        "add_these(var1, var2)"
      ],
      "metadata": {
        "id": "DzFKPe8UDFM5",
        "outputId": "b29ad679-0c80-4da0-a266-c1e4d27dbe4b",
        "colab": {
          "base_uri": "https://localhost:8080/",
          "height": 34
        }
      },
      "execution_count": 4,
      "outputs": [
        {
          "output_type": "display_data",
          "data": {
            "text/html": [
              "24"
            ],
            "text/markdown": "24",
            "text/latex": "24",
            "text/plain": [
              "[1] 24"
            ]
          },
          "metadata": {}
        }
      ]
    },
    {
      "cell_type": "markdown",
      "source": [
        "Remember that `print()` is never the same as `return()`."
      ],
      "metadata": {
        "id": "3eAnk_4aDNDc"
      }
    },
    {
      "cell_type": "markdown",
      "source": [
        "A function can still pass back a value without the `return()` function, if the value is called as part of the function logic."
      ],
      "metadata": {
        "id": "ggQufaw9Dz2J"
      }
    },
    {
      "cell_type": "code",
      "source": [
        "add_them = function(val1,val2) {\n",
        "  # perform the math\n",
        "  add = val1 + val2\n",
        "  # return the result\n",
        "  add\n",
        "}\n",
        "\n",
        "# pass values to the function\n",
        "add_them(15,25)"
      ],
      "metadata": {
        "id": "gMXXOnuPD9Bu",
        "outputId": "8a03c607-4ebd-429c-ef99-705c68dba583",
        "colab": {
          "base_uri": "https://localhost:8080/",
          "height": 34
        }
      },
      "execution_count": 5,
      "outputs": [
        {
          "output_type": "display_data",
          "data": {
            "text/html": [
              "40"
            ],
            "text/markdown": "40",
            "text/latex": "40",
            "text/plain": [
              "[1] 40"
            ]
          },
          "metadata": {}
        }
      ]
    },
    {
      "cell_type": "markdown",
      "source": [
        "Here is a more complex function that takes a value and a vector, then normalizes the value against the vector by subtracting the vector mean from value, and dividing by vector standard deviation."
      ],
      "metadata": {
        "id": "_Ggdht5pDeUa"
      }
    },
    {
      "cell_type": "code",
      "execution_count": 6,
      "metadata": {
        "id": "-Y_5GVj7BKp_",
        "outputId": "a6bfc6cd-1875-4b8a-fc80-a0367af31417",
        "colab": {
          "base_uri": "https://localhost:8080/"
        }
      },
      "outputs": [
        {
          "output_type": "stream",
          "name": "stdout",
          "text": [
            "[1] -0.4244764\n"
          ]
        }
      ],
      "source": [
        "x <- 5\n",
        "xx <- c(4, 6, 7, 8, 2, 11)\n",
        "\n",
        "compute_zscore <- function(val, vec) {\n",
        "  z <- (val - mean(vec)) / sd(vec)\n",
        "}\n",
        "\n",
        "print(compute_zscore(x, xx))"
      ]
    },
    {
      "cell_type": "markdown",
      "source": [
        "## Conditions within Functions\n",
        "\n",
        "A function returns `1` if passed value is odd, `0` if even."
      ],
      "metadata": {
        "id": "fIvNv4f8IH33"
      }
    },
    {
      "cell_type": "code",
      "source": [
        "# This uses the modulus math operator and tests for the output\n",
        "\n",
        "is_odd <- function(x){ if (x %% 2 == 1) {\n",
        "    return(1)\n",
        "  } else {\n",
        "    return(0)\n",
        "  }\n",
        "}"
      ],
      "metadata": {
        "id": "BaoVuGY7IJaV"
      },
      "execution_count": 7,
      "outputs": []
    },
    {
      "cell_type": "code",
      "source": [
        "is_odd(13)"
      ],
      "metadata": {
        "id": "pCseZAYwISeE",
        "outputId": "be307b66-295a-4597-c37f-6cf1d6db18c3",
        "colab": {
          "base_uri": "https://localhost:8080/",
          "height": 34
        }
      },
      "execution_count": 8,
      "outputs": [
        {
          "output_type": "display_data",
          "data": {
            "text/html": [
              "1"
            ],
            "text/markdown": "1",
            "text/latex": "1",
            "text/plain": [
              "[1] 1"
            ]
          },
          "metadata": {}
        }
      ]
    },
    {
      "cell_type": "markdown",
      "source": [
        "## Scoping within Functions\n",
        "\n",
        "Python had the notion of a `global` variable which can naturally be populated outside of functions, or explicitly populated as `global` within a function.\n",
        "\n",
        "Notice this in R:"
      ],
      "metadata": {
        "id": "tbTuMbw-JLw4"
      }
    },
    {
      "cell_type": "code",
      "source": [
        "z <- 4\n",
        "\n",
        "test_fcn <- function(x) {\n",
        "  x^z\n",
        "}"
      ],
      "metadata": {
        "id": "yhqDJt4VJWxs"
      },
      "execution_count": 9,
      "outputs": []
    },
    {
      "cell_type": "code",
      "source": [
        "test_fcn(2)"
      ],
      "metadata": {
        "id": "UdwstNfIJasq",
        "outputId": "d5da413a-03ca-4e84-c30c-60fc85390ee0",
        "colab": {
          "base_uri": "https://localhost:8080/",
          "height": 34
        }
      },
      "execution_count": 10,
      "outputs": [
        {
          "output_type": "display_data",
          "data": {
            "text/html": [
              "16"
            ],
            "text/markdown": "16",
            "text/latex": "16",
            "text/plain": [
              "[1] 16"
            ]
          },
          "metadata": {}
        }
      ]
    },
    {
      "cell_type": "markdown",
      "source": [
        "If `z` isn't defined in the function, how does this work?\n",
        "\n",
        "R's scoping rules are different than Python's.\n",
        "\n",
        "Since `z` isn't in the function, R looks in the function's environment for it.\n",
        "\n",
        "For more on scoping rules, see [Chapter 15: Scoping Rules of R](https://bookdown.org/rdpeng/rprogdatascience/scoping-rules-of-r.html) in Peng's *R Programming For Data Science*."
      ],
      "metadata": {
        "id": "DI_CuyBOJffK"
      }
    },
    {
      "cell_type": "markdown",
      "source": [
        "## Default Values\n",
        "\n",
        "Functions may expect argument values to be passed to it when invoked, but you can also specify a default value if the argument is not given."
      ],
      "metadata": {
        "id": "DtwTYsmzLd4a"
      }
    },
    {
      "cell_type": "code",
      "source": [
        "div_these <- function(var1, var2 = 2) {\n",
        "  newval = var1 / var2\n",
        "  newval\n",
        "}"
      ],
      "metadata": {
        "id": "lfAIRF3wLnQF"
      },
      "execution_count": 11,
      "outputs": []
    },
    {
      "cell_type": "code",
      "source": [
        "# pass in arguments as normal\n",
        "div_these(20, 5)"
      ],
      "metadata": {
        "id": "cnpYZkEAMVCq",
        "outputId": "47a1cdce-e33f-4916-d433-c126141dd4da",
        "colab": {
          "base_uri": "https://localhost:8080/",
          "height": 34
        }
      },
      "execution_count": 12,
      "outputs": [
        {
          "output_type": "display_data",
          "data": {
            "text/html": [
              "4"
            ],
            "text/markdown": "4",
            "text/latex": "4",
            "text/plain": [
              "[1] 4"
            ]
          },
          "metadata": {}
        }
      ]
    },
    {
      "cell_type": "code",
      "source": [
        "# pass in only the first argument\n",
        "div_these(10)"
      ],
      "metadata": {
        "id": "vKXOoO-MMbNr",
        "outputId": "7cf6eac1-9959-42c0-b6b4-23eb6ce140aa",
        "colab": {
          "base_uri": "https://localhost:8080/",
          "height": 34
        }
      },
      "execution_count": 13,
      "outputs": [
        {
          "output_type": "display_data",
          "data": {
            "text/html": [
              "5"
            ],
            "text/markdown": "5",
            "text/latex": "5",
            "text/plain": [
              "[1] 5"
            ]
          },
          "metadata": {}
        }
      ]
    }
  ]
}