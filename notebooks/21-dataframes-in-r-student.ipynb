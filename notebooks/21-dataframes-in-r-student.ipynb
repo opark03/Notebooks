{
  "nbformat": 4,
  "nbformat_minor": 0,
  "metadata": {
    "colab": {
      "provenance": [],
      "include_colab_link": true
    },
    "kernelspec": {
      "name": "ir",
      "display_name": "R"
    },
    "language_info": {
      "name": "R"
    }
  },
  "cells": [
    {
      "cell_type": "markdown",
      "metadata": {
        "id": "view-in-github",
        "colab_type": "text"
      },
      "source": [
        "<a href=\"https://colab.research.google.com/github/opark03/Notebooks/blob/main/notebooks/21-dataframes-in-r-student.ipynb\" target=\"_parent\"><img src=\"https://colab.research.google.com/assets/colab-badge.svg\" alt=\"Open In Colab\"/></a>"
      ]
    },
    {
      "cell_type": "markdown",
      "source": [
        "# Data Frames in R\n",
        "\n",
        "Build a data frame by hand."
      ],
      "metadata": {
        "id": "n9Hyle2zcFZx"
      }
    },
    {
      "cell_type": "code",
      "execution_count": 1,
      "metadata": {
        "id": "zZJftFYrcFIb"
      },
      "outputs": [],
      "source": [
        "album <- c(\"The Low End Theory\", \"Nevermind\", \"Port of Morrow\",\n",
        "           \"Dark Side of the Moon\", \"Naked\", \"OK Computer\",\n",
        "           \"Abbey Road\", \"Thriller\", \"Rumours\", \"The Joshua Tree\")\n",
        "year <- c(1991, 1991, 2012, 1973, 1988, 1997, 1969, 1982, 1977, 1987)\n",
        "digital <- c(FALSE, FALSE, TRUE, FALSE, TRUE, TRUE, FALSE, FALSE, FALSE, TRUE)\n",
        "\n",
        "df <- data.frame(Album = album, Year = year, Digital = digital)"
      ]
    },
    {
      "cell_type": "code",
      "source": [
        "# another way to name columns if you already have a df without titles\n",
        "\n",
        "names(df) <- c(\"Album\", \"Year\", \"Digital\")"
      ],
      "metadata": {
        "id": "fZpGFo790PHD"
      },
      "execution_count": 4,
      "outputs": []
    },
    {
      "cell_type": "code",
      "source": [
        "# Rows are called observation and columns are variables\n",
        "# display the data frame - gives shape at the top\n",
        "\n",
        "df"
      ],
      "metadata": {
        "id": "X_sJF7WYcQBs",
        "outputId": "a2e447a9-3628-4382-d542-073898540318",
        "colab": {
          "base_uri": "https://localhost:8080/",
          "height": 412
        }
      },
      "execution_count": 2,
      "outputs": [
        {
          "output_type": "display_data",
          "data": {
            "text/html": [
              "<table class=\"dataframe\">\n",
              "<caption>A data.frame: 10 × 3</caption>\n",
              "<thead>\n",
              "\t<tr><th scope=col>Album</th><th scope=col>Year</th><th scope=col>Digital</th></tr>\n",
              "\t<tr><th scope=col>&lt;chr&gt;</th><th scope=col>&lt;dbl&gt;</th><th scope=col>&lt;lgl&gt;</th></tr>\n",
              "</thead>\n",
              "<tbody>\n",
              "\t<tr><td>The Low End Theory   </td><td>1991</td><td>FALSE</td></tr>\n",
              "\t<tr><td>Nevermind            </td><td>1991</td><td>FALSE</td></tr>\n",
              "\t<tr><td>Port of Morrow       </td><td>2012</td><td> TRUE</td></tr>\n",
              "\t<tr><td>Dark Side of the Moon</td><td>1973</td><td>FALSE</td></tr>\n",
              "\t<tr><td>Naked                </td><td>1988</td><td> TRUE</td></tr>\n",
              "\t<tr><td>OK Computer          </td><td>1997</td><td> TRUE</td></tr>\n",
              "\t<tr><td>Abbey Road           </td><td>1969</td><td>FALSE</td></tr>\n",
              "\t<tr><td>Thriller             </td><td>1982</td><td>FALSE</td></tr>\n",
              "\t<tr><td>Rumours              </td><td>1977</td><td>FALSE</td></tr>\n",
              "\t<tr><td>The Joshua Tree      </td><td>1987</td><td> TRUE</td></tr>\n",
              "</tbody>\n",
              "</table>\n"
            ],
            "text/markdown": "\nA data.frame: 10 × 3\n\n| Album &lt;chr&gt; | Year &lt;dbl&gt; | Digital &lt;lgl&gt; |\n|---|---|---|\n| The Low End Theory    | 1991 | FALSE |\n| Nevermind             | 1991 | FALSE |\n| Port of Morrow        | 2012 |  TRUE |\n| Dark Side of the Moon | 1973 | FALSE |\n| Naked                 | 1988 |  TRUE |\n| OK Computer           | 1997 |  TRUE |\n| Abbey Road            | 1969 | FALSE |\n| Thriller              | 1982 | FALSE |\n| Rumours               | 1977 | FALSE |\n| The Joshua Tree       | 1987 |  TRUE |\n\n",
            "text/latex": "A data.frame: 10 × 3\n\\begin{tabular}{lll}\n Album & Year & Digital\\\\\n <chr> & <dbl> & <lgl>\\\\\n\\hline\n\t The Low End Theory    & 1991 & FALSE\\\\\n\t Nevermind             & 1991 & FALSE\\\\\n\t Port of Morrow        & 2012 &  TRUE\\\\\n\t Dark Side of the Moon & 1973 & FALSE\\\\\n\t Naked                 & 1988 &  TRUE\\\\\n\t OK Computer           & 1997 &  TRUE\\\\\n\t Abbey Road            & 1969 & FALSE\\\\\n\t Thriller              & 1982 & FALSE\\\\\n\t Rumours               & 1977 & FALSE\\\\\n\t The Joshua Tree       & 1987 &  TRUE\\\\\n\\end{tabular}\n",
            "text/plain": [
              "   Album                 Year Digital\n",
              "1  The Low End Theory    1991 FALSE  \n",
              "2  Nevermind             1991 FALSE  \n",
              "3  Port of Morrow        2012  TRUE  \n",
              "4  Dark Side of the Moon 1973 FALSE  \n",
              "5  Naked                 1988  TRUE  \n",
              "6  OK Computer           1997  TRUE  \n",
              "7  Abbey Road            1969 FALSE  \n",
              "8  Thriller              1982 FALSE  \n",
              "9  Rumours               1977 FALSE  \n",
              "10 The Joshua Tree       1987  TRUE  "
            ]
          },
          "metadata": {}
        }
      ]
    },
    {
      "cell_type": "markdown",
      "source": [
        "## Insert a Column"
      ],
      "metadata": {
        "id": "GlkoOWfzpiTp"
      }
    },
    {
      "cell_type": "code",
      "source": [
        "# call out a column as a vector\n",
        "df$Album"
      ],
      "metadata": {
        "id": "-9oMqTMOpk73",
        "outputId": "e0281d96-e3d4-442e-a283-81e782018d80",
        "colab": {
          "base_uri": "https://localhost:8080/",
          "height": 34
        }
      },
      "execution_count": 5,
      "outputs": [
        {
          "output_type": "display_data",
          "data": {
            "text/html": [
              "<style>\n",
              ".list-inline {list-style: none; margin:0; padding: 0}\n",
              ".list-inline>li {display: inline-block}\n",
              ".list-inline>li:not(:last-child)::after {content: \"\\00b7\"; padding: 0 .5ex}\n",
              "</style>\n",
              "<ol class=list-inline><li>'The Low End Theory'</li><li>'Nevermind'</li><li>'Port of Morrow'</li><li>'Dark Side of the Moon'</li><li>'Naked'</li><li>'OK Computer'</li><li>'Abbey Road'</li><li>'Thriller'</li><li>'Rumours'</li><li>'The Joshua Tree'</li></ol>\n"
            ],
            "text/markdown": "1. 'The Low End Theory'\n2. 'Nevermind'\n3. 'Port of Morrow'\n4. 'Dark Side of the Moon'\n5. 'Naked'\n6. 'OK Computer'\n7. 'Abbey Road'\n8. 'Thriller'\n9. 'Rumours'\n10. 'The Joshua Tree'\n\n\n",
            "text/latex": "\\begin{enumerate*}\n\\item 'The Low End Theory'\n\\item 'Nevermind'\n\\item 'Port of Morrow'\n\\item 'Dark Side of the Moon'\n\\item 'Naked'\n\\item 'OK Computer'\n\\item 'Abbey Road'\n\\item 'Thriller'\n\\item 'Rumours'\n\\item 'The Joshua Tree'\n\\end{enumerate*}\n",
            "text/plain": [
              " [1] \"The Low End Theory\"    \"Nevermind\"             \"Port of Morrow\"       \n",
              " [4] \"Dark Side of the Moon\" \"Naked\"                 \"OK Computer\"          \n",
              " [7] \"Abbey Road\"            \"Thriller\"              \"Rumours\"              \n",
              "[10] \"The Joshua Tree\"      "
            ]
          },
          "metadata": {}
        }
      ]
    },
    {
      "cell_type": "code",
      "source": [
        "# insert a column\n",
        "df$Artist <- c(\"A Trvibe Called Quest\", \"Nirvana\", \"The Shins\", \"Pink Floyd\", \"Talking Heads\", \"Radiohead\", \"The Beeatles\", \"Micheal Jacksons\", \"Fleetwood Mac\", \"U2\")"
      ],
      "metadata": {
        "id": "Se08C7Eg0zte"
      },
      "execution_count": 7,
      "outputs": []
    },
    {
      "cell_type": "code",
      "source": [
        "df"
      ],
      "metadata": {
        "id": "_FtqZy-p1knc",
        "outputId": "423f542b-f1a3-48ac-85cf-b22ddf8847a2",
        "colab": {
          "base_uri": "https://localhost:8080/",
          "height": 412
        }
      },
      "execution_count": 8,
      "outputs": [
        {
          "output_type": "display_data",
          "data": {
            "text/html": [
              "<table class=\"dataframe\">\n",
              "<caption>A data.frame: 10 × 4</caption>\n",
              "<thead>\n",
              "\t<tr><th scope=col>Album</th><th scope=col>Year</th><th scope=col>Digital</th><th scope=col>Artist</th></tr>\n",
              "\t<tr><th scope=col>&lt;chr&gt;</th><th scope=col>&lt;dbl&gt;</th><th scope=col>&lt;lgl&gt;</th><th scope=col>&lt;chr&gt;</th></tr>\n",
              "</thead>\n",
              "<tbody>\n",
              "\t<tr><td>The Low End Theory   </td><td>1991</td><td>FALSE</td><td>A Trvibe Called Quest</td></tr>\n",
              "\t<tr><td>Nevermind            </td><td>1991</td><td>FALSE</td><td>Nirvana              </td></tr>\n",
              "\t<tr><td>Port of Morrow       </td><td>2012</td><td> TRUE</td><td>The Shins            </td></tr>\n",
              "\t<tr><td>Dark Side of the Moon</td><td>1973</td><td>FALSE</td><td>Pink Floyd           </td></tr>\n",
              "\t<tr><td>Naked                </td><td>1988</td><td> TRUE</td><td>Talking Heads        </td></tr>\n",
              "\t<tr><td>OK Computer          </td><td>1997</td><td> TRUE</td><td>Radiohead            </td></tr>\n",
              "\t<tr><td>Abbey Road           </td><td>1969</td><td>FALSE</td><td>The Beeatles         </td></tr>\n",
              "\t<tr><td>Thriller             </td><td>1982</td><td>FALSE</td><td>Micheal Jacksons     </td></tr>\n",
              "\t<tr><td>Rumours              </td><td>1977</td><td>FALSE</td><td>Fleetwood Mac        </td></tr>\n",
              "\t<tr><td>The Joshua Tree      </td><td>1987</td><td> TRUE</td><td>U2                   </td></tr>\n",
              "</tbody>\n",
              "</table>\n"
            ],
            "text/markdown": "\nA data.frame: 10 × 4\n\n| Album &lt;chr&gt; | Year &lt;dbl&gt; | Digital &lt;lgl&gt; | Artist &lt;chr&gt; |\n|---|---|---|---|\n| The Low End Theory    | 1991 | FALSE | A Trvibe Called Quest |\n| Nevermind             | 1991 | FALSE | Nirvana               |\n| Port of Morrow        | 2012 |  TRUE | The Shins             |\n| Dark Side of the Moon | 1973 | FALSE | Pink Floyd            |\n| Naked                 | 1988 |  TRUE | Talking Heads         |\n| OK Computer           | 1997 |  TRUE | Radiohead             |\n| Abbey Road            | 1969 | FALSE | The Beeatles          |\n| Thriller              | 1982 | FALSE | Micheal Jacksons      |\n| Rumours               | 1977 | FALSE | Fleetwood Mac         |\n| The Joshua Tree       | 1987 |  TRUE | U2                    |\n\n",
            "text/latex": "A data.frame: 10 × 4\n\\begin{tabular}{llll}\n Album & Year & Digital & Artist\\\\\n <chr> & <dbl> & <lgl> & <chr>\\\\\n\\hline\n\t The Low End Theory    & 1991 & FALSE & A Trvibe Called Quest\\\\\n\t Nevermind             & 1991 & FALSE & Nirvana              \\\\\n\t Port of Morrow        & 2012 &  TRUE & The Shins            \\\\\n\t Dark Side of the Moon & 1973 & FALSE & Pink Floyd           \\\\\n\t Naked                 & 1988 &  TRUE & Talking Heads        \\\\\n\t OK Computer           & 1997 &  TRUE & Radiohead            \\\\\n\t Abbey Road            & 1969 & FALSE & The Beeatles         \\\\\n\t Thriller              & 1982 & FALSE & Micheal Jacksons     \\\\\n\t Rumours               & 1977 & FALSE & Fleetwood Mac        \\\\\n\t The Joshua Tree       & 1987 &  TRUE & U2                   \\\\\n\\end{tabular}\n",
            "text/plain": [
              "   Album                 Year Digital Artist               \n",
              "1  The Low End Theory    1991 FALSE   A Trvibe Called Quest\n",
              "2  Nevermind             1991 FALSE   Nirvana              \n",
              "3  Port of Morrow        2012  TRUE   The Shins            \n",
              "4  Dark Side of the Moon 1973 FALSE   Pink Floyd           \n",
              "5  Naked                 1988  TRUE   Talking Heads        \n",
              "6  OK Computer           1997  TRUE   Radiohead            \n",
              "7  Abbey Road            1969 FALSE   The Beeatles         \n",
              "8  Thriller              1982 FALSE   Micheal Jacksons     \n",
              "9  Rumours               1977 FALSE   Fleetwood Mac        \n",
              "10 The Joshua Tree       1987  TRUE   U2                   "
            ]
          },
          "metadata": {}
        }
      ]
    },
    {
      "cell_type": "markdown",
      "source": [
        "## Get the Structure"
      ],
      "metadata": {
        "id": "TQ4mxM8lpm69"
      }
    },
    {
      "cell_type": "code",
      "source": [
        "# To fetch the structure of a df, use str()\n",
        "\n",
        "str(df)"
      ],
      "metadata": {
        "id": "6K63ICLKpokD",
        "outputId": "1f3e5ad0-b602-4aab-eab1-3cb1674f4c6b",
        "colab": {
          "base_uri": "https://localhost:8080/"
        }
      },
      "execution_count": 9,
      "outputs": [
        {
          "output_type": "stream",
          "name": "stdout",
          "text": [
            "'data.frame':\t10 obs. of  4 variables:\n",
            " $ Album  : chr  \"The Low End Theory\" \"Nevermind\" \"Port of Morrow\" \"Dark Side of the Moon\" ...\n",
            " $ Year   : num  1991 1991 2012 1973 1988 ...\n",
            " $ Digital: logi  FALSE FALSE TRUE FALSE TRUE TRUE ...\n",
            " $ Artist : chr  \"A Trvibe Called Quest\" \"Nirvana\" \"The Shins\" \"Pink Floyd\" ...\n"
          ]
        }
      ]
    },
    {
      "cell_type": "code",
      "source": [
        "# selecting columns\n",
        "# df[ROWS, COLUMNS]\n",
        "\n",
        "df[ ,1:2]"
      ],
      "metadata": {
        "id": "BhfY5ilW2Ij2",
        "outputId": "067c563e-5a07-41bc-bebd-7ae4f44960c3",
        "colab": {
          "base_uri": "https://localhost:8080/",
          "height": 412
        }
      },
      "execution_count": 11,
      "outputs": [
        {
          "output_type": "display_data",
          "data": {
            "text/html": [
              "<table class=\"dataframe\">\n",
              "<caption>A data.frame: 10 × 2</caption>\n",
              "<thead>\n",
              "\t<tr><th scope=col>Album</th><th scope=col>Year</th></tr>\n",
              "\t<tr><th scope=col>&lt;chr&gt;</th><th scope=col>&lt;dbl&gt;</th></tr>\n",
              "</thead>\n",
              "<tbody>\n",
              "\t<tr><td>The Low End Theory   </td><td>1991</td></tr>\n",
              "\t<tr><td>Nevermind            </td><td>1991</td></tr>\n",
              "\t<tr><td>Port of Morrow       </td><td>2012</td></tr>\n",
              "\t<tr><td>Dark Side of the Moon</td><td>1973</td></tr>\n",
              "\t<tr><td>Naked                </td><td>1988</td></tr>\n",
              "\t<tr><td>OK Computer          </td><td>1997</td></tr>\n",
              "\t<tr><td>Abbey Road           </td><td>1969</td></tr>\n",
              "\t<tr><td>Thriller             </td><td>1982</td></tr>\n",
              "\t<tr><td>Rumours              </td><td>1977</td></tr>\n",
              "\t<tr><td>The Joshua Tree      </td><td>1987</td></tr>\n",
              "</tbody>\n",
              "</table>\n"
            ],
            "text/markdown": "\nA data.frame: 10 × 2\n\n| Album &lt;chr&gt; | Year &lt;dbl&gt; |\n|---|---|\n| The Low End Theory    | 1991 |\n| Nevermind             | 1991 |\n| Port of Morrow        | 2012 |\n| Dark Side of the Moon | 1973 |\n| Naked                 | 1988 |\n| OK Computer           | 1997 |\n| Abbey Road            | 1969 |\n| Thriller              | 1982 |\n| Rumours               | 1977 |\n| The Joshua Tree       | 1987 |\n\n",
            "text/latex": "A data.frame: 10 × 2\n\\begin{tabular}{ll}\n Album & Year\\\\\n <chr> & <dbl>\\\\\n\\hline\n\t The Low End Theory    & 1991\\\\\n\t Nevermind             & 1991\\\\\n\t Port of Morrow        & 2012\\\\\n\t Dark Side of the Moon & 1973\\\\\n\t Naked                 & 1988\\\\\n\t OK Computer           & 1997\\\\\n\t Abbey Road            & 1969\\\\\n\t Thriller              & 1982\\\\\n\t Rumours               & 1977\\\\\n\t The Joshua Tree       & 1987\\\\\n\\end{tabular}\n",
            "text/plain": [
              "   Album                 Year\n",
              "1  The Low End Theory    1991\n",
              "2  Nevermind             1991\n",
              "3  Port of Morrow        2012\n",
              "4  Dark Side of the Moon 1973\n",
              "5  Naked                 1988\n",
              "6  OK Computer           1997\n",
              "7  Abbey Road            1969\n",
              "8  Thriller              1982\n",
              "9  Rumours               1977\n",
              "10 The Joshua Tree       1987"
            ]
          },
          "metadata": {}
        }
      ]
    },
    {
      "cell_type": "code",
      "source": [
        "df[6,4]"
      ],
      "metadata": {
        "id": "7uczVv-j2j2e",
        "outputId": "a28f1854-2df8-41f5-dc8e-1287164fbeb9",
        "colab": {
          "base_uri": "https://localhost:8080/",
          "height": 34
        }
      },
      "execution_count": 14,
      "outputs": [
        {
          "output_type": "display_data",
          "data": {
            "text/html": [
              "'Radiohead'"
            ],
            "text/markdown": "'Radiohead'",
            "text/latex": "'Radiohead'",
            "text/plain": [
              "[1] \"Radiohead\""
            ]
          },
          "metadata": {}
        }
      ]
    },
    {
      "cell_type": "code",
      "source": [
        "df[ ,-(2:3)]"
      ],
      "metadata": {
        "id": "ZPUsiZT622p4",
        "outputId": "793eeb9d-e442-44c6-95a0-72510156e3a7",
        "colab": {
          "base_uri": "https://localhost:8080/",
          "height": 412
        }
      },
      "execution_count": 15,
      "outputs": [
        {
          "output_type": "display_data",
          "data": {
            "text/html": [
              "<table class=\"dataframe\">\n",
              "<caption>A data.frame: 10 × 2</caption>\n",
              "<thead>\n",
              "\t<tr><th scope=col>Album</th><th scope=col>Artist</th></tr>\n",
              "\t<tr><th scope=col>&lt;chr&gt;</th><th scope=col>&lt;chr&gt;</th></tr>\n",
              "</thead>\n",
              "<tbody>\n",
              "\t<tr><td>The Low End Theory   </td><td>A Trvibe Called Quest</td></tr>\n",
              "\t<tr><td>Nevermind            </td><td>Nirvana              </td></tr>\n",
              "\t<tr><td>Port of Morrow       </td><td>The Shins            </td></tr>\n",
              "\t<tr><td>Dark Side of the Moon</td><td>Pink Floyd           </td></tr>\n",
              "\t<tr><td>Naked                </td><td>Talking Heads        </td></tr>\n",
              "\t<tr><td>OK Computer          </td><td>Radiohead            </td></tr>\n",
              "\t<tr><td>Abbey Road           </td><td>The Beeatles         </td></tr>\n",
              "\t<tr><td>Thriller             </td><td>Micheal Jacksons     </td></tr>\n",
              "\t<tr><td>Rumours              </td><td>Fleetwood Mac        </td></tr>\n",
              "\t<tr><td>The Joshua Tree      </td><td>U2                   </td></tr>\n",
              "</tbody>\n",
              "</table>\n"
            ],
            "text/markdown": "\nA data.frame: 10 × 2\n\n| Album &lt;chr&gt; | Artist &lt;chr&gt; |\n|---|---|\n| The Low End Theory    | A Trvibe Called Quest |\n| Nevermind             | Nirvana               |\n| Port of Morrow        | The Shins             |\n| Dark Side of the Moon | Pink Floyd            |\n| Naked                 | Talking Heads         |\n| OK Computer           | Radiohead             |\n| Abbey Road            | The Beeatles          |\n| Thriller              | Micheal Jacksons      |\n| Rumours               | Fleetwood Mac         |\n| The Joshua Tree       | U2                    |\n\n",
            "text/latex": "A data.frame: 10 × 2\n\\begin{tabular}{ll}\n Album & Artist\\\\\n <chr> & <chr>\\\\\n\\hline\n\t The Low End Theory    & A Trvibe Called Quest\\\\\n\t Nevermind             & Nirvana              \\\\\n\t Port of Morrow        & The Shins            \\\\\n\t Dark Side of the Moon & Pink Floyd           \\\\\n\t Naked                 & Talking Heads        \\\\\n\t OK Computer           & Radiohead            \\\\\n\t Abbey Road            & The Beeatles         \\\\\n\t Thriller              & Micheal Jacksons     \\\\\n\t Rumours               & Fleetwood Mac        \\\\\n\t The Joshua Tree       & U2                   \\\\\n\\end{tabular}\n",
            "text/plain": [
              "   Album                 Artist               \n",
              "1  The Low End Theory    A Trvibe Called Quest\n",
              "2  Nevermind             Nirvana              \n",
              "3  Port of Morrow        The Shins            \n",
              "4  Dark Side of the Moon Pink Floyd           \n",
              "5  Naked                 Talking Heads        \n",
              "6  OK Computer           Radiohead            \n",
              "7  Abbey Road            The Beeatles         \n",
              "8  Thriller              Micheal Jacksons     \n",
              "9  Rumours               Fleetwood Mac        \n",
              "10 The Joshua Tree       U2                   "
            ]
          },
          "metadata": {}
        }
      ]
    },
    {
      "cell_type": "code",
      "source": [
        "df[ ,c(1,4)]"
      ],
      "metadata": {
        "id": "-9mh4QHL3U_O",
        "outputId": "615a9f80-6a88-44b5-ae71-6c4393b226c2",
        "colab": {
          "base_uri": "https://localhost:8080/",
          "height": 412
        }
      },
      "execution_count": 16,
      "outputs": [
        {
          "output_type": "display_data",
          "data": {
            "text/html": [
              "<table class=\"dataframe\">\n",
              "<caption>A data.frame: 10 × 2</caption>\n",
              "<thead>\n",
              "\t<tr><th scope=col>Album</th><th scope=col>Artist</th></tr>\n",
              "\t<tr><th scope=col>&lt;chr&gt;</th><th scope=col>&lt;chr&gt;</th></tr>\n",
              "</thead>\n",
              "<tbody>\n",
              "\t<tr><td>The Low End Theory   </td><td>A Trvibe Called Quest</td></tr>\n",
              "\t<tr><td>Nevermind            </td><td>Nirvana              </td></tr>\n",
              "\t<tr><td>Port of Morrow       </td><td>The Shins            </td></tr>\n",
              "\t<tr><td>Dark Side of the Moon</td><td>Pink Floyd           </td></tr>\n",
              "\t<tr><td>Naked                </td><td>Talking Heads        </td></tr>\n",
              "\t<tr><td>OK Computer          </td><td>Radiohead            </td></tr>\n",
              "\t<tr><td>Abbey Road           </td><td>The Beeatles         </td></tr>\n",
              "\t<tr><td>Thriller             </td><td>Micheal Jacksons     </td></tr>\n",
              "\t<tr><td>Rumours              </td><td>Fleetwood Mac        </td></tr>\n",
              "\t<tr><td>The Joshua Tree      </td><td>U2                   </td></tr>\n",
              "</tbody>\n",
              "</table>\n"
            ],
            "text/markdown": "\nA data.frame: 10 × 2\n\n| Album &lt;chr&gt; | Artist &lt;chr&gt; |\n|---|---|\n| The Low End Theory    | A Trvibe Called Quest |\n| Nevermind             | Nirvana               |\n| Port of Morrow        | The Shins             |\n| Dark Side of the Moon | Pink Floyd            |\n| Naked                 | Talking Heads         |\n| OK Computer           | Radiohead             |\n| Abbey Road            | The Beeatles          |\n| Thriller              | Micheal Jacksons      |\n| Rumours               | Fleetwood Mac         |\n| The Joshua Tree       | U2                    |\n\n",
            "text/latex": "A data.frame: 10 × 2\n\\begin{tabular}{ll}\n Album & Artist\\\\\n <chr> & <chr>\\\\\n\\hline\n\t The Low End Theory    & A Trvibe Called Quest\\\\\n\t Nevermind             & Nirvana              \\\\\n\t Port of Morrow        & The Shins            \\\\\n\t Dark Side of the Moon & Pink Floyd           \\\\\n\t Naked                 & Talking Heads        \\\\\n\t OK Computer           & Radiohead            \\\\\n\t Abbey Road            & The Beeatles         \\\\\n\t Thriller              & Micheal Jacksons     \\\\\n\t Rumours               & Fleetwood Mac        \\\\\n\t The Joshua Tree       & U2                   \\\\\n\\end{tabular}\n",
            "text/plain": [
              "   Album                 Artist               \n",
              "1  The Low End Theory    A Trvibe Called Quest\n",
              "2  Nevermind             Nirvana              \n",
              "3  Port of Morrow        The Shins            \n",
              "4  Dark Side of the Moon Pink Floyd           \n",
              "5  Naked                 Talking Heads        \n",
              "6  OK Computer           Radiohead            \n",
              "7  Abbey Road            The Beeatles         \n",
              "8  Thriller              Micheal Jacksons     \n",
              "9  Rumours               Fleetwood Mac        \n",
              "10 The Joshua Tree       U2                   "
            ]
          },
          "metadata": {}
        }
      ]
    },
    {
      "cell_type": "code",
      "source": [
        "df[1:5, ]"
      ],
      "metadata": {
        "id": "OVTvW1Pg2Vai",
        "outputId": "a4b91d11-15c7-4172-cd8e-45737d61bf01",
        "colab": {
          "base_uri": "https://localhost:8080/",
          "height": 255
        }
      },
      "execution_count": 12,
      "outputs": [
        {
          "output_type": "display_data",
          "data": {
            "text/html": [
              "<table class=\"dataframe\">\n",
              "<caption>A data.frame: 5 × 4</caption>\n",
              "<thead>\n",
              "\t<tr><th></th><th scope=col>Album</th><th scope=col>Year</th><th scope=col>Digital</th><th scope=col>Artist</th></tr>\n",
              "\t<tr><th></th><th scope=col>&lt;chr&gt;</th><th scope=col>&lt;dbl&gt;</th><th scope=col>&lt;lgl&gt;</th><th scope=col>&lt;chr&gt;</th></tr>\n",
              "</thead>\n",
              "<tbody>\n",
              "\t<tr><th scope=row>1</th><td>The Low End Theory   </td><td>1991</td><td>FALSE</td><td>A Trvibe Called Quest</td></tr>\n",
              "\t<tr><th scope=row>2</th><td>Nevermind            </td><td>1991</td><td>FALSE</td><td>Nirvana              </td></tr>\n",
              "\t<tr><th scope=row>3</th><td>Port of Morrow       </td><td>2012</td><td> TRUE</td><td>The Shins            </td></tr>\n",
              "\t<tr><th scope=row>4</th><td>Dark Side of the Moon</td><td>1973</td><td>FALSE</td><td>Pink Floyd           </td></tr>\n",
              "\t<tr><th scope=row>5</th><td>Naked                </td><td>1988</td><td> TRUE</td><td>Talking Heads        </td></tr>\n",
              "</tbody>\n",
              "</table>\n"
            ],
            "text/markdown": "\nA data.frame: 5 × 4\n\n| <!--/--> | Album &lt;chr&gt; | Year &lt;dbl&gt; | Digital &lt;lgl&gt; | Artist &lt;chr&gt; |\n|---|---|---|---|---|\n| 1 | The Low End Theory    | 1991 | FALSE | A Trvibe Called Quest |\n| 2 | Nevermind             | 1991 | FALSE | Nirvana               |\n| 3 | Port of Morrow        | 2012 |  TRUE | The Shins             |\n| 4 | Dark Side of the Moon | 1973 | FALSE | Pink Floyd            |\n| 5 | Naked                 | 1988 |  TRUE | Talking Heads         |\n\n",
            "text/latex": "A data.frame: 5 × 4\n\\begin{tabular}{r|llll}\n  & Album & Year & Digital & Artist\\\\\n  & <chr> & <dbl> & <lgl> & <chr>\\\\\n\\hline\n\t1 & The Low End Theory    & 1991 & FALSE & A Trvibe Called Quest\\\\\n\t2 & Nevermind             & 1991 & FALSE & Nirvana              \\\\\n\t3 & Port of Morrow        & 2012 &  TRUE & The Shins            \\\\\n\t4 & Dark Side of the Moon & 1973 & FALSE & Pink Floyd           \\\\\n\t5 & Naked                 & 1988 &  TRUE & Talking Heads        \\\\\n\\end{tabular}\n",
            "text/plain": [
              "  Album                 Year Digital Artist               \n",
              "1 The Low End Theory    1991 FALSE   A Trvibe Called Quest\n",
              "2 Nevermind             1991 FALSE   Nirvana              \n",
              "3 Port of Morrow        2012  TRUE   The Shins            \n",
              "4 Dark Side of the Moon 1973 FALSE   Pink Floyd           \n",
              "5 Naked                 1988  TRUE   Talking Heads        "
            ]
          },
          "metadata": {}
        }
      ]
    },
    {
      "cell_type": "markdown",
      "source": [
        "## Slicing & Filtering\n",
        "\n",
        "Remember that a data frame is simply a 2-dimensional array. Rows + Columns.\n",
        "\n",
        "The `[ ]` selector has two halves, separated by a comma: `[ <ROWS> , <COLUMNS> ]`"
      ],
      "metadata": {
        "id": "ggsLz7-bprEE"
      }
    },
    {
      "cell_type": "code",
      "source": [
        "df"
      ],
      "metadata": {
        "id": "ekzV9ct2psrO",
        "outputId": "8b8f9d56-96f4-402d-f710-82a2829a8743",
        "colab": {
          "base_uri": "https://localhost:8080/",
          "height": 412
        }
      },
      "execution_count": 17,
      "outputs": [
        {
          "output_type": "display_data",
          "data": {
            "text/html": [
              "<table class=\"dataframe\">\n",
              "<caption>A data.frame: 10 × 4</caption>\n",
              "<thead>\n",
              "\t<tr><th scope=col>Album</th><th scope=col>Year</th><th scope=col>Digital</th><th scope=col>Artist</th></tr>\n",
              "\t<tr><th scope=col>&lt;chr&gt;</th><th scope=col>&lt;dbl&gt;</th><th scope=col>&lt;lgl&gt;</th><th scope=col>&lt;chr&gt;</th></tr>\n",
              "</thead>\n",
              "<tbody>\n",
              "\t<tr><td>The Low End Theory   </td><td>1991</td><td>FALSE</td><td>A Trvibe Called Quest</td></tr>\n",
              "\t<tr><td>Nevermind            </td><td>1991</td><td>FALSE</td><td>Nirvana              </td></tr>\n",
              "\t<tr><td>Port of Morrow       </td><td>2012</td><td> TRUE</td><td>The Shins            </td></tr>\n",
              "\t<tr><td>Dark Side of the Moon</td><td>1973</td><td>FALSE</td><td>Pink Floyd           </td></tr>\n",
              "\t<tr><td>Naked                </td><td>1988</td><td> TRUE</td><td>Talking Heads        </td></tr>\n",
              "\t<tr><td>OK Computer          </td><td>1997</td><td> TRUE</td><td>Radiohead            </td></tr>\n",
              "\t<tr><td>Abbey Road           </td><td>1969</td><td>FALSE</td><td>The Beeatles         </td></tr>\n",
              "\t<tr><td>Thriller             </td><td>1982</td><td>FALSE</td><td>Micheal Jacksons     </td></tr>\n",
              "\t<tr><td>Rumours              </td><td>1977</td><td>FALSE</td><td>Fleetwood Mac        </td></tr>\n",
              "\t<tr><td>The Joshua Tree      </td><td>1987</td><td> TRUE</td><td>U2                   </td></tr>\n",
              "</tbody>\n",
              "</table>\n"
            ],
            "text/markdown": "\nA data.frame: 10 × 4\n\n| Album &lt;chr&gt; | Year &lt;dbl&gt; | Digital &lt;lgl&gt; | Artist &lt;chr&gt; |\n|---|---|---|---|\n| The Low End Theory    | 1991 | FALSE | A Trvibe Called Quest |\n| Nevermind             | 1991 | FALSE | Nirvana               |\n| Port of Morrow        | 2012 |  TRUE | The Shins             |\n| Dark Side of the Moon | 1973 | FALSE | Pink Floyd            |\n| Naked                 | 1988 |  TRUE | Talking Heads         |\n| OK Computer           | 1997 |  TRUE | Radiohead             |\n| Abbey Road            | 1969 | FALSE | The Beeatles          |\n| Thriller              | 1982 | FALSE | Micheal Jacksons      |\n| Rumours               | 1977 | FALSE | Fleetwood Mac         |\n| The Joshua Tree       | 1987 |  TRUE | U2                    |\n\n",
            "text/latex": "A data.frame: 10 × 4\n\\begin{tabular}{llll}\n Album & Year & Digital & Artist\\\\\n <chr> & <dbl> & <lgl> & <chr>\\\\\n\\hline\n\t The Low End Theory    & 1991 & FALSE & A Trvibe Called Quest\\\\\n\t Nevermind             & 1991 & FALSE & Nirvana              \\\\\n\t Port of Morrow        & 2012 &  TRUE & The Shins            \\\\\n\t Dark Side of the Moon & 1973 & FALSE & Pink Floyd           \\\\\n\t Naked                 & 1988 &  TRUE & Talking Heads        \\\\\n\t OK Computer           & 1997 &  TRUE & Radiohead            \\\\\n\t Abbey Road            & 1969 & FALSE & The Beeatles         \\\\\n\t Thriller              & 1982 & FALSE & Micheal Jacksons     \\\\\n\t Rumours               & 1977 & FALSE & Fleetwood Mac        \\\\\n\t The Joshua Tree       & 1987 &  TRUE & U2                   \\\\\n\\end{tabular}\n",
            "text/plain": [
              "   Album                 Year Digital Artist               \n",
              "1  The Low End Theory    1991 FALSE   A Trvibe Called Quest\n",
              "2  Nevermind             1991 FALSE   Nirvana              \n",
              "3  Port of Morrow        2012  TRUE   The Shins            \n",
              "4  Dark Side of the Moon 1973 FALSE   Pink Floyd           \n",
              "5  Naked                 1988  TRUE   Talking Heads        \n",
              "6  OK Computer           1997  TRUE   Radiohead            \n",
              "7  Abbey Road            1969 FALSE   The Beeatles         \n",
              "8  Thriller              1982 FALSE   Micheal Jacksons     \n",
              "9  Rumours               1977 FALSE   Fleetwood Mac        \n",
              "10 The Joshua Tree       1987  TRUE   U2                   "
            ]
          },
          "metadata": {}
        }
      ]
    },
    {
      "cell_type": "code",
      "source": [
        "# you can list in any order that you want\n",
        "# you can also specify names instead of index\n",
        "df[ ,c(4,2)]"
      ],
      "metadata": {
        "id": "lajmMc1VptgT",
        "outputId": "cdc6e2ba-2e7d-4f0e-f42d-9dda94a88b19",
        "colab": {
          "base_uri": "https://localhost:8080/",
          "height": 412
        }
      },
      "execution_count": 25,
      "outputs": [
        {
          "output_type": "display_data",
          "data": {
            "text/html": [
              "<table class=\"dataframe\">\n",
              "<caption>A data.frame: 10 × 2</caption>\n",
              "<thead>\n",
              "\t<tr><th scope=col>Artist</th><th scope=col>Year</th></tr>\n",
              "\t<tr><th scope=col>&lt;chr&gt;</th><th scope=col>&lt;dbl&gt;</th></tr>\n",
              "</thead>\n",
              "<tbody>\n",
              "\t<tr><td>A Trvibe Called Quest</td><td>1991</td></tr>\n",
              "\t<tr><td>Nirvana              </td><td>1991</td></tr>\n",
              "\t<tr><td>The Shins            </td><td>2012</td></tr>\n",
              "\t<tr><td>Pink Floyd           </td><td>1973</td></tr>\n",
              "\t<tr><td>Talking Heads        </td><td>1988</td></tr>\n",
              "\t<tr><td>Radiohead            </td><td>1997</td></tr>\n",
              "\t<tr><td>The Beeatles         </td><td>1969</td></tr>\n",
              "\t<tr><td>Micheal Jacksons     </td><td>1982</td></tr>\n",
              "\t<tr><td>Fleetwood Mac        </td><td>1977</td></tr>\n",
              "\t<tr><td>U2                   </td><td>1987</td></tr>\n",
              "</tbody>\n",
              "</table>\n"
            ],
            "text/markdown": "\nA data.frame: 10 × 2\n\n| Artist &lt;chr&gt; | Year &lt;dbl&gt; |\n|---|---|\n| A Trvibe Called Quest | 1991 |\n| Nirvana               | 1991 |\n| The Shins             | 2012 |\n| Pink Floyd            | 1973 |\n| Talking Heads         | 1988 |\n| Radiohead             | 1997 |\n| The Beeatles          | 1969 |\n| Micheal Jacksons      | 1982 |\n| Fleetwood Mac         | 1977 |\n| U2                    | 1987 |\n\n",
            "text/latex": "A data.frame: 10 × 2\n\\begin{tabular}{ll}\n Artist & Year\\\\\n <chr> & <dbl>\\\\\n\\hline\n\t A Trvibe Called Quest & 1991\\\\\n\t Nirvana               & 1991\\\\\n\t The Shins             & 2012\\\\\n\t Pink Floyd            & 1973\\\\\n\t Talking Heads         & 1988\\\\\n\t Radiohead             & 1997\\\\\n\t The Beeatles          & 1969\\\\\n\t Micheal Jacksons      & 1982\\\\\n\t Fleetwood Mac         & 1977\\\\\n\t U2                    & 1987\\\\\n\\end{tabular}\n",
            "text/plain": [
              "   Artist                Year\n",
              "1  A Trvibe Called Quest 1991\n",
              "2  Nirvana               1991\n",
              "3  The Shins             2012\n",
              "4  Pink Floyd            1973\n",
              "5  Talking Heads         1988\n",
              "6  Radiohead             1997\n",
              "7  The Beeatles          1969\n",
              "8  Micheal Jacksons      1982\n",
              "9  Fleetwood Mac         1977\n",
              "10 U2                    1987"
            ]
          },
          "metadata": {}
        }
      ]
    },
    {
      "cell_type": "code",
      "source": [
        "df[ c(1,9,4,5), c(4,2)]"
      ],
      "metadata": {
        "id": "8Li_TatiptYh",
        "outputId": "f436044c-d63d-489a-da63-5769ee9c8d2c",
        "colab": {
          "base_uri": "https://localhost:8080/",
          "height": 224
        }
      },
      "execution_count": 19,
      "outputs": [
        {
          "output_type": "display_data",
          "data": {
            "text/html": [
              "<table class=\"dataframe\">\n",
              "<caption>A data.frame: 4 × 2</caption>\n",
              "<thead>\n",
              "\t<tr><th></th><th scope=col>Artist</th><th scope=col>Year</th></tr>\n",
              "\t<tr><th></th><th scope=col>&lt;chr&gt;</th><th scope=col>&lt;dbl&gt;</th></tr>\n",
              "</thead>\n",
              "<tbody>\n",
              "\t<tr><th scope=row>1</th><td>A Trvibe Called Quest</td><td>1991</td></tr>\n",
              "\t<tr><th scope=row>9</th><td>Fleetwood Mac        </td><td>1977</td></tr>\n",
              "\t<tr><th scope=row>4</th><td>Pink Floyd           </td><td>1973</td></tr>\n",
              "\t<tr><th scope=row>5</th><td>Talking Heads        </td><td>1988</td></tr>\n",
              "</tbody>\n",
              "</table>\n"
            ],
            "text/markdown": "\nA data.frame: 4 × 2\n\n| <!--/--> | Artist &lt;chr&gt; | Year &lt;dbl&gt; |\n|---|---|---|\n| 1 | A Trvibe Called Quest | 1991 |\n| 9 | Fleetwood Mac         | 1977 |\n| 4 | Pink Floyd            | 1973 |\n| 5 | Talking Heads         | 1988 |\n\n",
            "text/latex": "A data.frame: 4 × 2\n\\begin{tabular}{r|ll}\n  & Artist & Year\\\\\n  & <chr> & <dbl>\\\\\n\\hline\n\t1 & A Trvibe Called Quest & 1991\\\\\n\t9 & Fleetwood Mac         & 1977\\\\\n\t4 & Pink Floyd            & 1973\\\\\n\t5 & Talking Heads         & 1988\\\\\n\\end{tabular}\n",
            "text/plain": [
              "  Artist                Year\n",
              "1 A Trvibe Called Quest 1991\n",
              "9 Fleetwood Mac         1977\n",
              "4 Pink Floyd            1973\n",
              "5 Talking Heads         1988"
            ]
          },
          "metadata": {}
        }
      ]
    },
    {
      "cell_type": "code",
      "source": [
        "# search data frame for specifc values\n",
        "\n",
        "df[df$Digital == FALSE,]"
      ],
      "metadata": {
        "id": "Obg94MoNptCB",
        "outputId": "a97ccfd3-a46d-4d02-ed1c-729642489306",
        "colab": {
          "base_uri": "https://localhost:8080/",
          "height": 286
        }
      },
      "execution_count": 21,
      "outputs": [
        {
          "output_type": "display_data",
          "data": {
            "text/html": [
              "<table class=\"dataframe\">\n",
              "<caption>A data.frame: 6 × 4</caption>\n",
              "<thead>\n",
              "\t<tr><th></th><th scope=col>Album</th><th scope=col>Year</th><th scope=col>Digital</th><th scope=col>Artist</th></tr>\n",
              "\t<tr><th></th><th scope=col>&lt;chr&gt;</th><th scope=col>&lt;dbl&gt;</th><th scope=col>&lt;lgl&gt;</th><th scope=col>&lt;chr&gt;</th></tr>\n",
              "</thead>\n",
              "<tbody>\n",
              "\t<tr><th scope=row>1</th><td>The Low End Theory   </td><td>1991</td><td>FALSE</td><td>A Trvibe Called Quest</td></tr>\n",
              "\t<tr><th scope=row>2</th><td>Nevermind            </td><td>1991</td><td>FALSE</td><td>Nirvana              </td></tr>\n",
              "\t<tr><th scope=row>4</th><td>Dark Side of the Moon</td><td>1973</td><td>FALSE</td><td>Pink Floyd           </td></tr>\n",
              "\t<tr><th scope=row>7</th><td>Abbey Road           </td><td>1969</td><td>FALSE</td><td>The Beeatles         </td></tr>\n",
              "\t<tr><th scope=row>8</th><td>Thriller             </td><td>1982</td><td>FALSE</td><td>Micheal Jacksons     </td></tr>\n",
              "\t<tr><th scope=row>9</th><td>Rumours              </td><td>1977</td><td>FALSE</td><td>Fleetwood Mac        </td></tr>\n",
              "</tbody>\n",
              "</table>\n"
            ],
            "text/markdown": "\nA data.frame: 6 × 4\n\n| <!--/--> | Album &lt;chr&gt; | Year &lt;dbl&gt; | Digital &lt;lgl&gt; | Artist &lt;chr&gt; |\n|---|---|---|---|---|\n| 1 | The Low End Theory    | 1991 | FALSE | A Trvibe Called Quest |\n| 2 | Nevermind             | 1991 | FALSE | Nirvana               |\n| 4 | Dark Side of the Moon | 1973 | FALSE | Pink Floyd            |\n| 7 | Abbey Road            | 1969 | FALSE | The Beeatles          |\n| 8 | Thriller              | 1982 | FALSE | Micheal Jacksons      |\n| 9 | Rumours               | 1977 | FALSE | Fleetwood Mac         |\n\n",
            "text/latex": "A data.frame: 6 × 4\n\\begin{tabular}{r|llll}\n  & Album & Year & Digital & Artist\\\\\n  & <chr> & <dbl> & <lgl> & <chr>\\\\\n\\hline\n\t1 & The Low End Theory    & 1991 & FALSE & A Trvibe Called Quest\\\\\n\t2 & Nevermind             & 1991 & FALSE & Nirvana              \\\\\n\t4 & Dark Side of the Moon & 1973 & FALSE & Pink Floyd           \\\\\n\t7 & Abbey Road            & 1969 & FALSE & The Beeatles         \\\\\n\t8 & Thriller              & 1982 & FALSE & Micheal Jacksons     \\\\\n\t9 & Rumours               & 1977 & FALSE & Fleetwood Mac        \\\\\n\\end{tabular}\n",
            "text/plain": [
              "  Album                 Year Digital Artist               \n",
              "1 The Low End Theory    1991 FALSE   A Trvibe Called Quest\n",
              "2 Nevermind             1991 FALSE   Nirvana              \n",
              "4 Dark Side of the Moon 1973 FALSE   Pink Floyd           \n",
              "7 Abbey Road            1969 FALSE   The Beeatles         \n",
              "8 Thriller              1982 FALSE   Micheal Jacksons     \n",
              "9 Rumours               1977 FALSE   Fleetwood Mac        "
            ]
          },
          "metadata": {}
        }
      ]
    },
    {
      "cell_type": "code",
      "source": [
        "df[df$Digital != FALSE , ]"
      ],
      "metadata": {
        "id": "XNwkU0R24lyj",
        "outputId": "7fc2ad42-b5bb-4bf4-a03b-b54f765bce5c",
        "colab": {
          "base_uri": "https://localhost:8080/",
          "height": 224
        }
      },
      "execution_count": 28,
      "outputs": [
        {
          "output_type": "display_data",
          "data": {
            "text/html": [
              "<table class=\"dataframe\">\n",
              "<caption>A data.frame: 4 × 4</caption>\n",
              "<thead>\n",
              "\t<tr><th></th><th scope=col>Album</th><th scope=col>Year</th><th scope=col>Digital</th><th scope=col>Artist</th></tr>\n",
              "\t<tr><th></th><th scope=col>&lt;chr&gt;</th><th scope=col>&lt;dbl&gt;</th><th scope=col>&lt;lgl&gt;</th><th scope=col>&lt;chr&gt;</th></tr>\n",
              "</thead>\n",
              "<tbody>\n",
              "\t<tr><th scope=row>3</th><td>Port of Morrow </td><td>2012</td><td>TRUE</td><td>The Shins    </td></tr>\n",
              "\t<tr><th scope=row>5</th><td>Naked          </td><td>1988</td><td>TRUE</td><td>Talking Heads</td></tr>\n",
              "\t<tr><th scope=row>6</th><td>OK Computer    </td><td>1997</td><td>TRUE</td><td>Radiohead    </td></tr>\n",
              "\t<tr><th scope=row>10</th><td>The Joshua Tree</td><td>1987</td><td>TRUE</td><td>U2           </td></tr>\n",
              "</tbody>\n",
              "</table>\n"
            ],
            "text/markdown": "\nA data.frame: 4 × 4\n\n| <!--/--> | Album &lt;chr&gt; | Year &lt;dbl&gt; | Digital &lt;lgl&gt; | Artist &lt;chr&gt; |\n|---|---|---|---|---|\n| 3 | Port of Morrow  | 2012 | TRUE | The Shins     |\n| 5 | Naked           | 1988 | TRUE | Talking Heads |\n| 6 | OK Computer     | 1997 | TRUE | Radiohead     |\n| 10 | The Joshua Tree | 1987 | TRUE | U2            |\n\n",
            "text/latex": "A data.frame: 4 × 4\n\\begin{tabular}{r|llll}\n  & Album & Year & Digital & Artist\\\\\n  & <chr> & <dbl> & <lgl> & <chr>\\\\\n\\hline\n\t3 & Port of Morrow  & 2012 & TRUE & The Shins    \\\\\n\t5 & Naked           & 1988 & TRUE & Talking Heads\\\\\n\t6 & OK Computer     & 1997 & TRUE & Radiohead    \\\\\n\t10 & The Joshua Tree & 1987 & TRUE & U2           \\\\\n\\end{tabular}\n",
            "text/plain": [
              "   Album           Year Digital Artist       \n",
              "3  Port of Morrow  2012 TRUE    The Shins    \n",
              "5  Naked           1988 TRUE    Talking Heads\n",
              "6  OK Computer     1997 TRUE    Radiohead    \n",
              "10 The Joshua Tree 1987 TRUE    U2           "
            ]
          },
          "metadata": {}
        }
      ]
    },
    {
      "cell_type": "code",
      "source": [
        "df[df$Year > 1990,]"
      ],
      "metadata": {
        "id": "25ktS2jS45mI",
        "outputId": "af9dc8ba-095e-4fcd-a514-08d7aa182017",
        "colab": {
          "base_uri": "https://localhost:8080/",
          "height": 224
        }
      },
      "execution_count": 29,
      "outputs": [
        {
          "output_type": "display_data",
          "data": {
            "text/html": [
              "<table class=\"dataframe\">\n",
              "<caption>A data.frame: 4 × 4</caption>\n",
              "<thead>\n",
              "\t<tr><th></th><th scope=col>Album</th><th scope=col>Year</th><th scope=col>Digital</th><th scope=col>Artist</th></tr>\n",
              "\t<tr><th></th><th scope=col>&lt;chr&gt;</th><th scope=col>&lt;dbl&gt;</th><th scope=col>&lt;lgl&gt;</th><th scope=col>&lt;chr&gt;</th></tr>\n",
              "</thead>\n",
              "<tbody>\n",
              "\t<tr><th scope=row>1</th><td>The Low End Theory</td><td>1991</td><td>FALSE</td><td>A Trvibe Called Quest</td></tr>\n",
              "\t<tr><th scope=row>2</th><td>Nevermind         </td><td>1991</td><td>FALSE</td><td>Nirvana              </td></tr>\n",
              "\t<tr><th scope=row>3</th><td>Port of Morrow    </td><td>2012</td><td> TRUE</td><td>The Shins            </td></tr>\n",
              "\t<tr><th scope=row>6</th><td>OK Computer       </td><td>1997</td><td> TRUE</td><td>Radiohead            </td></tr>\n",
              "</tbody>\n",
              "</table>\n"
            ],
            "text/markdown": "\nA data.frame: 4 × 4\n\n| <!--/--> | Album &lt;chr&gt; | Year &lt;dbl&gt; | Digital &lt;lgl&gt; | Artist &lt;chr&gt; |\n|---|---|---|---|---|\n| 1 | The Low End Theory | 1991 | FALSE | A Trvibe Called Quest |\n| 2 | Nevermind          | 1991 | FALSE | Nirvana               |\n| 3 | Port of Morrow     | 2012 |  TRUE | The Shins             |\n| 6 | OK Computer        | 1997 |  TRUE | Radiohead             |\n\n",
            "text/latex": "A data.frame: 4 × 4\n\\begin{tabular}{r|llll}\n  & Album & Year & Digital & Artist\\\\\n  & <chr> & <dbl> & <lgl> & <chr>\\\\\n\\hline\n\t1 & The Low End Theory & 1991 & FALSE & A Trvibe Called Quest\\\\\n\t2 & Nevermind          & 1991 & FALSE & Nirvana              \\\\\n\t3 & Port of Morrow     & 2012 &  TRUE & The Shins            \\\\\n\t6 & OK Computer        & 1997 &  TRUE & Radiohead            \\\\\n\\end{tabular}\n",
            "text/plain": [
              "  Album              Year Digital Artist               \n",
              "1 The Low End Theory 1991 FALSE   A Trvibe Called Quest\n",
              "2 Nevermind          1991 FALSE   Nirvana              \n",
              "3 Port of Morrow     2012  TRUE   The Shins            \n",
              "6 OK Computer        1997  TRUE   Radiohead            "
            ]
          },
          "metadata": {}
        }
      ]
    },
    {
      "cell_type": "code",
      "source": [
        "# use & for and , use | for or\n",
        "df[df$Year > 1990 & df$Digital == TRUE,]"
      ],
      "metadata": {
        "id": "mrPfX_jq5AM8",
        "outputId": "1aa9df59-727d-4f45-985a-49efd5ddb582",
        "colab": {
          "base_uri": "https://localhost:8080/",
          "height": 161
        }
      },
      "execution_count": 30,
      "outputs": [
        {
          "output_type": "display_data",
          "data": {
            "text/html": [
              "<table class=\"dataframe\">\n",
              "<caption>A data.frame: 2 × 4</caption>\n",
              "<thead>\n",
              "\t<tr><th></th><th scope=col>Album</th><th scope=col>Year</th><th scope=col>Digital</th><th scope=col>Artist</th></tr>\n",
              "\t<tr><th></th><th scope=col>&lt;chr&gt;</th><th scope=col>&lt;dbl&gt;</th><th scope=col>&lt;lgl&gt;</th><th scope=col>&lt;chr&gt;</th></tr>\n",
              "</thead>\n",
              "<tbody>\n",
              "\t<tr><th scope=row>3</th><td>Port of Morrow</td><td>2012</td><td>TRUE</td><td>The Shins</td></tr>\n",
              "\t<tr><th scope=row>6</th><td>OK Computer   </td><td>1997</td><td>TRUE</td><td>Radiohead</td></tr>\n",
              "</tbody>\n",
              "</table>\n"
            ],
            "text/markdown": "\nA data.frame: 2 × 4\n\n| <!--/--> | Album &lt;chr&gt; | Year &lt;dbl&gt; | Digital &lt;lgl&gt; | Artist &lt;chr&gt; |\n|---|---|---|---|---|\n| 3 | Port of Morrow | 2012 | TRUE | The Shins |\n| 6 | OK Computer    | 1997 | TRUE | Radiohead |\n\n",
            "text/latex": "A data.frame: 2 × 4\n\\begin{tabular}{r|llll}\n  & Album & Year & Digital & Artist\\\\\n  & <chr> & <dbl> & <lgl> & <chr>\\\\\n\\hline\n\t3 & Port of Morrow & 2012 & TRUE & The Shins\\\\\n\t6 & OK Computer    & 1997 & TRUE & Radiohead\\\\\n\\end{tabular}\n",
            "text/plain": [
              "  Album          Year Digital Artist   \n",
              "3 Port of Morrow 2012 TRUE    The Shins\n",
              "6 OK Computer    1997 TRUE    Radiohead"
            ]
          },
          "metadata": {}
        }
      ]
    },
    {
      "cell_type": "markdown",
      "source": [
        "## `tidyverse`"
      ],
      "metadata": {
        "id": "fALGIGm_p0Hq"
      }
    },
    {
      "cell_type": "code",
      "source": [
        "# Installing packages\n",
        "install.packages(\"tidyverse\")\n",
        "library(tidyverse)"
      ],
      "metadata": {
        "id": "Kyz85b73p2BQ",
        "outputId": "3f250fd5-7562-4db7-f3c3-ca9e5896582f",
        "colab": {
          "base_uri": "https://localhost:8080/"
        }
      },
      "execution_count": 34,
      "outputs": [
        {
          "output_type": "stream",
          "name": "stderr",
          "text": [
            "Installing package into ‘/usr/local/lib/R/site-library’\n",
            "(as ‘lib’ is unspecified)\n",
            "\n",
            "── \u001b[1mAttaching core tidyverse packages\u001b[22m ──────────────────────── tidyverse 2.0.0 ──\n",
            "\u001b[32m✔\u001b[39m \u001b[34mdplyr    \u001b[39m 1.1.3     \u001b[32m✔\u001b[39m \u001b[34mreadr    \u001b[39m 2.1.4\n",
            "\u001b[32m✔\u001b[39m \u001b[34mforcats  \u001b[39m 1.0.0     \u001b[32m✔\u001b[39m \u001b[34mstringr  \u001b[39m 1.5.0\n",
            "\u001b[32m✔\u001b[39m \u001b[34mggplot2  \u001b[39m 3.4.4     \u001b[32m✔\u001b[39m \u001b[34mtibble   \u001b[39m 3.2.1\n",
            "\u001b[32m✔\u001b[39m \u001b[34mlubridate\u001b[39m 1.9.3     \u001b[32m✔\u001b[39m \u001b[34mtidyr    \u001b[39m 1.3.0\n",
            "\u001b[32m✔\u001b[39m \u001b[34mpurrr    \u001b[39m 1.0.2     \n",
            "── \u001b[1mConflicts\u001b[22m ────────────────────────────────────────── tidyverse_conflicts() ──\n",
            "\u001b[31m✖\u001b[39m \u001b[34mdplyr\u001b[39m::\u001b[32mfilter()\u001b[39m masks \u001b[34mstats\u001b[39m::filter()\n",
            "\u001b[31m✖\u001b[39m \u001b[34mdplyr\u001b[39m::\u001b[32mlag()\u001b[39m    masks \u001b[34mstats\u001b[39m::lag()\n",
            "\u001b[36mℹ\u001b[39m Use the conflicted package (\u001b[3m\u001b[34m<http://conflicted.r-lib.org/>\u001b[39m\u001b[23m) to force all conflicts to become errors\n"
          ]
        }
      ]
    },
    {
      "cell_type": "code",
      "source": [
        "# Loading a library\n"
      ],
      "metadata": {
        "id": "ga-N-9ULrNy9"
      },
      "execution_count": null,
      "outputs": []
    },
    {
      "cell_type": "code",
      "source": [
        "# Piping\n",
        "# %>% = piping\n",
        "# select two columns and then filter by specific data points)\n",
        "df%>%\n",
        "  select(Album, Year) %>%\n",
        "  filter(Year > 1990)"
      ],
      "metadata": {
        "id": "Ydtq1VX7p-Or",
        "outputId": "ca690a3d-e81b-4dd4-cbef-1e384aef4a23",
        "colab": {
          "base_uri": "https://localhost:8080/",
          "height": 224
        }
      },
      "execution_count": 35,
      "outputs": [
        {
          "output_type": "display_data",
          "data": {
            "text/html": [
              "<table class=\"dataframe\">\n",
              "<caption>A data.frame: 4 × 2</caption>\n",
              "<thead>\n",
              "\t<tr><th scope=col>Album</th><th scope=col>Year</th></tr>\n",
              "\t<tr><th scope=col>&lt;chr&gt;</th><th scope=col>&lt;dbl&gt;</th></tr>\n",
              "</thead>\n",
              "<tbody>\n",
              "\t<tr><td>The Low End Theory</td><td>1991</td></tr>\n",
              "\t<tr><td>Nevermind         </td><td>1991</td></tr>\n",
              "\t<tr><td>Port of Morrow    </td><td>2012</td></tr>\n",
              "\t<tr><td>OK Computer       </td><td>1997</td></tr>\n",
              "</tbody>\n",
              "</table>\n"
            ],
            "text/markdown": "\nA data.frame: 4 × 2\n\n| Album &lt;chr&gt; | Year &lt;dbl&gt; |\n|---|---|\n| The Low End Theory | 1991 |\n| Nevermind          | 1991 |\n| Port of Morrow     | 2012 |\n| OK Computer        | 1997 |\n\n",
            "text/latex": "A data.frame: 4 × 2\n\\begin{tabular}{ll}\n Album & Year\\\\\n <chr> & <dbl>\\\\\n\\hline\n\t The Low End Theory & 1991\\\\\n\t Nevermind          & 1991\\\\\n\t Port of Morrow     & 2012\\\\\n\t OK Computer        & 1997\\\\\n\\end{tabular}\n",
            "text/plain": [
              "  Album              Year\n",
              "1 The Low End Theory 1991\n",
              "2 Nevermind          1991\n",
              "3 Port of Morrow     2012\n",
              "4 OK Computer        1997"
            ]
          },
          "metadata": {}
        }
      ]
    },
    {
      "cell_type": "code",
      "source": [
        "# Loading a CSV file into a data frame\n",
        "titanic <- read.csv(\"https://raw.githubusercontent.com/datasciencedojo/datasets/master/titanic.csv\")\n",
        "titanic"
      ],
      "metadata": {
        "id": "3YMU_jGGqQuL",
        "outputId": "bbc107a1-6768-4b63-af83-47e2a73c06f5",
        "colab": {
          "base_uri": "https://localhost:8080/",
          "height": 1000
        }
      },
      "execution_count": 37,
      "outputs": [
        {
          "output_type": "display_data",
          "data": {
            "text/html": [
              "<table class=\"dataframe\">\n",
              "<caption>A data.frame: 891 × 12</caption>\n",
              "<thead>\n",
              "\t<tr><th scope=col>PassengerId</th><th scope=col>Survived</th><th scope=col>Pclass</th><th scope=col>Name</th><th scope=col>Sex</th><th scope=col>Age</th><th scope=col>SibSp</th><th scope=col>Parch</th><th scope=col>Ticket</th><th scope=col>Fare</th><th scope=col>Cabin</th><th scope=col>Embarked</th></tr>\n",
              "\t<tr><th scope=col>&lt;int&gt;</th><th scope=col>&lt;int&gt;</th><th scope=col>&lt;int&gt;</th><th scope=col>&lt;chr&gt;</th><th scope=col>&lt;chr&gt;</th><th scope=col>&lt;dbl&gt;</th><th scope=col>&lt;int&gt;</th><th scope=col>&lt;int&gt;</th><th scope=col>&lt;chr&gt;</th><th scope=col>&lt;dbl&gt;</th><th scope=col>&lt;chr&gt;</th><th scope=col>&lt;chr&gt;</th></tr>\n",
              "</thead>\n",
              "<tbody>\n",
              "\t<tr><td> 1</td><td>0</td><td>3</td><td>Braund, Mr. Owen Harris                                  </td><td>male  </td><td>22</td><td>1</td><td>0</td><td>A/5 21171       </td><td>  7.2500</td><td>           </td><td>S</td></tr>\n",
              "\t<tr><td> 2</td><td>1</td><td>1</td><td>Cumings, Mrs. John Bradley (Florence Briggs Thayer)      </td><td>female</td><td>38</td><td>1</td><td>0</td><td>PC 17599        </td><td> 71.2833</td><td>C85        </td><td>C</td></tr>\n",
              "\t<tr><td> 3</td><td>1</td><td>3</td><td>Heikkinen, Miss. Laina                                   </td><td>female</td><td>26</td><td>0</td><td>0</td><td>STON/O2. 3101282</td><td>  7.9250</td><td>           </td><td>S</td></tr>\n",
              "\t<tr><td> 4</td><td>1</td><td>1</td><td>Futrelle, Mrs. Jacques Heath (Lily May Peel)             </td><td>female</td><td>35</td><td>1</td><td>0</td><td>113803          </td><td> 53.1000</td><td>C123       </td><td>S</td></tr>\n",
              "\t<tr><td> 5</td><td>0</td><td>3</td><td>Allen, Mr. William Henry                                 </td><td>male  </td><td>35</td><td>0</td><td>0</td><td>373450          </td><td>  8.0500</td><td>           </td><td>S</td></tr>\n",
              "\t<tr><td> 6</td><td>0</td><td>3</td><td>Moran, Mr. James                                         </td><td>male  </td><td>NA</td><td>0</td><td>0</td><td>330877          </td><td>  8.4583</td><td>           </td><td>Q</td></tr>\n",
              "\t<tr><td> 7</td><td>0</td><td>1</td><td>McCarthy, Mr. Timothy J                                  </td><td>male  </td><td>54</td><td>0</td><td>0</td><td>17463           </td><td> 51.8625</td><td>E46        </td><td>S</td></tr>\n",
              "\t<tr><td> 8</td><td>0</td><td>3</td><td>Palsson, Master. Gosta Leonard                           </td><td>male  </td><td> 2</td><td>3</td><td>1</td><td>349909          </td><td> 21.0750</td><td>           </td><td>S</td></tr>\n",
              "\t<tr><td> 9</td><td>1</td><td>3</td><td>Johnson, Mrs. Oscar W (Elisabeth Vilhelmina Berg)        </td><td>female</td><td>27</td><td>0</td><td>2</td><td>347742          </td><td> 11.1333</td><td>           </td><td>S</td></tr>\n",
              "\t<tr><td>10</td><td>1</td><td>2</td><td>Nasser, Mrs. Nicholas (Adele Achem)                      </td><td>female</td><td>14</td><td>1</td><td>0</td><td>237736          </td><td> 30.0708</td><td>           </td><td>C</td></tr>\n",
              "\t<tr><td>11</td><td>1</td><td>3</td><td>Sandstrom, Miss. Marguerite Rut                          </td><td>female</td><td> 4</td><td>1</td><td>1</td><td>PP 9549         </td><td> 16.7000</td><td>G6         </td><td>S</td></tr>\n",
              "\t<tr><td>12</td><td>1</td><td>1</td><td>Bonnell, Miss. Elizabeth                                 </td><td>female</td><td>58</td><td>0</td><td>0</td><td>113783          </td><td> 26.5500</td><td>C103       </td><td>S</td></tr>\n",
              "\t<tr><td>13</td><td>0</td><td>3</td><td>Saundercock, Mr. William Henry                           </td><td>male  </td><td>20</td><td>0</td><td>0</td><td>A/5. 2151       </td><td>  8.0500</td><td>           </td><td>S</td></tr>\n",
              "\t<tr><td>14</td><td>0</td><td>3</td><td>Andersson, Mr. Anders Johan                              </td><td>male  </td><td>39</td><td>1</td><td>5</td><td>347082          </td><td> 31.2750</td><td>           </td><td>S</td></tr>\n",
              "\t<tr><td>15</td><td>0</td><td>3</td><td>Vestrom, Miss. Hulda Amanda Adolfina                     </td><td>female</td><td>14</td><td>0</td><td>0</td><td>350406          </td><td>  7.8542</td><td>           </td><td>S</td></tr>\n",
              "\t<tr><td>16</td><td>1</td><td>2</td><td>Hewlett, Mrs. (Mary D Kingcome)                          </td><td>female</td><td>55</td><td>0</td><td>0</td><td>248706          </td><td> 16.0000</td><td>           </td><td>S</td></tr>\n",
              "\t<tr><td>17</td><td>0</td><td>3</td><td>Rice, Master. Eugene                                     </td><td>male  </td><td> 2</td><td>4</td><td>1</td><td>382652          </td><td> 29.1250</td><td>           </td><td>Q</td></tr>\n",
              "\t<tr><td>18</td><td>1</td><td>2</td><td>Williams, Mr. Charles Eugene                             </td><td>male  </td><td>NA</td><td>0</td><td>0</td><td>244373          </td><td> 13.0000</td><td>           </td><td>S</td></tr>\n",
              "\t<tr><td>19</td><td>0</td><td>3</td><td>Vander Planke, Mrs. Julius (Emelia Maria Vandemoortele)  </td><td>female</td><td>31</td><td>1</td><td>0</td><td>345763          </td><td> 18.0000</td><td>           </td><td>S</td></tr>\n",
              "\t<tr><td>20</td><td>1</td><td>3</td><td>Masselmani, Mrs. Fatima                                  </td><td>female</td><td>NA</td><td>0</td><td>0</td><td>2649            </td><td>  7.2250</td><td>           </td><td>C</td></tr>\n",
              "\t<tr><td>21</td><td>0</td><td>2</td><td>Fynney, Mr. Joseph J                                     </td><td>male  </td><td>35</td><td>0</td><td>0</td><td>239865          </td><td> 26.0000</td><td>           </td><td>S</td></tr>\n",
              "\t<tr><td>22</td><td>1</td><td>2</td><td>Beesley, Mr. Lawrence                                    </td><td>male  </td><td>34</td><td>0</td><td>0</td><td>248698          </td><td> 13.0000</td><td>D56        </td><td>S</td></tr>\n",
              "\t<tr><td>23</td><td>1</td><td>3</td><td>McGowan, Miss. Anna \"Annie\"                              </td><td>female</td><td>15</td><td>0</td><td>0</td><td>330923          </td><td>  8.0292</td><td>           </td><td>Q</td></tr>\n",
              "\t<tr><td>24</td><td>1</td><td>1</td><td>Sloper, Mr. William Thompson                             </td><td>male  </td><td>28</td><td>0</td><td>0</td><td>113788          </td><td> 35.5000</td><td>A6         </td><td>S</td></tr>\n",
              "\t<tr><td>25</td><td>0</td><td>3</td><td>Palsson, Miss. Torborg Danira                            </td><td>female</td><td> 8</td><td>3</td><td>1</td><td>349909          </td><td> 21.0750</td><td>           </td><td>S</td></tr>\n",
              "\t<tr><td>26</td><td>1</td><td>3</td><td>Asplund, Mrs. Carl Oscar (Selma Augusta Emilia Johansson)</td><td>female</td><td>38</td><td>1</td><td>5</td><td>347077          </td><td> 31.3875</td><td>           </td><td>S</td></tr>\n",
              "\t<tr><td>27</td><td>0</td><td>3</td><td>Emir, Mr. Farred Chehab                                  </td><td>male  </td><td>NA</td><td>0</td><td>0</td><td>2631            </td><td>  7.2250</td><td>           </td><td>C</td></tr>\n",
              "\t<tr><td>28</td><td>0</td><td>1</td><td>Fortune, Mr. Charles Alexander                           </td><td>male  </td><td>19</td><td>3</td><td>2</td><td>19950           </td><td>263.0000</td><td>C23 C25 C27</td><td>S</td></tr>\n",
              "\t<tr><td>29</td><td>1</td><td>3</td><td>O'Dwyer, Miss. Ellen \"Nellie\"                            </td><td>female</td><td>NA</td><td>0</td><td>0</td><td>330959          </td><td>  7.8792</td><td>           </td><td>Q</td></tr>\n",
              "\t<tr><td>30</td><td>0</td><td>3</td><td>Todoroff, Mr. Lalio                                      </td><td>male  </td><td>NA</td><td>0</td><td>0</td><td>349216          </td><td>  7.8958</td><td>           </td><td>S</td></tr>\n",
              "\t<tr><td>⋮</td><td>⋮</td><td>⋮</td><td>⋮</td><td>⋮</td><td>⋮</td><td>⋮</td><td>⋮</td><td>⋮</td><td>⋮</td><td>⋮</td><td>⋮</td></tr>\n",
              "\t<tr><td>862</td><td>0</td><td>2</td><td>Giles, Mr. Frederick Edward                        </td><td>male  </td><td>21</td><td>1</td><td>0</td><td>28134           </td><td>11.5000</td><td>           </td><td>S</td></tr>\n",
              "\t<tr><td>863</td><td>1</td><td>1</td><td>Swift, Mrs. Frederick Joel (Margaret Welles Barron)</td><td>female</td><td>48</td><td>0</td><td>0</td><td>17466           </td><td>25.9292</td><td>D17        </td><td>S</td></tr>\n",
              "\t<tr><td>864</td><td>0</td><td>3</td><td>Sage, Miss. Dorothy Edith \"Dolly\"                  </td><td>female</td><td>NA</td><td>8</td><td>2</td><td>CA. 2343        </td><td>69.5500</td><td>           </td><td>S</td></tr>\n",
              "\t<tr><td>865</td><td>0</td><td>2</td><td>Gill, Mr. John William                             </td><td>male  </td><td>24</td><td>0</td><td>0</td><td>233866          </td><td>13.0000</td><td>           </td><td>S</td></tr>\n",
              "\t<tr><td>866</td><td>1</td><td>2</td><td>Bystrom, Mrs. (Karolina)                           </td><td>female</td><td>42</td><td>0</td><td>0</td><td>236852          </td><td>13.0000</td><td>           </td><td>S</td></tr>\n",
              "\t<tr><td>867</td><td>1</td><td>2</td><td>Duran y More, Miss. Asuncion                       </td><td>female</td><td>27</td><td>1</td><td>0</td><td>SC/PARIS 2149   </td><td>13.8583</td><td>           </td><td>C</td></tr>\n",
              "\t<tr><td>868</td><td>0</td><td>1</td><td>Roebling, Mr. Washington Augustus II               </td><td>male  </td><td>31</td><td>0</td><td>0</td><td>PC 17590        </td><td>50.4958</td><td>A24        </td><td>S</td></tr>\n",
              "\t<tr><td>869</td><td>0</td><td>3</td><td>van Melkebeke, Mr. Philemon                        </td><td>male  </td><td>NA</td><td>0</td><td>0</td><td>345777          </td><td> 9.5000</td><td>           </td><td>S</td></tr>\n",
              "\t<tr><td>870</td><td>1</td><td>3</td><td>Johnson, Master. Harold Theodor                    </td><td>male  </td><td> 4</td><td>1</td><td>1</td><td>347742          </td><td>11.1333</td><td>           </td><td>S</td></tr>\n",
              "\t<tr><td>871</td><td>0</td><td>3</td><td>Balkic, Mr. Cerin                                  </td><td>male  </td><td>26</td><td>0</td><td>0</td><td>349248          </td><td> 7.8958</td><td>           </td><td>S</td></tr>\n",
              "\t<tr><td>872</td><td>1</td><td>1</td><td>Beckwith, Mrs. Richard Leonard (Sallie Monypeny)   </td><td>female</td><td>47</td><td>1</td><td>1</td><td>11751           </td><td>52.5542</td><td>D35        </td><td>S</td></tr>\n",
              "\t<tr><td>873</td><td>0</td><td>1</td><td>Carlsson, Mr. Frans Olof                           </td><td>male  </td><td>33</td><td>0</td><td>0</td><td>695             </td><td> 5.0000</td><td>B51 B53 B55</td><td>S</td></tr>\n",
              "\t<tr><td>874</td><td>0</td><td>3</td><td>Vander Cruyssen, Mr. Victor                        </td><td>male  </td><td>47</td><td>0</td><td>0</td><td>345765          </td><td> 9.0000</td><td>           </td><td>S</td></tr>\n",
              "\t<tr><td>875</td><td>1</td><td>2</td><td>Abelson, Mrs. Samuel (Hannah Wizosky)              </td><td>female</td><td>28</td><td>1</td><td>0</td><td>P/PP 3381       </td><td>24.0000</td><td>           </td><td>C</td></tr>\n",
              "\t<tr><td>876</td><td>1</td><td>3</td><td>Najib, Miss. Adele Kiamie \"Jane\"                   </td><td>female</td><td>15</td><td>0</td><td>0</td><td>2667            </td><td> 7.2250</td><td>           </td><td>C</td></tr>\n",
              "\t<tr><td>877</td><td>0</td><td>3</td><td>Gustafsson, Mr. Alfred Ossian                      </td><td>male  </td><td>20</td><td>0</td><td>0</td><td>7534            </td><td> 9.8458</td><td>           </td><td>S</td></tr>\n",
              "\t<tr><td>878</td><td>0</td><td>3</td><td>Petroff, Mr. Nedelio                               </td><td>male  </td><td>19</td><td>0</td><td>0</td><td>349212          </td><td> 7.8958</td><td>           </td><td>S</td></tr>\n",
              "\t<tr><td>879</td><td>0</td><td>3</td><td>Laleff, Mr. Kristo                                 </td><td>male  </td><td>NA</td><td>0</td><td>0</td><td>349217          </td><td> 7.8958</td><td>           </td><td>S</td></tr>\n",
              "\t<tr><td>880</td><td>1</td><td>1</td><td>Potter, Mrs. Thomas Jr (Lily Alexenia Wilson)      </td><td>female</td><td>56</td><td>0</td><td>1</td><td>11767           </td><td>83.1583</td><td>C50        </td><td>C</td></tr>\n",
              "\t<tr><td>881</td><td>1</td><td>2</td><td>Shelley, Mrs. William (Imanita Parrish Hall)       </td><td>female</td><td>25</td><td>0</td><td>1</td><td>230433          </td><td>26.0000</td><td>           </td><td>S</td></tr>\n",
              "\t<tr><td>882</td><td>0</td><td>3</td><td>Markun, Mr. Johann                                 </td><td>male  </td><td>33</td><td>0</td><td>0</td><td>349257          </td><td> 7.8958</td><td>           </td><td>S</td></tr>\n",
              "\t<tr><td>883</td><td>0</td><td>3</td><td>Dahlberg, Miss. Gerda Ulrika                       </td><td>female</td><td>22</td><td>0</td><td>0</td><td>7552            </td><td>10.5167</td><td>           </td><td>S</td></tr>\n",
              "\t<tr><td>884</td><td>0</td><td>2</td><td>Banfield, Mr. Frederick James                      </td><td>male  </td><td>28</td><td>0</td><td>0</td><td>C.A./SOTON 34068</td><td>10.5000</td><td>           </td><td>S</td></tr>\n",
              "\t<tr><td>885</td><td>0</td><td>3</td><td>Sutehall, Mr. Henry Jr                             </td><td>male  </td><td>25</td><td>0</td><td>0</td><td>SOTON/OQ 392076 </td><td> 7.0500</td><td>           </td><td>S</td></tr>\n",
              "\t<tr><td>886</td><td>0</td><td>3</td><td>Rice, Mrs. William (Margaret Norton)               </td><td>female</td><td>39</td><td>0</td><td>5</td><td>382652          </td><td>29.1250</td><td>           </td><td>Q</td></tr>\n",
              "\t<tr><td>887</td><td>0</td><td>2</td><td>Montvila, Rev. Juozas                              </td><td>male  </td><td>27</td><td>0</td><td>0</td><td>211536          </td><td>13.0000</td><td>           </td><td>S</td></tr>\n",
              "\t<tr><td>888</td><td>1</td><td>1</td><td>Graham, Miss. Margaret Edith                       </td><td>female</td><td>19</td><td>0</td><td>0</td><td>112053          </td><td>30.0000</td><td>B42        </td><td>S</td></tr>\n",
              "\t<tr><td>889</td><td>0</td><td>3</td><td>Johnston, Miss. Catherine Helen \"Carrie\"           </td><td>female</td><td>NA</td><td>1</td><td>2</td><td>W./C. 6607      </td><td>23.4500</td><td>           </td><td>S</td></tr>\n",
              "\t<tr><td>890</td><td>1</td><td>1</td><td>Behr, Mr. Karl Howell                              </td><td>male  </td><td>26</td><td>0</td><td>0</td><td>111369          </td><td>30.0000</td><td>C148       </td><td>C</td></tr>\n",
              "\t<tr><td>891</td><td>0</td><td>3</td><td>Dooley, Mr. Patrick                                </td><td>male  </td><td>32</td><td>0</td><td>0</td><td>370376          </td><td> 7.7500</td><td>           </td><td>Q</td></tr>\n",
              "</tbody>\n",
              "</table>\n"
            ],
            "text/markdown": "\nA data.frame: 891 × 12\n\n| PassengerId &lt;int&gt; | Survived &lt;int&gt; | Pclass &lt;int&gt; | Name &lt;chr&gt; | Sex &lt;chr&gt; | Age &lt;dbl&gt; | SibSp &lt;int&gt; | Parch &lt;int&gt; | Ticket &lt;chr&gt; | Fare &lt;dbl&gt; | Cabin &lt;chr&gt; | Embarked &lt;chr&gt; |\n|---|---|---|---|---|---|---|---|---|---|---|---|\n|  1 | 0 | 3 | Braund, Mr. Owen Harris                                   | male   | 22 | 1 | 0 | A/5 21171        |   7.2500 | <!----> | S |\n|  2 | 1 | 1 | Cumings, Mrs. John Bradley (Florence Briggs Thayer)       | female | 38 | 1 | 0 | PC 17599         |  71.2833 | C85         | C |\n|  3 | 1 | 3 | Heikkinen, Miss. Laina                                    | female | 26 | 0 | 0 | STON/O2. 3101282 |   7.9250 | <!----> | S |\n|  4 | 1 | 1 | Futrelle, Mrs. Jacques Heath (Lily May Peel)              | female | 35 | 1 | 0 | 113803           |  53.1000 | C123        | S |\n|  5 | 0 | 3 | Allen, Mr. William Henry                                  | male   | 35 | 0 | 0 | 373450           |   8.0500 | <!----> | S |\n|  6 | 0 | 3 | Moran, Mr. James                                          | male   | NA | 0 | 0 | 330877           |   8.4583 | <!----> | Q |\n|  7 | 0 | 1 | McCarthy, Mr. Timothy J                                   | male   | 54 | 0 | 0 | 17463            |  51.8625 | E46         | S |\n|  8 | 0 | 3 | Palsson, Master. Gosta Leonard                            | male   |  2 | 3 | 1 | 349909           |  21.0750 | <!----> | S |\n|  9 | 1 | 3 | Johnson, Mrs. Oscar W (Elisabeth Vilhelmina Berg)         | female | 27 | 0 | 2 | 347742           |  11.1333 | <!----> | S |\n| 10 | 1 | 2 | Nasser, Mrs. Nicholas (Adele Achem)                       | female | 14 | 1 | 0 | 237736           |  30.0708 | <!----> | C |\n| 11 | 1 | 3 | Sandstrom, Miss. Marguerite Rut                           | female |  4 | 1 | 1 | PP 9549          |  16.7000 | G6          | S |\n| 12 | 1 | 1 | Bonnell, Miss. Elizabeth                                  | female | 58 | 0 | 0 | 113783           |  26.5500 | C103        | S |\n| 13 | 0 | 3 | Saundercock, Mr. William Henry                            | male   | 20 | 0 | 0 | A/5. 2151        |   8.0500 | <!----> | S |\n| 14 | 0 | 3 | Andersson, Mr. Anders Johan                               | male   | 39 | 1 | 5 | 347082           |  31.2750 | <!----> | S |\n| 15 | 0 | 3 | Vestrom, Miss. Hulda Amanda Adolfina                      | female | 14 | 0 | 0 | 350406           |   7.8542 | <!----> | S |\n| 16 | 1 | 2 | Hewlett, Mrs. (Mary D Kingcome)                           | female | 55 | 0 | 0 | 248706           |  16.0000 | <!----> | S |\n| 17 | 0 | 3 | Rice, Master. Eugene                                      | male   |  2 | 4 | 1 | 382652           |  29.1250 | <!----> | Q |\n| 18 | 1 | 2 | Williams, Mr. Charles Eugene                              | male   | NA | 0 | 0 | 244373           |  13.0000 | <!----> | S |\n| 19 | 0 | 3 | Vander Planke, Mrs. Julius (Emelia Maria Vandemoortele)   | female | 31 | 1 | 0 | 345763           |  18.0000 | <!----> | S |\n| 20 | 1 | 3 | Masselmani, Mrs. Fatima                                   | female | NA | 0 | 0 | 2649             |   7.2250 | <!----> | C |\n| 21 | 0 | 2 | Fynney, Mr. Joseph J                                      | male   | 35 | 0 | 0 | 239865           |  26.0000 | <!----> | S |\n| 22 | 1 | 2 | Beesley, Mr. Lawrence                                     | male   | 34 | 0 | 0 | 248698           |  13.0000 | D56         | S |\n| 23 | 1 | 3 | McGowan, Miss. Anna \"Annie\"                               | female | 15 | 0 | 0 | 330923           |   8.0292 | <!----> | Q |\n| 24 | 1 | 1 | Sloper, Mr. William Thompson                              | male   | 28 | 0 | 0 | 113788           |  35.5000 | A6          | S |\n| 25 | 0 | 3 | Palsson, Miss. Torborg Danira                             | female |  8 | 3 | 1 | 349909           |  21.0750 | <!----> | S |\n| 26 | 1 | 3 | Asplund, Mrs. Carl Oscar (Selma Augusta Emilia Johansson) | female | 38 | 1 | 5 | 347077           |  31.3875 | <!----> | S |\n| 27 | 0 | 3 | Emir, Mr. Farred Chehab                                   | male   | NA | 0 | 0 | 2631             |   7.2250 | <!----> | C |\n| 28 | 0 | 1 | Fortune, Mr. Charles Alexander                            | male   | 19 | 3 | 2 | 19950            | 263.0000 | C23 C25 C27 | S |\n| 29 | 1 | 3 | O'Dwyer, Miss. Ellen \"Nellie\"                             | female | NA | 0 | 0 | 330959           |   7.8792 | <!----> | Q |\n| 30 | 0 | 3 | Todoroff, Mr. Lalio                                       | male   | NA | 0 | 0 | 349216           |   7.8958 | <!----> | S |\n| ⋮ | ⋮ | ⋮ | ⋮ | ⋮ | ⋮ | ⋮ | ⋮ | ⋮ | ⋮ | ⋮ | ⋮ |\n| 862 | 0 | 2 | Giles, Mr. Frederick Edward                         | male   | 21 | 1 | 0 | 28134            | 11.5000 | <!----> | S |\n| 863 | 1 | 1 | Swift, Mrs. Frederick Joel (Margaret Welles Barron) | female | 48 | 0 | 0 | 17466            | 25.9292 | D17         | S |\n| 864 | 0 | 3 | Sage, Miss. Dorothy Edith \"Dolly\"                   | female | NA | 8 | 2 | CA. 2343         | 69.5500 | <!----> | S |\n| 865 | 0 | 2 | Gill, Mr. John William                              | male   | 24 | 0 | 0 | 233866           | 13.0000 | <!----> | S |\n| 866 | 1 | 2 | Bystrom, Mrs. (Karolina)                            | female | 42 | 0 | 0 | 236852           | 13.0000 | <!----> | S |\n| 867 | 1 | 2 | Duran y More, Miss. Asuncion                        | female | 27 | 1 | 0 | SC/PARIS 2149    | 13.8583 | <!----> | C |\n| 868 | 0 | 1 | Roebling, Mr. Washington Augustus II                | male   | 31 | 0 | 0 | PC 17590         | 50.4958 | A24         | S |\n| 869 | 0 | 3 | van Melkebeke, Mr. Philemon                         | male   | NA | 0 | 0 | 345777           |  9.5000 | <!----> | S |\n| 870 | 1 | 3 | Johnson, Master. Harold Theodor                     | male   |  4 | 1 | 1 | 347742           | 11.1333 | <!----> | S |\n| 871 | 0 | 3 | Balkic, Mr. Cerin                                   | male   | 26 | 0 | 0 | 349248           |  7.8958 | <!----> | S |\n| 872 | 1 | 1 | Beckwith, Mrs. Richard Leonard (Sallie Monypeny)    | female | 47 | 1 | 1 | 11751            | 52.5542 | D35         | S |\n| 873 | 0 | 1 | Carlsson, Mr. Frans Olof                            | male   | 33 | 0 | 0 | 695              |  5.0000 | B51 B53 B55 | S |\n| 874 | 0 | 3 | Vander Cruyssen, Mr. Victor                         | male   | 47 | 0 | 0 | 345765           |  9.0000 | <!----> | S |\n| 875 | 1 | 2 | Abelson, Mrs. Samuel (Hannah Wizosky)               | female | 28 | 1 | 0 | P/PP 3381        | 24.0000 | <!----> | C |\n| 876 | 1 | 3 | Najib, Miss. Adele Kiamie \"Jane\"                    | female | 15 | 0 | 0 | 2667             |  7.2250 | <!----> | C |\n| 877 | 0 | 3 | Gustafsson, Mr. Alfred Ossian                       | male   | 20 | 0 | 0 | 7534             |  9.8458 | <!----> | S |\n| 878 | 0 | 3 | Petroff, Mr. Nedelio                                | male   | 19 | 0 | 0 | 349212           |  7.8958 | <!----> | S |\n| 879 | 0 | 3 | Laleff, Mr. Kristo                                  | male   | NA | 0 | 0 | 349217           |  7.8958 | <!----> | S |\n| 880 | 1 | 1 | Potter, Mrs. Thomas Jr (Lily Alexenia Wilson)       | female | 56 | 0 | 1 | 11767            | 83.1583 | C50         | C |\n| 881 | 1 | 2 | Shelley, Mrs. William (Imanita Parrish Hall)        | female | 25 | 0 | 1 | 230433           | 26.0000 | <!----> | S |\n| 882 | 0 | 3 | Markun, Mr. Johann                                  | male   | 33 | 0 | 0 | 349257           |  7.8958 | <!----> | S |\n| 883 | 0 | 3 | Dahlberg, Miss. Gerda Ulrika                        | female | 22 | 0 | 0 | 7552             | 10.5167 | <!----> | S |\n| 884 | 0 | 2 | Banfield, Mr. Frederick James                       | male   | 28 | 0 | 0 | C.A./SOTON 34068 | 10.5000 | <!----> | S |\n| 885 | 0 | 3 | Sutehall, Mr. Henry Jr                              | male   | 25 | 0 | 0 | SOTON/OQ 392076  |  7.0500 | <!----> | S |\n| 886 | 0 | 3 | Rice, Mrs. William (Margaret Norton)                | female | 39 | 0 | 5 | 382652           | 29.1250 | <!----> | Q |\n| 887 | 0 | 2 | Montvila, Rev. Juozas                               | male   | 27 | 0 | 0 | 211536           | 13.0000 | <!----> | S |\n| 888 | 1 | 1 | Graham, Miss. Margaret Edith                        | female | 19 | 0 | 0 | 112053           | 30.0000 | B42         | S |\n| 889 | 0 | 3 | Johnston, Miss. Catherine Helen \"Carrie\"            | female | NA | 1 | 2 | W./C. 6607       | 23.4500 | <!----> | S |\n| 890 | 1 | 1 | Behr, Mr. Karl Howell                               | male   | 26 | 0 | 0 | 111369           | 30.0000 | C148        | C |\n| 891 | 0 | 3 | Dooley, Mr. Patrick                                 | male   | 32 | 0 | 0 | 370376           |  7.7500 | <!----> | Q |\n\n",
            "text/latex": "A data.frame: 891 × 12\n\\begin{tabular}{llllllllllll}\n PassengerId & Survived & Pclass & Name & Sex & Age & SibSp & Parch & Ticket & Fare & Cabin & Embarked\\\\\n <int> & <int> & <int> & <chr> & <chr> & <dbl> & <int> & <int> & <chr> & <dbl> & <chr> & <chr>\\\\\n\\hline\n\t  1 & 0 & 3 & Braund, Mr. Owen Harris                                   & male   & 22 & 1 & 0 & A/5 21171        &   7.2500 &             & S\\\\\n\t  2 & 1 & 1 & Cumings, Mrs. John Bradley (Florence Briggs Thayer)       & female & 38 & 1 & 0 & PC 17599         &  71.2833 & C85         & C\\\\\n\t  3 & 1 & 3 & Heikkinen, Miss. Laina                                    & female & 26 & 0 & 0 & STON/O2. 3101282 &   7.9250 &             & S\\\\\n\t  4 & 1 & 1 & Futrelle, Mrs. Jacques Heath (Lily May Peel)              & female & 35 & 1 & 0 & 113803           &  53.1000 & C123        & S\\\\\n\t  5 & 0 & 3 & Allen, Mr. William Henry                                  & male   & 35 & 0 & 0 & 373450           &   8.0500 &             & S\\\\\n\t  6 & 0 & 3 & Moran, Mr. James                                          & male   & NA & 0 & 0 & 330877           &   8.4583 &             & Q\\\\\n\t  7 & 0 & 1 & McCarthy, Mr. Timothy J                                   & male   & 54 & 0 & 0 & 17463            &  51.8625 & E46         & S\\\\\n\t  8 & 0 & 3 & Palsson, Master. Gosta Leonard                            & male   &  2 & 3 & 1 & 349909           &  21.0750 &             & S\\\\\n\t  9 & 1 & 3 & Johnson, Mrs. Oscar W (Elisabeth Vilhelmina Berg)         & female & 27 & 0 & 2 & 347742           &  11.1333 &             & S\\\\\n\t 10 & 1 & 2 & Nasser, Mrs. Nicholas (Adele Achem)                       & female & 14 & 1 & 0 & 237736           &  30.0708 &             & C\\\\\n\t 11 & 1 & 3 & Sandstrom, Miss. Marguerite Rut                           & female &  4 & 1 & 1 & PP 9549          &  16.7000 & G6          & S\\\\\n\t 12 & 1 & 1 & Bonnell, Miss. Elizabeth                                  & female & 58 & 0 & 0 & 113783           &  26.5500 & C103        & S\\\\\n\t 13 & 0 & 3 & Saundercock, Mr. William Henry                            & male   & 20 & 0 & 0 & A/5. 2151        &   8.0500 &             & S\\\\\n\t 14 & 0 & 3 & Andersson, Mr. Anders Johan                               & male   & 39 & 1 & 5 & 347082           &  31.2750 &             & S\\\\\n\t 15 & 0 & 3 & Vestrom, Miss. Hulda Amanda Adolfina                      & female & 14 & 0 & 0 & 350406           &   7.8542 &             & S\\\\\n\t 16 & 1 & 2 & Hewlett, Mrs. (Mary D Kingcome)                           & female & 55 & 0 & 0 & 248706           &  16.0000 &             & S\\\\\n\t 17 & 0 & 3 & Rice, Master. Eugene                                      & male   &  2 & 4 & 1 & 382652           &  29.1250 &             & Q\\\\\n\t 18 & 1 & 2 & Williams, Mr. Charles Eugene                              & male   & NA & 0 & 0 & 244373           &  13.0000 &             & S\\\\\n\t 19 & 0 & 3 & Vander Planke, Mrs. Julius (Emelia Maria Vandemoortele)   & female & 31 & 1 & 0 & 345763           &  18.0000 &             & S\\\\\n\t 20 & 1 & 3 & Masselmani, Mrs. Fatima                                   & female & NA & 0 & 0 & 2649             &   7.2250 &             & C\\\\\n\t 21 & 0 & 2 & Fynney, Mr. Joseph J                                      & male   & 35 & 0 & 0 & 239865           &  26.0000 &             & S\\\\\n\t 22 & 1 & 2 & Beesley, Mr. Lawrence                                     & male   & 34 & 0 & 0 & 248698           &  13.0000 & D56         & S\\\\\n\t 23 & 1 & 3 & McGowan, Miss. Anna \"Annie\"                               & female & 15 & 0 & 0 & 330923           &   8.0292 &             & Q\\\\\n\t 24 & 1 & 1 & Sloper, Mr. William Thompson                              & male   & 28 & 0 & 0 & 113788           &  35.5000 & A6          & S\\\\\n\t 25 & 0 & 3 & Palsson, Miss. Torborg Danira                             & female &  8 & 3 & 1 & 349909           &  21.0750 &             & S\\\\\n\t 26 & 1 & 3 & Asplund, Mrs. Carl Oscar (Selma Augusta Emilia Johansson) & female & 38 & 1 & 5 & 347077           &  31.3875 &             & S\\\\\n\t 27 & 0 & 3 & Emir, Mr. Farred Chehab                                   & male   & NA & 0 & 0 & 2631             &   7.2250 &             & C\\\\\n\t 28 & 0 & 1 & Fortune, Mr. Charles Alexander                            & male   & 19 & 3 & 2 & 19950            & 263.0000 & C23 C25 C27 & S\\\\\n\t 29 & 1 & 3 & O'Dwyer, Miss. Ellen \"Nellie\"                             & female & NA & 0 & 0 & 330959           &   7.8792 &             & Q\\\\\n\t 30 & 0 & 3 & Todoroff, Mr. Lalio                                       & male   & NA & 0 & 0 & 349216           &   7.8958 &             & S\\\\\n\t ⋮ & ⋮ & ⋮ & ⋮ & ⋮ & ⋮ & ⋮ & ⋮ & ⋮ & ⋮ & ⋮ & ⋮\\\\\n\t 862 & 0 & 2 & Giles, Mr. Frederick Edward                         & male   & 21 & 1 & 0 & 28134            & 11.5000 &             & S\\\\\n\t 863 & 1 & 1 & Swift, Mrs. Frederick Joel (Margaret Welles Barron) & female & 48 & 0 & 0 & 17466            & 25.9292 & D17         & S\\\\\n\t 864 & 0 & 3 & Sage, Miss. Dorothy Edith \"Dolly\"                   & female & NA & 8 & 2 & CA. 2343         & 69.5500 &             & S\\\\\n\t 865 & 0 & 2 & Gill, Mr. John William                              & male   & 24 & 0 & 0 & 233866           & 13.0000 &             & S\\\\\n\t 866 & 1 & 2 & Bystrom, Mrs. (Karolina)                            & female & 42 & 0 & 0 & 236852           & 13.0000 &             & S\\\\\n\t 867 & 1 & 2 & Duran y More, Miss. Asuncion                        & female & 27 & 1 & 0 & SC/PARIS 2149    & 13.8583 &             & C\\\\\n\t 868 & 0 & 1 & Roebling, Mr. Washington Augustus II                & male   & 31 & 0 & 0 & PC 17590         & 50.4958 & A24         & S\\\\\n\t 869 & 0 & 3 & van Melkebeke, Mr. Philemon                         & male   & NA & 0 & 0 & 345777           &  9.5000 &             & S\\\\\n\t 870 & 1 & 3 & Johnson, Master. Harold Theodor                     & male   &  4 & 1 & 1 & 347742           & 11.1333 &             & S\\\\\n\t 871 & 0 & 3 & Balkic, Mr. Cerin                                   & male   & 26 & 0 & 0 & 349248           &  7.8958 &             & S\\\\\n\t 872 & 1 & 1 & Beckwith, Mrs. Richard Leonard (Sallie Monypeny)    & female & 47 & 1 & 1 & 11751            & 52.5542 & D35         & S\\\\\n\t 873 & 0 & 1 & Carlsson, Mr. Frans Olof                            & male   & 33 & 0 & 0 & 695              &  5.0000 & B51 B53 B55 & S\\\\\n\t 874 & 0 & 3 & Vander Cruyssen, Mr. Victor                         & male   & 47 & 0 & 0 & 345765           &  9.0000 &             & S\\\\\n\t 875 & 1 & 2 & Abelson, Mrs. Samuel (Hannah Wizosky)               & female & 28 & 1 & 0 & P/PP 3381        & 24.0000 &             & C\\\\\n\t 876 & 1 & 3 & Najib, Miss. Adele Kiamie \"Jane\"                    & female & 15 & 0 & 0 & 2667             &  7.2250 &             & C\\\\\n\t 877 & 0 & 3 & Gustafsson, Mr. Alfred Ossian                       & male   & 20 & 0 & 0 & 7534             &  9.8458 &             & S\\\\\n\t 878 & 0 & 3 & Petroff, Mr. Nedelio                                & male   & 19 & 0 & 0 & 349212           &  7.8958 &             & S\\\\\n\t 879 & 0 & 3 & Laleff, Mr. Kristo                                  & male   & NA & 0 & 0 & 349217           &  7.8958 &             & S\\\\\n\t 880 & 1 & 1 & Potter, Mrs. Thomas Jr (Lily Alexenia Wilson)       & female & 56 & 0 & 1 & 11767            & 83.1583 & C50         & C\\\\\n\t 881 & 1 & 2 & Shelley, Mrs. William (Imanita Parrish Hall)        & female & 25 & 0 & 1 & 230433           & 26.0000 &             & S\\\\\n\t 882 & 0 & 3 & Markun, Mr. Johann                                  & male   & 33 & 0 & 0 & 349257           &  7.8958 &             & S\\\\\n\t 883 & 0 & 3 & Dahlberg, Miss. Gerda Ulrika                        & female & 22 & 0 & 0 & 7552             & 10.5167 &             & S\\\\\n\t 884 & 0 & 2 & Banfield, Mr. Frederick James                       & male   & 28 & 0 & 0 & C.A./SOTON 34068 & 10.5000 &             & S\\\\\n\t 885 & 0 & 3 & Sutehall, Mr. Henry Jr                              & male   & 25 & 0 & 0 & SOTON/OQ 392076  &  7.0500 &             & S\\\\\n\t 886 & 0 & 3 & Rice, Mrs. William (Margaret Norton)                & female & 39 & 0 & 5 & 382652           & 29.1250 &             & Q\\\\\n\t 887 & 0 & 2 & Montvila, Rev. Juozas                               & male   & 27 & 0 & 0 & 211536           & 13.0000 &             & S\\\\\n\t 888 & 1 & 1 & Graham, Miss. Margaret Edith                        & female & 19 & 0 & 0 & 112053           & 30.0000 & B42         & S\\\\\n\t 889 & 0 & 3 & Johnston, Miss. Catherine Helen \"Carrie\"            & female & NA & 1 & 2 & W./C. 6607       & 23.4500 &             & S\\\\\n\t 890 & 1 & 1 & Behr, Mr. Karl Howell                               & male   & 26 & 0 & 0 & 111369           & 30.0000 & C148        & C\\\\\n\t 891 & 0 & 3 & Dooley, Mr. Patrick                                 & male   & 32 & 0 & 0 & 370376           &  7.7500 &             & Q\\\\\n\\end{tabular}\n",
            "text/plain": [
              "    PassengerId Survived Pclass\n",
              "1    1          0        3     \n",
              "2    2          1        1     \n",
              "3    3          1        3     \n",
              "4    4          1        1     \n",
              "5    5          0        3     \n",
              "6    6          0        3     \n",
              "7    7          0        1     \n",
              "8    8          0        3     \n",
              "9    9          1        3     \n",
              "10  10          1        2     \n",
              "11  11          1        3     \n",
              "12  12          1        1     \n",
              "13  13          0        3     \n",
              "14  14          0        3     \n",
              "15  15          0        3     \n",
              "16  16          1        2     \n",
              "17  17          0        3     \n",
              "18  18          1        2     \n",
              "19  19          0        3     \n",
              "20  20          1        3     \n",
              "21  21          0        2     \n",
              "22  22          1        2     \n",
              "23  23          1        3     \n",
              "24  24          1        1     \n",
              "25  25          0        3     \n",
              "26  26          1        3     \n",
              "27  27          0        3     \n",
              "28  28          0        1     \n",
              "29  29          1        3     \n",
              "30  30          0        3     \n",
              "⋮   ⋮           ⋮        ⋮     \n",
              "862 862         0        2     \n",
              "863 863         1        1     \n",
              "864 864         0        3     \n",
              "865 865         0        2     \n",
              "866 866         1        2     \n",
              "867 867         1        2     \n",
              "868 868         0        1     \n",
              "869 869         0        3     \n",
              "870 870         1        3     \n",
              "871 871         0        3     \n",
              "872 872         1        1     \n",
              "873 873         0        1     \n",
              "874 874         0        3     \n",
              "875 875         1        2     \n",
              "876 876         1        3     \n",
              "877 877         0        3     \n",
              "878 878         0        3     \n",
              "879 879         0        3     \n",
              "880 880         1        1     \n",
              "881 881         1        2     \n",
              "882 882         0        3     \n",
              "883 883         0        3     \n",
              "884 884         0        2     \n",
              "885 885         0        3     \n",
              "886 886         0        3     \n",
              "887 887         0        2     \n",
              "888 888         1        1     \n",
              "889 889         0        3     \n",
              "890 890         1        1     \n",
              "891 891         0        3     \n",
              "    Name                                                      Sex    Age SibSp\n",
              "1   Braund, Mr. Owen Harris                                   male   22  1    \n",
              "2   Cumings, Mrs. John Bradley (Florence Briggs Thayer)       female 38  1    \n",
              "3   Heikkinen, Miss. Laina                                    female 26  0    \n",
              "4   Futrelle, Mrs. Jacques Heath (Lily May Peel)              female 35  1    \n",
              "5   Allen, Mr. William Henry                                  male   35  0    \n",
              "6   Moran, Mr. James                                          male   NA  0    \n",
              "7   McCarthy, Mr. Timothy J                                   male   54  0    \n",
              "8   Palsson, Master. Gosta Leonard                            male    2  3    \n",
              "9   Johnson, Mrs. Oscar W (Elisabeth Vilhelmina Berg)         female 27  0    \n",
              "10  Nasser, Mrs. Nicholas (Adele Achem)                       female 14  1    \n",
              "11  Sandstrom, Miss. Marguerite Rut                           female  4  1    \n",
              "12  Bonnell, Miss. Elizabeth                                  female 58  0    \n",
              "13  Saundercock, Mr. William Henry                            male   20  0    \n",
              "14  Andersson, Mr. Anders Johan                               male   39  1    \n",
              "15  Vestrom, Miss. Hulda Amanda Adolfina                      female 14  0    \n",
              "16  Hewlett, Mrs. (Mary D Kingcome)                           female 55  0    \n",
              "17  Rice, Master. Eugene                                      male    2  4    \n",
              "18  Williams, Mr. Charles Eugene                              male   NA  0    \n",
              "19  Vander Planke, Mrs. Julius (Emelia Maria Vandemoortele)   female 31  1    \n",
              "20  Masselmani, Mrs. Fatima                                   female NA  0    \n",
              "21  Fynney, Mr. Joseph J                                      male   35  0    \n",
              "22  Beesley, Mr. Lawrence                                     male   34  0    \n",
              "23  McGowan, Miss. Anna \"Annie\"                               female 15  0    \n",
              "24  Sloper, Mr. William Thompson                              male   28  0    \n",
              "25  Palsson, Miss. Torborg Danira                             female  8  3    \n",
              "26  Asplund, Mrs. Carl Oscar (Selma Augusta Emilia Johansson) female 38  1    \n",
              "27  Emir, Mr. Farred Chehab                                   male   NA  0    \n",
              "28  Fortune, Mr. Charles Alexander                            male   19  3    \n",
              "29  O'Dwyer, Miss. Ellen \"Nellie\"                             female NA  0    \n",
              "30  Todoroff, Mr. Lalio                                       male   NA  0    \n",
              "⋮   ⋮                                                         ⋮      ⋮   ⋮    \n",
              "862 Giles, Mr. Frederick Edward                               male   21  1    \n",
              "863 Swift, Mrs. Frederick Joel (Margaret Welles Barron)       female 48  0    \n",
              "864 Sage, Miss. Dorothy Edith \"Dolly\"                         female NA  8    \n",
              "865 Gill, Mr. John William                                    male   24  0    \n",
              "866 Bystrom, Mrs. (Karolina)                                  female 42  0    \n",
              "867 Duran y More, Miss. Asuncion                              female 27  1    \n",
              "868 Roebling, Mr. Washington Augustus II                      male   31  0    \n",
              "869 van Melkebeke, Mr. Philemon                               male   NA  0    \n",
              "870 Johnson, Master. Harold Theodor                           male    4  1    \n",
              "871 Balkic, Mr. Cerin                                         male   26  0    \n",
              "872 Beckwith, Mrs. Richard Leonard (Sallie Monypeny)          female 47  1    \n",
              "873 Carlsson, Mr. Frans Olof                                  male   33  0    \n",
              "874 Vander Cruyssen, Mr. Victor                               male   47  0    \n",
              "875 Abelson, Mrs. Samuel (Hannah Wizosky)                     female 28  1    \n",
              "876 Najib, Miss. Adele Kiamie \"Jane\"                          female 15  0    \n",
              "877 Gustafsson, Mr. Alfred Ossian                             male   20  0    \n",
              "878 Petroff, Mr. Nedelio                                      male   19  0    \n",
              "879 Laleff, Mr. Kristo                                        male   NA  0    \n",
              "880 Potter, Mrs. Thomas Jr (Lily Alexenia Wilson)             female 56  0    \n",
              "881 Shelley, Mrs. William (Imanita Parrish Hall)              female 25  0    \n",
              "882 Markun, Mr. Johann                                        male   33  0    \n",
              "883 Dahlberg, Miss. Gerda Ulrika                              female 22  0    \n",
              "884 Banfield, Mr. Frederick James                             male   28  0    \n",
              "885 Sutehall, Mr. Henry Jr                                    male   25  0    \n",
              "886 Rice, Mrs. William (Margaret Norton)                      female 39  0    \n",
              "887 Montvila, Rev. Juozas                                     male   27  0    \n",
              "888 Graham, Miss. Margaret Edith                              female 19  0    \n",
              "889 Johnston, Miss. Catherine Helen \"Carrie\"                  female NA  1    \n",
              "890 Behr, Mr. Karl Howell                                     male   26  0    \n",
              "891 Dooley, Mr. Patrick                                       male   32  0    \n",
              "    Parch Ticket           Fare     Cabin       Embarked\n",
              "1   0     A/5 21171          7.2500             S       \n",
              "2   0     PC 17599          71.2833 C85         C       \n",
              "3   0     STON/O2. 3101282   7.9250             S       \n",
              "4   0     113803            53.1000 C123        S       \n",
              "5   0     373450             8.0500             S       \n",
              "6   0     330877             8.4583             Q       \n",
              "7   0     17463             51.8625 E46         S       \n",
              "8   1     349909            21.0750             S       \n",
              "9   2     347742            11.1333             S       \n",
              "10  0     237736            30.0708             C       \n",
              "11  1     PP 9549           16.7000 G6          S       \n",
              "12  0     113783            26.5500 C103        S       \n",
              "13  0     A/5. 2151          8.0500             S       \n",
              "14  5     347082            31.2750             S       \n",
              "15  0     350406             7.8542             S       \n",
              "16  0     248706            16.0000             S       \n",
              "17  1     382652            29.1250             Q       \n",
              "18  0     244373            13.0000             S       \n",
              "19  0     345763            18.0000             S       \n",
              "20  0     2649               7.2250             C       \n",
              "21  0     239865            26.0000             S       \n",
              "22  0     248698            13.0000 D56         S       \n",
              "23  0     330923             8.0292             Q       \n",
              "24  0     113788            35.5000 A6          S       \n",
              "25  1     349909            21.0750             S       \n",
              "26  5     347077            31.3875             S       \n",
              "27  0     2631               7.2250             C       \n",
              "28  2     19950            263.0000 C23 C25 C27 S       \n",
              "29  0     330959             7.8792             Q       \n",
              "30  0     349216             7.8958             S       \n",
              "⋮   ⋮     ⋮                ⋮        ⋮           ⋮       \n",
              "862 0     28134            11.5000              S       \n",
              "863 0     17466            25.9292  D17         S       \n",
              "864 2     CA. 2343         69.5500              S       \n",
              "865 0     233866           13.0000              S       \n",
              "866 0     236852           13.0000              S       \n",
              "867 0     SC/PARIS 2149    13.8583              C       \n",
              "868 0     PC 17590         50.4958  A24         S       \n",
              "869 0     345777            9.5000              S       \n",
              "870 1     347742           11.1333              S       \n",
              "871 0     349248            7.8958              S       \n",
              "872 1     11751            52.5542  D35         S       \n",
              "873 0     695               5.0000  B51 B53 B55 S       \n",
              "874 0     345765            9.0000              S       \n",
              "875 0     P/PP 3381        24.0000              C       \n",
              "876 0     2667              7.2250              C       \n",
              "877 0     7534              9.8458              S       \n",
              "878 0     349212            7.8958              S       \n",
              "879 0     349217            7.8958              S       \n",
              "880 1     11767            83.1583  C50         C       \n",
              "881 1     230433           26.0000              S       \n",
              "882 0     349257            7.8958              S       \n",
              "883 0     7552             10.5167              S       \n",
              "884 0     C.A./SOTON 34068 10.5000              S       \n",
              "885 0     SOTON/OQ 392076   7.0500              S       \n",
              "886 5     382652           29.1250              Q       \n",
              "887 0     211536           13.0000              S       \n",
              "888 0     112053           30.0000  B42         S       \n",
              "889 2     W./C. 6607       23.4500              S       \n",
              "890 0     111369           30.0000  C148        C       \n",
              "891 0     370376            7.7500              Q       "
            ]
          },
          "metadata": {}
        }
      ]
    },
    {
      "cell_type": "code",
      "source": [
        "titanic %>%\n",
        "  select(Pclass, Name, Sex, Fare, Age) %>%\n",
        "  filter(Sex == \"female\") %>%\n",
        "  filter(Pclass == 3) %>%\n",
        "  arrange(Name)"
      ],
      "metadata": {
        "id": "DYtQTxLx7Qof",
        "outputId": "c17375d5-a76c-4ff2-a628-e646267c7f20",
        "colab": {
          "base_uri": "https://localhost:8080/",
          "height": 1000
        }
      },
      "execution_count": 39,
      "outputs": [
        {
          "output_type": "display_data",
          "data": {
            "text/html": [
              "<table class=\"dataframe\">\n",
              "<caption>A data.frame: 144 × 5</caption>\n",
              "<thead>\n",
              "\t<tr><th scope=col>Pclass</th><th scope=col>Name</th><th scope=col>Sex</th><th scope=col>Fare</th><th scope=col>Age</th></tr>\n",
              "\t<tr><th scope=col>&lt;int&gt;</th><th scope=col>&lt;chr&gt;</th><th scope=col>&lt;chr&gt;</th><th scope=col>&lt;dbl&gt;</th><th scope=col>&lt;dbl&gt;</th></tr>\n",
              "</thead>\n",
              "<tbody>\n",
              "\t<tr><td>3</td><td>Abbott, Mrs. Stanton (Rosa Hunt)                         </td><td>female</td><td>20.2500</td><td>35.00</td></tr>\n",
              "\t<tr><td>3</td><td>Ahlin, Mrs. Johan (Johanna Persdotter Larsson)           </td><td>female</td><td> 9.4750</td><td>40.00</td></tr>\n",
              "\t<tr><td>3</td><td>Aks, Mrs. Sam (Leah Rosen)                               </td><td>female</td><td> 9.3500</td><td>18.00</td></tr>\n",
              "\t<tr><td>3</td><td>Andersen-Jensen, Miss. Carla Christine Nielsine          </td><td>female</td><td> 7.8542</td><td>19.00</td></tr>\n",
              "\t<tr><td>3</td><td>Andersson, Miss. Ebba Iris Alfrida                       </td><td>female</td><td>31.2750</td><td> 6.00</td></tr>\n",
              "\t<tr><td>3</td><td>Andersson, Miss. Ellis Anna Maria                        </td><td>female</td><td>31.2750</td><td> 2.00</td></tr>\n",
              "\t<tr><td>3</td><td>Andersson, Miss. Erna Alexandra                          </td><td>female</td><td> 7.9250</td><td>17.00</td></tr>\n",
              "\t<tr><td>3</td><td>Andersson, Miss. Ingeborg Constanzia                     </td><td>female</td><td>31.2750</td><td> 9.00</td></tr>\n",
              "\t<tr><td>3</td><td>Andersson, Miss. Sigrid Elisabeth                        </td><td>female</td><td>31.2750</td><td>11.00</td></tr>\n",
              "\t<tr><td>3</td><td>Andersson, Mrs. Anders Johan (Alfrida Konstantia Brogren)</td><td>female</td><td>31.2750</td><td>39.00</td></tr>\n",
              "\t<tr><td>3</td><td>Arnold-Franchi, Mrs. Josef (Josefine Franchi)            </td><td>female</td><td>17.8000</td><td>18.00</td></tr>\n",
              "\t<tr><td>3</td><td>Asplund, Miss. Lillian Gertrud                           </td><td>female</td><td>31.3875</td><td> 5.00</td></tr>\n",
              "\t<tr><td>3</td><td>Asplund, Mrs. Carl Oscar (Selma Augusta Emilia Johansson)</td><td>female</td><td>31.3875</td><td>38.00</td></tr>\n",
              "\t<tr><td>3</td><td>Attalah, Miss. Malake                                    </td><td>female</td><td>14.4583</td><td>17.00</td></tr>\n",
              "\t<tr><td>3</td><td>Ayoub, Miss. Banoura                                     </td><td>female</td><td> 7.2292</td><td>13.00</td></tr>\n",
              "\t<tr><td>3</td><td>Backstrom, Mrs. Karl Alfred (Maria Mathilda Gustafsson)  </td><td>female</td><td>15.8500</td><td>33.00</td></tr>\n",
              "\t<tr><td>3</td><td>Baclini, Miss. Eugenie                                   </td><td>female</td><td>19.2583</td><td> 0.75</td></tr>\n",
              "\t<tr><td>3</td><td>Baclini, Miss. Helene Barbara                            </td><td>female</td><td>19.2583</td><td> 0.75</td></tr>\n",
              "\t<tr><td>3</td><td>Baclini, Miss. Marie Catherine                           </td><td>female</td><td>19.2583</td><td> 5.00</td></tr>\n",
              "\t<tr><td>3</td><td>Baclini, Mrs. Solomon (Latifa Qurban)                    </td><td>female</td><td>19.2583</td><td>24.00</td></tr>\n",
              "\t<tr><td>3</td><td>Barbara, Miss. Saiide                                    </td><td>female</td><td>14.4542</td><td>18.00</td></tr>\n",
              "\t<tr><td>3</td><td>Barbara, Mrs. (Catherine David)                          </td><td>female</td><td>14.4542</td><td>45.00</td></tr>\n",
              "\t<tr><td>3</td><td>Boulos, Miss. Nourelain                                  </td><td>female</td><td>15.2458</td><td> 9.00</td></tr>\n",
              "\t<tr><td>3</td><td>Boulos, Mrs. Joseph (Sultana)                            </td><td>female</td><td>15.2458</td><td>   NA</td></tr>\n",
              "\t<tr><td>3</td><td>Bourke, Miss. Mary                                       </td><td>female</td><td> 7.7500</td><td>   NA</td></tr>\n",
              "\t<tr><td>3</td><td>Bourke, Mrs. John (Catherine)                            </td><td>female</td><td>15.5000</td><td>32.00</td></tr>\n",
              "\t<tr><td>3</td><td>Cacic, Miss. Marija                                      </td><td>female</td><td> 8.6625</td><td>30.00</td></tr>\n",
              "\t<tr><td>3</td><td>Canavan, Miss. Mary                                      </td><td>female</td><td> 7.7500</td><td>21.00</td></tr>\n",
              "\t<tr><td>3</td><td>Caram, Mrs. Joseph (Maria Elias)                         </td><td>female</td><td>14.4583</td><td>   NA</td></tr>\n",
              "\t<tr><td>3</td><td>Carr, Miss. Helen \"Ellen\"                                </td><td>female</td><td> 7.7500</td><td>16.00</td></tr>\n",
              "\t<tr><td>⋮</td><td>⋮</td><td>⋮</td><td>⋮</td><td>⋮</td></tr>\n",
              "\t<tr><td>3</td><td>Rice, Mrs. William (Margaret Norton)                   </td><td>female</td><td>29.1250</td><td>39.0</td></tr>\n",
              "\t<tr><td>3</td><td>Robins, Mrs. Alexander A (Grace Charity Laury)         </td><td>female</td><td>14.5000</td><td>47.0</td></tr>\n",
              "\t<tr><td>3</td><td>Rosblom, Mrs. Viktor (Helena Wilhelmina)               </td><td>female</td><td>20.2125</td><td>41.0</td></tr>\n",
              "\t<tr><td>3</td><td>Sage, Miss. Constance Gladys                           </td><td>female</td><td>69.5500</td><td>  NA</td></tr>\n",
              "\t<tr><td>3</td><td>Sage, Miss. Dorothy Edith \"Dolly\"                      </td><td>female</td><td>69.5500</td><td>  NA</td></tr>\n",
              "\t<tr><td>3</td><td>Sage, Miss. Stella Anna                                </td><td>female</td><td>69.5500</td><td>  NA</td></tr>\n",
              "\t<tr><td>3</td><td>Salkjelsvik, Miss. Anna Kristine                       </td><td>female</td><td> 7.6500</td><td>21.0</td></tr>\n",
              "\t<tr><td>3</td><td>Sandstrom, Miss. Marguerite Rut                        </td><td>female</td><td>16.7000</td><td> 4.0</td></tr>\n",
              "\t<tr><td>3</td><td>Sandstrom, Mrs. Hjalmar (Agnes Charlotta Bengtsson)    </td><td>female</td><td>16.7000</td><td>24.0</td></tr>\n",
              "\t<tr><td>3</td><td>Sjoblom, Miss. Anna Sofia                              </td><td>female</td><td> 7.4958</td><td>18.0</td></tr>\n",
              "\t<tr><td>3</td><td>Skoog, Miss. Mabel                                     </td><td>female</td><td>27.9000</td><td> 9.0</td></tr>\n",
              "\t<tr><td>3</td><td>Skoog, Miss. Margit Elizabeth                          </td><td>female</td><td>27.9000</td><td> 2.0</td></tr>\n",
              "\t<tr><td>3</td><td>Skoog, Mrs. William (Anna Bernhardina Karlsson)        </td><td>female</td><td>27.9000</td><td>45.0</td></tr>\n",
              "\t<tr><td>3</td><td>Stanley, Miss. Amy Zillah Elsie                        </td><td>female</td><td> 7.5500</td><td>23.0</td></tr>\n",
              "\t<tr><td>3</td><td>Strandberg, Miss. Ida Sofia                            </td><td>female</td><td> 9.8375</td><td>22.0</td></tr>\n",
              "\t<tr><td>3</td><td>Strom, Miss. Telma Matilda                             </td><td>female</td><td>10.4625</td><td> 2.0</td></tr>\n",
              "\t<tr><td>3</td><td>Strom, Mrs. Wilhelm (Elna Matilda Persson)             </td><td>female</td><td>10.4625</td><td>29.0</td></tr>\n",
              "\t<tr><td>3</td><td>Thorneycroft, Mrs. Percival (Florence Kate White)      </td><td>female</td><td>16.1000</td><td>  NA</td></tr>\n",
              "\t<tr><td>3</td><td>Touma, Mrs. Darwis (Hanne Youssef Razi)                </td><td>female</td><td>15.2458</td><td>29.0</td></tr>\n",
              "\t<tr><td>3</td><td>Turja, Miss. Anna Sofia                                </td><td>female</td><td> 9.8417</td><td>18.0</td></tr>\n",
              "\t<tr><td>3</td><td>Turkula, Mrs. (Hedwig)                                 </td><td>female</td><td> 9.5875</td><td>63.0</td></tr>\n",
              "\t<tr><td>3</td><td>Van Impe, Miss. Catharina                              </td><td>female</td><td>24.1500</td><td>10.0</td></tr>\n",
              "\t<tr><td>3</td><td>Van Impe, Mrs. Jean Baptiste (Rosalie Paula Govaert)   </td><td>female</td><td>24.1500</td><td>30.0</td></tr>\n",
              "\t<tr><td>3</td><td>Vander Planke, Miss. Augusta Maria                     </td><td>female</td><td>18.0000</td><td>18.0</td></tr>\n",
              "\t<tr><td>3</td><td>Vander Planke, Mrs. Julius (Emelia Maria Vandemoortele)</td><td>female</td><td>18.0000</td><td>31.0</td></tr>\n",
              "\t<tr><td>3</td><td>Vestrom, Miss. Hulda Amanda Adolfina                   </td><td>female</td><td> 7.8542</td><td>14.0</td></tr>\n",
              "\t<tr><td>3</td><td>Yasbeck, Mrs. Antoni (Selini Alexander)                </td><td>female</td><td>14.4542</td><td>15.0</td></tr>\n",
              "\t<tr><td>3</td><td>Zabour, Miss. Hileni                                   </td><td>female</td><td>14.4542</td><td>14.5</td></tr>\n",
              "\t<tr><td>3</td><td>Zabour, Miss. Thamine                                  </td><td>female</td><td>14.4542</td><td>  NA</td></tr>\n",
              "\t<tr><td>3</td><td>de Messemaeker, Mrs. Guillaume Joseph (Emma)           </td><td>female</td><td>17.4000</td><td>36.0</td></tr>\n",
              "</tbody>\n",
              "</table>\n"
            ],
            "text/markdown": "\nA data.frame: 144 × 5\n\n| Pclass &lt;int&gt; | Name &lt;chr&gt; | Sex &lt;chr&gt; | Fare &lt;dbl&gt; | Age &lt;dbl&gt; |\n|---|---|---|---|---|\n| 3 | Abbott, Mrs. Stanton (Rosa Hunt)                          | female | 20.2500 | 35.00 |\n| 3 | Ahlin, Mrs. Johan (Johanna Persdotter Larsson)            | female |  9.4750 | 40.00 |\n| 3 | Aks, Mrs. Sam (Leah Rosen)                                | female |  9.3500 | 18.00 |\n| 3 | Andersen-Jensen, Miss. Carla Christine Nielsine           | female |  7.8542 | 19.00 |\n| 3 | Andersson, Miss. Ebba Iris Alfrida                        | female | 31.2750 |  6.00 |\n| 3 | Andersson, Miss. Ellis Anna Maria                         | female | 31.2750 |  2.00 |\n| 3 | Andersson, Miss. Erna Alexandra                           | female |  7.9250 | 17.00 |\n| 3 | Andersson, Miss. Ingeborg Constanzia                      | female | 31.2750 |  9.00 |\n| 3 | Andersson, Miss. Sigrid Elisabeth                         | female | 31.2750 | 11.00 |\n| 3 | Andersson, Mrs. Anders Johan (Alfrida Konstantia Brogren) | female | 31.2750 | 39.00 |\n| 3 | Arnold-Franchi, Mrs. Josef (Josefine Franchi)             | female | 17.8000 | 18.00 |\n| 3 | Asplund, Miss. Lillian Gertrud                            | female | 31.3875 |  5.00 |\n| 3 | Asplund, Mrs. Carl Oscar (Selma Augusta Emilia Johansson) | female | 31.3875 | 38.00 |\n| 3 | Attalah, Miss. Malake                                     | female | 14.4583 | 17.00 |\n| 3 | Ayoub, Miss. Banoura                                      | female |  7.2292 | 13.00 |\n| 3 | Backstrom, Mrs. Karl Alfred (Maria Mathilda Gustafsson)   | female | 15.8500 | 33.00 |\n| 3 | Baclini, Miss. Eugenie                                    | female | 19.2583 |  0.75 |\n| 3 | Baclini, Miss. Helene Barbara                             | female | 19.2583 |  0.75 |\n| 3 | Baclini, Miss. Marie Catherine                            | female | 19.2583 |  5.00 |\n| 3 | Baclini, Mrs. Solomon (Latifa Qurban)                     | female | 19.2583 | 24.00 |\n| 3 | Barbara, Miss. Saiide                                     | female | 14.4542 | 18.00 |\n| 3 | Barbara, Mrs. (Catherine David)                           | female | 14.4542 | 45.00 |\n| 3 | Boulos, Miss. Nourelain                                   | female | 15.2458 |  9.00 |\n| 3 | Boulos, Mrs. Joseph (Sultana)                             | female | 15.2458 |    NA |\n| 3 | Bourke, Miss. Mary                                        | female |  7.7500 |    NA |\n| 3 | Bourke, Mrs. John (Catherine)                             | female | 15.5000 | 32.00 |\n| 3 | Cacic, Miss. Marija                                       | female |  8.6625 | 30.00 |\n| 3 | Canavan, Miss. Mary                                       | female |  7.7500 | 21.00 |\n| 3 | Caram, Mrs. Joseph (Maria Elias)                          | female | 14.4583 |    NA |\n| 3 | Carr, Miss. Helen \"Ellen\"                                 | female |  7.7500 | 16.00 |\n| ⋮ | ⋮ | ⋮ | ⋮ | ⋮ |\n| 3 | Rice, Mrs. William (Margaret Norton)                    | female | 29.1250 | 39.0 |\n| 3 | Robins, Mrs. Alexander A (Grace Charity Laury)          | female | 14.5000 | 47.0 |\n| 3 | Rosblom, Mrs. Viktor (Helena Wilhelmina)                | female | 20.2125 | 41.0 |\n| 3 | Sage, Miss. Constance Gladys                            | female | 69.5500 |   NA |\n| 3 | Sage, Miss. Dorothy Edith \"Dolly\"                       | female | 69.5500 |   NA |\n| 3 | Sage, Miss. Stella Anna                                 | female | 69.5500 |   NA |\n| 3 | Salkjelsvik, Miss. Anna Kristine                        | female |  7.6500 | 21.0 |\n| 3 | Sandstrom, Miss. Marguerite Rut                         | female | 16.7000 |  4.0 |\n| 3 | Sandstrom, Mrs. Hjalmar (Agnes Charlotta Bengtsson)     | female | 16.7000 | 24.0 |\n| 3 | Sjoblom, Miss. Anna Sofia                               | female |  7.4958 | 18.0 |\n| 3 | Skoog, Miss. Mabel                                      | female | 27.9000 |  9.0 |\n| 3 | Skoog, Miss. Margit Elizabeth                           | female | 27.9000 |  2.0 |\n| 3 | Skoog, Mrs. William (Anna Bernhardina Karlsson)         | female | 27.9000 | 45.0 |\n| 3 | Stanley, Miss. Amy Zillah Elsie                         | female |  7.5500 | 23.0 |\n| 3 | Strandberg, Miss. Ida Sofia                             | female |  9.8375 | 22.0 |\n| 3 | Strom, Miss. Telma Matilda                              | female | 10.4625 |  2.0 |\n| 3 | Strom, Mrs. Wilhelm (Elna Matilda Persson)              | female | 10.4625 | 29.0 |\n| 3 | Thorneycroft, Mrs. Percival (Florence Kate White)       | female | 16.1000 |   NA |\n| 3 | Touma, Mrs. Darwis (Hanne Youssef Razi)                 | female | 15.2458 | 29.0 |\n| 3 | Turja, Miss. Anna Sofia                                 | female |  9.8417 | 18.0 |\n| 3 | Turkula, Mrs. (Hedwig)                                  | female |  9.5875 | 63.0 |\n| 3 | Van Impe, Miss. Catharina                               | female | 24.1500 | 10.0 |\n| 3 | Van Impe, Mrs. Jean Baptiste (Rosalie Paula Govaert)    | female | 24.1500 | 30.0 |\n| 3 | Vander Planke, Miss. Augusta Maria                      | female | 18.0000 | 18.0 |\n| 3 | Vander Planke, Mrs. Julius (Emelia Maria Vandemoortele) | female | 18.0000 | 31.0 |\n| 3 | Vestrom, Miss. Hulda Amanda Adolfina                    | female |  7.8542 | 14.0 |\n| 3 | Yasbeck, Mrs. Antoni (Selini Alexander)                 | female | 14.4542 | 15.0 |\n| 3 | Zabour, Miss. Hileni                                    | female | 14.4542 | 14.5 |\n| 3 | Zabour, Miss. Thamine                                   | female | 14.4542 |   NA |\n| 3 | de Messemaeker, Mrs. Guillaume Joseph (Emma)            | female | 17.4000 | 36.0 |\n\n",
            "text/latex": "A data.frame: 144 × 5\n\\begin{tabular}{lllll}\n Pclass & Name & Sex & Fare & Age\\\\\n <int> & <chr> & <chr> & <dbl> & <dbl>\\\\\n\\hline\n\t 3 & Abbott, Mrs. Stanton (Rosa Hunt)                          & female & 20.2500 & 35.00\\\\\n\t 3 & Ahlin, Mrs. Johan (Johanna Persdotter Larsson)            & female &  9.4750 & 40.00\\\\\n\t 3 & Aks, Mrs. Sam (Leah Rosen)                                & female &  9.3500 & 18.00\\\\\n\t 3 & Andersen-Jensen, Miss. Carla Christine Nielsine           & female &  7.8542 & 19.00\\\\\n\t 3 & Andersson, Miss. Ebba Iris Alfrida                        & female & 31.2750 &  6.00\\\\\n\t 3 & Andersson, Miss. Ellis Anna Maria                         & female & 31.2750 &  2.00\\\\\n\t 3 & Andersson, Miss. Erna Alexandra                           & female &  7.9250 & 17.00\\\\\n\t 3 & Andersson, Miss. Ingeborg Constanzia                      & female & 31.2750 &  9.00\\\\\n\t 3 & Andersson, Miss. Sigrid Elisabeth                         & female & 31.2750 & 11.00\\\\\n\t 3 & Andersson, Mrs. Anders Johan (Alfrida Konstantia Brogren) & female & 31.2750 & 39.00\\\\\n\t 3 & Arnold-Franchi, Mrs. Josef (Josefine Franchi)             & female & 17.8000 & 18.00\\\\\n\t 3 & Asplund, Miss. Lillian Gertrud                            & female & 31.3875 &  5.00\\\\\n\t 3 & Asplund, Mrs. Carl Oscar (Selma Augusta Emilia Johansson) & female & 31.3875 & 38.00\\\\\n\t 3 & Attalah, Miss. Malake                                     & female & 14.4583 & 17.00\\\\\n\t 3 & Ayoub, Miss. Banoura                                      & female &  7.2292 & 13.00\\\\\n\t 3 & Backstrom, Mrs. Karl Alfred (Maria Mathilda Gustafsson)   & female & 15.8500 & 33.00\\\\\n\t 3 & Baclini, Miss. Eugenie                                    & female & 19.2583 &  0.75\\\\\n\t 3 & Baclini, Miss. Helene Barbara                             & female & 19.2583 &  0.75\\\\\n\t 3 & Baclini, Miss. Marie Catherine                            & female & 19.2583 &  5.00\\\\\n\t 3 & Baclini, Mrs. Solomon (Latifa Qurban)                     & female & 19.2583 & 24.00\\\\\n\t 3 & Barbara, Miss. Saiide                                     & female & 14.4542 & 18.00\\\\\n\t 3 & Barbara, Mrs. (Catherine David)                           & female & 14.4542 & 45.00\\\\\n\t 3 & Boulos, Miss. Nourelain                                   & female & 15.2458 &  9.00\\\\\n\t 3 & Boulos, Mrs. Joseph (Sultana)                             & female & 15.2458 &    NA\\\\\n\t 3 & Bourke, Miss. Mary                                        & female &  7.7500 &    NA\\\\\n\t 3 & Bourke, Mrs. John (Catherine)                             & female & 15.5000 & 32.00\\\\\n\t 3 & Cacic, Miss. Marija                                       & female &  8.6625 & 30.00\\\\\n\t 3 & Canavan, Miss. Mary                                       & female &  7.7500 & 21.00\\\\\n\t 3 & Caram, Mrs. Joseph (Maria Elias)                          & female & 14.4583 &    NA\\\\\n\t 3 & Carr, Miss. Helen \"Ellen\"                                 & female &  7.7500 & 16.00\\\\\n\t ⋮ & ⋮ & ⋮ & ⋮ & ⋮\\\\\n\t 3 & Rice, Mrs. William (Margaret Norton)                    & female & 29.1250 & 39.0\\\\\n\t 3 & Robins, Mrs. Alexander A (Grace Charity Laury)          & female & 14.5000 & 47.0\\\\\n\t 3 & Rosblom, Mrs. Viktor (Helena Wilhelmina)                & female & 20.2125 & 41.0\\\\\n\t 3 & Sage, Miss. Constance Gladys                            & female & 69.5500 &   NA\\\\\n\t 3 & Sage, Miss. Dorothy Edith \"Dolly\"                       & female & 69.5500 &   NA\\\\\n\t 3 & Sage, Miss. Stella Anna                                 & female & 69.5500 &   NA\\\\\n\t 3 & Salkjelsvik, Miss. Anna Kristine                        & female &  7.6500 & 21.0\\\\\n\t 3 & Sandstrom, Miss. Marguerite Rut                         & female & 16.7000 &  4.0\\\\\n\t 3 & Sandstrom, Mrs. Hjalmar (Agnes Charlotta Bengtsson)     & female & 16.7000 & 24.0\\\\\n\t 3 & Sjoblom, Miss. Anna Sofia                               & female &  7.4958 & 18.0\\\\\n\t 3 & Skoog, Miss. Mabel                                      & female & 27.9000 &  9.0\\\\\n\t 3 & Skoog, Miss. Margit Elizabeth                           & female & 27.9000 &  2.0\\\\\n\t 3 & Skoog, Mrs. William (Anna Bernhardina Karlsson)         & female & 27.9000 & 45.0\\\\\n\t 3 & Stanley, Miss. Amy Zillah Elsie                         & female &  7.5500 & 23.0\\\\\n\t 3 & Strandberg, Miss. Ida Sofia                             & female &  9.8375 & 22.0\\\\\n\t 3 & Strom, Miss. Telma Matilda                              & female & 10.4625 &  2.0\\\\\n\t 3 & Strom, Mrs. Wilhelm (Elna Matilda Persson)              & female & 10.4625 & 29.0\\\\\n\t 3 & Thorneycroft, Mrs. Percival (Florence Kate White)       & female & 16.1000 &   NA\\\\\n\t 3 & Touma, Mrs. Darwis (Hanne Youssef Razi)                 & female & 15.2458 & 29.0\\\\\n\t 3 & Turja, Miss. Anna Sofia                                 & female &  9.8417 & 18.0\\\\\n\t 3 & Turkula, Mrs. (Hedwig)                                  & female &  9.5875 & 63.0\\\\\n\t 3 & Van Impe, Miss. Catharina                               & female & 24.1500 & 10.0\\\\\n\t 3 & Van Impe, Mrs. Jean Baptiste (Rosalie Paula Govaert)    & female & 24.1500 & 30.0\\\\\n\t 3 & Vander Planke, Miss. Augusta Maria                      & female & 18.0000 & 18.0\\\\\n\t 3 & Vander Planke, Mrs. Julius (Emelia Maria Vandemoortele) & female & 18.0000 & 31.0\\\\\n\t 3 & Vestrom, Miss. Hulda Amanda Adolfina                    & female &  7.8542 & 14.0\\\\\n\t 3 & Yasbeck, Mrs. Antoni (Selini Alexander)                 & female & 14.4542 & 15.0\\\\\n\t 3 & Zabour, Miss. Hileni                                    & female & 14.4542 & 14.5\\\\\n\t 3 & Zabour, Miss. Thamine                                   & female & 14.4542 &   NA\\\\\n\t 3 & de Messemaeker, Mrs. Guillaume Joseph (Emma)            & female & 17.4000 & 36.0\\\\\n\\end{tabular}\n",
            "text/plain": [
              "    Pclass Name                                                      Sex   \n",
              "1   3      Abbott, Mrs. Stanton (Rosa Hunt)                          female\n",
              "2   3      Ahlin, Mrs. Johan (Johanna Persdotter Larsson)            female\n",
              "3   3      Aks, Mrs. Sam (Leah Rosen)                                female\n",
              "4   3      Andersen-Jensen, Miss. Carla Christine Nielsine           female\n",
              "5   3      Andersson, Miss. Ebba Iris Alfrida                        female\n",
              "6   3      Andersson, Miss. Ellis Anna Maria                         female\n",
              "7   3      Andersson, Miss. Erna Alexandra                           female\n",
              "8   3      Andersson, Miss. Ingeborg Constanzia                      female\n",
              "9   3      Andersson, Miss. Sigrid Elisabeth                         female\n",
              "10  3      Andersson, Mrs. Anders Johan (Alfrida Konstantia Brogren) female\n",
              "11  3      Arnold-Franchi, Mrs. Josef (Josefine Franchi)             female\n",
              "12  3      Asplund, Miss. Lillian Gertrud                            female\n",
              "13  3      Asplund, Mrs. Carl Oscar (Selma Augusta Emilia Johansson) female\n",
              "14  3      Attalah, Miss. Malake                                     female\n",
              "15  3      Ayoub, Miss. Banoura                                      female\n",
              "16  3      Backstrom, Mrs. Karl Alfred (Maria Mathilda Gustafsson)   female\n",
              "17  3      Baclini, Miss. Eugenie                                    female\n",
              "18  3      Baclini, Miss. Helene Barbara                             female\n",
              "19  3      Baclini, Miss. Marie Catherine                            female\n",
              "20  3      Baclini, Mrs. Solomon (Latifa Qurban)                     female\n",
              "21  3      Barbara, Miss. Saiide                                     female\n",
              "22  3      Barbara, Mrs. (Catherine David)                           female\n",
              "23  3      Boulos, Miss. Nourelain                                   female\n",
              "24  3      Boulos, Mrs. Joseph (Sultana)                             female\n",
              "25  3      Bourke, Miss. Mary                                        female\n",
              "26  3      Bourke, Mrs. John (Catherine)                             female\n",
              "27  3      Cacic, Miss. Marija                                       female\n",
              "28  3      Canavan, Miss. Mary                                       female\n",
              "29  3      Caram, Mrs. Joseph (Maria Elias)                          female\n",
              "30  3      Carr, Miss. Helen \"Ellen\"                                 female\n",
              "⋮   ⋮      ⋮                                                         ⋮     \n",
              "115 3      Rice, Mrs. William (Margaret Norton)                      female\n",
              "116 3      Robins, Mrs. Alexander A (Grace Charity Laury)            female\n",
              "117 3      Rosblom, Mrs. Viktor (Helena Wilhelmina)                  female\n",
              "118 3      Sage, Miss. Constance Gladys                              female\n",
              "119 3      Sage, Miss. Dorothy Edith \"Dolly\"                         female\n",
              "120 3      Sage, Miss. Stella Anna                                   female\n",
              "121 3      Salkjelsvik, Miss. Anna Kristine                          female\n",
              "122 3      Sandstrom, Miss. Marguerite Rut                           female\n",
              "123 3      Sandstrom, Mrs. Hjalmar (Agnes Charlotta Bengtsson)       female\n",
              "124 3      Sjoblom, Miss. Anna Sofia                                 female\n",
              "125 3      Skoog, Miss. Mabel                                        female\n",
              "126 3      Skoog, Miss. Margit Elizabeth                             female\n",
              "127 3      Skoog, Mrs. William (Anna Bernhardina Karlsson)           female\n",
              "128 3      Stanley, Miss. Amy Zillah Elsie                           female\n",
              "129 3      Strandberg, Miss. Ida Sofia                               female\n",
              "130 3      Strom, Miss. Telma Matilda                                female\n",
              "131 3      Strom, Mrs. Wilhelm (Elna Matilda Persson)                female\n",
              "132 3      Thorneycroft, Mrs. Percival (Florence Kate White)         female\n",
              "133 3      Touma, Mrs. Darwis (Hanne Youssef Razi)                   female\n",
              "134 3      Turja, Miss. Anna Sofia                                   female\n",
              "135 3      Turkula, Mrs. (Hedwig)                                    female\n",
              "136 3      Van Impe, Miss. Catharina                                 female\n",
              "137 3      Van Impe, Mrs. Jean Baptiste (Rosalie Paula Govaert)      female\n",
              "138 3      Vander Planke, Miss. Augusta Maria                        female\n",
              "139 3      Vander Planke, Mrs. Julius (Emelia Maria Vandemoortele)   female\n",
              "140 3      Vestrom, Miss. Hulda Amanda Adolfina                      female\n",
              "141 3      Yasbeck, Mrs. Antoni (Selini Alexander)                   female\n",
              "142 3      Zabour, Miss. Hileni                                      female\n",
              "143 3      Zabour, Miss. Thamine                                     female\n",
              "144 3      de Messemaeker, Mrs. Guillaume Joseph (Emma)              female\n",
              "    Fare    Age  \n",
              "1   20.2500 35.00\n",
              "2    9.4750 40.00\n",
              "3    9.3500 18.00\n",
              "4    7.8542 19.00\n",
              "5   31.2750  6.00\n",
              "6   31.2750  2.00\n",
              "7    7.9250 17.00\n",
              "8   31.2750  9.00\n",
              "9   31.2750 11.00\n",
              "10  31.2750 39.00\n",
              "11  17.8000 18.00\n",
              "12  31.3875  5.00\n",
              "13  31.3875 38.00\n",
              "14  14.4583 17.00\n",
              "15   7.2292 13.00\n",
              "16  15.8500 33.00\n",
              "17  19.2583  0.75\n",
              "18  19.2583  0.75\n",
              "19  19.2583  5.00\n",
              "20  19.2583 24.00\n",
              "21  14.4542 18.00\n",
              "22  14.4542 45.00\n",
              "23  15.2458  9.00\n",
              "24  15.2458    NA\n",
              "25   7.7500    NA\n",
              "26  15.5000 32.00\n",
              "27   8.6625 30.00\n",
              "28   7.7500 21.00\n",
              "29  14.4583    NA\n",
              "30   7.7500 16.00\n",
              "⋮   ⋮       ⋮    \n",
              "115 29.1250 39.0 \n",
              "116 14.5000 47.0 \n",
              "117 20.2125 41.0 \n",
              "118 69.5500   NA \n",
              "119 69.5500   NA \n",
              "120 69.5500   NA \n",
              "121  7.6500 21.0 \n",
              "122 16.7000  4.0 \n",
              "123 16.7000 24.0 \n",
              "124  7.4958 18.0 \n",
              "125 27.9000  9.0 \n",
              "126 27.9000  2.0 \n",
              "127 27.9000 45.0 \n",
              "128  7.5500 23.0 \n",
              "129  9.8375 22.0 \n",
              "130 10.4625  2.0 \n",
              "131 10.4625 29.0 \n",
              "132 16.1000   NA \n",
              "133 15.2458 29.0 \n",
              "134  9.8417 18.0 \n",
              "135  9.5875 63.0 \n",
              "136 24.1500 10.0 \n",
              "137 24.1500 30.0 \n",
              "138 18.0000 18.0 \n",
              "139 18.0000 31.0 \n",
              "140  7.8542 14.0 \n",
              "141 14.4542 15.0 \n",
              "142 14.4542 14.5 \n",
              "143 14.4542   NA \n",
              "144 17.4000 36.0 "
            ]
          },
          "metadata": {}
        }
      ]
    },
    {
      "cell_type": "code",
      "source": [
        "#create a new variable based on the filtered values\n",
        "\n",
        "df <- titanic %>%\n",
        "  select(Pclass, Name, Sex, Fare, Age) %>%\n",
        "  filter(Sex == \"female\") %>%\n",
        "  filter(Pclass == 3) %>%\n",
        "  arrange(Name)"
      ],
      "metadata": {
        "id": "8i9oYc6R8GuB"
      },
      "execution_count": 40,
      "outputs": []
    },
    {
      "cell_type": "code",
      "source": [
        "# R has built in sample data sets\n",
        "#issue data() command"
      ],
      "metadata": {
        "id": "8ERJiDy68eMR"
      },
      "execution_count": null,
      "outputs": []
    },
    {
      "cell_type": "code",
      "source": [
        "# learn about file\n",
        "?starwars"
      ],
      "metadata": {
        "id": "nm6AZAa08zpv"
      },
      "execution_count": 43,
      "outputs": []
    },
    {
      "cell_type": "code",
      "source": [
        "# get structure\n",
        "str(starwars)"
      ],
      "metadata": {
        "id": "H5WECATg9Bht"
      },
      "execution_count": null,
      "outputs": []
    },
    {
      "cell_type": "code",
      "source": [
        "head(starwars)"
      ],
      "metadata": {
        "id": "bOiqayhZ9kJ0",
        "outputId": "c5cdd947-e267-4948-e12f-261ff10e8898",
        "colab": {
          "base_uri": "https://localhost:8080/",
          "height": 529
        }
      },
      "execution_count": 47,
      "outputs": [
        {
          "output_type": "display_data",
          "data": {
            "text/html": [
              "<table class=\"dataframe\">\n",
              "<caption>A tibble: 6 × 14</caption>\n",
              "<thead>\n",
              "\t<tr><th scope=col>name</th><th scope=col>height</th><th scope=col>mass</th><th scope=col>hair_color</th><th scope=col>skin_color</th><th scope=col>eye_color</th><th scope=col>birth_year</th><th scope=col>sex</th><th scope=col>gender</th><th scope=col>homeworld</th><th scope=col>species</th><th scope=col>films</th><th scope=col>vehicles</th><th scope=col>starships</th></tr>\n",
              "\t<tr><th scope=col>&lt;chr&gt;</th><th scope=col>&lt;int&gt;</th><th scope=col>&lt;dbl&gt;</th><th scope=col>&lt;chr&gt;</th><th scope=col>&lt;chr&gt;</th><th scope=col>&lt;chr&gt;</th><th scope=col>&lt;dbl&gt;</th><th scope=col>&lt;chr&gt;</th><th scope=col>&lt;chr&gt;</th><th scope=col>&lt;chr&gt;</th><th scope=col>&lt;chr&gt;</th><th scope=col>&lt;list&gt;</th><th scope=col>&lt;list&gt;</th><th scope=col>&lt;list&gt;</th></tr>\n",
              "</thead>\n",
              "<tbody>\n",
              "\t<tr><td>Luke Skywalker</td><td>172</td><td> 77</td><td>blond      </td><td>fair       </td><td>blue  </td><td> 19.0</td><td>male  </td><td>masculine</td><td>Tatooine</td><td>Human</td><td>The Empire Strikes Back, Revenge of the Sith    , Return of the Jedi     , A New Hope             , The Force Awakens      </td><td>Snowspeeder          , Imperial Speeder Bike</td><td>X-wing          , Imperial shuttle</td></tr>\n",
              "\t<tr><td>C-3PO         </td><td>167</td><td> 75</td><td>NA         </td><td>gold       </td><td>yellow</td><td>112.0</td><td>none  </td><td>masculine</td><td>Tatooine</td><td>Droid</td><td>The Empire Strikes Back, Attack of the Clones   , The Phantom Menace     , Revenge of the Sith    , Return of the Jedi     , A New Hope             </td><td></td><td></td></tr>\n",
              "\t<tr><td>R2-D2         </td><td> 96</td><td> 32</td><td>NA         </td><td>white, blue</td><td>red   </td><td> 33.0</td><td>none  </td><td>masculine</td><td>Naboo   </td><td>Droid</td><td>The Empire Strikes Back, Attack of the Clones   , The Phantom Menace     , Revenge of the Sith    , Return of the Jedi     , A New Hope             , The Force Awakens      </td><td></td><td></td></tr>\n",
              "\t<tr><td>Darth Vader   </td><td>202</td><td>136</td><td>none       </td><td>white      </td><td>yellow</td><td> 41.9</td><td>male  </td><td>masculine</td><td>Tatooine</td><td>Human</td><td>The Empire Strikes Back, Revenge of the Sith    , Return of the Jedi     , A New Hope             </td><td></td><td>TIE Advanced x1</td></tr>\n",
              "\t<tr><td>Leia Organa   </td><td>150</td><td> 49</td><td>brown      </td><td>light      </td><td>brown </td><td> 19.0</td><td>female</td><td>feminine </td><td>Alderaan</td><td>Human</td><td>The Empire Strikes Back, Revenge of the Sith    , Return of the Jedi     , A New Hope             , The Force Awakens      </td><td>Imperial Speeder Bike</td><td></td></tr>\n",
              "\t<tr><td>Owen Lars     </td><td>178</td><td>120</td><td>brown, grey</td><td>light      </td><td>blue  </td><td> 52.0</td><td>male  </td><td>masculine</td><td>Tatooine</td><td>Human</td><td>Attack of the Clones, Revenge of the Sith , A New Hope          </td><td></td><td></td></tr>\n",
              "</tbody>\n",
              "</table>\n"
            ],
            "text/markdown": "\nA tibble: 6 × 14\n\n| name &lt;chr&gt; | height &lt;int&gt; | mass &lt;dbl&gt; | hair_color &lt;chr&gt; | skin_color &lt;chr&gt; | eye_color &lt;chr&gt; | birth_year &lt;dbl&gt; | sex &lt;chr&gt; | gender &lt;chr&gt; | homeworld &lt;chr&gt; | species &lt;chr&gt; | films &lt;list&gt; | vehicles &lt;list&gt; | starships &lt;list&gt; |\n|---|---|---|---|---|---|---|---|---|---|---|---|---|---|\n| Luke Skywalker | 172 |  77 | blond       | fair        | blue   |  19.0 | male   | masculine | Tatooine | Human | The Empire Strikes Back, Revenge of the Sith    , Return of the Jedi     , A New Hope             , The Force Awakens       | Snowspeeder          , Imperial Speeder Bike | X-wing          , Imperial shuttle |\n| C-3PO          | 167 |  75 | NA          | gold        | yellow | 112.0 | none   | masculine | Tatooine | Droid | The Empire Strikes Back, Attack of the Clones   , The Phantom Menace     , Revenge of the Sith    , Return of the Jedi     , A New Hope              | <!----> | <!----> |\n| R2-D2          |  96 |  32 | NA          | white, blue | red    |  33.0 | none   | masculine | Naboo    | Droid | The Empire Strikes Back, Attack of the Clones   , The Phantom Menace     , Revenge of the Sith    , Return of the Jedi     , A New Hope             , The Force Awakens       | <!----> | <!----> |\n| Darth Vader    | 202 | 136 | none        | white       | yellow |  41.9 | male   | masculine | Tatooine | Human | The Empire Strikes Back, Revenge of the Sith    , Return of the Jedi     , A New Hope              | <!----> | TIE Advanced x1 |\n| Leia Organa    | 150 |  49 | brown       | light       | brown  |  19.0 | female | feminine  | Alderaan | Human | The Empire Strikes Back, Revenge of the Sith    , Return of the Jedi     , A New Hope             , The Force Awakens       | Imperial Speeder Bike | <!----> |\n| Owen Lars      | 178 | 120 | brown, grey | light       | blue   |  52.0 | male   | masculine | Tatooine | Human | Attack of the Clones, Revenge of the Sith , A New Hope           | <!----> | <!----> |\n\n",
            "text/latex": "A tibble: 6 × 14\n\\begin{tabular}{llllllllllllll}\n name & height & mass & hair\\_color & skin\\_color & eye\\_color & birth\\_year & sex & gender & homeworld & species & films & vehicles & starships\\\\\n <chr> & <int> & <dbl> & <chr> & <chr> & <chr> & <dbl> & <chr> & <chr> & <chr> & <chr> & <list> & <list> & <list>\\\\\n\\hline\n\t Luke Skywalker & 172 &  77 & blond       & fair        & blue   &  19.0 & male   & masculine & Tatooine & Human & The Empire Strikes Back, Revenge of the Sith    , Return of the Jedi     , A New Hope             , The Force Awakens       & Snowspeeder          , Imperial Speeder Bike & X-wing          , Imperial shuttle\\\\\n\t C-3PO          & 167 &  75 & NA          & gold        & yellow & 112.0 & none   & masculine & Tatooine & Droid & The Empire Strikes Back, Attack of the Clones   , The Phantom Menace     , Revenge of the Sith    , Return of the Jedi     , A New Hope              &  & \\\\\n\t R2-D2          &  96 &  32 & NA          & white, blue & red    &  33.0 & none   & masculine & Naboo    & Droid & The Empire Strikes Back, Attack of the Clones   , The Phantom Menace     , Revenge of the Sith    , Return of the Jedi     , A New Hope             , The Force Awakens       &  & \\\\\n\t Darth Vader    & 202 & 136 & none        & white       & yellow &  41.9 & male   & masculine & Tatooine & Human & The Empire Strikes Back, Revenge of the Sith    , Return of the Jedi     , A New Hope              &  & TIE Advanced x1\\\\\n\t Leia Organa    & 150 &  49 & brown       & light       & brown  &  19.0 & female & feminine  & Alderaan & Human & The Empire Strikes Back, Revenge of the Sith    , Return of the Jedi     , A New Hope             , The Force Awakens       & Imperial Speeder Bike & \\\\\n\t Owen Lars      & 178 & 120 & brown, grey & light       & blue   &  52.0 & male   & masculine & Tatooine & Human & Attack of the Clones, Revenge of the Sith , A New Hope           &  & \\\\\n\\end{tabular}\n",
            "text/plain": [
              "  name           height mass hair_color  skin_color  eye_color birth_year\n",
              "1 Luke Skywalker 172     77  blond       fair        blue       19.0     \n",
              "2 C-3PO          167     75  NA          gold        yellow    112.0     \n",
              "3 R2-D2           96     32  NA          white, blue red        33.0     \n",
              "4 Darth Vader    202    136  none        white       yellow     41.9     \n",
              "5 Leia Organa    150     49  brown       light       brown      19.0     \n",
              "6 Owen Lars      178    120  brown, grey light       blue       52.0     \n",
              "  sex    gender    homeworld species\n",
              "1 male   masculine Tatooine  Human  \n",
              "2 none   masculine Tatooine  Droid  \n",
              "3 none   masculine Naboo     Droid  \n",
              "4 male   masculine Tatooine  Human  \n",
              "5 female feminine  Alderaan  Human  \n",
              "6 male   masculine Tatooine  Human  \n",
              "  films                                                                                                                                                                        \n",
              "1 The Empire Strikes Back, Revenge of the Sith    , Return of the Jedi     , A New Hope             , The Force Awakens                                                        \n",
              "2 The Empire Strikes Back, Attack of the Clones   , The Phantom Menace     , Revenge of the Sith    , Return of the Jedi     , A New Hope                                      \n",
              "3 The Empire Strikes Back, Attack of the Clones   , The Phantom Menace     , Revenge of the Sith    , Return of the Jedi     , A New Hope             , The Force Awakens      \n",
              "4 The Empire Strikes Back, Revenge of the Sith    , Return of the Jedi     , A New Hope                                                                                        \n",
              "5 The Empire Strikes Back, Revenge of the Sith    , Return of the Jedi     , A New Hope             , The Force Awakens                                                        \n",
              "6 Attack of the Clones, Revenge of the Sith , A New Hope                                                                                                                       \n",
              "  vehicles                                    \n",
              "1 Snowspeeder          , Imperial Speeder Bike\n",
              "2                                             \n",
              "3                                             \n",
              "4                                             \n",
              "5 Imperial Speeder Bike                       \n",
              "6                                             \n",
              "  starships                         \n",
              "1 X-wing          , Imperial shuttle\n",
              "2                                   \n",
              "3                                   \n",
              "4 TIE Advanced x1                   \n",
              "5                                   \n",
              "6                                   "
            ]
          },
          "metadata": {}
        }
      ]
    },
    {
      "cell_type": "code",
      "source": [
        "starwars %>%\n",
        "  select(gender, mass, height, species) %>%\n",
        "  filter(species == \"Human\") %>%\n",
        "  na.omit()"
      ],
      "metadata": {
        "id": "i_rAl0LT8mKG",
        "outputId": "02c3a571-29c1-4924-bd84-0fa349948729",
        "colab": {
          "base_uri": "https://localhost:8080/",
          "height": 788
        }
      },
      "execution_count": 45,
      "outputs": [
        {
          "output_type": "display_data",
          "data": {
            "text/html": [
              "<table class=\"dataframe\">\n",
              "<caption>A tibble: 22 × 4</caption>\n",
              "<thead>\n",
              "\t<tr><th scope=col>gender</th><th scope=col>mass</th><th scope=col>height</th><th scope=col>species</th></tr>\n",
              "\t<tr><th scope=col>&lt;chr&gt;</th><th scope=col>&lt;dbl&gt;</th><th scope=col>&lt;int&gt;</th><th scope=col>&lt;chr&gt;</th></tr>\n",
              "</thead>\n",
              "<tbody>\n",
              "\t<tr><td>masculine</td><td> 77.0</td><td>172</td><td>Human</td></tr>\n",
              "\t<tr><td>masculine</td><td>136.0</td><td>202</td><td>Human</td></tr>\n",
              "\t<tr><td>feminine </td><td> 49.0</td><td>150</td><td>Human</td></tr>\n",
              "\t<tr><td>masculine</td><td>120.0</td><td>178</td><td>Human</td></tr>\n",
              "\t<tr><td>feminine </td><td> 75.0</td><td>165</td><td>Human</td></tr>\n",
              "\t<tr><td>masculine</td><td> 84.0</td><td>183</td><td>Human</td></tr>\n",
              "\t<tr><td>masculine</td><td> 77.0</td><td>182</td><td>Human</td></tr>\n",
              "\t<tr><td>masculine</td><td> 84.0</td><td>188</td><td>Human</td></tr>\n",
              "\t<tr><td>masculine</td><td> 80.0</td><td>180</td><td>Human</td></tr>\n",
              "\t<tr><td>masculine</td><td> 77.0</td><td>170</td><td>Human</td></tr>\n",
              "\t<tr><td>masculine</td><td>110.0</td><td>180</td><td>Human</td></tr>\n",
              "\t<tr><td>masculine</td><td> 75.0</td><td>170</td><td>Human</td></tr>\n",
              "\t<tr><td>masculine</td><td> 78.2</td><td>183</td><td>Human</td></tr>\n",
              "\t<tr><td>masculine</td><td> 79.0</td><td>177</td><td>Human</td></tr>\n",
              "\t<tr><td>masculine</td><td> 79.0</td><td>175</td><td>Human</td></tr>\n",
              "\t<tr><td>masculine</td><td> 89.0</td><td>193</td><td>Human</td></tr>\n",
              "\t<tr><td>masculine</td><td> 84.0</td><td>188</td><td>Human</td></tr>\n",
              "\t<tr><td>masculine</td><td> 85.0</td><td>185</td><td>Human</td></tr>\n",
              "\t<tr><td>masculine</td><td> 80.0</td><td>193</td><td>Human</td></tr>\n",
              "\t<tr><td>masculine</td><td> 79.0</td><td>183</td><td>Human</td></tr>\n",
              "\t<tr><td>masculine</td><td> 79.0</td><td>188</td><td>Human</td></tr>\n",
              "\t<tr><td>feminine </td><td> 45.0</td><td>165</td><td>Human</td></tr>\n",
              "</tbody>\n",
              "</table>\n"
            ],
            "text/markdown": "\nA tibble: 22 × 4\n\n| gender &lt;chr&gt; | mass &lt;dbl&gt; | height &lt;int&gt; | species &lt;chr&gt; |\n|---|---|---|---|\n| masculine |  77.0 | 172 | Human |\n| masculine | 136.0 | 202 | Human |\n| feminine  |  49.0 | 150 | Human |\n| masculine | 120.0 | 178 | Human |\n| feminine  |  75.0 | 165 | Human |\n| masculine |  84.0 | 183 | Human |\n| masculine |  77.0 | 182 | Human |\n| masculine |  84.0 | 188 | Human |\n| masculine |  80.0 | 180 | Human |\n| masculine |  77.0 | 170 | Human |\n| masculine | 110.0 | 180 | Human |\n| masculine |  75.0 | 170 | Human |\n| masculine |  78.2 | 183 | Human |\n| masculine |  79.0 | 177 | Human |\n| masculine |  79.0 | 175 | Human |\n| masculine |  89.0 | 193 | Human |\n| masculine |  84.0 | 188 | Human |\n| masculine |  85.0 | 185 | Human |\n| masculine |  80.0 | 193 | Human |\n| masculine |  79.0 | 183 | Human |\n| masculine |  79.0 | 188 | Human |\n| feminine  |  45.0 | 165 | Human |\n\n",
            "text/latex": "A tibble: 22 × 4\n\\begin{tabular}{llll}\n gender & mass & height & species\\\\\n <chr> & <dbl> & <int> & <chr>\\\\\n\\hline\n\t masculine &  77.0 & 172 & Human\\\\\n\t masculine & 136.0 & 202 & Human\\\\\n\t feminine  &  49.0 & 150 & Human\\\\\n\t masculine & 120.0 & 178 & Human\\\\\n\t feminine  &  75.0 & 165 & Human\\\\\n\t masculine &  84.0 & 183 & Human\\\\\n\t masculine &  77.0 & 182 & Human\\\\\n\t masculine &  84.0 & 188 & Human\\\\\n\t masculine &  80.0 & 180 & Human\\\\\n\t masculine &  77.0 & 170 & Human\\\\\n\t masculine & 110.0 & 180 & Human\\\\\n\t masculine &  75.0 & 170 & Human\\\\\n\t masculine &  78.2 & 183 & Human\\\\\n\t masculine &  79.0 & 177 & Human\\\\\n\t masculine &  79.0 & 175 & Human\\\\\n\t masculine &  89.0 & 193 & Human\\\\\n\t masculine &  84.0 & 188 & Human\\\\\n\t masculine &  85.0 & 185 & Human\\\\\n\t masculine &  80.0 & 193 & Human\\\\\n\t masculine &  79.0 & 183 & Human\\\\\n\t masculine &  79.0 & 188 & Human\\\\\n\t feminine  &  45.0 & 165 & Human\\\\\n\\end{tabular}\n",
            "text/plain": [
              "   gender    mass  height species\n",
              "1  masculine  77.0 172    Human  \n",
              "2  masculine 136.0 202    Human  \n",
              "3  feminine   49.0 150    Human  \n",
              "4  masculine 120.0 178    Human  \n",
              "5  feminine   75.0 165    Human  \n",
              "6  masculine  84.0 183    Human  \n",
              "7  masculine  77.0 182    Human  \n",
              "8  masculine  84.0 188    Human  \n",
              "9  masculine  80.0 180    Human  \n",
              "10 masculine  77.0 170    Human  \n",
              "11 masculine 110.0 180    Human  \n",
              "12 masculine  75.0 170    Human  \n",
              "13 masculine  78.2 183    Human  \n",
              "14 masculine  79.0 177    Human  \n",
              "15 masculine  79.0 175    Human  \n",
              "16 masculine  89.0 193    Human  \n",
              "17 masculine  84.0 188    Human  \n",
              "18 masculine  85.0 185    Human  \n",
              "19 masculine  80.0 193    Human  \n",
              "20 masculine  79.0 183    Human  \n",
              "21 masculine  79.0 188    Human  \n",
              "22 feminine   45.0 165    Human  "
            ]
          },
          "metadata": {}
        }
      ]
    },
    {
      "cell_type": "code",
      "source": [
        "# use % to learn which columns you can use\n",
        "starwars %>%\n",
        "  select(gender, mass, height, species) %>%\n",
        "  filter(species == \"Human\") %>%\n",
        "  na.omit() %>%\n",
        "  mutate(height = height / 100) %>%\n",
        "  mutate(BMI = mass / height^2) %>%\n",
        "  group_by(gender) %>%\n",
        "  summarise(Average_BMI = mean(BMI))"
      ],
      "metadata": {
        "id": "l_dx57Cd9OuX",
        "outputId": "2975cbd8-e13a-46b1-d1c3-01cf87ff3d56",
        "colab": {
          "base_uri": "https://localhost:8080/",
          "height": 161
        }
      },
      "execution_count": 52,
      "outputs": [
        {
          "output_type": "display_data",
          "data": {
            "text/html": [
              "<table class=\"dataframe\">\n",
              "<caption>A tibble: 2 × 2</caption>\n",
              "<thead>\n",
              "\t<tr><th scope=col>gender</th><th scope=col>Average_BMI</th></tr>\n",
              "\t<tr><th scope=col>&lt;chr&gt;</th><th scope=col>&lt;dbl&gt;</th></tr>\n",
              "</thead>\n",
              "<tbody>\n",
              "\t<tr><td>feminine </td><td>21.95164</td></tr>\n",
              "\t<tr><td>masculine</td><td>26.04427</td></tr>\n",
              "</tbody>\n",
              "</table>\n"
            ],
            "text/markdown": "\nA tibble: 2 × 2\n\n| gender &lt;chr&gt; | Average_BMI &lt;dbl&gt; |\n|---|---|\n| feminine  | 21.95164 |\n| masculine | 26.04427 |\n\n",
            "text/latex": "A tibble: 2 × 2\n\\begin{tabular}{ll}\n gender & Average\\_BMI\\\\\n <chr> & <dbl>\\\\\n\\hline\n\t feminine  & 21.95164\\\\\n\t masculine & 26.04427\\\\\n\\end{tabular}\n",
            "text/plain": [
              "  gender    Average_BMI\n",
              "1 feminine  21.95164   \n",
              "2 masculine 26.04427   "
            ]
          },
          "metadata": {}
        }
      ]
    }
  ]
}