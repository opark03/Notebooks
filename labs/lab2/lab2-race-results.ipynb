{
  "nbformat": 4,
  "nbformat_minor": 0,
  "metadata": {
    "colab": {
      "provenance": [],
      "include_colab_link": true
    },
    "kernelspec": {
      "name": "ir",
      "display_name": "R"
    },
    "language_info": {
      "name": "R"
    }
  },
  "cells": [
    {
      "cell_type": "markdown",
      "metadata": {
        "id": "view-in-github",
        "colab_type": "text"
      },
      "source": [
        "<a href=\"https://colab.research.google.com/github/opark03/Notebooks/blob/main/labs/lab2/lab2-race-results.ipynb\" target=\"_parent\"><img src=\"https://colab.research.google.com/assets/colab-badge.svg\" alt=\"Open In Colab\"/></a>"
      ]
    },
    {
      "cell_type": "markdown",
      "source": [
        "# DS1002 Lab 2: Determine Race Results with R\n",
        "\n",
        "In this lab you will work with a dataset, writing R to generate the deliverables specified in the cells below.\n",
        "\n",
        "The dataset for this lab is made up of fictitious results from a road race. Runner information and results is provided in the data.\n",
        "\n",
        "Answer the questions below with the appropriate R code. Point assignments are indicated for each section. There are 10 total points possible for this lab.\n",
        "\n",
        "Useful reference material (check all R modules within the Canvas site for more help)\n",
        "- [R Reference Material](https://canvas.its.virginia.edu/courses/78571/modules#module_219810).\n",
        "- [Plots Samples](https://colab.research.google.com/github/nmagee/ds1002/blob/main/notebooks/25-plots-in-r.ipynb)"
      ],
      "metadata": {
        "id": "2yEePrJ-1G1Z"
      }
    },
    {
      "cell_type": "markdown",
      "source": [
        "## Group Submissions\n",
        "\n",
        "If you are working in a group to complete this lab, you may have no more than 3 members to a group. Group members should be indicated in the cell below -- list both names and UVA computing IDs.\n",
        "\n",
        "Each student should then submit **the same URL** for the lab in Canvas. (If a group has Member1, Member2, and Member3, only one member needs to save the completed work back to GitHub and all members should submit that URL for grading.)"
      ],
      "metadata": {
        "id": "acXFkytd2PWS"
      }
    },
    {
      "cell_type": "code",
      "source": [
        "# List group members (if applicable). Identify names and computing IDs\n",
        "#\n",
        "# Name                    Computing ID"
      ],
      "metadata": {
        "id": "4N8_o3tG232h"
      },
      "execution_count": null,
      "outputs": []
    },
    {
      "cell_type": "markdown",
      "source": [
        "## 1. Load Libraries & Data (1 pt)\n",
        "\n",
        "https://raw.githubusercontent.com/nmagee/ds1002/main/data/road-race.csv\n",
        "\n",
        "Import any necessary libraries and load the remote CSV file below into a data frame."
      ],
      "metadata": {
        "id": "w0VxTDNf1k2O"
      }
    },
    {
      "cell_type": "code",
      "execution_count": 24,
      "metadata": {
        "id": "I0B9chFD1GR0"
      },
      "outputs": [],
      "source": [
        "#\n",
        "library(dplyr)\n",
        "dataset <- read.csv(\"https://raw.githubusercontent.com/nmagee/ds1002/main/data/road-race.csv\")"
      ]
    },
    {
      "cell_type": "markdown",
      "source": [
        "## 2. Get Summary Data (1 pt)"
      ],
      "metadata": {
        "id": "H389W9dkobGI"
      }
    },
    {
      "cell_type": "markdown",
      "source": [
        "In code, display how many rows and columns are in the raw dataset."
      ],
      "metadata": {
        "id": "KA0wbjmE-4Q9"
      }
    },
    {
      "cell_type": "code",
      "source": [
        "#\n",
        "str(dataset)"
      ],
      "metadata": {
        "id": "XhULtu7qox-p",
        "outputId": "eafc5d74-ef42-4fd4-e088-7d129aae3039",
        "colab": {
          "base_uri": "https://localhost:8080/"
        }
      },
      "execution_count": 25,
      "outputs": [
        {
          "output_type": "stream",
          "name": "stdout",
          "text": [
            "'data.frame':\t764 obs. of  5 variables:\n",
            " $ runner_bib   : int  1 2 3 4 5 6 7 8 9 10 ...\n",
            " $ runner_name  : chr  \"Loydie Lopes\" \"Lorens Crispe\" \"Shirline Hasser\" \"Alleyn Hartshorn\" ...\n",
            " $ runner_age   : int  17 33 22 39 50 44 51 44 30 60 ...\n",
            " $ runner_gender: chr  \"Male\" \"Male\" \"Female\" \"Male\" ...\n",
            " $ finish_time  : chr  \"16:01\" \"15:40\" \"14:20\" \"17:06\" ...\n"
          ]
        }
      ]
    },
    {
      "cell_type": "code",
      "source": [
        "dim(dataset)"
      ],
      "metadata": {
        "id": "T1IzN-5P9xZV",
        "outputId": "03c21b22-44db-46b8-eb12-d8ce39e75499",
        "colab": {
          "base_uri": "https://localhost:8080/",
          "height": 34
        }
      },
      "execution_count": 40,
      "outputs": [
        {
          "output_type": "display_data",
          "data": {
            "text/html": [
              "<style>\n",
              ".list-inline {list-style: none; margin:0; padding: 0}\n",
              ".list-inline>li {display: inline-block}\n",
              ".list-inline>li:not(:last-child)::after {content: \"\\00b7\"; padding: 0 .5ex}\n",
              "</style>\n",
              "<ol class=list-inline><li>594</li><li>5</li></ol>\n"
            ],
            "text/markdown": "1. 594\n2. 5\n\n\n",
            "text/latex": "\\begin{enumerate*}\n\\item 594\n\\item 5\n\\end{enumerate*}\n",
            "text/plain": [
              "[1] 594   5"
            ]
          },
          "metadata": {}
        }
      ]
    },
    {
      "cell_type": "markdown",
      "source": [
        "## 3. Clean and Organize the Data (2 pts)\n",
        "\n",
        "Check for data quality.\n",
        "\n",
        "- Resolve any duplicate rows.\n",
        "- If a runner does not have a finish time, they are DNF and should not be counted in the dataset.\n",
        "\n"
      ],
      "metadata": {
        "id": "abshX7QeooAs"
      }
    },
    {
      "cell_type": "code",
      "source": [
        "# First looking to see how many duplicated rows\n",
        "nrow(dataset[duplicated(dataset), ])"
      ],
      "metadata": {
        "id": "Aq3J7yD82uwW",
        "outputId": "0e243119-ad5e-4490-fab5-c57a8d93adba",
        "colab": {
          "base_uri": "https://localhost:8080/",
          "height": 34
        }
      },
      "execution_count": 26,
      "outputs": [
        {
          "output_type": "display_data",
          "data": {
            "text/html": [
              "124"
            ],
            "text/markdown": "124",
            "text/latex": "124",
            "text/plain": [
              "[1] 124"
            ]
          },
          "metadata": {}
        }
      ]
    },
    {
      "cell_type": "code",
      "source": [
        "dataset <- dataset[!duplicated(dataset), ]\n",
        "nrow(dataset[duplicated(dataset), ])"
      ],
      "metadata": {
        "id": "86wzXiWe3A8N",
        "outputId": "9332e09e-d919-48bb-e2a0-8d88d35716c7",
        "colab": {
          "base_uri": "https://localhost:8080/",
          "height": 34
        }
      },
      "execution_count": 27,
      "outputs": [
        {
          "output_type": "display_data",
          "data": {
            "text/html": [
              "0"
            ],
            "text/markdown": "0",
            "text/latex": "0",
            "text/plain": [
              "[1] 0"
            ]
          },
          "metadata": {}
        }
      ]
    },
    {
      "cell_type": "code",
      "source": [
        "dataset <- dataset[dataset$finish_time != \"\", ]"
      ],
      "metadata": {
        "id": "ZO5v0Wgp5RD7"
      },
      "execution_count": 38,
      "outputs": []
    },
    {
      "cell_type": "code",
      "source": [
        "head(dataset, 10)"
      ],
      "metadata": {
        "id": "Tx64MRVJ8wwZ",
        "outputId": "a1b29e77-5f7f-4684-a631-5ce19437667c",
        "colab": {
          "base_uri": "https://localhost:8080/",
          "height": 412
        }
      },
      "execution_count": 39,
      "outputs": [
        {
          "output_type": "display_data",
          "data": {
            "text/html": [
              "<table class=\"dataframe\">\n",
              "<caption>A data.frame: 10 × 5</caption>\n",
              "<thead>\n",
              "\t<tr><th></th><th scope=col>runner_bib</th><th scope=col>runner_name</th><th scope=col>runner_age</th><th scope=col>runner_gender</th><th scope=col>finish_time</th></tr>\n",
              "\t<tr><th></th><th scope=col>&lt;int&gt;</th><th scope=col>&lt;chr&gt;</th><th scope=col>&lt;int&gt;</th><th scope=col>&lt;chr&gt;</th><th scope=col>&lt;chr&gt;</th></tr>\n",
              "</thead>\n",
              "<tbody>\n",
              "\t<tr><th scope=row>1</th><td> 1</td><td>Loydie Lopes    </td><td>17</td><td>Male  </td><td>16:01</td></tr>\n",
              "\t<tr><th scope=row>2</th><td> 2</td><td>Lorens Crispe   </td><td>33</td><td>Male  </td><td>15:40</td></tr>\n",
              "\t<tr><th scope=row>3</th><td> 3</td><td>Shirline Hasser </td><td>22</td><td>Female</td><td>14:20</td></tr>\n",
              "\t<tr><th scope=row>4</th><td> 4</td><td>Alleyn Hartshorn</td><td>39</td><td>Male  </td><td>17:06</td></tr>\n",
              "\t<tr><th scope=row>5</th><td> 5</td><td>Wang MacColl    </td><td>50</td><td>Male  </td><td>16:49</td></tr>\n",
              "\t<tr><th scope=row>6</th><td> 6</td><td>Tonnie Tidder   </td><td>44</td><td>Male  </td><td>15:43</td></tr>\n",
              "\t<tr><th scope=row>8</th><td> 8</td><td>Basil Moxsom    </td><td>44</td><td>Male  </td><td>15:16</td></tr>\n",
              "\t<tr><th scope=row>9</th><td> 9</td><td>Lark Bragge     </td><td>30</td><td>Female</td><td>15:59</td></tr>\n",
              "\t<tr><th scope=row>10</th><td>10</td><td>Kent Wakely     </td><td>60</td><td>Male  </td><td>14:29</td></tr>\n",
              "\t<tr><th scope=row>11</th><td>11</td><td>Judye Hattrick  </td><td>17</td><td>Female</td><td>15:27</td></tr>\n",
              "</tbody>\n",
              "</table>\n"
            ],
            "text/markdown": "\nA data.frame: 10 × 5\n\n| <!--/--> | runner_bib &lt;int&gt; | runner_name &lt;chr&gt; | runner_age &lt;int&gt; | runner_gender &lt;chr&gt; | finish_time &lt;chr&gt; |\n|---|---|---|---|---|---|\n| 1 |  1 | Loydie Lopes     | 17 | Male   | 16:01 |\n| 2 |  2 | Lorens Crispe    | 33 | Male   | 15:40 |\n| 3 |  3 | Shirline Hasser  | 22 | Female | 14:20 |\n| 4 |  4 | Alleyn Hartshorn | 39 | Male   | 17:06 |\n| 5 |  5 | Wang MacColl     | 50 | Male   | 16:49 |\n| 6 |  6 | Tonnie Tidder    | 44 | Male   | 15:43 |\n| 8 |  8 | Basil Moxsom     | 44 | Male   | 15:16 |\n| 9 |  9 | Lark Bragge      | 30 | Female | 15:59 |\n| 10 | 10 | Kent Wakely      | 60 | Male   | 14:29 |\n| 11 | 11 | Judye Hattrick   | 17 | Female | 15:27 |\n\n",
            "text/latex": "A data.frame: 10 × 5\n\\begin{tabular}{r|lllll}\n  & runner\\_bib & runner\\_name & runner\\_age & runner\\_gender & finish\\_time\\\\\n  & <int> & <chr> & <int> & <chr> & <chr>\\\\\n\\hline\n\t1 &  1 & Loydie Lopes     & 17 & Male   & 16:01\\\\\n\t2 &  2 & Lorens Crispe    & 33 & Male   & 15:40\\\\\n\t3 &  3 & Shirline Hasser  & 22 & Female & 14:20\\\\\n\t4 &  4 & Alleyn Hartshorn & 39 & Male   & 17:06\\\\\n\t5 &  5 & Wang MacColl     & 50 & Male   & 16:49\\\\\n\t6 &  6 & Tonnie Tidder    & 44 & Male   & 15:43\\\\\n\t8 &  8 & Basil Moxsom     & 44 & Male   & 15:16\\\\\n\t9 &  9 & Lark Bragge      & 30 & Female & 15:59\\\\\n\t10 & 10 & Kent Wakely      & 60 & Male   & 14:29\\\\\n\t11 & 11 & Judye Hattrick   & 17 & Female & 15:27\\\\\n\\end{tabular}\n",
            "text/plain": [
              "   runner_bib runner_name      runner_age runner_gender finish_time\n",
              "1   1         Loydie Lopes     17         Male          16:01      \n",
              "2   2         Lorens Crispe    33         Male          15:40      \n",
              "3   3         Shirline Hasser  22         Female        14:20      \n",
              "4   4         Alleyn Hartshorn 39         Male          17:06      \n",
              "5   5         Wang MacColl     50         Male          16:49      \n",
              "6   6         Tonnie Tidder    44         Male          15:43      \n",
              "8   8         Basil Moxsom     44         Male          15:16      \n",
              "9   9         Lark Bragge      30         Female        15:59      \n",
              "10 10         Kent Wakely      60         Male          14:29      \n",
              "11 11         Judye Hattrick   17         Female        15:27      "
            ]
          },
          "metadata": {}
        }
      ]
    },
    {
      "cell_type": "markdown",
      "source": [
        "Now display the first 10 rows of the cleaned dataset."
      ],
      "metadata": {
        "id": "Ccwu8bUx_Azj"
      }
    },
    {
      "cell_type": "markdown",
      "source": [
        "## 4. Calculate Elapsed Time (3 pts)"
      ],
      "metadata": {
        "id": "3-4dd8nsr_zF"
      }
    },
    {
      "cell_type": "markdown",
      "source": [
        "Using R, add a new column named `[\"finish_minutes\"]` to the dataframe that calculates the number of minutes it took for the runner to complete the race. Ideally this is a column consisting of plain integers.\n",
        "\n",
        "The starting gun was fired at precisely 12:00pm that day.\n",
        "\n",
        "Note: This is calculated using a built-in function of R, `difftime()` which takes 3 parameters:\n",
        "\n",
        "- End time\n",
        "- Start time\n",
        "- Units\n",
        "\n",
        "The result is an output that figures the difference between the two: `3 days`, `14 years`, `112 mins`, etc.\n",
        "\n",
        "The syntax for that function is below. Take care to use the proper order of parameters. The `as.POSIXct` casting makes it possible to read a long datetime in the `YYYY-MM-DDTHH:MM` format, a common `datetime` value. The `format` parameter specifies the pattern you are trying to read.\n",
        "\n",
        "```\n",
        "df$new-column <- (difftime( as.POSIXct(df$end-column, format=\"%Y-%m-%dT%H:%M\"),\n",
        "                            as.POSIXct(df$start-column, format=\"%Y-%m-%dT%H:%M\"),\n",
        "                            units=\"min\"))\n",
        "```"
      ],
      "metadata": {
        "id": "HrGLlM83vH0c"
      }
    },
    {
      "cell_type": "code",
      "source": [
        "# i am too confused here\n"
      ],
      "metadata": {
        "id": "5HKqg1bfAXbl",
        "outputId": "c023875d-254c-41b3-a15d-e52f67cb1ede",
        "colab": {
          "base_uri": "https://localhost:8080/",
          "height": 199
        }
      },
      "execution_count": 10,
      "outputs": [
        {
          "output_type": "error",
          "ename": "ERROR",
          "evalue": "ignored",
          "traceback": [
            "Error in df$end: object of type 'closure' is not subsettable\nTraceback:\n",
            "1. difftime(as.POSIXct(df$end - column, format = \"%Y-%m-%dT%H:%M\"), \n .     as.POSIXct(df$start - column, format = \"%Y-%m-%dT%H:%M\"), \n .     units = \"min\")",
            "2. as.POSIXct(time1)"
          ]
        }
      ]
    },
    {
      "cell_type": "markdown",
      "source": [
        "## 5. Identify Winners by Gender (2 pts)"
      ],
      "metadata": {
        "id": "KKg8d9RDyeDa"
      }
    },
    {
      "cell_type": "markdown",
      "source": [
        "Based on the minutes it took each runner to complete the race, identify the top three places for each gender.\n",
        "\n",
        "There are several ways to do this, some of which require less code than others. You will only be graded for producing the correct output, not on how elegant/advanced your programming is."
      ],
      "metadata": {
        "id": "5kKBo3_sykGD"
      }
    },
    {
      "cell_type": "code",
      "source": [
        "#\n",
        "dataset %>%\n",
        "  group_by(runner_gender) %>%\n",
        "  mutate(rank = dense_rank(finish_time)) %>%\n",
        "  ungroup() %>%\n",
        "  arrange(runner_gender, rank) %>%\n",
        "  filter(rank <= 3)"
      ],
      "metadata": {
        "id": "xRlliRMY2_-c",
        "outputId": "fc2b1e37-38c4-4c97-83ee-1442d91ff56c",
        "colab": {
          "base_uri": "https://localhost:8080/",
          "height": 1000
        }
      },
      "execution_count": 43,
      "outputs": [
        {
          "output_type": "display_data",
          "data": {
            "text/html": [
              "<table class=\"dataframe\">\n",
              "<caption>A tibble: 31 × 6</caption>\n",
              "<thead>\n",
              "\t<tr><th scope=col>runner_bib</th><th scope=col>runner_name</th><th scope=col>runner_age</th><th scope=col>runner_gender</th><th scope=col>finish_time</th><th scope=col>rank</th></tr>\n",
              "\t<tr><th scope=col>&lt;int&gt;</th><th scope=col>&lt;chr&gt;</th><th scope=col>&lt;int&gt;</th><th scope=col>&lt;chr&gt;</th><th scope=col>&lt;chr&gt;</th><th scope=col>&lt;int&gt;</th></tr>\n",
              "</thead>\n",
              "<tbody>\n",
              "\t<tr><td>321</td><td>Jacobo Telling        </td><td>33</td><td>Agender    </td><td>14:47</td><td>1</td></tr>\n",
              "\t<tr><td>480</td><td>Tomasina Greensall    </td><td>22</td><td>Agender    </td><td>15:12</td><td>2</td></tr>\n",
              "\t<tr><td>332</td><td>Ina Bonifant          </td><td>30</td><td>Agender    </td><td>15:17</td><td>3</td></tr>\n",
              "\t<tr><td>249</td><td>Sephira Kirgan        </td><td>33</td><td>Bigender   </td><td>14:24</td><td>1</td></tr>\n",
              "\t<tr><td>546</td><td>Chauncey Langthorne   </td><td>16</td><td>Bigender   </td><td>14:29</td><td>2</td></tr>\n",
              "\t<tr><td>263</td><td>Ernestus Draper       </td><td>45</td><td>Bigender   </td><td>14:58</td><td>3</td></tr>\n",
              "\t<tr><td> 21</td><td>Carmencita Petrishchev</td><td>20</td><td>Female     </td><td>14:15</td><td>1</td></tr>\n",
              "\t<tr><td>134</td><td>Marylin Standering    </td><td>18</td><td>Female     </td><td>14:15</td><td>1</td></tr>\n",
              "\t<tr><td>238</td><td>Melloney Fonteyne     </td><td>20</td><td>Female     </td><td>14:15</td><td>1</td></tr>\n",
              "\t<tr><td>415</td><td>Dalia Neathway        </td><td>56</td><td>Female     </td><td>14:15</td><td>1</td></tr>\n",
              "\t<tr><td>266</td><td>Devan Attwill         </td><td>48</td><td>Female     </td><td>14:16</td><td>2</td></tr>\n",
              "\t<tr><td>544</td><td>Sophia Douberday      </td><td>31</td><td>Female     </td><td>14:16</td><td>2</td></tr>\n",
              "\t<tr><td> 74</td><td>Helene Dilon          </td><td>61</td><td>Female     </td><td>14:18</td><td>3</td></tr>\n",
              "\t<tr><td>207</td><td>Madalyn Farny         </td><td>15</td><td>Female     </td><td>14:18</td><td>3</td></tr>\n",
              "\t<tr><td>570</td><td>Mirella Cabotto       </td><td>41</td><td>Female     </td><td>14:18</td><td>3</td></tr>\n",
              "\t<tr><td>152</td><td>Patrice Draye         </td><td>18</td><td>Genderfluid</td><td>14:15</td><td>1</td></tr>\n",
              "\t<tr><td>606</td><td>Nonna Restill         </td><td>57</td><td>Genderfluid</td><td>14:24</td><td>2</td></tr>\n",
              "\t<tr><td>421</td><td>Neysa Willatt         </td><td>60</td><td>Genderfluid</td><td>14:33</td><td>3</td></tr>\n",
              "\t<tr><td>547</td><td>Patin Dawidowitsch    </td><td>17</td><td>Genderqueer</td><td>15:27</td><td>1</td></tr>\n",
              "\t<tr><td>527</td><td>Bobby Sykes           </td><td>52</td><td>Genderqueer</td><td>15:28</td><td>2</td></tr>\n",
              "\t<tr><td>590</td><td>Abigale Beedle        </td><td>41</td><td>Genderqueer</td><td>15:34</td><td>3</td></tr>\n",
              "\t<tr><td>393</td><td>Ker Dearden           </td><td>62</td><td>Male       </td><td>14:15</td><td>1</td></tr>\n",
              "\t<tr><td>114</td><td>Arin Maffezzoli       </td><td>52</td><td>Male       </td><td>14:18</td><td>2</td></tr>\n",
              "\t<tr><td>325</td><td>Holt Teissier         </td><td>36</td><td>Male       </td><td>14:18</td><td>2</td></tr>\n",
              "\t<tr><td>514</td><td>Rooney Klausewitz     </td><td>57</td><td>Male       </td><td>14:19</td><td>3</td></tr>\n",
              "\t<tr><td>341</td><td>Gaylor Buckett        </td><td>17</td><td>Non-binary </td><td>14:29</td><td>1</td></tr>\n",
              "\t<tr><td> 38</td><td>Mellie Merryfield     </td><td>54</td><td>Non-binary </td><td>15:03</td><td>2</td></tr>\n",
              "\t<tr><td>426</td><td>Base Dukes            </td><td>62</td><td>Non-binary </td><td>15:19</td><td>3</td></tr>\n",
              "\t<tr><td>283</td><td>Karyl Pyne            </td><td>38</td><td>Polygender </td><td>14:21</td><td>1</td></tr>\n",
              "\t<tr><td>356</td><td>Alair Blyde           </td><td>42</td><td>Polygender </td><td>14:27</td><td>2</td></tr>\n",
              "\t<tr><td>578</td><td>Dagmar Bedburrow      </td><td>47</td><td>Polygender </td><td>14:49</td><td>3</td></tr>\n",
              "</tbody>\n",
              "</table>\n"
            ],
            "text/markdown": "\nA tibble: 31 × 6\n\n| runner_bib &lt;int&gt; | runner_name &lt;chr&gt; | runner_age &lt;int&gt; | runner_gender &lt;chr&gt; | finish_time &lt;chr&gt; | rank &lt;int&gt; |\n|---|---|---|---|---|---|\n| 321 | Jacobo Telling         | 33 | Agender     | 14:47 | 1 |\n| 480 | Tomasina Greensall     | 22 | Agender     | 15:12 | 2 |\n| 332 | Ina Bonifant           | 30 | Agender     | 15:17 | 3 |\n| 249 | Sephira Kirgan         | 33 | Bigender    | 14:24 | 1 |\n| 546 | Chauncey Langthorne    | 16 | Bigender    | 14:29 | 2 |\n| 263 | Ernestus Draper        | 45 | Bigender    | 14:58 | 3 |\n|  21 | Carmencita Petrishchev | 20 | Female      | 14:15 | 1 |\n| 134 | Marylin Standering     | 18 | Female      | 14:15 | 1 |\n| 238 | Melloney Fonteyne      | 20 | Female      | 14:15 | 1 |\n| 415 | Dalia Neathway         | 56 | Female      | 14:15 | 1 |\n| 266 | Devan Attwill          | 48 | Female      | 14:16 | 2 |\n| 544 | Sophia Douberday       | 31 | Female      | 14:16 | 2 |\n|  74 | Helene Dilon           | 61 | Female      | 14:18 | 3 |\n| 207 | Madalyn Farny          | 15 | Female      | 14:18 | 3 |\n| 570 | Mirella Cabotto        | 41 | Female      | 14:18 | 3 |\n| 152 | Patrice Draye          | 18 | Genderfluid | 14:15 | 1 |\n| 606 | Nonna Restill          | 57 | Genderfluid | 14:24 | 2 |\n| 421 | Neysa Willatt          | 60 | Genderfluid | 14:33 | 3 |\n| 547 | Patin Dawidowitsch     | 17 | Genderqueer | 15:27 | 1 |\n| 527 | Bobby Sykes            | 52 | Genderqueer | 15:28 | 2 |\n| 590 | Abigale Beedle         | 41 | Genderqueer | 15:34 | 3 |\n| 393 | Ker Dearden            | 62 | Male        | 14:15 | 1 |\n| 114 | Arin Maffezzoli        | 52 | Male        | 14:18 | 2 |\n| 325 | Holt Teissier          | 36 | Male        | 14:18 | 2 |\n| 514 | Rooney Klausewitz      | 57 | Male        | 14:19 | 3 |\n| 341 | Gaylor Buckett         | 17 | Non-binary  | 14:29 | 1 |\n|  38 | Mellie Merryfield      | 54 | Non-binary  | 15:03 | 2 |\n| 426 | Base Dukes             | 62 | Non-binary  | 15:19 | 3 |\n| 283 | Karyl Pyne             | 38 | Polygender  | 14:21 | 1 |\n| 356 | Alair Blyde            | 42 | Polygender  | 14:27 | 2 |\n| 578 | Dagmar Bedburrow       | 47 | Polygender  | 14:49 | 3 |\n\n",
            "text/latex": "A tibble: 31 × 6\n\\begin{tabular}{llllll}\n runner\\_bib & runner\\_name & runner\\_age & runner\\_gender & finish\\_time & rank\\\\\n <int> & <chr> & <int> & <chr> & <chr> & <int>\\\\\n\\hline\n\t 321 & Jacobo Telling         & 33 & Agender     & 14:47 & 1\\\\\n\t 480 & Tomasina Greensall     & 22 & Agender     & 15:12 & 2\\\\\n\t 332 & Ina Bonifant           & 30 & Agender     & 15:17 & 3\\\\\n\t 249 & Sephira Kirgan         & 33 & Bigender    & 14:24 & 1\\\\\n\t 546 & Chauncey Langthorne    & 16 & Bigender    & 14:29 & 2\\\\\n\t 263 & Ernestus Draper        & 45 & Bigender    & 14:58 & 3\\\\\n\t  21 & Carmencita Petrishchev & 20 & Female      & 14:15 & 1\\\\\n\t 134 & Marylin Standering     & 18 & Female      & 14:15 & 1\\\\\n\t 238 & Melloney Fonteyne      & 20 & Female      & 14:15 & 1\\\\\n\t 415 & Dalia Neathway         & 56 & Female      & 14:15 & 1\\\\\n\t 266 & Devan Attwill          & 48 & Female      & 14:16 & 2\\\\\n\t 544 & Sophia Douberday       & 31 & Female      & 14:16 & 2\\\\\n\t  74 & Helene Dilon           & 61 & Female      & 14:18 & 3\\\\\n\t 207 & Madalyn Farny          & 15 & Female      & 14:18 & 3\\\\\n\t 570 & Mirella Cabotto        & 41 & Female      & 14:18 & 3\\\\\n\t 152 & Patrice Draye          & 18 & Genderfluid & 14:15 & 1\\\\\n\t 606 & Nonna Restill          & 57 & Genderfluid & 14:24 & 2\\\\\n\t 421 & Neysa Willatt          & 60 & Genderfluid & 14:33 & 3\\\\\n\t 547 & Patin Dawidowitsch     & 17 & Genderqueer & 15:27 & 1\\\\\n\t 527 & Bobby Sykes            & 52 & Genderqueer & 15:28 & 2\\\\\n\t 590 & Abigale Beedle         & 41 & Genderqueer & 15:34 & 3\\\\\n\t 393 & Ker Dearden            & 62 & Male        & 14:15 & 1\\\\\n\t 114 & Arin Maffezzoli        & 52 & Male        & 14:18 & 2\\\\\n\t 325 & Holt Teissier          & 36 & Male        & 14:18 & 2\\\\\n\t 514 & Rooney Klausewitz      & 57 & Male        & 14:19 & 3\\\\\n\t 341 & Gaylor Buckett         & 17 & Non-binary  & 14:29 & 1\\\\\n\t  38 & Mellie Merryfield      & 54 & Non-binary  & 15:03 & 2\\\\\n\t 426 & Base Dukes             & 62 & Non-binary  & 15:19 & 3\\\\\n\t 283 & Karyl Pyne             & 38 & Polygender  & 14:21 & 1\\\\\n\t 356 & Alair Blyde            & 42 & Polygender  & 14:27 & 2\\\\\n\t 578 & Dagmar Bedburrow       & 47 & Polygender  & 14:49 & 3\\\\\n\\end{tabular}\n",
            "text/plain": [
              "   runner_bib runner_name            runner_age runner_gender finish_time rank\n",
              "1  321        Jacobo Telling         33         Agender       14:47       1   \n",
              "2  480        Tomasina Greensall     22         Agender       15:12       2   \n",
              "3  332        Ina Bonifant           30         Agender       15:17       3   \n",
              "4  249        Sephira Kirgan         33         Bigender      14:24       1   \n",
              "5  546        Chauncey Langthorne    16         Bigender      14:29       2   \n",
              "6  263        Ernestus Draper        45         Bigender      14:58       3   \n",
              "7   21        Carmencita Petrishchev 20         Female        14:15       1   \n",
              "8  134        Marylin Standering     18         Female        14:15       1   \n",
              "9  238        Melloney Fonteyne      20         Female        14:15       1   \n",
              "10 415        Dalia Neathway         56         Female        14:15       1   \n",
              "11 266        Devan Attwill          48         Female        14:16       2   \n",
              "12 544        Sophia Douberday       31         Female        14:16       2   \n",
              "13  74        Helene Dilon           61         Female        14:18       3   \n",
              "14 207        Madalyn Farny          15         Female        14:18       3   \n",
              "15 570        Mirella Cabotto        41         Female        14:18       3   \n",
              "16 152        Patrice Draye          18         Genderfluid   14:15       1   \n",
              "17 606        Nonna Restill          57         Genderfluid   14:24       2   \n",
              "18 421        Neysa Willatt          60         Genderfluid   14:33       3   \n",
              "19 547        Patin Dawidowitsch     17         Genderqueer   15:27       1   \n",
              "20 527        Bobby Sykes            52         Genderqueer   15:28       2   \n",
              "21 590        Abigale Beedle         41         Genderqueer   15:34       3   \n",
              "22 393        Ker Dearden            62         Male          14:15       1   \n",
              "23 114        Arin Maffezzoli        52         Male          14:18       2   \n",
              "24 325        Holt Teissier          36         Male          14:18       2   \n",
              "25 514        Rooney Klausewitz      57         Male          14:19       3   \n",
              "26 341        Gaylor Buckett         17         Non-binary    14:29       1   \n",
              "27  38        Mellie Merryfield      54         Non-binary    15:03       2   \n",
              "28 426        Base Dukes             62         Non-binary    15:19       3   \n",
              "29 283        Karyl Pyne             38         Polygender    14:21       1   \n",
              "30 356        Alair Blyde            42         Polygender    14:27       2   \n",
              "31 578        Dagmar Bedburrow       47         Polygender    14:49       3   "
            ]
          },
          "metadata": {}
        }
      ]
    },
    {
      "cell_type": "markdown",
      "source": [
        "## 6. Plot the Data (3 pts)"
      ],
      "metadata": {
        "id": "2B9dxJbno0s0"
      }
    },
    {
      "cell_type": "markdown",
      "source": [
        "Finally, using `ggplot2` create two plots of the data -- density plots of race finishers.\n",
        "\n",
        "- In the first plot use `finish_minutes` as the x axis.\n",
        "- In the second plot use `runner_age` as the x axis.\n",
        "- Use `runner_gender` as the fill.\n",
        "- We suggest using a `geom_density(alpha=0.2)` or therabouts to see layers through one another.\n",
        "- Use the `gridExtra` library's `grid.arrange()` method to plot them both.\n",
        "\n",
        "You will note that since this is artificial data you will be able to see the gender layers clearly enough but they will not be statistically meaningful."
      ],
      "metadata": {
        "id": "LwMrL6-AplCH"
      }
    },
    {
      "cell_type": "code",
      "source": [
        "#\n",
        "library(ggplot2)\n",
        "library(gridExtra)\n",
        "\n",
        "plot_finish_minutes <- ggplot(dataset, aes(x = ))\n"
      ],
      "metadata": {
        "id": "9vDIw9YeERNx"
      },
      "execution_count": null,
      "outputs": []
    }
  ]
}