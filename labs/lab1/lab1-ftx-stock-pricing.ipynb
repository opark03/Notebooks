{
  "nbformat": 4,
  "nbformat_minor": 0,
  "metadata": {
    "colab": {
      "provenance": [],
      "toc_visible": true,
      "include_colab_link": true
    },
    "kernelspec": {
      "name": "python3",
      "display_name": "Python 3"
    },
    "language_info": {
      "name": "python"
    }
  },
  "cells": [
    {
      "cell_type": "markdown",
      "metadata": {
        "id": "view-in-github",
        "colab_type": "text"
      },
      "source": [
        "<a href=\"https://colab.research.google.com/github/opark03/Notebooks/blob/main/labs/lab1/lab1-ftx-stock-pricing.ipynb\" target=\"_parent\"><img src=\"https://colab.research.google.com/assets/colab-badge.svg\" alt=\"Open In Colab\"/></a>"
      ]
    },
    {
      "cell_type": "markdown",
      "source": [
        "# DS1002 Lab 1: Python\n",
        "\n",
        "In this lab you will work with a dataset, writing python to generate the deliverables specified in the cells below.\n",
        "\n",
        "> **FTX** was a cryptocurrency exchange founded by Sam Bankman-Fried that saw both a spectacular rise and collapse between 2021 and 2022. At one point it had a valuation of $32B. Bankman-Fried was recently found guilty on seven counts of fraud and conspiracy.\n",
        "\n",
        "The dataset for this assignment covers that rise and fall from the viewpoint of daily stock closing prices for FTX (ticker symbol `FTT`).\n",
        "\n",
        "Answer the questions below with the appropriate Python code. Point assignments are indicated for each section. There are 15 total points possible for this lab, which counts as 5% of your overall grade. There is a 1-point extra credit option at the end.\n",
        "\n",
        "Useful reference material:\n",
        "- [Pandas Review](https://colab.research.google.com/github/nmagee/ds1002/blob/main/notebooks/pandas-review.ipynb) notebook.\n",
        "- [Charts Reference](https://colab.research.google.com/github/nmagee/ds1002/blob/main/notebooks/charts-in-colaboratory.ipynb) notebook.\n",
        "- [Plots Walkthrough](https://colab.research.google.com/github/nmagee/ds1002/blob/main/notebooks/plotting-examples.ipynb)"
      ],
      "metadata": {
        "id": "2yEePrJ-1G1Z"
      }
    },
    {
      "cell_type": "markdown",
      "source": [
        "## Group Submissions\n",
        "\n",
        "If you are working in a group to complete this lab, you may have no more than 3 members to a group. Group members should be indicated in the cell below -- list both names and UVA computing IDs.\n",
        "\n",
        "Each student should then submit **the same URL** for the lab in Canvas. (If a group has Member1, Member2, and Member3, only one member needs to save the completed work back to GitHub and all members should submit that URL for grading.)"
      ],
      "metadata": {
        "id": "acXFkytd2PWS"
      }
    },
    {
      "cell_type": "code",
      "source": [
        "# List group members (if applicable). Identify names and computing IDs\n",
        "#\n",
        "# Name                    Computing ID"
      ],
      "metadata": {
        "id": "4N8_o3tG232h"
      },
      "execution_count": null,
      "outputs": []
    },
    {
      "cell_type": "markdown",
      "source": [
        "## 1. Load Libraries & Data (3 pts)\n",
        "\n",
        "https://s3.amazonaws.com/ds1002-resources/data/ftx-2021-01-01--2023-12-31.csv\n",
        "\n",
        "Import any necessary libraries and load the remote CSV file below into a DataFrame. **Resolve any import issues you need to.**"
      ],
      "metadata": {
        "id": "w0VxTDNf1k2O"
      }
    },
    {
      "cell_type": "code",
      "execution_count": 87,
      "metadata": {
        "id": "I0B9chFD1GR0"
      },
      "outputs": [],
      "source": [
        "import numpy as np\n",
        "import pandas as pd\n",
        "lab_df = pd.read_csv(\"https://s3.amazonaws.com/ds1002-resources/data/ftx-2021-01-01--2023-12-31.csv\", sep=\";\")"
      ]
    },
    {
      "cell_type": "markdown",
      "source": [
        "## 2. Get Summary Data (1 pt)"
      ],
      "metadata": {
        "id": "H389W9dkobGI"
      }
    },
    {
      "cell_type": "markdown",
      "source": [
        "In code, display how many rows and columns are in the raw dataset."
      ],
      "metadata": {
        "id": "KA0wbjmE-4Q9"
      }
    },
    {
      "cell_type": "code",
      "source": [
        "lab_df.shape"
      ],
      "metadata": {
        "id": "XhULtu7qox-p",
        "outputId": "455256fa-5d53-4657-ecb5-50ae06c44a5e",
        "colab": {
          "base_uri": "https://localhost:8080/"
        }
      },
      "execution_count": 88,
      "outputs": [
        {
          "output_type": "execute_result",
          "data": {
            "text/plain": [
              "(741, 11)"
            ]
          },
          "metadata": {},
          "execution_count": 88
        }
      ]
    },
    {
      "cell_type": "code",
      "source": [
        "lab_df.columns"
      ],
      "metadata": {
        "id": "Tj2Z-BXxqobe",
        "outputId": "67affd4f-06f3-41dd-f71b-8a8139a953e8",
        "colab": {
          "base_uri": "https://localhost:8080/"
        }
      },
      "execution_count": 89,
      "outputs": [
        {
          "output_type": "execute_result",
          "data": {
            "text/plain": [
              "Index(['timeOpen', 'timeClose', 'timeHigh', 'timeLow', 'open', 'high', 'low',\n",
              "       'close', 'volume', 'marketCap', 'timestamp'],\n",
              "      dtype='object')"
            ]
          },
          "metadata": {},
          "execution_count": 89
        }
      ]
    },
    {
      "cell_type": "markdown",
      "source": [
        "## 3. Clean and Organize the Data (3 pts)\n",
        "\n",
        "Check for data quality.\n",
        "\n",
        "- Resolve any empty values or duplicate rows.\n",
        "- Order the data properly if necessary.\n",
        "- Drop the following columns and save the dataframe: `timeOpen`, `timeClose`, `timeHigh`, `timeLow`, `marketCap`,\n",
        "\n"
      ],
      "metadata": {
        "id": "abshX7QeooAs"
      }
    },
    {
      "cell_type": "code",
      "source": [
        "lab_df.drop_duplicates()\n",
        "lab_df.fillna(lab_df.median())\n",
        "lab_df = lab_df.drop(['timeOpen', 'timeClose', 'timeHigh', 'timeLow', 'marketCap'],axis=1)"
      ],
      "metadata": {
        "id": "Aq3J7yD82uwW",
        "outputId": "7c4b61d9-5248-4d50-e4cf-2c74c71792cb",
        "colab": {
          "base_uri": "https://localhost:8080/"
        }
      },
      "execution_count": 94,
      "outputs": [
        {
          "output_type": "stream",
          "name": "stderr",
          "text": [
            "<ipython-input-94-cd3ea14c2eea>:2: FutureWarning: The default value of numeric_only in DataFrame.median is deprecated. In a future version, it will default to False. In addition, specifying 'numeric_only=None' is deprecated. Select only valid columns or specify the value of numeric_only to silence this warning.\n",
            "  lab_df.fillna(lab_df.median())\n"
          ]
        }
      ]
    },
    {
      "cell_type": "markdown",
      "source": [
        "Now display the first 10 rows of the cleaned dataset."
      ],
      "metadata": {
        "id": "Ccwu8bUx_Azj"
      }
    },
    {
      "cell_type": "code",
      "source": [
        "lab_df.head(10)"
      ],
      "metadata": {
        "id": "1iVIskCs_Ewe",
        "outputId": "d2eaf31e-ec95-49bb-87f2-ff148529af5e",
        "colab": {
          "base_uri": "https://localhost:8080/",
          "height": 363
        }
      },
      "execution_count": 95,
      "outputs": [
        {
          "output_type": "execute_result",
          "data": {
            "text/plain": [
              "       open      high       low     close       volume  \\\n",
              "0  0.838968  0.853502  0.835226  0.842688   3001502.06   \n",
              "1  0.860193  0.864752  0.826643  0.839048   3608615.07   \n",
              "2  0.885723  0.887118  0.843029  0.860231   3766979.57   \n",
              "3  0.921162  0.925702  0.869842  0.886091   4192949.85   \n",
              "4  0.931138  0.955402  0.916414  0.923668   4574953.05   \n",
              "5  0.894567  1.011183  0.893652  0.930696   7065306.21   \n",
              "6  0.924432  0.935517  0.894370  0.894657   2577834.83   \n",
              "7  0.957505  0.975671  0.921085  0.924433   5055004.16   \n",
              "8  1.027133  1.038282  0.948058  0.957006  17088962.94   \n",
              "9  0.873973  1.127198  0.835625  1.027162  22418556.51   \n",
              "\n",
              "                  timestamp  \n",
              "0  2022-12-31T23:59:59.999Z  \n",
              "1  2022-12-30T23:59:59.999Z  \n",
              "2  2022-12-29T23:59:59.999Z  \n",
              "3  2022-12-28T23:59:59.999Z  \n",
              "4  2022-12-27T23:59:59.999Z  \n",
              "5  2022-12-26T23:59:59.999Z  \n",
              "6  2022-12-25T23:59:59.999Z  \n",
              "7  2022-12-24T23:59:59.999Z  \n",
              "8  2022-12-23T23:59:59.999Z  \n",
              "9  2022-12-22T23:59:59.999Z  "
            ],
            "text/html": [
              "\n",
              "  <div id=\"df-1e0fa30e-d8e4-4347-8d12-4142bf545cb0\" class=\"colab-df-container\">\n",
              "    <div>\n",
              "<style scoped>\n",
              "    .dataframe tbody tr th:only-of-type {\n",
              "        vertical-align: middle;\n",
              "    }\n",
              "\n",
              "    .dataframe tbody tr th {\n",
              "        vertical-align: top;\n",
              "    }\n",
              "\n",
              "    .dataframe thead th {\n",
              "        text-align: right;\n",
              "    }\n",
              "</style>\n",
              "<table border=\"1\" class=\"dataframe\">\n",
              "  <thead>\n",
              "    <tr style=\"text-align: right;\">\n",
              "      <th></th>\n",
              "      <th>open</th>\n",
              "      <th>high</th>\n",
              "      <th>low</th>\n",
              "      <th>close</th>\n",
              "      <th>volume</th>\n",
              "      <th>timestamp</th>\n",
              "    </tr>\n",
              "  </thead>\n",
              "  <tbody>\n",
              "    <tr>\n",
              "      <th>0</th>\n",
              "      <td>0.838968</td>\n",
              "      <td>0.853502</td>\n",
              "      <td>0.835226</td>\n",
              "      <td>0.842688</td>\n",
              "      <td>3001502.06</td>\n",
              "      <td>2022-12-31T23:59:59.999Z</td>\n",
              "    </tr>\n",
              "    <tr>\n",
              "      <th>1</th>\n",
              "      <td>0.860193</td>\n",
              "      <td>0.864752</td>\n",
              "      <td>0.826643</td>\n",
              "      <td>0.839048</td>\n",
              "      <td>3608615.07</td>\n",
              "      <td>2022-12-30T23:59:59.999Z</td>\n",
              "    </tr>\n",
              "    <tr>\n",
              "      <th>2</th>\n",
              "      <td>0.885723</td>\n",
              "      <td>0.887118</td>\n",
              "      <td>0.843029</td>\n",
              "      <td>0.860231</td>\n",
              "      <td>3766979.57</td>\n",
              "      <td>2022-12-29T23:59:59.999Z</td>\n",
              "    </tr>\n",
              "    <tr>\n",
              "      <th>3</th>\n",
              "      <td>0.921162</td>\n",
              "      <td>0.925702</td>\n",
              "      <td>0.869842</td>\n",
              "      <td>0.886091</td>\n",
              "      <td>4192949.85</td>\n",
              "      <td>2022-12-28T23:59:59.999Z</td>\n",
              "    </tr>\n",
              "    <tr>\n",
              "      <th>4</th>\n",
              "      <td>0.931138</td>\n",
              "      <td>0.955402</td>\n",
              "      <td>0.916414</td>\n",
              "      <td>0.923668</td>\n",
              "      <td>4574953.05</td>\n",
              "      <td>2022-12-27T23:59:59.999Z</td>\n",
              "    </tr>\n",
              "    <tr>\n",
              "      <th>5</th>\n",
              "      <td>0.894567</td>\n",
              "      <td>1.011183</td>\n",
              "      <td>0.893652</td>\n",
              "      <td>0.930696</td>\n",
              "      <td>7065306.21</td>\n",
              "      <td>2022-12-26T23:59:59.999Z</td>\n",
              "    </tr>\n",
              "    <tr>\n",
              "      <th>6</th>\n",
              "      <td>0.924432</td>\n",
              "      <td>0.935517</td>\n",
              "      <td>0.894370</td>\n",
              "      <td>0.894657</td>\n",
              "      <td>2577834.83</td>\n",
              "      <td>2022-12-25T23:59:59.999Z</td>\n",
              "    </tr>\n",
              "    <tr>\n",
              "      <th>7</th>\n",
              "      <td>0.957505</td>\n",
              "      <td>0.975671</td>\n",
              "      <td>0.921085</td>\n",
              "      <td>0.924433</td>\n",
              "      <td>5055004.16</td>\n",
              "      <td>2022-12-24T23:59:59.999Z</td>\n",
              "    </tr>\n",
              "    <tr>\n",
              "      <th>8</th>\n",
              "      <td>1.027133</td>\n",
              "      <td>1.038282</td>\n",
              "      <td>0.948058</td>\n",
              "      <td>0.957006</td>\n",
              "      <td>17088962.94</td>\n",
              "      <td>2022-12-23T23:59:59.999Z</td>\n",
              "    </tr>\n",
              "    <tr>\n",
              "      <th>9</th>\n",
              "      <td>0.873973</td>\n",
              "      <td>1.127198</td>\n",
              "      <td>0.835625</td>\n",
              "      <td>1.027162</td>\n",
              "      <td>22418556.51</td>\n",
              "      <td>2022-12-22T23:59:59.999Z</td>\n",
              "    </tr>\n",
              "  </tbody>\n",
              "</table>\n",
              "</div>\n",
              "    <div class=\"colab-df-buttons\">\n",
              "\n",
              "  <div class=\"colab-df-container\">\n",
              "    <button class=\"colab-df-convert\" onclick=\"convertToInteractive('df-1e0fa30e-d8e4-4347-8d12-4142bf545cb0')\"\n",
              "            title=\"Convert this dataframe to an interactive table.\"\n",
              "            style=\"display:none;\">\n",
              "\n",
              "  <svg xmlns=\"http://www.w3.org/2000/svg\" height=\"24px\" viewBox=\"0 -960 960 960\">\n",
              "    <path d=\"M120-120v-720h720v720H120Zm60-500h600v-160H180v160Zm220 220h160v-160H400v160Zm0 220h160v-160H400v160ZM180-400h160v-160H180v160Zm440 0h160v-160H620v160ZM180-180h160v-160H180v160Zm440 0h160v-160H620v160Z\"/>\n",
              "  </svg>\n",
              "    </button>\n",
              "\n",
              "  <style>\n",
              "    .colab-df-container {\n",
              "      display:flex;\n",
              "      gap: 12px;\n",
              "    }\n",
              "\n",
              "    .colab-df-convert {\n",
              "      background-color: #E8F0FE;\n",
              "      border: none;\n",
              "      border-radius: 50%;\n",
              "      cursor: pointer;\n",
              "      display: none;\n",
              "      fill: #1967D2;\n",
              "      height: 32px;\n",
              "      padding: 0 0 0 0;\n",
              "      width: 32px;\n",
              "    }\n",
              "\n",
              "    .colab-df-convert:hover {\n",
              "      background-color: #E2EBFA;\n",
              "      box-shadow: 0px 1px 2px rgba(60, 64, 67, 0.3), 0px 1px 3px 1px rgba(60, 64, 67, 0.15);\n",
              "      fill: #174EA6;\n",
              "    }\n",
              "\n",
              "    .colab-df-buttons div {\n",
              "      margin-bottom: 4px;\n",
              "    }\n",
              "\n",
              "    [theme=dark] .colab-df-convert {\n",
              "      background-color: #3B4455;\n",
              "      fill: #D2E3FC;\n",
              "    }\n",
              "\n",
              "    [theme=dark] .colab-df-convert:hover {\n",
              "      background-color: #434B5C;\n",
              "      box-shadow: 0px 1px 3px 1px rgba(0, 0, 0, 0.15);\n",
              "      filter: drop-shadow(0px 1px 2px rgba(0, 0, 0, 0.3));\n",
              "      fill: #FFFFFF;\n",
              "    }\n",
              "  </style>\n",
              "\n",
              "    <script>\n",
              "      const buttonEl =\n",
              "        document.querySelector('#df-1e0fa30e-d8e4-4347-8d12-4142bf545cb0 button.colab-df-convert');\n",
              "      buttonEl.style.display =\n",
              "        google.colab.kernel.accessAllowed ? 'block' : 'none';\n",
              "\n",
              "      async function convertToInteractive(key) {\n",
              "        const element = document.querySelector('#df-1e0fa30e-d8e4-4347-8d12-4142bf545cb0');\n",
              "        const dataTable =\n",
              "          await google.colab.kernel.invokeFunction('convertToInteractive',\n",
              "                                                    [key], {});\n",
              "        if (!dataTable) return;\n",
              "\n",
              "        const docLinkHtml = 'Like what you see? Visit the ' +\n",
              "          '<a target=\"_blank\" href=https://colab.research.google.com/notebooks/data_table.ipynb>data table notebook</a>'\n",
              "          + ' to learn more about interactive tables.';\n",
              "        element.innerHTML = '';\n",
              "        dataTable['output_type'] = 'display_data';\n",
              "        await google.colab.output.renderOutput(dataTable, element);\n",
              "        const docLink = document.createElement('div');\n",
              "        docLink.innerHTML = docLinkHtml;\n",
              "        element.appendChild(docLink);\n",
              "      }\n",
              "    </script>\n",
              "  </div>\n",
              "\n",
              "\n",
              "<div id=\"df-d17ba3cd-6b24-4f42-a5bd-cbad23344d90\">\n",
              "  <button class=\"colab-df-quickchart\" onclick=\"quickchart('df-d17ba3cd-6b24-4f42-a5bd-cbad23344d90')\"\n",
              "            title=\"Suggest charts\"\n",
              "            style=\"display:none;\">\n",
              "\n",
              "<svg xmlns=\"http://www.w3.org/2000/svg\" height=\"24px\"viewBox=\"0 0 24 24\"\n",
              "     width=\"24px\">\n",
              "    <g>\n",
              "        <path d=\"M19 3H5c-1.1 0-2 .9-2 2v14c0 1.1.9 2 2 2h14c1.1 0 2-.9 2-2V5c0-1.1-.9-2-2-2zM9 17H7v-7h2v7zm4 0h-2V7h2v10zm4 0h-2v-4h2v4z\"/>\n",
              "    </g>\n",
              "</svg>\n",
              "  </button>\n",
              "\n",
              "<style>\n",
              "  .colab-df-quickchart {\n",
              "      --bg-color: #E8F0FE;\n",
              "      --fill-color: #1967D2;\n",
              "      --hover-bg-color: #E2EBFA;\n",
              "      --hover-fill-color: #174EA6;\n",
              "      --disabled-fill-color: #AAA;\n",
              "      --disabled-bg-color: #DDD;\n",
              "  }\n",
              "\n",
              "  [theme=dark] .colab-df-quickchart {\n",
              "      --bg-color: #3B4455;\n",
              "      --fill-color: #D2E3FC;\n",
              "      --hover-bg-color: #434B5C;\n",
              "      --hover-fill-color: #FFFFFF;\n",
              "      --disabled-bg-color: #3B4455;\n",
              "      --disabled-fill-color: #666;\n",
              "  }\n",
              "\n",
              "  .colab-df-quickchart {\n",
              "    background-color: var(--bg-color);\n",
              "    border: none;\n",
              "    border-radius: 50%;\n",
              "    cursor: pointer;\n",
              "    display: none;\n",
              "    fill: var(--fill-color);\n",
              "    height: 32px;\n",
              "    padding: 0;\n",
              "    width: 32px;\n",
              "  }\n",
              "\n",
              "  .colab-df-quickchart:hover {\n",
              "    background-color: var(--hover-bg-color);\n",
              "    box-shadow: 0 1px 2px rgba(60, 64, 67, 0.3), 0 1px 3px 1px rgba(60, 64, 67, 0.15);\n",
              "    fill: var(--button-hover-fill-color);\n",
              "  }\n",
              "\n",
              "  .colab-df-quickchart-complete:disabled,\n",
              "  .colab-df-quickchart-complete:disabled:hover {\n",
              "    background-color: var(--disabled-bg-color);\n",
              "    fill: var(--disabled-fill-color);\n",
              "    box-shadow: none;\n",
              "  }\n",
              "\n",
              "  .colab-df-spinner {\n",
              "    border: 2px solid var(--fill-color);\n",
              "    border-color: transparent;\n",
              "    border-bottom-color: var(--fill-color);\n",
              "    animation:\n",
              "      spin 1s steps(1) infinite;\n",
              "  }\n",
              "\n",
              "  @keyframes spin {\n",
              "    0% {\n",
              "      border-color: transparent;\n",
              "      border-bottom-color: var(--fill-color);\n",
              "      border-left-color: var(--fill-color);\n",
              "    }\n",
              "    20% {\n",
              "      border-color: transparent;\n",
              "      border-left-color: var(--fill-color);\n",
              "      border-top-color: var(--fill-color);\n",
              "    }\n",
              "    30% {\n",
              "      border-color: transparent;\n",
              "      border-left-color: var(--fill-color);\n",
              "      border-top-color: var(--fill-color);\n",
              "      border-right-color: var(--fill-color);\n",
              "    }\n",
              "    40% {\n",
              "      border-color: transparent;\n",
              "      border-right-color: var(--fill-color);\n",
              "      border-top-color: var(--fill-color);\n",
              "    }\n",
              "    60% {\n",
              "      border-color: transparent;\n",
              "      border-right-color: var(--fill-color);\n",
              "    }\n",
              "    80% {\n",
              "      border-color: transparent;\n",
              "      border-right-color: var(--fill-color);\n",
              "      border-bottom-color: var(--fill-color);\n",
              "    }\n",
              "    90% {\n",
              "      border-color: transparent;\n",
              "      border-bottom-color: var(--fill-color);\n",
              "    }\n",
              "  }\n",
              "</style>\n",
              "\n",
              "  <script>\n",
              "    async function quickchart(key) {\n",
              "      const quickchartButtonEl =\n",
              "        document.querySelector('#' + key + ' button');\n",
              "      quickchartButtonEl.disabled = true;  // To prevent multiple clicks.\n",
              "      quickchartButtonEl.classList.add('colab-df-spinner');\n",
              "      try {\n",
              "        const charts = await google.colab.kernel.invokeFunction(\n",
              "            'suggestCharts', [key], {});\n",
              "      } catch (error) {\n",
              "        console.error('Error during call to suggestCharts:', error);\n",
              "      }\n",
              "      quickchartButtonEl.classList.remove('colab-df-spinner');\n",
              "      quickchartButtonEl.classList.add('colab-df-quickchart-complete');\n",
              "    }\n",
              "    (() => {\n",
              "      let quickchartButtonEl =\n",
              "        document.querySelector('#df-d17ba3cd-6b24-4f42-a5bd-cbad23344d90 button');\n",
              "      quickchartButtonEl.style.display =\n",
              "        google.colab.kernel.accessAllowed ? 'block' : 'none';\n",
              "    })();\n",
              "  </script>\n",
              "</div>\n",
              "    </div>\n",
              "  </div>\n"
            ]
          },
          "metadata": {},
          "execution_count": 95
        }
      ]
    },
    {
      "cell_type": "markdown",
      "source": [
        "## 4. Calculate Daily Gains/Losses (2 pts)"
      ],
      "metadata": {
        "id": "3-4dd8nsr_zF"
      }
    },
    {
      "cell_type": "markdown",
      "source": [
        "Using Pandas, add a new column named `[\"close_change\"]` to the dataframe that calculates the difference between daily closing prices for FTX. This will result in positive (growth) and negative (loss) values.\n",
        "\n",
        "Note:\n",
        "- Be careful about how you calculate this. Each row should calculate that difference from the row above it, which must be the previous calendar day.\n",
        "- Reference code for this is available in the [Pandas Review](https://colab.research.google.com/github/nmagee/ds1002/blob/main/notebooks/pandas-review.ipynb) notebook. Hint: It is not complicated and does not require a for-loop."
      ],
      "metadata": {
        "id": "HrGLlM83vH0c"
      }
    },
    {
      "cell_type": "code",
      "source": [],
      "metadata": {
        "id": "7P8J0jEtvCiv"
      },
      "execution_count": null,
      "outputs": []
    },
    {
      "cell_type": "markdown",
      "source": [
        "## 5. Identify Growth Days (1 pt)"
      ],
      "metadata": {
        "id": "KKg8d9RDyeDa"
      }
    },
    {
      "cell_type": "markdown",
      "source": [
        "Based on the daily change in closing prices calculated above, identify the top 10 days of positive growth for FTX.\n",
        "\n",
        "Display your results in a table showing both the rate of change and their dates."
      ],
      "metadata": {
        "id": "5kKBo3_sykGD"
      }
    },
    {
      "cell_type": "code",
      "source": [],
      "metadata": {
        "id": "xRlliRMY2_-c"
      },
      "execution_count": null,
      "outputs": []
    },
    {
      "cell_type": "markdown",
      "source": [
        "## 6. Calculate the % Rate of Change (2 pts)"
      ],
      "metadata": {
        "id": "Y3AmR3eDxgfb"
      }
    },
    {
      "cell_type": "markdown",
      "source": [
        "Next, create a new column named `[\"rate_of_change\"]` based on `[\"close_change\"]`.\n",
        "\n",
        "Use the Pandas Review notebook for reference. Again, this is an easy operation in Pandas and does not require a for-loop."
      ],
      "metadata": {
        "id": "XK3yweENxjdn"
      }
    },
    {
      "cell_type": "code",
      "source": [],
      "metadata": {
        "id": "FqL5yyvi6w7r"
      },
      "execution_count": null,
      "outputs": []
    },
    {
      "cell_type": "markdown",
      "source": [
        "## 7. Identify Greatest % Change Days (1 pt)"
      ],
      "metadata": {
        "id": "2ifRW8qU3OOB"
      }
    },
    {
      "cell_type": "markdown",
      "source": [
        "Based on the rate change column calculated above, identify the top 5 days of greatest rate changes, whether positive or negative.\n",
        "\n",
        "Display your results in a table showing both the rate of change and their dates."
      ],
      "metadata": {
        "id": "ISZf2C1j3bAA"
      }
    },
    {
      "cell_type": "markdown",
      "source": [
        "## 8. Plot the Data (2 pts)"
      ],
      "metadata": {
        "id": "2B9dxJbno0s0"
      }
    },
    {
      "cell_type": "markdown",
      "source": [
        "Finally, create two separate plots of the data -- one for the daily closing price and one for the daily gains/losses. These can be histograms or line plots."
      ],
      "metadata": {
        "id": "LwMrL6-AplCH"
      }
    },
    {
      "cell_type": "code",
      "source": [],
      "metadata": {
        "id": "R0vq1cLRB0Kl"
      },
      "execution_count": null,
      "outputs": []
    },
    {
      "cell_type": "markdown",
      "source": [
        "## BONUS! (1 pt)"
      ],
      "metadata": {
        "id": "5veEUQsk5qYq"
      }
    },
    {
      "cell_type": "markdown",
      "source": [
        "Combine the two plots from #8 above into a single plot, displaying both together. Your plot should have two Y-axis scales, should differentiate the two values by color, and should include a legend."
      ],
      "metadata": {
        "id": "xRT2iFAI5s4S"
      }
    },
    {
      "cell_type": "code",
      "source": [],
      "metadata": {
        "id": "epypcCLc6QxL"
      },
      "execution_count": null,
      "outputs": []
    }
  ]
}