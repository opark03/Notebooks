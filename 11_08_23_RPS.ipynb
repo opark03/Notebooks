{
  "nbformat": 4,
  "nbformat_minor": 0,
  "metadata": {
    "colab": {
      "provenance": [],
      "authorship_tag": "ABX9TyPwspsFSrxALzaQGQ6DOvfM",
      "include_colab_link": true
    },
    "kernelspec": {
      "name": "python3",
      "display_name": "Python 3"
    },
    "language_info": {
      "name": "python"
    }
  },
  "cells": [
    {
      "cell_type": "markdown",
      "metadata": {
        "id": "view-in-github",
        "colab_type": "text"
      },
      "source": [
        "<a href=\"https://colab.research.google.com/github/opark03/Notebooks/blob/main/11_08_23_RPS.ipynb\" target=\"_parent\"><img src=\"https://colab.research.google.com/assets/colab-badge.svg\" alt=\"Open In Colab\"/></a>"
      ]
    },
    {
      "cell_type": "code",
      "execution_count": 1,
      "metadata": {
        "colab": {
          "base_uri": "https://localhost:8080/",
          "height": 36
        },
        "id": "JUXUqXASdaCi",
        "outputId": "7d00aa5a-b612-4111-a19f-b6ce1e27d2a8"
      },
      "outputs": [
        {
          "output_type": "execute_result",
          "data": {
            "text/plain": [
              "'Paper'"
            ],
            "application/vnd.google.colaboratory.intrinsic+json": {
              "type": "string"
            }
          },
          "metadata": {},
          "execution_count": 1
        }
      ],
      "source": [
        "# make the computer do rock paper scissors\n",
        "from random import randint\n",
        "# create list of options\n",
        "t = [\"Rock\", \"Paper\", \"Scissors\"]\n",
        "t[1]"
      ]
    },
    {
      "cell_type": "code",
      "source": [
        "# we want it randomized\n",
        "from random import randint\n",
        "t = [\"Rock\", \"Paper\", \"Scissors\"]\n",
        "\n",
        "computer = t[randint(0,2)]\n",
        "# player must guess something\n",
        "\n",
        "player = input(\"Rock, Paper, Scissors?\")\n",
        "\n",
        "# we must create some nested conditionals\n",
        "if player == computer:\n",
        "  print(\"we have a tie!\")\n",
        "elif player == \"Rock\":\n",
        "  if computer == \"Scissors\":\n",
        "    print(f\"Computer guessed {computer}. You win!\")\n",
        "  else:\n",
        "    print(f\"Computer guessed {computer}. Computer wins\")\n",
        "elif player == \"Paper\":\n",
        "  if computer == \"Rock\":\n",
        "    print(f\"Computer guessed {computer}. You win!\")\n",
        "  else:\n",
        "    print(f\"Computer guessed {computer}. Computer wins\")\n",
        "elif player == \"Scissors\":\n",
        "  if computer == \"Paper\":\n",
        "    print(f\"Computer guessed {computer}. You win!\")\n",
        "  else:\n",
        "    print(f\"Computer guessed {computer}. Computer wins\")\n",
        "else:\n",
        "  print(f\"You guessed {player}. Try again. Something went wrong\")"
      ],
      "metadata": {
        "colab": {
          "base_uri": "https://localhost:8080/"
        },
        "id": "PVizEpgseNhc",
        "outputId": "063230cd-2852-47ac-95a4-287482890c18"
      },
      "execution_count": 8,
      "outputs": [
        {
          "output_type": "stream",
          "name": "stdout",
          "text": [
            "Rock, Paper, Scissors?Rock\n",
            "Computer guessed Scissors. You win!\n"
          ]
        }
      ]
    }
  ]
}