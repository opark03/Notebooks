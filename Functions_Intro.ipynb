{
  "nbformat": 4,
  "nbformat_minor": 0,
  "metadata": {
    "colab": {
      "provenance": [],
      "authorship_tag": "ABX9TyP9o1/DWiQyNDsxPs/VT82F",
      "include_colab_link": true
    },
    "kernelspec": {
      "name": "python3",
      "display_name": "Python 3"
    },
    "language_info": {
      "name": "python"
    }
  },
  "cells": [
    {
      "cell_type": "markdown",
      "metadata": {
        "id": "view-in-github",
        "colab_type": "text"
      },
      "source": [
        "<a href=\"https://colab.research.google.com/github/opark03/Notebooks/blob/main/Functions_Intro.ipynb\" target=\"_parent\"><img src=\"https://colab.research.google.com/assets/colab-badge.svg\" alt=\"Open In Colab\"/></a>"
      ]
    },
    {
      "cell_type": "code",
      "execution_count": 1,
      "metadata": {
        "id": "qedEhzxFy3Ek"
      },
      "outputs": [],
      "source": [
        "import string\n",
        "import random"
      ]
    },
    {
      "cell_type": "code",
      "source": [
        "lc_letters = string.ascii_lowercase\n",
        "print(lc_letters)\n",
        "\n",
        "uc_letters = string.ascii_uppercase\n",
        "print(uc_letters)\n",
        "\n",
        "digits = string.digits\n",
        "print(digits)\n",
        "\n",
        "punc = string.punctuation\n",
        "print(punc)\n",
        "\n",
        "allchars = lc_letters + uc_letters + digits + punc"
      ],
      "metadata": {
        "colab": {
          "base_uri": "https://localhost:8080/"
        },
        "id": "qFwG2WAGzJsn",
        "outputId": "07e37b12-7c4c-4eeb-a36a-821d38ec4e24"
      },
      "execution_count": 6,
      "outputs": [
        {
          "output_type": "stream",
          "name": "stdout",
          "text": [
            "abcdefghijklmnopqrstuvwxyz\n",
            "ABCDEFGHIJKLMNOPQRSTUVWXYZ\n",
            "0123456789\n",
            "!\"#$%&'()*+,-./:;<=>?@[\\]^_`{|}~\n"
          ]
        }
      ]
    },
    {
      "cell_type": "code",
      "source": [
        "character = random.choice(allchars)\n",
        "print(character)"
      ],
      "metadata": {
        "colab": {
          "base_uri": "https://localhost:8080/"
        },
        "id": "0Armg8Vv0Une",
        "outputId": "7e4e3cd2-45fb-47c5-9423-ab2c51428600"
      },
      "execution_count": 8,
      "outputs": [
        {
          "output_type": "stream",
          "name": "stdout",
          "text": [
            "t\n"
          ]
        }
      ]
    },
    {
      "cell_type": "code",
      "source": [
        "passwd = \"\"\n",
        "\n",
        "for c in range(8):\n",
        "  passwd += random.choice(allchars)\n",
        "  passwd = passwd.replace(\"'\",\"\")\n",
        "  passwd = passwd. replace('\"','')\n",
        "\n",
        "print(passwd)"
      ],
      "metadata": {
        "colab": {
          "base_uri": "https://localhost:8080/"
        },
        "id": "4P2vAGdj0e75",
        "outputId": "8a59a562-36eb-4798-b665-33b46021a84b"
      },
      "execution_count": 9,
      "outputs": [
        {
          "output_type": "stream",
          "name": "stdout",
          "text": [
            "]%~TPxIU\n"
          ]
        }
      ]
    },
    {
      "cell_type": "code",
      "source": [
        "passwd = ''\n",
        "\n",
        "for i in range(8):\n",
        "  passwd += random.choice(allchars)\n",
        "\n",
        "print(passwd)"
      ],
      "metadata": {
        "colab": {
          "base_uri": "https://localhost:8080/"
        },
        "id": "Oo4wYIWl3kh5",
        "outputId": "6dc26626-9cbb-4999-b266-aa7a7ee9bc90"
      },
      "execution_count": 12,
      "outputs": [
        {
          "output_type": "stream",
          "name": "stdout",
          "text": [
            "ovid\".<Q\n"
          ]
        }
      ]
    },
    {
      "cell_type": "code",
      "source": [
        "allchars = lc_letters + uc_letters + digits + punc\n",
        "# define the function\n",
        "def give_me_a_password():\n",
        "  passwd = ''\n",
        "  for i in range(8):\n",
        "    passwd += random.choice(allchars)\n",
        "  print(passwd)\n",
        "# call the function\n",
        "give_me_a_password()"
      ],
      "metadata": {
        "colab": {
          "base_uri": "https://localhost:8080/"
        },
        "id": "xv3jw1o62GvX",
        "outputId": "fe2d1a70-6388-4586-8408-b6a2447f3280"
      },
      "execution_count": 11,
      "outputs": [
        {
          "output_type": "stream",
          "name": "stdout",
          "text": [
            "!u-q0}bO\n"
          ]
        }
      ]
    },
    {
      "cell_type": "code",
      "source": [
        "# modify the number of characters in the password\n",
        "allchars = lc_letters + uc_letters + digits + punc\n",
        "# define the function\n",
        "def give_me_a_password(length):\n",
        "  passwd = ''\n",
        "  for i in range(length):\n",
        "    passwd += random.choice(allchars)\n",
        "  print(passwd)\n",
        "# call the function\n",
        "give_me_a_password(44)"
      ],
      "metadata": {
        "colab": {
          "base_uri": "https://localhost:8080/"
        },
        "id": "tXJGTj4g3vZF",
        "outputId": "7284355b-6b8f-4f47-e2d2-bde4c56b5d98"
      },
      "execution_count": 13,
      "outputs": [
        {
          "output_type": "stream",
          "name": "stdout",
          "text": [
            "~Vxw'CQt*Af!V/xib)zc*F?SxET?_1xtt${k^Fc0%.3C\n"
          ]
        }
      ]
    },
    {
      "cell_type": "code",
      "source": [
        "def give_me_a_password(length):\n",
        "  passwd = ''\n",
        "  for i in range(length):\n",
        "    passwd += random.choice(allchars)\n",
        "  return passwd\n",
        "\n",
        "\n",
        "\n",
        "beatles = [\"John\", \"Paul\", \"Ringo\", \"George\"]\n",
        "\n",
        "for b in beatles:\n",
        "  passw = give_me_a_password(10)\n",
        "  print(b + '' + passw)"
      ],
      "metadata": {
        "colab": {
          "base_uri": "https://localhost:8080/"
        },
        "id": "ulp2_G3Y35Tk",
        "outputId": "2ddc0bbb-bb9f-481c-e902-613bb949bc71"
      },
      "execution_count": 17,
      "outputs": [
        {
          "output_type": "stream",
          "name": "stdout",
          "text": [
            "JohnawC%C!BQjg\n",
            "Paul~`Rc!ld/N1\n",
            "RingoiUX~MF)$?E\n",
            "Georges4-YmzpELE\n"
          ]
        }
      ]
    },
    {
      "cell_type": "code",
      "source": [
        "# convert C to F\n",
        "\n",
        "def c_to_f(temp):\n",
        "  ftemp = (temp * 1.8) + 32\n",
        "  print(ftemp)\n",
        "  return ftemp"
      ],
      "metadata": {
        "id": "0JmPvb8X6ddX"
      },
      "execution_count": 24,
      "outputs": []
    },
    {
      "cell_type": "code",
      "source": [
        "c_to_f(40)"
      ],
      "metadata": {
        "colab": {
          "base_uri": "https://localhost:8080/"
        },
        "id": "4eZQbrM564T0",
        "outputId": "50214d01-0f99-4f91-96d6-1cdcd99215e2"
      },
      "execution_count": 19,
      "outputs": [
        {
          "output_type": "stream",
          "name": "stdout",
          "text": [
            "104.0\n"
          ]
        },
        {
          "output_type": "execute_result",
          "data": {
            "text/plain": [
              "104.0"
            ]
          },
          "metadata": {},
          "execution_count": 19
        }
      ]
    },
    {
      "cell_type": "code",
      "source": [
        "def f_to_c(temp):\n",
        "  ctemp = (temp - 32) * 1.8\n",
        "  print(ctemp)\n",
        "  return ctemp"
      ],
      "metadata": {
        "id": "z8vv8t7x7q2q"
      },
      "execution_count": 21,
      "outputs": []
    },
    {
      "cell_type": "code",
      "source": [
        "f_to_c(20)"
      ],
      "metadata": {
        "colab": {
          "base_uri": "https://localhost:8080/"
        },
        "id": "oSnpRhZP7yFU",
        "outputId": "047493e2-83c5-4e0e-c03c-a413b6a8c94a"
      },
      "execution_count": 23,
      "outputs": [
        {
          "output_type": "stream",
          "name": "stdout",
          "text": [
            "-21.6\n"
          ]
        },
        {
          "output_type": "execute_result",
          "data": {
            "text/plain": [
              "-21.6"
            ]
          },
          "metadata": {},
          "execution_count": 23
        }
      ]
    },
    {
      "cell_type": "code",
      "source": [
        "def convert_temp(temp,unit):\n",
        "# if i want celcius back\n",
        "  if unit == 'C':\n",
        "    ctemp = (temp - 32) * 1.8\n",
        "    return ctemp\n",
        "  elif  unit == 'F':\n",
        "    ftemp = (temp * 1.8) + 32\n",
        "    return ftemp\n",
        "  else:\n",
        "    print(\"hey you did not give me C or F\")\n",
        "\n",
        "convert_temp(40, \"F\")"
      ],
      "metadata": {
        "colab": {
          "base_uri": "https://localhost:8080/"
        },
        "id": "MCq9ffNa77F2",
        "outputId": "60762b1f-9d97-4406-cf1a-5bb967171257"
      },
      "execution_count": 26,
      "outputs": [
        {
          "output_type": "execute_result",
          "data": {
            "text/plain": [
              "104.0"
            ]
          },
          "metadata": {},
          "execution_count": 26
        }
      ]
    }
  ]
}