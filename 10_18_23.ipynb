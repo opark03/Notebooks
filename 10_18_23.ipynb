{
  "nbformat": 4,
  "nbformat_minor": 0,
  "metadata": {
    "colab": {
      "provenance": [],
      "authorship_tag": "ABX9TyM3ETrn5g0QnCVUHJ8Nzuu3",
      "include_colab_link": true
    },
    "kernelspec": {
      "name": "python3",
      "display_name": "Python 3"
    },
    "language_info": {
      "name": "python"
    }
  },
  "cells": [
    {
      "cell_type": "markdown",
      "metadata": {
        "id": "view-in-github",
        "colab_type": "text"
      },
      "source": [
        "<a href=\"https://colab.research.google.com/github/opark03/Notebooks/blob/main/10_18_23.ipynb\" target=\"_parent\"><img src=\"https://colab.research.google.com/assets/colab-badge.svg\" alt=\"Open In Colab\"/></a>"
      ]
    },
    {
      "cell_type": "code",
      "execution_count": null,
      "metadata": {
        "id": "Unmy3DMtFzg7"
      },
      "outputs": [],
      "source": [
        "# write a fucntion that takes TWO integer parameters\n",
        "# the function should range from the first integer to the second\n",
        "# the function should then evaluate each integer and determine whether\n",
        "# it is odd or even, and print that out (for every item)"
      ]
    },
    {
      "cell_type": "code",
      "source": [
        "# step 1: write the function\n",
        "def even_or_odd(start,finish):\n",
        "  for i in range(start,finish):\n",
        "    if i % 2 == 0:\n",
        "      print(i, \"is an even number\")\n",
        "    else:\n",
        "      print(i, \"is an odd number\")"
      ],
      "metadata": {
        "id": "BjBeBRqlGkwj"
      },
      "execution_count": 2,
      "outputs": []
    },
    {
      "cell_type": "code",
      "source": [
        "# step 2: call and use the function\n",
        "# remeber, range behvior stops right before the max\n",
        "even_or_odd(1,10)"
      ],
      "metadata": {
        "colab": {
          "base_uri": "https://localhost:8080/"
        },
        "id": "bdLqLd5oIWyB",
        "outputId": "642efc75-7611-4992-9b58-b3da4d5d1c14"
      },
      "execution_count": 3,
      "outputs": [
        {
          "output_type": "stream",
          "name": "stdout",
          "text": [
            "1 is an odd number\n",
            "2 is an even number\n",
            "3 is an odd number\n",
            "4 is an even number\n",
            "5 is an odd number\n",
            "6 is an even number\n",
            "7 is an odd number\n",
            "8 is an even number\n",
            "9 is an odd number\n"
          ]
        }
      ]
    },
    {
      "cell_type": "code",
      "source": [
        "# or:\n",
        "start = 30\n",
        "finish = 40\n",
        "\n",
        "even_or_odd(start,finish)\n",
        "# does not need to be start and finish, external and internal must just be the same"
      ],
      "metadata": {
        "colab": {
          "base_uri": "https://localhost:8080/"
        },
        "id": "pNA-XI1CIugK",
        "outputId": "92660896-1ac6-4cc1-e8bb-87d6df77ed15"
      },
      "execution_count": 6,
      "outputs": [
        {
          "output_type": "stream",
          "name": "stdout",
          "text": [
            "30 is an even number\n",
            "31 is an odd number\n",
            "32 is an even number\n",
            "33 is an odd number\n",
            "34 is an even number\n",
            "35 is an odd number\n",
            "36 is an even number\n",
            "37 is an odd number\n",
            "38 is an even number\n",
            "39 is an odd number\n"
          ]
        }
      ]
    },
    {
      "cell_type": "code",
      "source": [
        "# if range is set up wrong, fucntion will not run\n",
        "start = 10\n",
        "finish = 1\n",
        "\n",
        "even_or_odd(start,finish)"
      ],
      "metadata": {
        "id": "tQgJYwTKJ08x"
      },
      "execution_count": 7,
      "outputs": []
    }
  ]
}