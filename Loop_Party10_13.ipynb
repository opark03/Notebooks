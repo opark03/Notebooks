{
  "nbformat": 4,
  "nbformat_minor": 0,
  "metadata": {
    "colab": {
      "provenance": [],
      "authorship_tag": "ABX9TyOD2HP3fQacDEMBg0GoGD8A",
      "include_colab_link": true
    },
    "kernelspec": {
      "name": "python3",
      "display_name": "Python 3"
    },
    "language_info": {
      "name": "python"
    }
  },
  "cells": [
    {
      "cell_type": "markdown",
      "metadata": {
        "id": "view-in-github",
        "colab_type": "text"
      },
      "source": [
        "<a href=\"https://colab.research.google.com/github/opark03/Notebooks/blob/main/Loop_Party10_13.ipynb\" target=\"_parent\"><img src=\"https://colab.research.google.com/assets/colab-badge.svg\" alt=\"Open In Colab\"/></a>"
      ]
    },
    {
      "cell_type": "code",
      "execution_count": 1,
      "metadata": {
        "colab": {
          "base_uri": "https://localhost:8080/"
        },
        "id": "5oQkU3M9V2WM",
        "outputId": "29dd6ef6-8574-4fe0-ad97-dbefa1be29d2"
      },
      "outputs": [
        {
          "output_type": "stream",
          "name": "stdout",
          "text": [
            "1234\n",
            "5\n",
            "6\n",
            "3\n",
            "4\n",
            "234\n",
            "212\n",
            "432\n"
          ]
        }
      ],
      "source": [
        " mylist = [1234, 5, 6, 3, 4, 234, 212, 432]\n",
        "\n",
        " for something in mylist:\n",
        "  print(something)"
      ]
    },
    {
      "cell_type": "code",
      "source": [
        "mylist2 = [\"bagels\", \"cereal\", \"yogurt\", \"coffee\", \"eggs\", \"pancakes\", \"waffels\", \"syrups\"]\n",
        "\n",
        "for food in mylist2:\n",
        "  print(food)"
      ],
      "metadata": {
        "colab": {
          "base_uri": "https://localhost:8080/"
        },
        "id": "3lEOkuRhWd0R",
        "outputId": "25dd6592-1047-4de3-947a-b4ab954c77fd"
      },
      "execution_count": 2,
      "outputs": [
        {
          "output_type": "stream",
          "name": "stdout",
          "text": [
            "bagels\n",
            "cereal\n",
            "yogurt\n",
            "coffee\n",
            "eggs\n",
            "pancakes\n",
            "waffels\n",
            "syrups\n"
          ]
        }
      ]
    },
    {
      "cell_type": "code",
      "source": [
        "mylist2 = [\"bagels\", \"cereal\", \"yogurt\", \"coffee\", \"eggs\", \"pancakes\", \"waffels\", \"syrups\"]\n",
        "\n",
        "for food in mylist2:\n",
        "  if food == \"eggs\":\n",
        "    # print(\"yo i got some eggs\") - will stop at eggs\n",
        "    break\n",
        "  else:\n",
        "    print(food)"
      ],
      "metadata": {
        "colab": {
          "base_uri": "https://localhost:8080/"
        },
        "id": "3H-wXEiEW3Gx",
        "outputId": "b666f455-9693-49aa-998d-862fdbff0370"
      },
      "execution_count": 5,
      "outputs": [
        {
          "output_type": "stream",
          "name": "stdout",
          "text": [
            "bagels\n",
            "cereal\n",
            "yogurt\n",
            "coffee\n"
          ]
        }
      ]
    },
    {
      "cell_type": "code",
      "source": [
        "mylist2 = [\"bagels\", \"cereal\", \"yogurt\", \"coffee\", \"eggs\", \"pancakes\", \"waffels\", \"syrups\"]\n",
        "\n",
        "for food in mylist2:\n",
        "  if food == \"eggs\":\n",
        "    # print(\"yo i got some eggs\") - will skip over eggs\n",
        "    continue\n",
        "  else:\n",
        "    print(food)"
      ],
      "metadata": {
        "colab": {
          "base_uri": "https://localhost:8080/"
        },
        "id": "sBjVnAlxXc0m",
        "outputId": "76199b7f-27cb-4909-c142-2fbdc8c806aa"
      },
      "execution_count": 6,
      "outputs": [
        {
          "output_type": "stream",
          "name": "stdout",
          "text": [
            "bagels\n",
            "cereal\n",
            "yogurt\n",
            "coffee\n",
            "pancakes\n",
            "waffels\n",
            "syrups\n"
          ]
        }
      ]
    },
    {
      "cell_type": "code",
      "source": [
        "mylist2 = [\"bagels\", \"cereal\", \"yogurt\", \"coffee\", \"eggs\", \"pancakes\", \"waffels\", \"syrups\"]\n",
        "\n",
        "for food in mylist2:\n",
        "  if food == \"eggs\":\n",
        "    print(food.upper())\n",
        "    continue\n",
        "  elif food == \"yogurt\":\n",
        "    print(\"yogurt is here\")\n",
        "  else:\n",
        "    print(food)"
      ],
      "metadata": {
        "colab": {
          "base_uri": "https://localhost:8080/"
        },
        "id": "dC5N33mwXkOr",
        "outputId": "50dc5d3b-b68d-4d58-b68e-25c2a0d285d5"
      },
      "execution_count": 9,
      "outputs": [
        {
          "output_type": "stream",
          "name": "stdout",
          "text": [
            "bagels\n",
            "cereal\n",
            "yogurt is here\n",
            "coffee\n",
            "EGGS\n",
            "pancakes\n",
            "waffels\n",
            "syrups\n"
          ]
        }
      ]
    },
    {
      "cell_type": "code",
      "source": [
        "favs = {\n",
        "    \"food\":\"bagel\",\n",
        "    \"sport\":\"skiing\",\n",
        "    \"color\":\"purple\",\n",
        "    \"car\":\"mycar\",\n",
        "    \"city\":\"daburg\"\n",
        "    }"
      ],
      "metadata": {
        "id": "vBER9Hw_Y7XL"
      },
      "execution_count": 16,
      "outputs": []
    },
    {
      "cell_type": "code",
      "source": [
        "favs"
      ],
      "metadata": {
        "colab": {
          "base_uri": "https://localhost:8080/"
        },
        "id": "r-II9NyPZkF_",
        "outputId": "1d326737-2828-4419-cb27-8926d061e6ca"
      },
      "execution_count": 17,
      "outputs": [
        {
          "output_type": "execute_result",
          "data": {
            "text/plain": [
              "{'food': 'bagel',\n",
              " 'sport': 'skiing',\n",
              " 'color': 'purple',\n",
              " 'car': 'mycar',\n",
              " 'city': 'daburg'}"
            ]
          },
          "metadata": {},
          "execution_count": 17
        }
      ]
    },
    {
      "cell_type": "code",
      "source": [
        "favs.keys()"
      ],
      "metadata": {
        "colab": {
          "base_uri": "https://localhost:8080/"
        },
        "id": "HKtmnlS-aJzq",
        "outputId": "0ccb7813-5c52-454e-debe-d372e8a34795"
      },
      "execution_count": 18,
      "outputs": [
        {
          "output_type": "execute_result",
          "data": {
            "text/plain": [
              "dict_keys(['food', 'sport', 'color', 'car', 'city'])"
            ]
          },
          "metadata": {},
          "execution_count": 18
        }
      ]
    },
    {
      "cell_type": "code",
      "source": [
        "favs[\"color\"]"
      ],
      "metadata": {
        "colab": {
          "base_uri": "https://localhost:8080/",
          "height": 36
        },
        "id": "L29vbSbUaMtD",
        "outputId": "7c64a4a7-da91-46c6-ace3-f9380f4797db"
      },
      "execution_count": 19,
      "outputs": [
        {
          "output_type": "execute_result",
          "data": {
            "text/plain": [
              "'purple'"
            ],
            "application/vnd.google.colaboratory.intrinsic+json": {
              "type": "string"
            }
          },
          "metadata": {},
          "execution_count": 19
        }
      ]
    },
    {
      "cell_type": "code",
      "source": [
        "# do get back keys\n",
        "for fave in favs:\n",
        "  print(fave)"
      ],
      "metadata": {
        "colab": {
          "base_uri": "https://localhost:8080/"
        },
        "id": "ysSsmruTa4hO",
        "outputId": "1f1b5e2b-bd50-4b81-c503-a6915127e22e"
      },
      "execution_count": 20,
      "outputs": [
        {
          "output_type": "stream",
          "name": "stdout",
          "text": [
            "food\n",
            "sport\n",
            "color\n",
            "car\n",
            "city\n"
          ]
        }
      ]
    },
    {
      "cell_type": "code",
      "source": [
        "# to get values\n",
        "for fave in favs:\n",
        "  print(favs[fave])"
      ],
      "metadata": {
        "colab": {
          "base_uri": "https://localhost:8080/"
        },
        "id": "DvjDX1hQbPzu",
        "outputId": "759669ac-a6a9-432b-9038-9b5ddeb1cb41"
      },
      "execution_count": 21,
      "outputs": [
        {
          "output_type": "stream",
          "name": "stdout",
          "text": [
            "bagel\n",
            "skiing\n",
            "purple\n",
            "mycar\n",
            "daburg\n"
          ]
        }
      ]
    },
    {
      "cell_type": "code",
      "source": [
        "for key, value in favs.items():\n",
        "  print(key)\n",
        "  print(value)"
      ],
      "metadata": {
        "colab": {
          "base_uri": "https://localhost:8080/"
        },
        "id": "KxHKvbeBbj_q",
        "outputId": "5b95b3a3-5b2c-4c8e-ff63-9de0e0f52a6c"
      },
      "execution_count": 23,
      "outputs": [
        {
          "output_type": "stream",
          "name": "stdout",
          "text": [
            "food\n",
            "bagel\n",
            "sport\n",
            "skiing\n",
            "color\n",
            "purple\n",
            "car\n",
            "mycar\n",
            "city\n",
            "daburg\n"
          ]
        }
      ]
    },
    {
      "cell_type": "code",
      "source": [
        "for key, value in favs.items():\n",
        "  print(key, \"-->\",value)"
      ],
      "metadata": {
        "colab": {
          "base_uri": "https://localhost:8080/"
        },
        "id": "fney9cyhb6zo",
        "outputId": "d8e5d9f2-19ce-4978-97d2-090c7ac0bd15"
      },
      "execution_count": 24,
      "outputs": [
        {
          "output_type": "stream",
          "name": "stdout",
          "text": [
            "food --> bagel\n",
            "sport --> skiing\n",
            "color --> purple\n",
            "car --> mycar\n",
            "city --> daburg\n"
          ]
        }
      ]
    },
    {
      "cell_type": "code",
      "source": [
        "mytupe = (\"squrils\", \"rabbits\", \"bevers\", \"possums\", \"foxes\", \"wolves\", \"sheep\")\n",
        "for thing in mytupe:\n",
        "  print(thing)"
      ],
      "metadata": {
        "colab": {
          "base_uri": "https://localhost:8080/"
        },
        "id": "XxZB2pHsc0Ab",
        "outputId": "92c814fb-4925-459a-b80a-f4c79ee3dc2a"
      },
      "execution_count": 25,
      "outputs": [
        {
          "output_type": "stream",
          "name": "stdout",
          "text": [
            "squrils\n",
            "rabbits\n",
            "bevers\n",
            "possums\n",
            "foxes\n",
            "wolves\n",
            "sheep\n"
          ]
        }
      ]
    },
    {
      "cell_type": "code",
      "source": [
        "# search for what is not\n",
        "for thing in mytupe:\n",
        "  if thing != \"possums\":\n",
        "    print(thing)\n",
        "  elif (thing == \"rabbits\") or (thing == \"sheep\"):\n",
        "    print(\"I have rabbits and sheep in my tupe\")\n",
        "  else:\n",
        "   continue\n",
        ""
      ],
      "metadata": {
        "colab": {
          "base_uri": "https://localhost:8080/"
        },
        "id": "eLwTlL_IdRQU",
        "outputId": "8899aeee-6f88-4a68-8655-a9902c3e7db6"
      },
      "execution_count": 32,
      "outputs": [
        {
          "output_type": "stream",
          "name": "stdout",
          "text": [
            "squrils\n",
            "rabbits\n",
            "bevers\n",
            "foxes\n",
            "wolves\n",
            "sheep\n"
          ]
        }
      ]
    }
  ]
}