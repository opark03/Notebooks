{
  "nbformat": 4,
  "nbformat_minor": 0,
  "metadata": {
    "colab": {
      "provenance": [],
      "authorship_tag": "ABX9TyPK0SPRw26EBm5406I32U4i",
      "include_colab_link": true
    },
    "kernelspec": {
      "name": "ir",
      "display_name": "R"
    },
    "language_info": {
      "name": "R"
    }
  },
  "cells": [
    {
      "cell_type": "markdown",
      "metadata": {
        "id": "view-in-github",
        "colab_type": "text"
      },
      "source": [
        "<a href=\"https://colab.research.google.com/github/opark03/Notebooks/blob/main/Intro_To_R.ipynb\" target=\"_parent\"><img src=\"https://colab.research.google.com/assets/colab-badge.svg\" alt=\"Open In Colab\"/></a>"
      ]
    },
    {
      "cell_type": "markdown",
      "source": [
        "Advantages of R:\n",
        "- Built for Statistics\n",
        "- Data visualization\n",
        "- Additional statistical packages\n",
        "- Data wrangling\n",
        "- Academic focus\n",
        "- Customizable\n",
        "\n",
        "Disadvantages of R:\n",
        "- Less readable\n",
        "- More difficult to learn well\n",
        "- Not as beginner friendly\n",
        "\n",
        "Design:\n",
        "- designed to support statistcal computing\n",
        "-vector first thinking\n",
        "- everything is an object\n",
        "\n",
        "R Syntax:\n",
        "- Braces {} are used to form blocks\n",
        "- semi-colons used to end statments, required if on the same line\n",
        "- assignments are made with <- or -> (or=)\n",
        "- dots . have no special menaing- they are not operators\n",
        "- single and double quotes have the same meaning, but double quotes are preffered\n",
        "  - use single quotes if you are expecting a string to contain double quotes\n"
      ],
      "metadata": {
        "id": "FKktFeUpQM0O"
      }
    },
    {
      "cell_type": "code",
      "source": [
        "# to assign a value to a variable, use the <- notation\n",
        "#Variable must start with a letter and cannot start with a number or _ - it can start with a . but must be follwed by a letter\n",
        "\n",
        "favorite_album <- \"Dark side of the Moon\"\n",
        "favorite_album"
      ],
      "metadata": {
        "colab": {
          "base_uri": "https://localhost:8080/",
          "height": 34
        },
        "id": "FIKSC3g4RjH0",
        "outputId": "1a10feae-1e63-4ca8-eb52-636ade36a42d"
      },
      "execution_count": 1,
      "outputs": [
        {
          "output_type": "display_data",
          "data": {
            "text/html": [
              "'Dark side of the Moon'"
            ],
            "text/markdown": "'Dark side of the Moon'",
            "text/latex": "'Dark side of the Moon'",
            "text/plain": [
              "[1] \"Dark side of the Moon\""
            ]
          },
          "metadata": {}
        }
      ]
    },
    {
      "cell_type": "code",
      "source": [
        "myvar <- 11"
      ],
      "metadata": {
        "id": "jyRa6uljSXvY"
      },
      "execution_count": 3,
      "outputs": []
    },
    {
      "cell_type": "code",
      "source": [
        "# you can learn what datatype an object if using the typeof() function\n",
        "# a double is a type of integer with 2 digits\n",
        "\n",
        "typeof(myvar)"
      ],
      "metadata": {
        "colab": {
          "base_uri": "https://localhost:8080/",
          "height": 34
        },
        "id": "ZS0QSGW7SLmM",
        "outputId": "e0f437d4-1528-4586-e624-2fc0ff644524"
      },
      "execution_count": 4,
      "outputs": [
        {
          "output_type": "display_data",
          "data": {
            "text/html": [
              "'double'"
            ],
            "text/markdown": "'double'",
            "text/latex": "'double'",
            "text/plain": [
              "[1] \"double\""
            ]
          },
          "metadata": {}
        }
      ]
    },
    {
      "cell_type": "code",
      "source": [
        "# you can assign values the other way (hower convention is R to L)\n",
        "\"Mickey\" -> mousename\n",
        "mousename"
      ],
      "metadata": {
        "colab": {
          "base_uri": "https://localhost:8080/",
          "height": 34
        },
        "id": "cVFsmR4_SjGa",
        "outputId": "25c24a0c-eb16-4a3e-acb3-774fb68f33c5"
      },
      "execution_count": 5,
      "outputs": [
        {
          "output_type": "display_data",
          "data": {
            "text/html": [
              "'Mickey'"
            ],
            "text/markdown": "'Mickey'",
            "text/latex": "'Mickey'",
            "text/plain": [
              "[1] \"Mickey\""
            ]
          },
          "metadata": {}
        }
      ]
    },
    {
      "cell_type": "code",
      "source": [
        "# concatenate values into an object using the c() function\n",
        "# pushed values into object but still sees them as seperate things\n",
        "\n",
        "myname <- c(\"bob\", \"dylan\")\n",
        "myname"
      ],
      "metadata": {
        "colab": {
          "base_uri": "https://localhost:8080/",
          "height": 34
        },
        "id": "U0qmBx_XS4mD",
        "outputId": "201ba85b-bbcf-4a9d-8bb4-06c550b4b507"
      },
      "execution_count": 7,
      "outputs": [
        {
          "output_type": "display_data",
          "data": {
            "text/html": [
              "<style>\n",
              ".list-inline {list-style: none; margin:0; padding: 0}\n",
              ".list-inline>li {display: inline-block}\n",
              ".list-inline>li:not(:last-child)::after {content: \"\\00b7\"; padding: 0 .5ex}\n",
              "</style>\n",
              "<ol class=list-inline><li>'bob'</li><li>'dylan'</li></ol>\n"
            ],
            "text/markdown": "1. 'bob'\n2. 'dylan'\n\n\n",
            "text/latex": "\\begin{enumerate*}\n\\item 'bob'\n\\item 'dylan'\n\\end{enumerate*}\n",
            "text/plain": [
              "[1] \"bob\"   \"dylan\""
            ]
          },
          "metadata": {}
        }
      ]
    },
    {
      "cell_type": "markdown",
      "source": [
        "R Data Types:\n",
        "- numeric\n",
        "-integer\n",
        "-complex\n",
        "-logical\n",
        "-character"
      ],
      "metadata": {
        "id": "YpMy6yFgTHmi"
      }
    },
    {
      "cell_type": "code",
      "source": [
        "# demimal values are called numeric values in R - they are the defult computational type\n",
        "# R will give the output of each thing called back unlike python which only gives the last output\n",
        "\n",
        "x <- 10.5\n",
        "x\n",
        "class(x)"
      ],
      "metadata": {
        "colab": {
          "base_uri": "https://localhost:8080/",
          "height": 52
        },
        "id": "Ea-2lV3fTObW",
        "outputId": "9a39cda9-a8e9-4639-d0b7-e498eeb317fe"
      },
      "execution_count": 8,
      "outputs": [
        {
          "output_type": "display_data",
          "data": {
            "text/html": [
              "10.5"
            ],
            "text/markdown": "10.5",
            "text/latex": "10.5",
            "text/plain": [
              "[1] 10.5"
            ]
          },
          "metadata": {}
        },
        {
          "output_type": "display_data",
          "data": {
            "text/html": [
              "'numeric'"
            ],
            "text/markdown": "'numeric'",
            "text/latex": "'numeric'",
            "text/plain": [
              "[1] \"numeric\""
            ]
          },
          "metadata": {}
        }
      ]
    },
    {
      "cell_type": "code",
      "source": [
        "# even if we assign an integer value to a variable k, it will be numeric\n",
        "# class if a more precsise description of typeof()\n",
        "\n",
        "k <- 1\n",
        "class(k)"
      ],
      "metadata": {
        "colab": {
          "base_uri": "https://localhost:8080/",
          "height": 34
        },
        "id": "dQpAqCFsULZy",
        "outputId": "4d6e6729-9b6a-4038-f689-21037370bdeb"
      },
      "execution_count": 9,
      "outputs": [
        {
          "output_type": "display_data",
          "data": {
            "text/html": [
              "'numeric'"
            ],
            "text/markdown": "'numeric'",
            "text/latex": "'numeric'",
            "text/plain": [
              "[1] \"numeric\""
            ]
          },
          "metadata": {}
        }
      ]
    },
    {
      "cell_type": "code",
      "source": [
        "# to create an integer variable in R, we use as.integer()\n",
        "\n",
        "y <- as.integer(3)\n",
        "y"
      ],
      "metadata": {
        "colab": {
          "base_uri": "https://localhost:8080/",
          "height": 34
        },
        "id": "OHr7HIpQU7fM",
        "outputId": "3cb47c3a-8724-4df9-bb17-053aa55782a2"
      },
      "execution_count": 10,
      "outputs": [
        {
          "output_type": "display_data",
          "data": {
            "text/html": [
              "3"
            ],
            "text/markdown": "3",
            "text/latex": "3",
            "text/plain": [
              "[1] 3"
            ]
          },
          "metadata": {}
        }
      ]
    },
    {
      "cell_type": "code",
      "source": [
        "class(y)\n",
        "is.integer(y)"
      ],
      "metadata": {
        "colab": {
          "base_uri": "https://localhost:8080/",
          "height": 52
        },
        "id": "aOx6x1NeVFKD",
        "outputId": "2ff2c9f4-e5a5-4705-c6b8-8a0efd0ff6b7"
      },
      "execution_count": 11,
      "outputs": [
        {
          "output_type": "display_data",
          "data": {
            "text/html": [
              "'integer'"
            ],
            "text/markdown": "'integer'",
            "text/latex": "'integer'",
            "text/plain": [
              "[1] \"integer\""
            ]
          },
          "metadata": {}
        },
        {
          "output_type": "display_data",
          "data": {
            "text/html": [
              "TRUE"
            ],
            "text/markdown": "TRUE",
            "text/latex": "TRUE",
            "text/plain": [
              "[1] TRUE"
            ]
          },
          "metadata": {}
        }
      ]
    },
    {
      "cell_type": "code",
      "source": [
        "# we can also declare an integer by appending an L suffix\n",
        "\n",
        "y <- 3L\n",
        "is.integer(y)"
      ],
      "metadata": {
        "colab": {
          "base_uri": "https://localhost:8080/",
          "height": 34
        },
        "id": "JK9d0CLSVOlQ",
        "outputId": "b75c31a1-321b-4938-e164-c10655a9bca3"
      },
      "execution_count": 13,
      "outputs": [
        {
          "output_type": "display_data",
          "data": {
            "text/html": [
              "TRUE"
            ],
            "text/markdown": "TRUE",
            "text/latex": "TRUE",
            "text/plain": [
              "[1] TRUE"
            ]
          },
          "metadata": {}
        }
      ]
    },
    {
      "cell_type": "code",
      "source": [
        "# we can cast a numeric value into an integer\n",
        "as.integer(3.14)"
      ],
      "metadata": {
        "colab": {
          "base_uri": "https://localhost:8080/",
          "height": 34
        },
        "id": "afM4e1_jV9_1",
        "outputId": "0c588536-0e4e-46c9-8658-9a026e5102a6"
      },
      "execution_count": 14,
      "outputs": [
        {
          "output_type": "display_data",
          "data": {
            "text/html": [
              "3"
            ],
            "text/markdown": "3",
            "text/latex": "3",
            "text/plain": [
              "[1] 3"
            ]
          },
          "metadata": {}
        }
      ]
    },
    {
      "cell_type": "code",
      "source": [
        "# you cannot turn all things into an integer\n",
        "as.integer(\"joe\")"
      ],
      "metadata": {
        "colab": {
          "base_uri": "https://localhost:8080/",
          "height": 71
        },
        "id": "6F0x0VZnWFLt",
        "outputId": "8fa96790-85c5-42f3-bc22-866b1f8f1a2a"
      },
      "execution_count": 15,
      "outputs": [
        {
          "output_type": "stream",
          "name": "stderr",
          "text": [
            "Warning message in eval(expr, envir, enclos):\n",
            "“NAs introduced by coercion”\n"
          ]
        },
        {
          "output_type": "display_data",
          "data": {
            "text/html": [
              "&lt;NA&gt;"
            ],
            "text/markdown": "&lt;NA&gt;",
            "text/latex": "<NA>",
            "text/plain": [
              "[1] NA"
            ]
          },
          "metadata": {}
        }
      ]
    },
    {
      "cell_type": "code",
      "source": [
        "as.integer(TRUE)\n",
        "as.integer(FALSE)"
      ],
      "metadata": {
        "colab": {
          "base_uri": "https://localhost:8080/",
          "height": 52
        },
        "id": "I39s9zRfWXYK",
        "outputId": "1463126c-00fb-400c-d85e-7384b838ffc4"
      },
      "execution_count": 16,
      "outputs": [
        {
          "output_type": "display_data",
          "data": {
            "text/html": [
              "1"
            ],
            "text/markdown": "1",
            "text/latex": "1",
            "text/plain": [
              "[1] 1"
            ]
          },
          "metadata": {}
        },
        {
          "output_type": "display_data",
          "data": {
            "text/html": [
              "0"
            ],
            "text/markdown": "0",
            "text/latex": "0",
            "text/plain": [
              "[1] 0"
            ]
          },
          "metadata": {}
        }
      ]
    },
    {
      "cell_type": "markdown",
      "source": [
        "Math Operations:\n",
        "- +\n",
        "- -\n",
        "- *\n",
        "- /\n",
        "- ^ or ** (expontential)\n"
      ],
      "metadata": {
        "id": "2tGmpr9-Wyxo"
      }
    }
  ]
}