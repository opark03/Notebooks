{
  "nbformat": 4,
  "nbformat_minor": 0,
  "metadata": {
    "colab": {
      "provenance": [],
      "authorship_tag": "ABX9TyN4bymYdZfyq72WZkyJrbyd",
      "include_colab_link": true
    },
    "kernelspec": {
      "name": "ir",
      "display_name": "R"
    },
    "language_info": {
      "name": "R"
    }
  },
  "cells": [
    {
      "cell_type": "markdown",
      "metadata": {
        "id": "view-in-github",
        "colab_type": "text"
      },
      "source": [
        "<a href=\"https://colab.research.google.com/github/opark03/Notebooks/blob/main/Intro_To_R.ipynb\" target=\"_parent\"><img src=\"https://colab.research.google.com/assets/colab-badge.svg\" alt=\"Open In Colab\"/></a>"
      ]
    },
    {
      "cell_type": "markdown",
      "source": [
        "Advantages of R:\n",
        "- Built for Statistics\n",
        "- Data visualization\n",
        "- Additional statistical packages\n",
        "- Data wrangling\n",
        "- Academic focus\n",
        "- Customizable\n",
        "\n",
        "Disadvantages of R:\n",
        "- Less readable\n",
        "- More difficult to learn well\n",
        "- Not as beginner friendly\n",
        "\n",
        "Design:\n",
        "- designed to support statistcal computing\n",
        "-vector first thinking\n",
        "- everything is an object\n",
        "\n",
        "R Syntax:\n",
        "- Braces {} are used to form blocks\n",
        "- semi-colons used to end statments, required if on the same line\n",
        "- assignments are made with <- or -> (or=)\n",
        "- dots . have no special menaing- they are not operators\n",
        "- single and double quotes have the same meaning, but double quotes are preffered\n",
        "  - use single quotes if you are expecting a string to contain double quotes\n"
      ],
      "metadata": {
        "id": "FKktFeUpQM0O"
      }
    },
    {
      "cell_type": "code",
      "source": [
        "# to assign a value to a variable, use the <- notation\n",
        "#Variable must start with a letter and cannot start with a number or _ - it can start with a . but must be follwed by a letter\n",
        "\n",
        "favorite_album <- \"Dark side of the Moon\"\n",
        "favorite_album"
      ],
      "metadata": {
        "colab": {
          "base_uri": "https://localhost:8080/",
          "height": 34
        },
        "id": "FIKSC3g4RjH0",
        "outputId": "1a10feae-1e63-4ca8-eb52-636ade36a42d"
      },
      "execution_count": null,
      "outputs": [
        {
          "output_type": "display_data",
          "data": {
            "text/html": [
              "'Dark side of the Moon'"
            ],
            "text/markdown": "'Dark side of the Moon'",
            "text/latex": "'Dark side of the Moon'",
            "text/plain": [
              "[1] \"Dark side of the Moon\""
            ]
          },
          "metadata": {}
        }
      ]
    },
    {
      "cell_type": "code",
      "source": [
        "myvar <- 11"
      ],
      "metadata": {
        "id": "jyRa6uljSXvY"
      },
      "execution_count": null,
      "outputs": []
    },
    {
      "cell_type": "code",
      "source": [
        "# you can learn what datatype an object if using the typeof() function\n",
        "# a double is a type of integer with 2 digits\n",
        "\n",
        "typeof(myvar)"
      ],
      "metadata": {
        "colab": {
          "base_uri": "https://localhost:8080/",
          "height": 34
        },
        "id": "ZS0QSGW7SLmM",
        "outputId": "e0f437d4-1528-4586-e624-2fc0ff644524"
      },
      "execution_count": null,
      "outputs": [
        {
          "output_type": "display_data",
          "data": {
            "text/html": [
              "'double'"
            ],
            "text/markdown": "'double'",
            "text/latex": "'double'",
            "text/plain": [
              "[1] \"double\""
            ]
          },
          "metadata": {}
        }
      ]
    },
    {
      "cell_type": "code",
      "source": [
        "# you can assign values the other way (hower convention is R to L)\n",
        "\"Mickey\" -> mousename\n",
        "mousename"
      ],
      "metadata": {
        "colab": {
          "base_uri": "https://localhost:8080/",
          "height": 34
        },
        "id": "cVFsmR4_SjGa",
        "outputId": "25c24a0c-eb16-4a3e-acb3-774fb68f33c5"
      },
      "execution_count": null,
      "outputs": [
        {
          "output_type": "display_data",
          "data": {
            "text/html": [
              "'Mickey'"
            ],
            "text/markdown": "'Mickey'",
            "text/latex": "'Mickey'",
            "text/plain": [
              "[1] \"Mickey\""
            ]
          },
          "metadata": {}
        }
      ]
    },
    {
      "cell_type": "code",
      "source": [
        "# concatenate values into an object using the c() function\n",
        "# pushed values into object but still sees them as seperate things\n",
        "\n",
        "myname <- c(\"bob\", \"dylan\")\n",
        "myname"
      ],
      "metadata": {
        "colab": {
          "base_uri": "https://localhost:8080/",
          "height": 34
        },
        "id": "U0qmBx_XS4mD",
        "outputId": "201ba85b-bbcf-4a9d-8bb4-06c550b4b507"
      },
      "execution_count": null,
      "outputs": [
        {
          "output_type": "display_data",
          "data": {
            "text/html": [
              "<style>\n",
              ".list-inline {list-style: none; margin:0; padding: 0}\n",
              ".list-inline>li {display: inline-block}\n",
              ".list-inline>li:not(:last-child)::after {content: \"\\00b7\"; padding: 0 .5ex}\n",
              "</style>\n",
              "<ol class=list-inline><li>'bob'</li><li>'dylan'</li></ol>\n"
            ],
            "text/markdown": "1. 'bob'\n2. 'dylan'\n\n\n",
            "text/latex": "\\begin{enumerate*}\n\\item 'bob'\n\\item 'dylan'\n\\end{enumerate*}\n",
            "text/plain": [
              "[1] \"bob\"   \"dylan\""
            ]
          },
          "metadata": {}
        }
      ]
    },
    {
      "cell_type": "markdown",
      "source": [
        "R Data Types:\n",
        "- numeric\n",
        "-integer\n",
        "-complex\n",
        "-logical\n",
        "-character"
      ],
      "metadata": {
        "id": "YpMy6yFgTHmi"
      }
    },
    {
      "cell_type": "code",
      "source": [
        "# demimal values are called numeric values in R - they are the defult computational type\n",
        "# R will give the output of each thing called back unlike python which only gives the last output\n",
        "\n",
        "x <- 10.5\n",
        "x\n",
        "class(x)"
      ],
      "metadata": {
        "colab": {
          "base_uri": "https://localhost:8080/",
          "height": 52
        },
        "id": "Ea-2lV3fTObW",
        "outputId": "9a39cda9-a8e9-4639-d0b7-e498eeb317fe"
      },
      "execution_count": null,
      "outputs": [
        {
          "output_type": "display_data",
          "data": {
            "text/html": [
              "10.5"
            ],
            "text/markdown": "10.5",
            "text/latex": "10.5",
            "text/plain": [
              "[1] 10.5"
            ]
          },
          "metadata": {}
        },
        {
          "output_type": "display_data",
          "data": {
            "text/html": [
              "'numeric'"
            ],
            "text/markdown": "'numeric'",
            "text/latex": "'numeric'",
            "text/plain": [
              "[1] \"numeric\""
            ]
          },
          "metadata": {}
        }
      ]
    },
    {
      "cell_type": "code",
      "source": [
        "# even if we assign an integer value to a variable k, it will be numeric\n",
        "# class if a more precsise description of typeof()\n",
        "\n",
        "k <- 1\n",
        "class(k)"
      ],
      "metadata": {
        "colab": {
          "base_uri": "https://localhost:8080/",
          "height": 34
        },
        "id": "dQpAqCFsULZy",
        "outputId": "4d6e6729-9b6a-4038-f689-21037370bdeb"
      },
      "execution_count": null,
      "outputs": [
        {
          "output_type": "display_data",
          "data": {
            "text/html": [
              "'numeric'"
            ],
            "text/markdown": "'numeric'",
            "text/latex": "'numeric'",
            "text/plain": [
              "[1] \"numeric\""
            ]
          },
          "metadata": {}
        }
      ]
    },
    {
      "cell_type": "code",
      "source": [
        "# to create an integer variable in R, we use as.integer()\n",
        "\n",
        "y <- as.integer(3)\n",
        "y"
      ],
      "metadata": {
        "colab": {
          "base_uri": "https://localhost:8080/",
          "height": 34
        },
        "id": "OHr7HIpQU7fM",
        "outputId": "3cb47c3a-8724-4df9-bb17-053aa55782a2"
      },
      "execution_count": null,
      "outputs": [
        {
          "output_type": "display_data",
          "data": {
            "text/html": [
              "3"
            ],
            "text/markdown": "3",
            "text/latex": "3",
            "text/plain": [
              "[1] 3"
            ]
          },
          "metadata": {}
        }
      ]
    },
    {
      "cell_type": "code",
      "source": [
        "class(y)\n",
        "is.integer(y)"
      ],
      "metadata": {
        "colab": {
          "base_uri": "https://localhost:8080/",
          "height": 52
        },
        "id": "aOx6x1NeVFKD",
        "outputId": "2ff2c9f4-e5a5-4705-c6b8-8a0efd0ff6b7"
      },
      "execution_count": null,
      "outputs": [
        {
          "output_type": "display_data",
          "data": {
            "text/html": [
              "'integer'"
            ],
            "text/markdown": "'integer'",
            "text/latex": "'integer'",
            "text/plain": [
              "[1] \"integer\""
            ]
          },
          "metadata": {}
        },
        {
          "output_type": "display_data",
          "data": {
            "text/html": [
              "TRUE"
            ],
            "text/markdown": "TRUE",
            "text/latex": "TRUE",
            "text/plain": [
              "[1] TRUE"
            ]
          },
          "metadata": {}
        }
      ]
    },
    {
      "cell_type": "code",
      "source": [
        "# we can also declare an integer by appending an L suffix\n",
        "\n",
        "y <- 3L\n",
        "is.integer(y)"
      ],
      "metadata": {
        "colab": {
          "base_uri": "https://localhost:8080/",
          "height": 34
        },
        "id": "JK9d0CLSVOlQ",
        "outputId": "b75c31a1-321b-4938-e164-c10655a9bca3"
      },
      "execution_count": null,
      "outputs": [
        {
          "output_type": "display_data",
          "data": {
            "text/html": [
              "TRUE"
            ],
            "text/markdown": "TRUE",
            "text/latex": "TRUE",
            "text/plain": [
              "[1] TRUE"
            ]
          },
          "metadata": {}
        }
      ]
    },
    {
      "cell_type": "code",
      "source": [
        "# we can cast a numeric value into an integer\n",
        "as.integer(3.14)"
      ],
      "metadata": {
        "colab": {
          "base_uri": "https://localhost:8080/",
          "height": 34
        },
        "id": "afM4e1_jV9_1",
        "outputId": "0c588536-0e4e-46c9-8658-9a026e5102a6"
      },
      "execution_count": null,
      "outputs": [
        {
          "output_type": "display_data",
          "data": {
            "text/html": [
              "3"
            ],
            "text/markdown": "3",
            "text/latex": "3",
            "text/plain": [
              "[1] 3"
            ]
          },
          "metadata": {}
        }
      ]
    },
    {
      "cell_type": "code",
      "source": [
        "# you cannot turn all things into an integer\n",
        "as.integer(\"joe\")"
      ],
      "metadata": {
        "colab": {
          "base_uri": "https://localhost:8080/",
          "height": 71
        },
        "id": "6F0x0VZnWFLt",
        "outputId": "8fa96790-85c5-42f3-bc22-866b1f8f1a2a"
      },
      "execution_count": null,
      "outputs": [
        {
          "output_type": "stream",
          "name": "stderr",
          "text": [
            "Warning message in eval(expr, envir, enclos):\n",
            "“NAs introduced by coercion”\n"
          ]
        },
        {
          "output_type": "display_data",
          "data": {
            "text/html": [
              "&lt;NA&gt;"
            ],
            "text/markdown": "&lt;NA&gt;",
            "text/latex": "<NA>",
            "text/plain": [
              "[1] NA"
            ]
          },
          "metadata": {}
        }
      ]
    },
    {
      "cell_type": "code",
      "source": [
        "as.integer(TRUE)\n",
        "as.integer(FALSE)"
      ],
      "metadata": {
        "colab": {
          "base_uri": "https://localhost:8080/",
          "height": 52
        },
        "id": "I39s9zRfWXYK",
        "outputId": "1463126c-00fb-400c-d85e-7384b838ffc4"
      },
      "execution_count": null,
      "outputs": [
        {
          "output_type": "display_data",
          "data": {
            "text/html": [
              "1"
            ],
            "text/markdown": "1",
            "text/latex": "1",
            "text/plain": [
              "[1] 1"
            ]
          },
          "metadata": {}
        },
        {
          "output_type": "display_data",
          "data": {
            "text/html": [
              "0"
            ],
            "text/markdown": "0",
            "text/latex": "0",
            "text/plain": [
              "[1] 0"
            ]
          },
          "metadata": {}
        }
      ]
    },
    {
      "cell_type": "markdown",
      "source": [
        "Math Operations:\n",
        "- +\n",
        "- -\n",
        "- *\n",
        "- /\n",
        "- ^ or ** (expontential)\n",
        "- x%%y is integer divison\n"
      ],
      "metadata": {
        "id": "2tGmpr9-Wyxo"
      }
    },
    {
      "cell_type": "code",
      "source": [
        "# Normal PEMDAS\n",
        "\n",
        "4^2 * (4 + 8 * 2 / 4)\n",
        "14^3\n",
        "5 %/% 3"
      ],
      "metadata": {
        "id": "HtcDttPCjClV",
        "outputId": "d7977e88-61a1-49ed-e7fd-b05321f8411d",
        "colab": {
          "base_uri": "https://localhost:8080/",
          "height": 69
        }
      },
      "execution_count": 2,
      "outputs": [
        {
          "output_type": "display_data",
          "data": {
            "text/html": [
              "128"
            ],
            "text/markdown": "128",
            "text/latex": "128",
            "text/plain": [
              "[1] 128"
            ]
          },
          "metadata": {}
        },
        {
          "output_type": "display_data",
          "data": {
            "text/html": [
              "2744"
            ],
            "text/markdown": "2744",
            "text/latex": "2744",
            "text/plain": [
              "[1] 2744"
            ]
          },
          "metadata": {}
        },
        {
          "output_type": "display_data",
          "data": {
            "text/html": [
              "1"
            ],
            "text/markdown": "1",
            "text/latex": "1",
            "text/plain": [
              "[1] 1"
            ]
          },
          "metadata": {}
        }
      ]
    },
    {
      "cell_type": "code",
      "source": [
        "x <- 1\n",
        "y <- 2\n",
        "z <- x > y\n",
        "class(z)"
      ],
      "metadata": {
        "id": "lkhk2I7TjZ_U",
        "outputId": "79b10e9e-b682-404d-d99b-52ffc5eacd47",
        "colab": {
          "base_uri": "https://localhost:8080/",
          "height": 34
        }
      },
      "execution_count": 4,
      "outputs": [
        {
          "output_type": "display_data",
          "data": {
            "text/html": [
              "'logical'"
            ],
            "text/markdown": "'logical'",
            "text/latex": "'logical'",
            "text/plain": [
              "[1] \"logical\""
            ]
          },
          "metadata": {}
        }
      ]
    },
    {
      "cell_type": "code",
      "source": [
        "u <- TRUE\n",
        "v <- FALSE\n",
        "u & v"
      ],
      "metadata": {
        "id": "1YpInF0xjlZ6",
        "outputId": "53c4bd81-d8ad-406c-d6d7-f3b076cc3408",
        "colab": {
          "base_uri": "https://localhost:8080/",
          "height": 34
        }
      },
      "execution_count": 8,
      "outputs": [
        {
          "output_type": "display_data",
          "data": {
            "text/html": [
              "FALSE"
            ],
            "text/markdown": "FALSE",
            "text/latex": "FALSE",
            "text/plain": [
              "[1] FALSE"
            ]
          },
          "metadata": {}
        }
      ]
    },
    {
      "cell_type": "code",
      "source": [
        "u | v\n",
        "!u"
      ],
      "metadata": {
        "id": "NGQacGDPj51s",
        "outputId": "22c81f13-60e2-44a5-fa21-82d3839a34c6",
        "colab": {
          "base_uri": "https://localhost:8080/",
          "height": 52
        }
      },
      "execution_count": 9,
      "outputs": [
        {
          "output_type": "display_data",
          "data": {
            "text/html": [
              "TRUE"
            ],
            "text/markdown": "TRUE",
            "text/latex": "TRUE",
            "text/plain": [
              "[1] TRUE"
            ]
          },
          "metadata": {}
        },
        {
          "output_type": "display_data",
          "data": {
            "text/html": [
              "FALSE"
            ],
            "text/markdown": "FALSE",
            "text/latex": "FALSE",
            "text/plain": [
              "[1] FALSE"
            ]
          },
          "metadata": {}
        }
      ]
    },
    {
      "cell_type": "code",
      "source": [
        "# Characters\n",
        "\n",
        "x = as.character(3.14)\n",
        "x"
      ],
      "metadata": {
        "id": "5R1F2k2Cj96Z",
        "outputId": "8c3fc765-d99d-4a90-f05a-626dfd642a59",
        "colab": {
          "base_uri": "https://localhost:8080/",
          "height": 34
        }
      },
      "execution_count": 10,
      "outputs": [
        {
          "output_type": "display_data",
          "data": {
            "text/html": [
              "'3.14'"
            ],
            "text/markdown": "'3.14'",
            "text/latex": "'3.14'",
            "text/plain": [
              "[1] \"3.14\""
            ]
          },
          "metadata": {}
        }
      ]
    },
    {
      "cell_type": "code",
      "source": [
        "class(x)"
      ],
      "metadata": {
        "id": "N2b4OC9CkElC",
        "outputId": "b9502929-cee9-4200-f060-f317fff71f96",
        "colab": {
          "base_uri": "https://localhost:8080/",
          "height": 34
        }
      },
      "execution_count": 11,
      "outputs": [
        {
          "output_type": "display_data",
          "data": {
            "text/html": [
              "'character'"
            ],
            "text/markdown": "'character'",
            "text/latex": "'character'",
            "text/plain": [
              "[1] \"character\""
            ]
          },
          "metadata": {}
        }
      ]
    },
    {
      "cell_type": "code",
      "source": [
        "# paste() : two character values can be concatenated with this function\n",
        "# different then c function because this puts them together without seperation\n",
        "\n",
        "fname <- \"Joe\"\n",
        "lname <- \"Smith\"\n",
        "c(fname, lname)\n",
        "paste(fname, lname)\n"
      ],
      "metadata": {
        "id": "85pwZwbSkHuA",
        "outputId": "ee20be2c-de77-4dc1-e59d-ef904d2eab57",
        "colab": {
          "base_uri": "https://localhost:8080/",
          "height": 52
        }
      },
      "execution_count": 16,
      "outputs": [
        {
          "output_type": "display_data",
          "data": {
            "text/html": [
              "<style>\n",
              ".list-inline {list-style: none; margin:0; padding: 0}\n",
              ".list-inline>li {display: inline-block}\n",
              ".list-inline>li:not(:last-child)::after {content: \"\\00b7\"; padding: 0 .5ex}\n",
              "</style>\n",
              "<ol class=list-inline><li>'Joe'</li><li>'Smith'</li></ol>\n"
            ],
            "text/markdown": "1. 'Joe'\n2. 'Smith'\n\n\n",
            "text/latex": "\\begin{enumerate*}\n\\item 'Joe'\n\\item 'Smith'\n\\end{enumerate*}\n",
            "text/plain": [
              "[1] \"Joe\"   \"Smith\""
            ]
          },
          "metadata": {}
        },
        {
          "output_type": "display_data",
          "data": {
            "text/html": [
              "'Joe Smith'"
            ],
            "text/markdown": "'Joe Smith'",
            "text/latex": "'Joe Smith'",
            "text/plain": [
              "[1] \"Joe Smith\""
            ]
          },
          "metadata": {}
        }
      ]
    },
    {
      "cell_type": "code",
      "source": [
        "# fill in parts of strong with string and integers\n",
        "sprintf(\"%s has %d dollars\", \"sam\", 100)"
      ],
      "metadata": {
        "id": "jAxlgchwkkt5",
        "outputId": "1ebbb3a6-a0ff-44dd-d1f8-13d14f98747c",
        "colab": {
          "base_uri": "https://localhost:8080/",
          "height": 34
        }
      },
      "execution_count": 14,
      "outputs": [
        {
          "output_type": "display_data",
          "data": {
            "text/html": [
              "'sam has 100 dollars'"
            ],
            "text/markdown": "'sam has 100 dollars'",
            "text/latex": "'sam has 100 dollars'",
            "text/plain": [
              "[1] \"sam has 100 dollars\""
            ]
          },
          "metadata": {}
        }
      ]
    },
    {
      "cell_type": "code",
      "source": [
        "# Pull out a part of the string\n",
        "# R INDEXES AT 1 NOT ZERO!!!!!!!\n",
        "\n",
        "substr(\"Mary has a little lamb.\", start=3, stop=12)"
      ],
      "metadata": {
        "id": "x9NW4WN2kbHE",
        "outputId": "0e6ff6c8-44d1-46b3-e4ce-c022e13f1a25",
        "colab": {
          "base_uri": "https://localhost:8080/",
          "height": 34
        }
      },
      "execution_count": 13,
      "outputs": [
        {
          "output_type": "display_data",
          "data": {
            "text/html": [
              "'ry has a l'"
            ],
            "text/markdown": "'ry has a l'",
            "text/latex": "'ry has a l'",
            "text/plain": [
              "[1] \"ry has a l\""
            ]
          },
          "metadata": {}
        }
      ]
    },
    {
      "cell_type": "code",
      "source": [
        "# replace one word with another\n",
        "sub(\"little\", \"big\", \"Mary has a little lamb\")"
      ],
      "metadata": {
        "id": "NlVMbyg0kiq5",
        "outputId": "cc2e8f83-2eba-44df-8548-b2d01ccb23a6",
        "colab": {
          "base_uri": "https://localhost:8080/",
          "height": 34
        }
      },
      "execution_count": 15,
      "outputs": [
        {
          "output_type": "display_data",
          "data": {
            "text/html": [
              "'Mary has a big lamb'"
            ],
            "text/markdown": "'Mary has a big lamb'",
            "text/latex": "'Mary has a big lamb'",
            "text/plain": [
              "[1] \"Mary has a big lamb\""
            ]
          },
          "metadata": {}
        }
      ]
    },
    {
      "cell_type": "markdown",
      "source": [
        "R Data Structures\n",
        "\n",
        "Basic R comes with several data structures:\n",
        "- vector\n",
        "  - what is called an array in all langs but r\n",
        "  - a collection of cells with fixed size where cells hold all the same data types\n",
        "- matrix\n",
        "  - two demensional vector\n",
        "- array\n",
        "  - vector with one or more demensions\n",
        "  - one demenison is (almost) the same as a vector. two demensions is (almost) the same as a matrix. An array with three or more demensions is an n-dimensional array\n",
        "- list\n",
        "  - holds items of different data types and the list size can be increased on the fly\n",
        "  - contents can be accessed euther by index (mylist[[1]]) or by name (mylist$age)\n",
        "- data frame\n",
        "  - called a table in most langs\n",
        "  - each column holds the same data type\n",
        "  - columns have header names\n",
        "  - a loist of vectors with the same length with varying data types\n",
        "\n",
        "most frequently used are vectors and data frames"
      ],
      "metadata": {
        "id": "bEEL8l5yldUt"
      }
    },
    {
      "cell_type": "code",
      "source": [
        "# Vectors and c()\n",
        "# member of a vector are called components\n",
        "\n",
        "c(2, 3, 5)"
      ],
      "metadata": {
        "id": "m2kkaqDtl_BZ",
        "outputId": "022f1c75-95c1-407d-a748-cd445c5ab305",
        "colab": {
          "base_uri": "https://localhost:8080/",
          "height": 34
        }
      },
      "execution_count": 17,
      "outputs": [
        {
          "output_type": "display_data",
          "data": {
            "text/html": [
              "<style>\n",
              ".list-inline {list-style: none; margin:0; padding: 0}\n",
              ".list-inline>li {display: inline-block}\n",
              ".list-inline>li:not(:last-child)::after {content: \"\\00b7\"; padding: 0 .5ex}\n",
              "</style>\n",
              "<ol class=list-inline><li>2</li><li>3</li><li>5</li></ol>\n"
            ],
            "text/markdown": "1. 2\n2. 3\n3. 5\n\n\n",
            "text/latex": "\\begin{enumerate*}\n\\item 2\n\\item 3\n\\item 5\n\\end{enumerate*}\n",
            "text/plain": [
              "[1] 2 3 5"
            ]
          },
          "metadata": {}
        }
      ]
    },
    {
      "cell_type": "code",
      "source": [
        "# vector of logical values\n",
        "c(TRUE, FALSE, TRUE, FALSE, FALSE)\n",
        "# assign to a variable\n",
        "\n",
        "z <- c(TRUE, FALSE, TRUE, FALSE, FALSE)\n",
        "z"
      ],
      "metadata": {
        "id": "_Mt0LrZxndtl",
        "outputId": "2db68f75-de8d-4143-fa47-64438134c1d5",
        "colab": {
          "base_uri": "https://localhost:8080/",
          "height": 52
        }
      },
      "execution_count": 21,
      "outputs": [
        {
          "output_type": "display_data",
          "data": {
            "text/html": [
              "<style>\n",
              ".list-inline {list-style: none; margin:0; padding: 0}\n",
              ".list-inline>li {display: inline-block}\n",
              ".list-inline>li:not(:last-child)::after {content: \"\\00b7\"; padding: 0 .5ex}\n",
              "</style>\n",
              "<ol class=list-inline><li>TRUE</li><li>FALSE</li><li>TRUE</li><li>FALSE</li><li>FALSE</li></ol>\n"
            ],
            "text/markdown": "1. TRUE\n2. FALSE\n3. TRUE\n4. FALSE\n5. FALSE\n\n\n",
            "text/latex": "\\begin{enumerate*}\n\\item TRUE\n\\item FALSE\n\\item TRUE\n\\item FALSE\n\\item FALSE\n\\end{enumerate*}\n",
            "text/plain": [
              "[1]  TRUE FALSE  TRUE FALSE FALSE"
            ]
          },
          "metadata": {}
        },
        {
          "output_type": "display_data",
          "data": {
            "text/html": [
              "<style>\n",
              ".list-inline {list-style: none; margin:0; padding: 0}\n",
              ".list-inline>li {display: inline-block}\n",
              ".list-inline>li:not(:last-child)::after {content: \"\\00b7\"; padding: 0 .5ex}\n",
              "</style>\n",
              "<ol class=list-inline><li>TRUE</li><li>FALSE</li><li>TRUE</li><li>FALSE</li><li>FALSE</li></ol>\n"
            ],
            "text/markdown": "1. TRUE\n2. FALSE\n3. TRUE\n4. FALSE\n5. FALSE\n\n\n",
            "text/latex": "\\begin{enumerate*}\n\\item TRUE\n\\item FALSE\n\\item TRUE\n\\item FALSE\n\\item FALSE\n\\end{enumerate*}\n",
            "text/plain": [
              "[1]  TRUE FALSE  TRUE FALSE FALSE"
            ]
          },
          "metadata": {}
        }
      ]
    },
    {
      "cell_type": "code",
      "source": [
        "# vector of character strings\n",
        "c(\"aa\", \"bb\", \"cc\", \"dd\", \"ee\")"
      ],
      "metadata": {
        "id": "QuMfdpVhnoEq",
        "outputId": "f4cae781-ddbb-4583-f7c3-2d144152097e",
        "colab": {
          "base_uri": "https://localhost:8080/",
          "height": 34
        }
      },
      "execution_count": 19,
      "outputs": [
        {
          "output_type": "display_data",
          "data": {
            "text/html": [
              "<style>\n",
              ".list-inline {list-style: none; margin:0; padding: 0}\n",
              ".list-inline>li {display: inline-block}\n",
              ".list-inline>li:not(:last-child)::after {content: \"\\00b7\"; padding: 0 .5ex}\n",
              "</style>\n",
              "<ol class=list-inline><li>'aa'</li><li>'bb'</li><li>'cc'</li><li>'dd'</li><li>'ee'</li></ol>\n"
            ],
            "text/markdown": "1. 'aa'\n2. 'bb'\n3. 'cc'\n4. 'dd'\n5. 'ee'\n\n\n",
            "text/latex": "\\begin{enumerate*}\n\\item 'aa'\n\\item 'bb'\n\\item 'cc'\n\\item 'dd'\n\\item 'ee'\n\\end{enumerate*}\n",
            "text/plain": [
              "[1] \"aa\" \"bb\" \"cc\" \"dd\" \"ee\""
            ]
          },
          "metadata": {}
        }
      ]
    },
    {
      "cell_type": "markdown",
      "source": [
        "Vectors from sequences using :, seq(), and rep()"
      ],
      "metadata": {
        "id": "fmWpm3ofn1-L"
      }
    },
    {
      "cell_type": "code",
      "source": [
        "s1 <- 2:5\n",
        "s1"
      ],
      "metadata": {
        "id": "tJMkSusTn7wK",
        "outputId": "bc415805-207c-4cc7-ed5e-fc6bdaa5ad60",
        "colab": {
          "base_uri": "https://localhost:8080/",
          "height": 34
        }
      },
      "execution_count": 22,
      "outputs": [
        {
          "output_type": "display_data",
          "data": {
            "text/html": [
              "<style>\n",
              ".list-inline {list-style: none; margin:0; padding: 0}\n",
              ".list-inline>li {display: inline-block}\n",
              ".list-inline>li:not(:last-child)::after {content: \"\\00b7\"; padding: 0 .5ex}\n",
              "</style>\n",
              "<ol class=list-inline><li>2</li><li>3</li><li>4</li><li>5</li></ol>\n"
            ],
            "text/markdown": "1. 2\n2. 3\n3. 4\n4. 5\n\n\n",
            "text/latex": "\\begin{enumerate*}\n\\item 2\n\\item 3\n\\item 4\n\\item 5\n\\end{enumerate*}\n",
            "text/plain": [
              "[1] 2 3 4 5"
            ]
          },
          "metadata": {}
        }
      ]
    },
    {
      "cell_type": "code",
      "source": [
        "s2 <- seq(from=1, to=5, by=2)\n",
        "s2"
      ],
      "metadata": {
        "id": "KrabFj6eoErJ",
        "outputId": "68feace2-34bf-4a84-d665-e675d4b1e9f1",
        "colab": {
          "base_uri": "https://localhost:8080/",
          "height": 34
        }
      },
      "execution_count": 24,
      "outputs": [
        {
          "output_type": "display_data",
          "data": {
            "text/html": [
              "<style>\n",
              ".list-inline {list-style: none; margin:0; padding: 0}\n",
              ".list-inline>li {display: inline-block}\n",
              ".list-inline>li:not(:last-child)::after {content: \"\\00b7\"; padding: 0 .5ex}\n",
              "</style>\n",
              "<ol class=list-inline><li>1</li><li>3</li><li>5</li></ol>\n"
            ],
            "text/markdown": "1. 1\n2. 3\n3. 5\n\n\n",
            "text/latex": "\\begin{enumerate*}\n\\item 1\n\\item 3\n\\item 5\n\\end{enumerate*}\n",
            "text/plain": [
              "[1] 1 3 5"
            ]
          },
          "metadata": {}
        }
      ]
    },
    {
      "cell_type": "code",
      "source": [
        "s3 <- rep(1,5)\n",
        "s3"
      ],
      "metadata": {
        "id": "HZZdgZXFoTkW",
        "outputId": "d19e66d6-1282-40b2-8dc3-c4444431adac",
        "colab": {
          "base_uri": "https://localhost:8080/",
          "height": 34
        }
      },
      "execution_count": 25,
      "outputs": [
        {
          "output_type": "display_data",
          "data": {
            "text/html": [
              "<style>\n",
              ".list-inline {list-style: none; margin:0; padding: 0}\n",
              ".list-inline>li {display: inline-block}\n",
              ".list-inline>li:not(:last-child)::after {content: \"\\00b7\"; padding: 0 .5ex}\n",
              "</style>\n",
              "<ol class=list-inline><li>1</li><li>1</li><li>1</li><li>1</li><li>1</li></ol>\n"
            ],
            "text/markdown": "1. 1\n2. 1\n3. 1\n4. 1\n5. 1\n\n\n",
            "text/latex": "\\begin{enumerate*}\n\\item 1\n\\item 1\n\\item 1\n\\item 1\n\\item 1\n\\end{enumerate*}\n",
            "text/plain": [
              "[1] 1 1 1 1 1"
            ]
          },
          "metadata": {}
        }
      ]
    },
    {
      "cell_type": "code",
      "source": [
        "a <- c(1, 3, 5, 7)\n",
        "b <- c(1, 2, 4, 8)"
      ],
      "metadata": {
        "id": "U5zlIg0RpfyG"
      },
      "execution_count": 26,
      "outputs": []
    },
    {
      "cell_type": "code",
      "source": [
        "a * 5"
      ],
      "metadata": {
        "id": "DAdg84Njpnys",
        "outputId": "d990c7db-618e-49b4-bceb-baadac3ff111",
        "colab": {
          "base_uri": "https://localhost:8080/",
          "height": 34
        }
      },
      "execution_count": 27,
      "outputs": [
        {
          "output_type": "display_data",
          "data": {
            "text/html": [
              "<style>\n",
              ".list-inline {list-style: none; margin:0; padding: 0}\n",
              ".list-inline>li {display: inline-block}\n",
              ".list-inline>li:not(:last-child)::after {content: \"\\00b7\"; padding: 0 .5ex}\n",
              "</style>\n",
              "<ol class=list-inline><li>5</li><li>15</li><li>25</li><li>35</li></ol>\n"
            ],
            "text/markdown": "1. 5\n2. 15\n3. 25\n4. 35\n\n\n",
            "text/latex": "\\begin{enumerate*}\n\\item 5\n\\item 15\n\\item 25\n\\item 35\n\\end{enumerate*}\n",
            "text/plain": [
              "[1]  5 15 25 35"
            ]
          },
          "metadata": {}
        }
      ]
    },
    {
      "cell_type": "code",
      "source": [
        "a + b\n",
        "a * b"
      ],
      "metadata": {
        "id": "7sLzjILmppmE",
        "outputId": "d75cf647-8559-4b25-f0b2-a4ab115b1530",
        "colab": {
          "base_uri": "https://localhost:8080/",
          "height": 52
        }
      },
      "execution_count": 29,
      "outputs": [
        {
          "output_type": "display_data",
          "data": {
            "text/html": [
              "<style>\n",
              ".list-inline {list-style: none; margin:0; padding: 0}\n",
              ".list-inline>li {display: inline-block}\n",
              ".list-inline>li:not(:last-child)::after {content: \"\\00b7\"; padding: 0 .5ex}\n",
              "</style>\n",
              "<ol class=list-inline><li>2</li><li>5</li><li>9</li><li>15</li></ol>\n"
            ],
            "text/markdown": "1. 2\n2. 5\n3. 9\n4. 15\n\n\n",
            "text/latex": "\\begin{enumerate*}\n\\item 2\n\\item 5\n\\item 9\n\\item 15\n\\end{enumerate*}\n",
            "text/plain": [
              "[1]  2  5  9 15"
            ]
          },
          "metadata": {}
        },
        {
          "output_type": "display_data",
          "data": {
            "text/html": [
              "<style>\n",
              ".list-inline {list-style: none; margin:0; padding: 0}\n",
              ".list-inline>li {display: inline-block}\n",
              ".list-inline>li:not(:last-child)::after {content: \"\\00b7\"; padding: 0 .5ex}\n",
              "</style>\n",
              "<ol class=list-inline><li>1</li><li>6</li><li>20</li><li>56</li></ol>\n"
            ],
            "text/markdown": "1. 1\n2. 6\n3. 20\n4. 56\n\n\n",
            "text/latex": "\\begin{enumerate*}\n\\item 1\n\\item 6\n\\item 20\n\\item 56\n\\end{enumerate*}\n",
            "text/plain": [
              "[1]  1  6 20 56"
            ]
          },
          "metadata": {}
        }
      ]
    },
    {
      "cell_type": "code",
      "source": [
        "# Recycling rule - if two vectors are unequal lengths, the shorter one will be recyled to re match\n",
        "# error will come up if no even recycle possible\n",
        "\n",
        "u <- c(10, 20, 30)\n",
        "v <- c( 1, 2, 3, 4, 5, 6, 7, 8, 9)\n",
        "u + v"
      ],
      "metadata": {
        "id": "NOFBvSp1ptYf",
        "outputId": "7cfb4c49-2a84-4ede-d65f-87b019e8e7c7",
        "colab": {
          "base_uri": "https://localhost:8080/",
          "height": 34
        }
      },
      "execution_count": 30,
      "outputs": [
        {
          "output_type": "display_data",
          "data": {
            "text/html": [
              "<style>\n",
              ".list-inline {list-style: none; margin:0; padding: 0}\n",
              ".list-inline>li {display: inline-block}\n",
              ".list-inline>li:not(:last-child)::after {content: \"\\00b7\"; padding: 0 .5ex}\n",
              "</style>\n",
              "<ol class=list-inline><li>11</li><li>22</li><li>33</li><li>14</li><li>25</li><li>36</li><li>17</li><li>28</li><li>39</li></ol>\n"
            ],
            "text/markdown": "1. 11\n2. 22\n3. 33\n4. 14\n5. 25\n6. 36\n7. 17\n8. 28\n9. 39\n\n\n",
            "text/latex": "\\begin{enumerate*}\n\\item 11\n\\item 22\n\\item 33\n\\item 14\n\\item 25\n\\item 36\n\\item 17\n\\item 28\n\\item 39\n\\end{enumerate*}\n",
            "text/plain": [
              "[1] 11 22 33 14 25 36 17 28 39"
            ]
          },
          "metadata": {}
        }
      ]
    },
    {
      "cell_type": "code",
      "source": [
        "# vector indicies\n",
        "# we retrieve values in a vector by declaring an index inside a single sqaure bracket[] index operator\n",
        "# vector indexes are 1-based.\n",
        "\n",
        "s <- c(\"aa\", \"bb\", \"cc\", \"dd\", \"ee\")\n",
        "s[3]"
      ],
      "metadata": {
        "id": "iDXNq33gp94u",
        "outputId": "f3b6d975-c63f-4397-8b0f-dfa07d881943",
        "colab": {
          "base_uri": "https://localhost:8080/",
          "height": 34
        }
      },
      "execution_count": 31,
      "outputs": [
        {
          "output_type": "display_data",
          "data": {
            "text/html": [
              "'cc'"
            ],
            "text/markdown": "'cc'",
            "text/latex": "'cc'",
            "text/plain": [
              "[1] \"cc\""
            ]
          },
          "metadata": {}
        }
      ]
    },
    {
      "cell_type": "code",
      "source": [
        "# negative indexing will remove the index specified\n",
        "# does not perminatley remove because vectors are not changed- assign to a new variable if you want the new list\n",
        "s[-3]\n",
        "s[3]"
      ],
      "metadata": {
        "id": "kOtmGgmOqclp",
        "outputId": "0f38b14a-773c-4c12-c7cf-01cbe18d2d9c",
        "colab": {
          "base_uri": "https://localhost:8080/",
          "height": 52
        }
      },
      "execution_count": 33,
      "outputs": [
        {
          "output_type": "display_data",
          "data": {
            "text/html": [
              "<style>\n",
              ".list-inline {list-style: none; margin:0; padding: 0}\n",
              ".list-inline>li {display: inline-block}\n",
              ".list-inline>li:not(:last-child)::after {content: \"\\00b7\"; padding: 0 .5ex}\n",
              "</style>\n",
              "<ol class=list-inline><li>'aa'</li><li>'bb'</li><li>'dd'</li><li>'ee'</li></ol>\n"
            ],
            "text/markdown": "1. 'aa'\n2. 'bb'\n3. 'dd'\n4. 'ee'\n\n\n",
            "text/latex": "\\begin{enumerate*}\n\\item 'aa'\n\\item 'bb'\n\\item 'dd'\n\\item 'ee'\n\\end{enumerate*}\n",
            "text/plain": [
              "[1] \"aa\" \"bb\" \"dd\" \"ee\""
            ]
          },
          "metadata": {}
        },
        {
          "output_type": "display_data",
          "data": {
            "text/html": [
              "'cc'"
            ],
            "text/markdown": "'cc'",
            "text/latex": "'cc'",
            "text/plain": [
              "[1] \"cc\""
            ]
          },
          "metadata": {}
        }
      ]
    }
  ]
}