{
  "nbformat": 4,
  "nbformat_minor": 0,
  "metadata": {
    "colab": {
      "provenance": [],
      "authorship_tag": "ABX9TyPrbCWV7LQHyMloRV4RrjIK",
      "include_colab_link": true
    },
    "kernelspec": {
      "name": "python3",
      "display_name": "Python 3"
    },
    "language_info": {
      "name": "python"
    }
  },
  "cells": [
    {
      "cell_type": "markdown",
      "metadata": {
        "id": "view-in-github",
        "colab_type": "text"
      },
      "source": [
        "<a href=\"https://colab.research.google.com/github/opark03/Notebooks/blob/main/Printing_Methods.ipynb\" target=\"_parent\"><img src=\"https://colab.research.google.com/assets/colab-badge.svg\" alt=\"Open In Colab\"/></a>"
      ]
    },
    {
      "cell_type": "code",
      "execution_count": 4,
      "metadata": {
        "colab": {
          "base_uri": "https://localhost:8080/"
        },
        "id": "5qli4RTHdRhi",
        "outputId": "53d7e711-0190-468f-ae3d-ead1ff5fd126"
      },
      "outputs": [
        {
          "output_type": "stream",
          "name": "stdout",
          "text": [
            "the name of this band isTalking Headsand it has 4 members\n"
          ]
        }
      ],
      "source": [
        "# print\n",
        "band = \"Talking Heads\"\n",
        "member_count = 4\n",
        "# old fashion method\n",
        "print(\"the name of this band is\" + band + \"and it has \" + str(member_count) + \" members\")"
      ]
    },
    {
      "cell_type": "code",
      "source": [
        "# tiple method\n",
        "print(\"the name of this band is\", band, \"and it has\", member_count, \"members\")"
      ],
      "metadata": {
        "colab": {
          "base_uri": "https://localhost:8080/"
        },
        "id": "zvXtL8Dmdt30",
        "outputId": "d5ddd2fc-1349-491b-fe33-84c3f72dfe6e"
      },
      "execution_count": 6,
      "outputs": [
        {
          "output_type": "stream",
          "name": "stdout",
          "text": [
            "the name of this band is Talking Heads and it has 4 members\n"
          ]
        }
      ]
    },
    {
      "cell_type": "code",
      "source": [
        "# F-string printing\n",
        "# if working with classes, you would need to use self.member_count\n",
        "\n",
        "print(f\"the name of this band is {band} and it has {member_count} members\")"
      ],
      "metadata": {
        "colab": {
          "base_uri": "https://localhost:8080/"
        },
        "id": "EKN0fMNYePSI",
        "outputId": "b73a21c7-9ee1-44aa-f9b0-36850e8c9ea1"
      },
      "execution_count": 7,
      "outputs": [
        {
          "output_type": "stream",
          "name": "stdout",
          "text": [
            "the name of this band is Talking Heads and it has 4 members\n"
          ]
        }
      ]
    }
  ]
}