{
  "nbformat": 4,
  "nbformat_minor": 0,
  "metadata": {
    "colab": {
      "provenance": [],
      "authorship_tag": "ABX9TyNECF0wE1p+x+BN5V8bmTf4",
      "include_colab_link": true
    },
    "kernelspec": {
      "name": "python3",
      "display_name": "Python 3"
    },
    "language_info": {
      "name": "python"
    }
  },
  "cells": [
    {
      "cell_type": "markdown",
      "metadata": {
        "id": "view-in-github",
        "colab_type": "text"
      },
      "source": [
        "<a href=\"https://colab.research.google.com/github/opark03/Notebooks/blob/main/Printing_Methods.ipynb\" target=\"_parent\"><img src=\"https://colab.research.google.com/assets/colab-badge.svg\" alt=\"Open In Colab\"/></a>"
      ]
    },
    {
      "cell_type": "code",
      "execution_count": null,
      "metadata": {
        "colab": {
          "base_uri": "https://localhost:8080/"
        },
        "id": "5qli4RTHdRhi",
        "outputId": "53d7e711-0190-468f-ae3d-ead1ff5fd126"
      },
      "outputs": [
        {
          "output_type": "stream",
          "name": "stdout",
          "text": [
            "the name of this band isTalking Headsand it has 4 members\n"
          ]
        }
      ],
      "source": [
        "# print\n",
        "band = \"Talking Heads\"\n",
        "member_count = 4\n",
        "# old fashion method\n",
        "print(\"the name of this band is\" + band + \"and it has \" + str(member_count) + \" members\")"
      ]
    },
    {
      "cell_type": "code",
      "source": [
        "# tiple method\n",
        "print(\"the name of this band is\", band, \"and it has\", member_count, \"members\")"
      ],
      "metadata": {
        "colab": {
          "base_uri": "https://localhost:8080/"
        },
        "id": "zvXtL8Dmdt30",
        "outputId": "d5ddd2fc-1349-491b-fe33-84c3f72dfe6e"
      },
      "execution_count": null,
      "outputs": [
        {
          "output_type": "stream",
          "name": "stdout",
          "text": [
            "the name of this band is Talking Heads and it has 4 members\n"
          ]
        }
      ]
    },
    {
      "cell_type": "code",
      "source": [
        "# F-string printing\n",
        "# if working with classes, you would need to use self.member_count\n",
        "\n",
        "print(f\"the name of this band is {band} and it has {member_count} members\")"
      ],
      "metadata": {
        "colab": {
          "base_uri": "https://localhost:8080/"
        },
        "id": "EKN0fMNYePSI",
        "outputId": "b73a21c7-9ee1-44aa-f9b0-36850e8c9ea1"
      },
      "execution_count": null,
      "outputs": [
        {
          "output_type": "stream",
          "name": "stdout",
          "text": [
            "the name of this band is Talking Heads and it has 4 members\n"
          ]
        }
      ]
    },
    {
      "cell_type": "code",
      "source": [
        "def simple_function(x,y,z):\n",
        "  return x + y + z\n",
        "simple_function (5,6,7)\n",
        "\n",
        "simple_function(z=3,y=14,x=1)\n"
      ],
      "metadata": {
        "id": "nfxbozbcilm1",
        "outputId": "24adcfd3-d328-4523-b370-a10df7da691e",
        "colab": {
          "base_uri": "https://localhost:8080/"
        }
      },
      "execution_count": 2,
      "outputs": [
        {
          "output_type": "execute_result",
          "data": {
            "text/plain": [
              "18"
            ]
          },
          "metadata": {},
          "execution_count": 2
        }
      ]
    },
    {
      "cell_type": "code",
      "source": [
        "class Albums:\n",
        "    def __init__(self, genre, year, title, band):\n",
        "        self.genre = genre\n",
        "        self.year = year\n",
        "        self.title = title\n",
        "        self.band = band"
      ],
      "metadata": {
        "id": "eALPGBWojGwL"
      },
      "execution_count": 9,
      "outputs": []
    },
    {
      "cell_type": "code",
      "source": [
        "# class with attributes\n",
        "class Records:\n",
        "  var1 = \"Rockets\"\n",
        "  var2 = \"Bananas\""
      ],
      "metadata": {
        "id": "9T1FAoZZkAqh"
      },
      "execution_count": 10,
      "outputs": []
    },
    {
      "cell_type": "code",
      "source": [
        "Records.var1"
      ],
      "metadata": {
        "id": "axFro85fkG07",
        "outputId": "bb056b0e-bc15-4d1c-c9cc-072576a4af16",
        "colab": {
          "base_uri": "https://localhost:8080/",
          "height": 36
        }
      },
      "execution_count": 11,
      "outputs": [
        {
          "output_type": "execute_result",
          "data": {
            "text/plain": [
              "'Rockets'"
            ],
            "application/vnd.google.colaboratory.intrinsic+json": {
              "type": "string"
            }
          },
          "metadata": {},
          "execution_count": 11
        }
      ]
    },
    {
      "cell_type": "code",
      "source": [
        "# create an instance\n",
        "record1 = Records()"
      ],
      "metadata": {
        "id": "CFy4wAafkU-k"
      },
      "execution_count": 12,
      "outputs": []
    },
    {
      "cell_type": "code",
      "source": [
        "# display attribute of the class\n",
        "record1.var1"
      ],
      "metadata": {
        "id": "koi6qcEFkY15",
        "outputId": "c8a35094-36bb-4fa9-e2ac-9f0b7f2a5bad",
        "colab": {
          "base_uri": "https://localhost:8080/",
          "height": 36
        }
      },
      "execution_count": 13,
      "outputs": [
        {
          "output_type": "execute_result",
          "data": {
            "text/plain": [
              "'Rockets'"
            ],
            "application/vnd.google.colaboratory.intrinsic+json": {
              "type": "string"
            }
          },
          "metadata": {},
          "execution_count": 13
        }
      ]
    },
    {
      "cell_type": "code",
      "source": [
        "# change attribute of instance\n",
        "record1.var1 = \"Mopeds\""
      ],
      "metadata": {
        "id": "PVP8omXxkg--"
      },
      "execution_count": 14,
      "outputs": []
    },
    {
      "cell_type": "code",
      "source": [
        "record1.var1"
      ],
      "metadata": {
        "id": "opfia-knkloO",
        "outputId": "0d3a648c-143c-41b8-9a9f-57c630587746",
        "colab": {
          "base_uri": "https://localhost:8080/",
          "height": 36
        }
      },
      "execution_count": 15,
      "outputs": [
        {
          "output_type": "execute_result",
          "data": {
            "text/plain": [
              "'Mopeds'"
            ],
            "application/vnd.google.colaboratory.intrinsic+json": {
              "type": "string"
            }
          },
          "metadata": {},
          "execution_count": 15
        }
      ]
    },
    {
      "cell_type": "code",
      "source": [
        "# only one instance of the class was altered. the class still has the same attributes\n",
        "Records.var1"
      ],
      "metadata": {
        "id": "Trr12Dmlkm53",
        "outputId": "3dd5aace-df0f-45b8-fca6-47fa43e87b56",
        "colab": {
          "base_uri": "https://localhost:8080/",
          "height": 36
        }
      },
      "execution_count": 16,
      "outputs": [
        {
          "output_type": "execute_result",
          "data": {
            "text/plain": [
              "'Rockets'"
            ],
            "application/vnd.google.colaboratory.intrinsic+json": {
              "type": "string"
            }
          },
          "metadata": {},
          "execution_count": 16
        }
      ]
    }
  ]
}