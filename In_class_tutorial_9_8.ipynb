{
  "nbformat": 4,
  "nbformat_minor": 0,
  "metadata": {
    "colab": {
      "provenance": [],
      "authorship_tag": "ABX9TyPPd1aQ80EUoXaABkeBxW2x",
      "include_colab_link": true
    },
    "kernelspec": {
      "name": "python3",
      "display_name": "Python 3"
    },
    "language_info": {
      "name": "python"
    }
  },
  "cells": [
    {
      "cell_type": "markdown",
      "metadata": {
        "id": "view-in-github",
        "colab_type": "text"
      },
      "source": [
        "<a href=\"https://colab.research.google.com/github/opark03/Notebooks/blob/main/In_class_tutorial_9_8.ipynb\" target=\"_parent\"><img src=\"https://colab.research.google.com/assets/colab-badge.svg\" alt=\"Open In Colab\"/></a>"
      ]
    },
    {
      "cell_type": "code",
      "execution_count": 18,
      "metadata": {
        "colab": {
          "base_uri": "https://localhost:8080/"
        },
        "id": "9PySM4a1GaQ0",
        "outputId": "6eb4e9bd-2f9f-4c8d-a9c7-ab5602f4c1f7"
      },
      "outputs": [
        {
          "output_type": "stream",
          "name": "stdout",
          "text": [
            "no match\n",
            "no match\n",
            "no match\n",
            "Hey I found spain\n",
            "no match\n",
            "no match\n"
          ]
        }
      ],
      "source": [
        " # a list of countries\n",
        " countries = [\"vietnam\",\"italy\",\"uzbekistan\",\"spain\",\"united states\",\"uruguay\"]\n",
        "lookfor = \"italy\"\n",
        "\n",
        "def find_things(countries, lookfor):\n",
        "  for c in countries:\n",
        "    if (c == lookfor ):\n",
        "      print(\"Hey I found \" + lookfor)\n",
        "    else:\n",
        "      print(\"no match\")\n",
        "\n",
        "\n",
        "find_things(countries, \"spain\")"
      ]
    },
    {
      "cell_type": "markdown",
      "source": [
        "use sqaure brackets for a list- use {} for a set- anything reserved in python will be blue\n",
        "\n",
        "if statments must use parenthesis\n",
        "  make a condition for print if it is found and also for if it is not founf\n",
        "  -\"if\" and \"else\" (both require colons)\n",
        "\n",
        "loop through set to find a specific variable in the list\n",
        "\n",
        "initally playing will set everything to memory\n",
        "\n",
        "use a comman by calling the function- makes the function run- make sure to be in the correct indentation\n",
        "\n",
        "can add variables and can pass multiple variables into a fucntion with a comma (in this case we have a list and a single variable)\n",
        "\n",
        "switch the find to lookfor instead of vietnam\n",
        "\n",
        "you can continue to switch the lookfor variable in order to find different things in a data set"
      ],
      "metadata": {
        "id": "mWqg_5lTG1i2"
      }
    }
  ]
}